{
 "cells": [
  {
   "cell_type": "markdown",
   "metadata": {
    "colab_type": "text",
    "id": "nwl8aLgYs-h0"
   },
   "source": [
    "# Анализ клиентов банка на благонадежность\n",
    "\n",
    "\n"
   ]
  },
  {
   "cell_type": "code",
   "execution_count": 1,
   "metadata": {
    "colab": {},
    "colab_type": "code",
    "id": "xu4Nl9_Ts-h2"
   },
   "outputs": [],
   "source": [
    "import numpy as np\n",
    "import matplotlib.pyplot as plt\n",
    "import pandas as pd\n",
    "%matplotlib inline\n",
    "pd.options.mode.chained_assignment = None  # default='warn'"
   ]
  },
  {
   "cell_type": "code",
   "execution_count": 2,
   "metadata": {},
   "outputs": [
    {
     "data": {
      "text/html": [
       "        <script type=\"text/javascript\">\n",
       "        window.PlotlyConfig = {MathJaxConfig: 'local'};\n",
       "        if (window.MathJax) {MathJax.Hub.Config({SVG: {font: \"STIX-Web\"}});}\n",
       "        if (typeof require !== 'undefined') {\n",
       "        require.undef(\"plotly\");\n",
       "        requirejs.config({\n",
       "            paths: {\n",
       "                'plotly': ['https://cdn.plot.ly/plotly-latest.min']\n",
       "            }\n",
       "        });\n",
       "        require(['plotly'], function(Plotly) {\n",
       "            window._Plotly = Plotly;\n",
       "        });\n",
       "        }\n",
       "        </script>\n",
       "        "
      ]
     },
     "metadata": {},
     "output_type": "display_data"
    }
   ],
   "source": [
    "import plotly.express as px\n",
    "import plotly.figure_factory as ff\n",
    "import cufflinks as cf\n",
    "cf.go_offline()\n",
    "cf.set_config_file(offline=False, world_readable=True)"
   ]
  },
  {
   "cell_type": "code",
   "execution_count": 3,
   "metadata": {},
   "outputs": [],
   "source": [
    "path_loc = 'loan.csv'"
   ]
  },
  {
   "cell_type": "raw",
   "metadata": {
    "colab": {},
    "colab_type": "code",
    "id": "eLG2kVGXs-h7"
   },
   "source": [
    "url =  'https://www.kaggle.com/mrferozi/loan-data-for-dummy-bank/download'\n",
    "path = 'C:\\loan2.csv'\n",
    "#data = pd.read_csv(url, sep=',', header=None,  engine='python')\n",
    "data = pd.read_csv(path, sep = ',', header=None, engine = 'python')"
   ]
  },
  {
   "cell_type": "code",
   "execution_count": 4,
   "metadata": {
    "scrolled": true
   },
   "outputs": [],
   "source": [
    "data = pd.read_csv(path_loc, sep = ',', header=0, engine = 'python')"
   ]
  },
  {
   "cell_type": "code",
   "execution_count": 5,
   "metadata": {
    "colab": {
     "base_uri": "https://localhost:8080/",
     "height": 394
    },
    "colab_type": "code",
    "executionInfo": {
     "elapsed": 729,
     "status": "ok",
     "timestamp": 1570812603867,
     "user": {
      "displayName": "Nikolai Zolotykh",
      "photoUrl": "https://lh3.googleusercontent.com/a-/AAuE7mCEtTuH2RIsH6xSNXDKF54vy2gvluaqGaOi66eCNg=s64",
      "userId": "03606609416015113398"
     },
     "user_tz": -180
    },
    "id": "ijwiJEUOs-iU",
    "outputId": "675cb2d8-591b-4d17-f098-14c8642d3535",
    "scrolled": true
   },
   "outputs": [
    {
     "data": {
      "text/html": [
       "<div>\n",
       "<style scoped>\n",
       "    .dataframe tbody tr th:only-of-type {\n",
       "        vertical-align: middle;\n",
       "    }\n",
       "\n",
       "    .dataframe tbody tr th {\n",
       "        vertical-align: top;\n",
       "    }\n",
       "\n",
       "    .dataframe thead th {\n",
       "        text-align: right;\n",
       "    }\n",
       "</style>\n",
       "<table border=\"1\" class=\"dataframe\">\n",
       "  <thead>\n",
       "    <tr style=\"text-align: right;\">\n",
       "      <th></th>\n",
       "      <th>id</th>\n",
       "      <th>year</th>\n",
       "      <th>issue_d</th>\n",
       "      <th>final_d</th>\n",
       "      <th>emp_length_int</th>\n",
       "      <th>home_ownership</th>\n",
       "      <th>home_ownership_cat</th>\n",
       "      <th>income_category</th>\n",
       "      <th>annual_inc</th>\n",
       "      <th>income_cat</th>\n",
       "      <th>...</th>\n",
       "      <th>loan_condition_cat</th>\n",
       "      <th>interest_rate</th>\n",
       "      <th>grade</th>\n",
       "      <th>grade_cat</th>\n",
       "      <th>dti</th>\n",
       "      <th>total_pymnt</th>\n",
       "      <th>total_rec_prncp</th>\n",
       "      <th>recoveries</th>\n",
       "      <th>installment</th>\n",
       "      <th>region</th>\n",
       "    </tr>\n",
       "  </thead>\n",
       "  <tbody>\n",
       "    <tr>\n",
       "      <th>0</th>\n",
       "      <td>1077501</td>\n",
       "      <td>2011</td>\n",
       "      <td>01/12/2011</td>\n",
       "      <td>1012015</td>\n",
       "      <td>10.0</td>\n",
       "      <td>RENT</td>\n",
       "      <td>1</td>\n",
       "      <td>Low</td>\n",
       "      <td>24000</td>\n",
       "      <td>1</td>\n",
       "      <td>...</td>\n",
       "      <td>0</td>\n",
       "      <td>10.65</td>\n",
       "      <td>B</td>\n",
       "      <td>2</td>\n",
       "      <td>27.65</td>\n",
       "      <td>5861.071414</td>\n",
       "      <td>5000.00</td>\n",
       "      <td>0.00</td>\n",
       "      <td>162.87</td>\n",
       "      <td>munster</td>\n",
       "    </tr>\n",
       "    <tr>\n",
       "      <th>1</th>\n",
       "      <td>1077430</td>\n",
       "      <td>2011</td>\n",
       "      <td>01/12/2011</td>\n",
       "      <td>1042013</td>\n",
       "      <td>0.5</td>\n",
       "      <td>RENT</td>\n",
       "      <td>1</td>\n",
       "      <td>Low</td>\n",
       "      <td>30000</td>\n",
       "      <td>1</td>\n",
       "      <td>...</td>\n",
       "      <td>1</td>\n",
       "      <td>15.27</td>\n",
       "      <td>C</td>\n",
       "      <td>3</td>\n",
       "      <td>1.00</td>\n",
       "      <td>1008.710000</td>\n",
       "      <td>456.46</td>\n",
       "      <td>117.08</td>\n",
       "      <td>59.83</td>\n",
       "      <td>leinster</td>\n",
       "    </tr>\n",
       "    <tr>\n",
       "      <th>2</th>\n",
       "      <td>1077175</td>\n",
       "      <td>2011</td>\n",
       "      <td>01/12/2011</td>\n",
       "      <td>1062014</td>\n",
       "      <td>10.0</td>\n",
       "      <td>RENT</td>\n",
       "      <td>1</td>\n",
       "      <td>Low</td>\n",
       "      <td>12252</td>\n",
       "      <td>1</td>\n",
       "      <td>...</td>\n",
       "      <td>0</td>\n",
       "      <td>15.96</td>\n",
       "      <td>C</td>\n",
       "      <td>3</td>\n",
       "      <td>8.72</td>\n",
       "      <td>3003.653644</td>\n",
       "      <td>2400.00</td>\n",
       "      <td>0.00</td>\n",
       "      <td>84.33</td>\n",
       "      <td>cannught</td>\n",
       "    </tr>\n",
       "    <tr>\n",
       "      <th>3</th>\n",
       "      <td>1076863</td>\n",
       "      <td>2011</td>\n",
       "      <td>01/12/2011</td>\n",
       "      <td>1012015</td>\n",
       "      <td>10.0</td>\n",
       "      <td>RENT</td>\n",
       "      <td>1</td>\n",
       "      <td>Low</td>\n",
       "      <td>49200</td>\n",
       "      <td>1</td>\n",
       "      <td>...</td>\n",
       "      <td>0</td>\n",
       "      <td>13.49</td>\n",
       "      <td>C</td>\n",
       "      <td>3</td>\n",
       "      <td>20.00</td>\n",
       "      <td>12226.302210</td>\n",
       "      <td>10000.00</td>\n",
       "      <td>0.00</td>\n",
       "      <td>339.31</td>\n",
       "      <td>ulster</td>\n",
       "    </tr>\n",
       "    <tr>\n",
       "      <th>4</th>\n",
       "      <td>1075358</td>\n",
       "      <td>2011</td>\n",
       "      <td>01/12/2011</td>\n",
       "      <td>1012016</td>\n",
       "      <td>1.0</td>\n",
       "      <td>RENT</td>\n",
       "      <td>1</td>\n",
       "      <td>Low</td>\n",
       "      <td>80000</td>\n",
       "      <td>1</td>\n",
       "      <td>...</td>\n",
       "      <td>0</td>\n",
       "      <td>12.69</td>\n",
       "      <td>B</td>\n",
       "      <td>2</td>\n",
       "      <td>17.94</td>\n",
       "      <td>3242.170000</td>\n",
       "      <td>2233.10</td>\n",
       "      <td>0.00</td>\n",
       "      <td>67.79</td>\n",
       "      <td>ulster</td>\n",
       "    </tr>\n",
       "  </tbody>\n",
       "</table>\n",
       "<p>5 rows × 30 columns</p>\n",
       "</div>"
      ],
      "text/plain": [
       "        id  year     issue_d  final_d  emp_length_int home_ownership  \\\n",
       "0  1077501  2011  01/12/2011  1012015            10.0           RENT   \n",
       "1  1077430  2011  01/12/2011  1042013             0.5           RENT   \n",
       "2  1077175  2011  01/12/2011  1062014            10.0           RENT   \n",
       "3  1076863  2011  01/12/2011  1012015            10.0           RENT   \n",
       "4  1075358  2011  01/12/2011  1012016             1.0           RENT   \n",
       "\n",
       "   home_ownership_cat income_category  annual_inc  income_cat  ...  \\\n",
       "0                   1             Low       24000           1  ...   \n",
       "1                   1             Low       30000           1  ...   \n",
       "2                   1             Low       12252           1  ...   \n",
       "3                   1             Low       49200           1  ...   \n",
       "4                   1             Low       80000           1  ...   \n",
       "\n",
       "   loan_condition_cat interest_rate  grade grade_cat    dti   total_pymnt  \\\n",
       "0                   0         10.65      B         2  27.65   5861.071414   \n",
       "1                   1         15.27      C         3   1.00   1008.710000   \n",
       "2                   0         15.96      C         3   8.72   3003.653644   \n",
       "3                   0         13.49      C         3  20.00  12226.302210   \n",
       "4                   0         12.69      B         2  17.94   3242.170000   \n",
       "\n",
       "   total_rec_prncp recoveries  installment    region  \n",
       "0          5000.00       0.00       162.87   munster  \n",
       "1           456.46     117.08        59.83  leinster  \n",
       "2          2400.00       0.00        84.33  cannught  \n",
       "3         10000.00       0.00       339.31    ulster  \n",
       "4          2233.10       0.00        67.79    ulster  \n",
       "\n",
       "[5 rows x 30 columns]"
      ]
     },
     "execution_count": 5,
     "metadata": {},
     "output_type": "execute_result"
    }
   ],
   "source": [
    "data.head()"
   ]
  },
  {
   "cell_type": "code",
   "execution_count": 6,
   "metadata": {},
   "outputs": [
    {
     "name": "stdout",
     "output_type": "stream",
     "text": [
      "Index(['id', 'year', 'issue_d', 'final_d', 'emp_length_int', 'home_ownership',\n",
      "       'home_ownership_cat', 'income_category', 'annual_inc', 'income_cat',\n",
      "       'loan_amount', 'term', 'term_cat', 'application_type',\n",
      "       'application_type_cat', 'purpose', 'purpose_cat', 'interest_payments',\n",
      "       'interest_payment_cat', 'loan_condition', 'loan_condition_cat',\n",
      "       'interest_rate', 'grade', 'grade_cat', 'dti', 'total_pymnt',\n",
      "       'total_rec_prncp', 'recoveries', 'installment', 'region'],\n",
      "      dtype='object')\n"
     ]
    }
   ],
   "source": [
    "print(data.columns)"
   ]
  },
  {
   "cell_type": "markdown",
   "metadata": {
    "colab_type": "text",
    "id": "50HpcRDHs-ia"
   },
   "source": [
    " \n",
    "## Data Description\n",
    "\n",
    " - `id `, id платильщика\n",
    " - `year`, год\n",
    " - `issue_d`, дата когда был взят кредит\n",
    " - `final_d`, дата когда весь кредит был выплачен\n",
    " - `emp_length_int`,   Срок трудоустройства. Possible values are between 0 and 10 where 0 means less than one year and 10 means ten or more years.\n",
    " - `home_ownership`, The home ownership status provided by the borrower during registration. Our values are: RENT, OWN, MORTGAGE, OTHER.\n",
    " \n",
    " - `home_ownership_cat`, RENT, OWN, MORTGAGE, OTHER.\n",
    " - `income_category`, уровень дохода low, medium, high\n",
    " - `income_cat`, low, medium, high в цифре\n",
    " - `annual_inc`, The self-reported annual income provided by the borrower during registration.\n",
    " - `loan_amount`, величина заема\n",
    " - `term`, срок \n",
    " - `term_cat`, 36 - 1 кат, 60 - 2 кат\n",
    " - `application_type`, INDIVIDUAL', 'JOINT'\n",
    " - `application_type_cat`, INDIVIDUAL', 'JOINT' - 1,2\n",
    " - `purpose`, цель заема\n",
    " - `purpose_cat`, категория цели заема\n",
    " - `interest_payments`, выплаты процентов : много, мало\n",
    " - `interest_payment_cat`,выплаты процентов  мало - 1, много - 2\n",
    " - `loan_condition`, Good loan - 0, Bad Loan - 1\n",
    " - `loan_condition_cat`, Good loan - 0, Bad Loan - 1\n",
    " - `interest_rate`, - процетная ставка\n",
    " - `grade`, Loan grading is a classification system that involves assigning a quality score to a loan based on a borrower's credit history, quality of collateral and likelihood of repayment of the principal and interest. A score can also be applied to a portfolio of loans.\n",
    " \n",
    " - `grade_cat`, от 1 до 7. Уточнить что лучше\n",
    " - `dti`,  отношение долга к доходам. В России DTI называют предельной долговой нагрузкой (ПДН). Это процент вашего ежемесячного дохода, который идет на оплату кредитов. В прочем, не только кредитов. Часто в DTI закладывают также все обязательные платежи. Например, коммунальную плату, страховые взносы, обязательства перед операторами сотовой связи, словом все, что вы должны заплатить обязательно.\n",
    " \n",
    " - `total_pymnt` - сколько в итоге заплатил заемщик\n",
    " - `total_rec_prncp`,\n",
    " - `recoveries`, последующие взыскания?\n",
    " - `installment`'  - сколько платить в месяц\n"
   ]
  },
  {
   "cell_type": "markdown",
   "metadata": {},
   "source": [
    "# Обработаем данные"
   ]
  },
  {
   "cell_type": "markdown",
   "metadata": {
    "colab_type": "text",
    "id": "cjwpuybYs-j5"
   },
   "source": [
    "## Задача\n",
    "\n",
    "Задача - определить статус заемщика по информции, которая доступна при оформлении кредита. Доступно два статуса - хороший (тот кто вероятнее всего выплятит кредит без проблем) или плохой заемщик (тот, у которого вероятнее будут проблемы с выплатой кредита)\n",
    "\n",
    "Удаляем признаки:\n",
    "`interest_payment_cat`\n",
    "`issue_d`,  `total_pymnt`, `total_rec_prncp`, `recoveries`.\n",
    "\n",
    "Так же удаляем категориальные признаки, для которых у нас присутсвтует дублирующий признак с цифровым классом:\n",
    "`home_ownership`, `term`, `grade`\n",
    "\n",
    "Удаляем отнесеные к категориям цифровые признаки:\n",
    "`income_category`, `income_cat`, `interest_payments`, `interest_payments_сat`\n",
    "\n",
    "Удаляем `application_type_cat`, т.к этот прзинак для всех записей одинаковый"
   ]
  },
  {
   "cell_type": "code",
   "execution_count": null,
   "metadata": {},
   "outputs": [],
   "source": []
  },
  {
   "cell_type": "code",
   "execution_count": 12,
   "metadata": {},
   "outputs": [
    {
     "data": {
      "text/html": [
       "<div>\n",
       "<style scoped>\n",
       "    .dataframe tbody tr th:only-of-type {\n",
       "        vertical-align: middle;\n",
       "    }\n",
       "\n",
       "    .dataframe tbody tr th {\n",
       "        vertical-align: top;\n",
       "    }\n",
       "\n",
       "    .dataframe thead th {\n",
       "        text-align: right;\n",
       "    }\n",
       "</style>\n",
       "<table border=\"1\" class=\"dataframe\">\n",
       "  <thead>\n",
       "    <tr style=\"text-align: right;\">\n",
       "      <th></th>\n",
       "      <th>id</th>\n",
       "      <th>year</th>\n",
       "      <th>issue_d</th>\n",
       "      <th>final_d</th>\n",
       "      <th>emp_length_int</th>\n",
       "      <th>home_ownership</th>\n",
       "      <th>home_ownership_cat</th>\n",
       "      <th>income_category</th>\n",
       "      <th>annual_inc</th>\n",
       "      <th>income_cat</th>\n",
       "      <th>...</th>\n",
       "      <th>loan_condition_cat</th>\n",
       "      <th>interest_rate</th>\n",
       "      <th>grade</th>\n",
       "      <th>grade_cat</th>\n",
       "      <th>dti</th>\n",
       "      <th>total_pymnt</th>\n",
       "      <th>total_rec_prncp</th>\n",
       "      <th>recoveries</th>\n",
       "      <th>installment</th>\n",
       "      <th>region</th>\n",
       "    </tr>\n",
       "  </thead>\n",
       "  <tbody>\n",
       "    <tr>\n",
       "      <th>466289</th>\n",
       "      <td>68341763</td>\n",
       "      <td>2015</td>\n",
       "      <td>01/12/2015</td>\n",
       "      <td>1012016</td>\n",
       "      <td>10.0</td>\n",
       "      <td>MORTGAGE</td>\n",
       "      <td>3</td>\n",
       "      <td>Low</td>\n",
       "      <td>63000</td>\n",
       "      <td>1</td>\n",
       "      <td>...</td>\n",
       "      <td>0</td>\n",
       "      <td>10.78</td>\n",
       "      <td>B</td>\n",
       "      <td>2</td>\n",
       "      <td>10.78</td>\n",
       "      <td>0.00</td>\n",
       "      <td>0.00</td>\n",
       "      <td>0.0</td>\n",
       "      <td>432.66</td>\n",
       "      <td>cannught</td>\n",
       "    </tr>\n",
       "    <tr>\n",
       "      <th>466419</th>\n",
       "      <td>68341663</td>\n",
       "      <td>2015</td>\n",
       "      <td>01/12/2015</td>\n",
       "      <td>1012016</td>\n",
       "      <td>9.0</td>\n",
       "      <td>MORTGAGE</td>\n",
       "      <td>3</td>\n",
       "      <td>Low</td>\n",
       "      <td>75000</td>\n",
       "      <td>1</td>\n",
       "      <td>...</td>\n",
       "      <td>0</td>\n",
       "      <td>13.44</td>\n",
       "      <td>C</td>\n",
       "      <td>3</td>\n",
       "      <td>20.67</td>\n",
       "      <td>0.00</td>\n",
       "      <td>0.00</td>\n",
       "      <td>0.0</td>\n",
       "      <td>459.58</td>\n",
       "      <td>ulster</td>\n",
       "    </tr>\n",
       "    <tr>\n",
       "      <th>466741</th>\n",
       "      <td>68340637</td>\n",
       "      <td>2015</td>\n",
       "      <td>01/12/2015</td>\n",
       "      <td>1012016</td>\n",
       "      <td>1.0</td>\n",
       "      <td>MORTGAGE</td>\n",
       "      <td>3</td>\n",
       "      <td>Low</td>\n",
       "      <td>65000</td>\n",
       "      <td>1</td>\n",
       "      <td>...</td>\n",
       "      <td>0</td>\n",
       "      <td>11.99</td>\n",
       "      <td>C</td>\n",
       "      <td>3</td>\n",
       "      <td>17.56</td>\n",
       "      <td>0.00</td>\n",
       "      <td>0.00</td>\n",
       "      <td>0.0</td>\n",
       "      <td>498.15</td>\n",
       "      <td>ulster</td>\n",
       "    </tr>\n",
       "    <tr>\n",
       "      <th>466850</th>\n",
       "      <td>68340478</td>\n",
       "      <td>2015</td>\n",
       "      <td>01/12/2015</td>\n",
       "      <td>1012016</td>\n",
       "      <td>1.0</td>\n",
       "      <td>MORTGAGE</td>\n",
       "      <td>3</td>\n",
       "      <td>Low</td>\n",
       "      <td>96000</td>\n",
       "      <td>1</td>\n",
       "      <td>...</td>\n",
       "      <td>0</td>\n",
       "      <td>13.44</td>\n",
       "      <td>C</td>\n",
       "      <td>3</td>\n",
       "      <td>22.70</td>\n",
       "      <td>0.00</td>\n",
       "      <td>0.00</td>\n",
       "      <td>0.0</td>\n",
       "      <td>551.50</td>\n",
       "      <td>cannught</td>\n",
       "    </tr>\n",
       "    <tr>\n",
       "      <th>466914</th>\n",
       "      <td>68586213</td>\n",
       "      <td>2015</td>\n",
       "      <td>01/12/2015</td>\n",
       "      <td>1012016</td>\n",
       "      <td>1.0</td>\n",
       "      <td>RENT</td>\n",
       "      <td>1</td>\n",
       "      <td>Low</td>\n",
       "      <td>29524</td>\n",
       "      <td>1</td>\n",
       "      <td>...</td>\n",
       "      <td>0</td>\n",
       "      <td>18.99</td>\n",
       "      <td>E</td>\n",
       "      <td>5</td>\n",
       "      <td>46.71</td>\n",
       "      <td>237.61</td>\n",
       "      <td>182.22</td>\n",
       "      <td>0.0</td>\n",
       "      <td>320.70</td>\n",
       "      <td>cannught</td>\n",
       "    </tr>\n",
       "    <tr>\n",
       "      <th>...</th>\n",
       "      <td>...</td>\n",
       "      <td>...</td>\n",
       "      <td>...</td>\n",
       "      <td>...</td>\n",
       "      <td>...</td>\n",
       "      <td>...</td>\n",
       "      <td>...</td>\n",
       "      <td>...</td>\n",
       "      <td>...</td>\n",
       "      <td>...</td>\n",
       "      <td>...</td>\n",
       "      <td>...</td>\n",
       "      <td>...</td>\n",
       "      <td>...</td>\n",
       "      <td>...</td>\n",
       "      <td>...</td>\n",
       "      <td>...</td>\n",
       "      <td>...</td>\n",
       "      <td>...</td>\n",
       "      <td>...</td>\n",
       "      <td>...</td>\n",
       "    </tr>\n",
       "    <tr>\n",
       "      <th>571240</th>\n",
       "      <td>62245430</td>\n",
       "      <td>2015</td>\n",
       "      <td>01/10/2015</td>\n",
       "      <td>1012016</td>\n",
       "      <td>1.0</td>\n",
       "      <td>RENT</td>\n",
       "      <td>1</td>\n",
       "      <td>Low</td>\n",
       "      <td>65000</td>\n",
       "      <td>1</td>\n",
       "      <td>...</td>\n",
       "      <td>0</td>\n",
       "      <td>9.17</td>\n",
       "      <td>B</td>\n",
       "      <td>2</td>\n",
       "      <td>14.40</td>\n",
       "      <td>946.18</td>\n",
       "      <td>732.69</td>\n",
       "      <td>0.0</td>\n",
       "      <td>318.79</td>\n",
       "      <td>ulster</td>\n",
       "    </tr>\n",
       "    <tr>\n",
       "      <th>571556</th>\n",
       "      <td>62245231</td>\n",
       "      <td>2015</td>\n",
       "      <td>01/10/2015</td>\n",
       "      <td>1012016</td>\n",
       "      <td>2.0</td>\n",
       "      <td>OWN</td>\n",
       "      <td>2</td>\n",
       "      <td>Low</td>\n",
       "      <td>9000</td>\n",
       "      <td>1</td>\n",
       "      <td>...</td>\n",
       "      <td>0</td>\n",
       "      <td>18.25</td>\n",
       "      <td>E</td>\n",
       "      <td>5</td>\n",
       "      <td>55.10</td>\n",
       "      <td>870.94</td>\n",
       "      <td>396.12</td>\n",
       "      <td>0.0</td>\n",
       "      <td>321.68</td>\n",
       "      <td>cannught</td>\n",
       "    </tr>\n",
       "    <tr>\n",
       "      <th>571699</th>\n",
       "      <td>62205145</td>\n",
       "      <td>2015</td>\n",
       "      <td>01/10/2015</td>\n",
       "      <td>1012016</td>\n",
       "      <td>6.0</td>\n",
       "      <td>MORTGAGE</td>\n",
       "      <td>3</td>\n",
       "      <td>Medium</td>\n",
       "      <td>120000</td>\n",
       "      <td>2</td>\n",
       "      <td>...</td>\n",
       "      <td>0</td>\n",
       "      <td>18.55</td>\n",
       "      <td>E</td>\n",
       "      <td>5</td>\n",
       "      <td>16.60</td>\n",
       "      <td>1095.13</td>\n",
       "      <td>449.04</td>\n",
       "      <td>0.0</td>\n",
       "      <td>369.99</td>\n",
       "      <td>leinster</td>\n",
       "    </tr>\n",
       "    <tr>\n",
       "      <th>573082</th>\n",
       "      <td>62062839</td>\n",
       "      <td>2015</td>\n",
       "      <td>01/10/2015</td>\n",
       "      <td>1122015</td>\n",
       "      <td>10.0</td>\n",
       "      <td>RENT</td>\n",
       "      <td>1</td>\n",
       "      <td>Low</td>\n",
       "      <td>21559</td>\n",
       "      <td>1</td>\n",
       "      <td>...</td>\n",
       "      <td>0</td>\n",
       "      <td>18.55</td>\n",
       "      <td>E</td>\n",
       "      <td>5</td>\n",
       "      <td>59.19</td>\n",
       "      <td>906.43</td>\n",
       "      <td>371.33</td>\n",
       "      <td>0.0</td>\n",
       "      <td>462.49</td>\n",
       "      <td>munster</td>\n",
       "    </tr>\n",
       "    <tr>\n",
       "      <th>573290</th>\n",
       "      <td>62002798</td>\n",
       "      <td>2015</td>\n",
       "      <td>01/10/2015</td>\n",
       "      <td>1122015</td>\n",
       "      <td>6.0</td>\n",
       "      <td>MORTGAGE</td>\n",
       "      <td>3</td>\n",
       "      <td>Low</td>\n",
       "      <td>48000</td>\n",
       "      <td>1</td>\n",
       "      <td>...</td>\n",
       "      <td>0</td>\n",
       "      <td>11.53</td>\n",
       "      <td>B</td>\n",
       "      <td>2</td>\n",
       "      <td>26.08</td>\n",
       "      <td>841.74</td>\n",
       "      <td>563.88</td>\n",
       "      <td>0.0</td>\n",
       "      <td>395.89</td>\n",
       "      <td>leinster</td>\n",
       "    </tr>\n",
       "  </tbody>\n",
       "</table>\n",
       "<p>511 rows × 30 columns</p>\n",
       "</div>"
      ],
      "text/plain": [
       "              id  year     issue_d  final_d  emp_length_int home_ownership  \\\n",
       "466289  68341763  2015  01/12/2015  1012016            10.0       MORTGAGE   \n",
       "466419  68341663  2015  01/12/2015  1012016             9.0       MORTGAGE   \n",
       "466741  68340637  2015  01/12/2015  1012016             1.0       MORTGAGE   \n",
       "466850  68340478  2015  01/12/2015  1012016             1.0       MORTGAGE   \n",
       "466914  68586213  2015  01/12/2015  1012016             1.0           RENT   \n",
       "...          ...   ...         ...      ...             ...            ...   \n",
       "571240  62245430  2015  01/10/2015  1012016             1.0           RENT   \n",
       "571556  62245231  2015  01/10/2015  1012016             2.0            OWN   \n",
       "571699  62205145  2015  01/10/2015  1012016             6.0       MORTGAGE   \n",
       "573082  62062839  2015  01/10/2015  1122015            10.0           RENT   \n",
       "573290  62002798  2015  01/10/2015  1122015             6.0       MORTGAGE   \n",
       "\n",
       "        home_ownership_cat income_category  annual_inc  income_cat  ...  \\\n",
       "466289                   3             Low       63000           1  ...   \n",
       "466419                   3             Low       75000           1  ...   \n",
       "466741                   3             Low       65000           1  ...   \n",
       "466850                   3             Low       96000           1  ...   \n",
       "466914                   1             Low       29524           1  ...   \n",
       "...                    ...             ...         ...         ...  ...   \n",
       "571240                   1             Low       65000           1  ...   \n",
       "571556                   2             Low        9000           1  ...   \n",
       "571699                   3          Medium      120000           2  ...   \n",
       "573082                   1             Low       21559           1  ...   \n",
       "573290                   3             Low       48000           1  ...   \n",
       "\n",
       "        loan_condition_cat interest_rate  grade grade_cat    dti total_pymnt  \\\n",
       "466289                   0         10.78      B         2  10.78        0.00   \n",
       "466419                   0         13.44      C         3  20.67        0.00   \n",
       "466741                   0         11.99      C         3  17.56        0.00   \n",
       "466850                   0         13.44      C         3  22.70        0.00   \n",
       "466914                   0         18.99      E         5  46.71      237.61   \n",
       "...                    ...           ...    ...       ...    ...         ...   \n",
       "571240                   0          9.17      B         2  14.40      946.18   \n",
       "571556                   0         18.25      E         5  55.10      870.94   \n",
       "571699                   0         18.55      E         5  16.60     1095.13   \n",
       "573082                   0         18.55      E         5  59.19      906.43   \n",
       "573290                   0         11.53      B         2  26.08      841.74   \n",
       "\n",
       "        total_rec_prncp recoveries  installment    region  \n",
       "466289             0.00        0.0       432.66  cannught  \n",
       "466419             0.00        0.0       459.58    ulster  \n",
       "466741             0.00        0.0       498.15    ulster  \n",
       "466850             0.00        0.0       551.50  cannught  \n",
       "466914           182.22        0.0       320.70  cannught  \n",
       "...                 ...        ...          ...       ...  \n",
       "571240           732.69        0.0       318.79    ulster  \n",
       "571556           396.12        0.0       321.68  cannught  \n",
       "571699           449.04        0.0       369.99  leinster  \n",
       "573082           371.33        0.0       462.49   munster  \n",
       "573290           563.88        0.0       395.89  leinster  \n",
       "\n",
       "[511 rows x 30 columns]"
      ]
     },
     "execution_count": 12,
     "metadata": {},
     "output_type": "execute_result"
    }
   ],
   "source": [
    "data[data.application_type_cat == 2][data.]"
   ]
  },
  {
   "cell_type": "raw",
   "metadata": {
    "colab": {
     "base_uri": "https://localhost:8080/",
     "height": 326
    },
    "colab_type": "code",
    "executionInfo": {
     "elapsed": 708,
     "status": "error",
     "timestamp": 1570814716571,
     "user": {
      "displayName": "Nikolai Zolotykh",
      "photoUrl": "https://lh3.googleusercontent.com/a-/AAuE7mCEtTuH2RIsH6xSNXDKF54vy2gvluaqGaOi66eCNg=s64",
      "userId": "03606609416015113398"
     },
     "user_tz": -180
    },
    "id": "uza1DI8ks-j8",
    "outputId": "34355bc4-fb3a-4863-9cf3-d1964a60f692"
   },
   "source": [
    "#data = data.drop('capital-gain', axis = 1)\\\n",
    "   #         .drop('capital-loss', axis = 1)\\\n",
    "  #         .drop('education',    axis = 1)\\\n",
    " #          .drop('native-country', axis = 1).drop('fnlwgt', axis = 1)\n",
    "#data.drop()"
   ]
  },
  {
   "cell_type": "markdown",
   "metadata": {},
   "source": [
    "### Описание данных"
   ]
  },
  {
   "cell_type": "raw",
   "metadata": {},
   "source": [
    "  'id', # не несет полезной информации \n",
    " #'year',\n",
    " #'issue_d',\n",
    " 'final_d', # эта информация известна уже после того, как заемщик отдал кредит\n",
    " #'emp_length_int',\n",
    " 'home_ownership', # оставляем категорию home_ownership_cat\n",
    " #'home_ownership_cat',\n",
    " 'income_category', # оставляем поле annual_inc\n",
    " #'annual_inc',\n",
    " 'income_cat',  # оставляем поле annual_inc \n",
    " #'loan_amount',\n",
    " 'term',# - оставляем  категорию term_cat\n",
    " #'term_cat',\n",
    " 'application_type', # все с одинаковым значением\n",
    " 'application_type_cat', # все с одинаковым значением\n",
    " 'purpose', # оставляем категорию purpose_cat\n",
    " #'purpose_cat',\n",
    " 'interest_payments', # оставляем категорию interest_rate\n",
    " 'interest_payment_cat', # оставляем категорию interest_rate\n",
    " #'loan_condition', \n",
    " 'loan_condition_cat',# оставляем категорию loan_condition\n",
    " #'interest_rate',\n",
    " 'grade', # оставляем категорию grade_cat\n",
    " #'grade_cat',\n",
    " #'dti',\n",
    " 'total_pymnt', # информация известна уже после того, как заемщик отдал кредит \n",
    " 'total_rec_prncp', # информация известна уже после того, как заемщик отдал кредит \n",
    " 'recoveries', # информация известна уже после того, как заемщик отдал кредит \n",
    " 'installment', # информация известна уже после того, как заемщик отдал кредит \n",
    " #'region'"
   ]
  },
  {
   "cell_type": "code",
   "execution_count": 8,
   "metadata": {},
   "outputs": [],
   "source": [
    "data_full = data"
   ]
  },
  {
   "cell_type": "code",
   "execution_count": 9,
   "metadata": {
    "colab": {},
    "colab_type": "code",
    "id": "bzBPUxmbs-j_",
    "scrolled": true
   },
   "outputs": [],
   "source": [
    "data = data_full.drop(['id','final_d',\n",
    "           'home_ownership','income_category', 'income_cat', 'term', \n",
    "           'interest_payments','interest_payment_cat', 'loan_condition','grade',\n",
    "            #'purpose_cat','application_type_cat',\n",
    "           'total_pymnt','total_rec_prncp','recoveries','installment' ], axis = 1)\n"
   ]
  },
  {
   "cell_type": "code",
   "execution_count": 10,
   "metadata": {
    "scrolled": false
   },
   "outputs": [
    {
     "data": {
      "text/plain": [
       "(887379, 16)"
      ]
     },
     "execution_count": 10,
     "metadata": {},
     "output_type": "execute_result"
    }
   ],
   "source": [
    "data.shape"
   ]
  },
  {
   "cell_type": "markdown",
   "metadata": {},
   "source": [
    "# Проверим корелляционные связи численных и категориальных признаков"
   ]
  },
  {
   "cell_type": "code",
   "execution_count": 11,
   "metadata": {
    "scrolled": false
   },
   "outputs": [
    {
     "data": {
      "application/vnd.plotly.v1+json": {
       "config": {
        "plotlyServerURL": "https://plot.ly"
       },
       "data": [
        {
         "colorscale": [
          [
           0,
           "#0d0887"
          ],
          [
           0.1111111111111111,
           "#46039f"
          ],
          [
           0.2222222222222222,
           "#7201a8"
          ],
          [
           0.3333333333333333,
           "#9c179e"
          ],
          [
           0.4444444444444444,
           "#bd3786"
          ],
          [
           0.5555555555555556,
           "#d8576b"
          ],
          [
           0.6666666666666666,
           "#ed7953"
          ],
          [
           0.7777777777777778,
           "#fb9f3a"
          ],
          [
           0.8888888888888888,
           "#fdca26"
          ],
          [
           1,
           "#f0f921"
          ]
         ],
         "reversescale": false,
         "showscale": true,
         "type": "heatmap",
         "x": [
          "year",
          "emp_length_int",
          "home_ownership_cat",
          "annual_inc",
          "loan_amount",
          "term_cat",
          "application_type_cat",
          "purpose_cat",
          "loan_condition_cat",
          "interest_rate",
          "grade_cat",
          "dti"
         ],
         "y": [
          "year",
          "emp_length_int",
          "home_ownership_cat",
          "annual_inc",
          "loan_amount",
          "term_cat",
          "application_type_cat",
          "purpose_cat",
          "loan_condition_cat",
          "interest_rate",
          "grade_cat",
          "dti"
         ],
         "z": [
          [
           1,
           0.048980432080065396,
           0.019557785672916238,
           0.035911066301582646,
           0.10372224425019906,
           0.08102628117064206,
           0.01861041239241502,
           -0.03639813973550114,
           -0.16512213331135947,
           -0.06363242890423974,
           0.016913549359203216,
           0.07853006485909256
          ],
          [
           0.048980432080065396,
           1,
           0.20431176855840752,
           0.06338207193163006,
           0.10389755344676584,
           0.06752804689838195,
           0.0005251569627356946,
           0.01916897519908807,
           -0.01582066608618902,
           0.008943089341020153,
           0.004301140136809992,
           0.020659522282680132
          ],
          [
           0.019557785672916238,
           0.20431176855840752,
           1,
           0.15483220389795388,
           0.19626948622817791,
           0.10976980194582542,
           0.009015858920349553,
           0.022575357861573945,
           -0.03725280665477459,
           -0.06427118628550338,
           -0.062029073355378404,
           0.0011165898148096814
          ],
          [
           0.035911066301582646,
           0.06338207193163006,
           0.15483220389795388,
           1,
           0.33269685968376866,
           0.058360319448248286,
           -0.006071261768406951,
           0.004787204309919917,
           -0.03414234654403705,
           -0.07278537431733886,
           -0.06442647753517972,
           -0.08740936558277704
          ],
          [
           0.10372224425019906,
           0.10389755344676584,
           0.19626948622817791,
           0.33269685968376866,
           1,
           0.411716633642369,
           0.013191963677309092,
           -0.037037657902533466,
           0.0035117458959958727,
           0.14502309929852084,
           0.1508728638307328,
           0.020675486936727473
          ],
          [
           0.08102628117064206,
           0.06752804689838195,
           0.10976980194582542,
           0.058360319448248286,
           0.411716633642369,
           1,
           0.012164588748714773,
           0.029276834709238964,
           0.03959128335930243,
           0.42805783566249944,
           0.44270129312804435,
           0.05107730448897661
          ],
          [
           0.01861041239241502,
           0.0005251569627356946,
           0.009015858920349553,
           -0.006071261768406951,
           0.013191963677309092,
           0.012164588748714773,
           1,
           -0.0003734646951373888,
           -0.005997136323685966,
           0.010545373963114295,
           0.013671299002524675,
           0.07445328329264068
          ],
          [
           -0.03639813973550114,
           0.01916897519908807,
           0.022575357861573945,
           0.004787204309919917,
           -0.037037657902533466,
           0.029276834709238964,
           -0.0003734646951373888,
           1,
           0.03119742637120517,
           0.15808200631134356,
           0.15639841903059054,
           -0.008617092595520093
          ],
          [
           -0.16512213331135947,
           -0.01582066608618902,
           -0.03725280665477459,
           -0.03414234654403705,
           0.0035117458959958727,
           0.03959128335930243,
           -0.005997136323685966,
           0.03119742637120517,
           1,
           0.17545032207679048,
           0.15029105996667952,
           0.009961315207174762
          ],
          [
           -0.06363242890423974,
           0.008943089341020153,
           -0.06427118628550338,
           -0.07278537431733886,
           0.14502309929852084,
           0.42805783566249944,
           0.010545373963114295,
           0.15808200631134356,
           0.17545032207679048,
           1,
           0.9541455304977997,
           0.07990255119031472
          ],
          [
           0.016913549359203216,
           0.004301140136809992,
           -0.062029073355378404,
           -0.06442647753517972,
           0.1508728638307328,
           0.44270129312804435,
           0.013671299002524675,
           0.15639841903059054,
           0.15029105996667952,
           0.9541455304977997,
           1,
           0.08354405445326134
          ],
          [
           0.07853006485909256,
           0.020659522282680132,
           0.0011165898148096814,
           -0.08740936558277704,
           0.020675486936727473,
           0.05107730448897661,
           0.07445328329264068,
           -0.008617092595520093,
           0.009961315207174762,
           0.07990255119031472,
           0.08354405445326134,
           1
          ]
         ]
        }
       ],
       "layout": {
        "annotations": [
         {
          "font": {
           "color": "#000000"
          },
          "showarrow": false,
          "text": "1.0",
          "x": "year",
          "xref": "x",
          "y": "year",
          "yref": "y"
         },
         {
          "font": {
           "color": "#FFFFFF"
          },
          "showarrow": false,
          "text": "0.05",
          "x": "emp_length_int",
          "xref": "x",
          "y": "year",
          "yref": "y"
         },
         {
          "font": {
           "color": "#FFFFFF"
          },
          "showarrow": false,
          "text": "0.02",
          "x": "home_ownership_cat",
          "xref": "x",
          "y": "year",
          "yref": "y"
         },
         {
          "font": {
           "color": "#FFFFFF"
          },
          "showarrow": false,
          "text": "0.04",
          "x": "annual_inc",
          "xref": "x",
          "y": "year",
          "yref": "y"
         },
         {
          "font": {
           "color": "#FFFFFF"
          },
          "showarrow": false,
          "text": "0.1",
          "x": "loan_amount",
          "xref": "x",
          "y": "year",
          "yref": "y"
         },
         {
          "font": {
           "color": "#FFFFFF"
          },
          "showarrow": false,
          "text": "0.08",
          "x": "term_cat",
          "xref": "x",
          "y": "year",
          "yref": "y"
         },
         {
          "font": {
           "color": "#FFFFFF"
          },
          "showarrow": false,
          "text": "0.02",
          "x": "application_type_cat",
          "xref": "x",
          "y": "year",
          "yref": "y"
         },
         {
          "font": {
           "color": "#FFFFFF"
          },
          "showarrow": false,
          "text": "-0.04",
          "x": "purpose_cat",
          "xref": "x",
          "y": "year",
          "yref": "y"
         },
         {
          "font": {
           "color": "#FFFFFF"
          },
          "showarrow": false,
          "text": "-0.17",
          "x": "loan_condition_cat",
          "xref": "x",
          "y": "year",
          "yref": "y"
         },
         {
          "font": {
           "color": "#FFFFFF"
          },
          "showarrow": false,
          "text": "-0.06",
          "x": "interest_rate",
          "xref": "x",
          "y": "year",
          "yref": "y"
         },
         {
          "font": {
           "color": "#FFFFFF"
          },
          "showarrow": false,
          "text": "0.02",
          "x": "grade_cat",
          "xref": "x",
          "y": "year",
          "yref": "y"
         },
         {
          "font": {
           "color": "#FFFFFF"
          },
          "showarrow": false,
          "text": "0.08",
          "x": "dti",
          "xref": "x",
          "y": "year",
          "yref": "y"
         },
         {
          "font": {
           "color": "#FFFFFF"
          },
          "showarrow": false,
          "text": "0.05",
          "x": "year",
          "xref": "x",
          "y": "emp_length_int",
          "yref": "y"
         },
         {
          "font": {
           "color": "#000000"
          },
          "showarrow": false,
          "text": "1.0",
          "x": "emp_length_int",
          "xref": "x",
          "y": "emp_length_int",
          "yref": "y"
         },
         {
          "font": {
           "color": "#FFFFFF"
          },
          "showarrow": false,
          "text": "0.2",
          "x": "home_ownership_cat",
          "xref": "x",
          "y": "emp_length_int",
          "yref": "y"
         },
         {
          "font": {
           "color": "#FFFFFF"
          },
          "showarrow": false,
          "text": "0.06",
          "x": "annual_inc",
          "xref": "x",
          "y": "emp_length_int",
          "yref": "y"
         },
         {
          "font": {
           "color": "#FFFFFF"
          },
          "showarrow": false,
          "text": "0.1",
          "x": "loan_amount",
          "xref": "x",
          "y": "emp_length_int",
          "yref": "y"
         },
         {
          "font": {
           "color": "#FFFFFF"
          },
          "showarrow": false,
          "text": "0.07",
          "x": "term_cat",
          "xref": "x",
          "y": "emp_length_int",
          "yref": "y"
         },
         {
          "font": {
           "color": "#FFFFFF"
          },
          "showarrow": false,
          "text": "0.0",
          "x": "application_type_cat",
          "xref": "x",
          "y": "emp_length_int",
          "yref": "y"
         },
         {
          "font": {
           "color": "#FFFFFF"
          },
          "showarrow": false,
          "text": "0.02",
          "x": "purpose_cat",
          "xref": "x",
          "y": "emp_length_int",
          "yref": "y"
         },
         {
          "font": {
           "color": "#FFFFFF"
          },
          "showarrow": false,
          "text": "-0.02",
          "x": "loan_condition_cat",
          "xref": "x",
          "y": "emp_length_int",
          "yref": "y"
         },
         {
          "font": {
           "color": "#FFFFFF"
          },
          "showarrow": false,
          "text": "0.01",
          "x": "interest_rate",
          "xref": "x",
          "y": "emp_length_int",
          "yref": "y"
         },
         {
          "font": {
           "color": "#FFFFFF"
          },
          "showarrow": false,
          "text": "0.0",
          "x": "grade_cat",
          "xref": "x",
          "y": "emp_length_int",
          "yref": "y"
         },
         {
          "font": {
           "color": "#FFFFFF"
          },
          "showarrow": false,
          "text": "0.02",
          "x": "dti",
          "xref": "x",
          "y": "emp_length_int",
          "yref": "y"
         },
         {
          "font": {
           "color": "#FFFFFF"
          },
          "showarrow": false,
          "text": "0.02",
          "x": "year",
          "xref": "x",
          "y": "home_ownership_cat",
          "yref": "y"
         },
         {
          "font": {
           "color": "#FFFFFF"
          },
          "showarrow": false,
          "text": "0.2",
          "x": "emp_length_int",
          "xref": "x",
          "y": "home_ownership_cat",
          "yref": "y"
         },
         {
          "font": {
           "color": "#000000"
          },
          "showarrow": false,
          "text": "1.0",
          "x": "home_ownership_cat",
          "xref": "x",
          "y": "home_ownership_cat",
          "yref": "y"
         },
         {
          "font": {
           "color": "#FFFFFF"
          },
          "showarrow": false,
          "text": "0.15",
          "x": "annual_inc",
          "xref": "x",
          "y": "home_ownership_cat",
          "yref": "y"
         },
         {
          "font": {
           "color": "#FFFFFF"
          },
          "showarrow": false,
          "text": "0.2",
          "x": "loan_amount",
          "xref": "x",
          "y": "home_ownership_cat",
          "yref": "y"
         },
         {
          "font": {
           "color": "#FFFFFF"
          },
          "showarrow": false,
          "text": "0.11",
          "x": "term_cat",
          "xref": "x",
          "y": "home_ownership_cat",
          "yref": "y"
         },
         {
          "font": {
           "color": "#FFFFFF"
          },
          "showarrow": false,
          "text": "0.01",
          "x": "application_type_cat",
          "xref": "x",
          "y": "home_ownership_cat",
          "yref": "y"
         },
         {
          "font": {
           "color": "#FFFFFF"
          },
          "showarrow": false,
          "text": "0.02",
          "x": "purpose_cat",
          "xref": "x",
          "y": "home_ownership_cat",
          "yref": "y"
         },
         {
          "font": {
           "color": "#FFFFFF"
          },
          "showarrow": false,
          "text": "-0.04",
          "x": "loan_condition_cat",
          "xref": "x",
          "y": "home_ownership_cat",
          "yref": "y"
         },
         {
          "font": {
           "color": "#FFFFFF"
          },
          "showarrow": false,
          "text": "-0.06",
          "x": "interest_rate",
          "xref": "x",
          "y": "home_ownership_cat",
          "yref": "y"
         },
         {
          "font": {
           "color": "#FFFFFF"
          },
          "showarrow": false,
          "text": "-0.06",
          "x": "grade_cat",
          "xref": "x",
          "y": "home_ownership_cat",
          "yref": "y"
         },
         {
          "font": {
           "color": "#FFFFFF"
          },
          "showarrow": false,
          "text": "0.0",
          "x": "dti",
          "xref": "x",
          "y": "home_ownership_cat",
          "yref": "y"
         },
         {
          "font": {
           "color": "#FFFFFF"
          },
          "showarrow": false,
          "text": "0.04",
          "x": "year",
          "xref": "x",
          "y": "annual_inc",
          "yref": "y"
         },
         {
          "font": {
           "color": "#FFFFFF"
          },
          "showarrow": false,
          "text": "0.06",
          "x": "emp_length_int",
          "xref": "x",
          "y": "annual_inc",
          "yref": "y"
         },
         {
          "font": {
           "color": "#FFFFFF"
          },
          "showarrow": false,
          "text": "0.15",
          "x": "home_ownership_cat",
          "xref": "x",
          "y": "annual_inc",
          "yref": "y"
         },
         {
          "font": {
           "color": "#000000"
          },
          "showarrow": false,
          "text": "1.0",
          "x": "annual_inc",
          "xref": "x",
          "y": "annual_inc",
          "yref": "y"
         },
         {
          "font": {
           "color": "#FFFFFF"
          },
          "showarrow": false,
          "text": "0.33",
          "x": "loan_amount",
          "xref": "x",
          "y": "annual_inc",
          "yref": "y"
         },
         {
          "font": {
           "color": "#FFFFFF"
          },
          "showarrow": false,
          "text": "0.06",
          "x": "term_cat",
          "xref": "x",
          "y": "annual_inc",
          "yref": "y"
         },
         {
          "font": {
           "color": "#FFFFFF"
          },
          "showarrow": false,
          "text": "-0.01",
          "x": "application_type_cat",
          "xref": "x",
          "y": "annual_inc",
          "yref": "y"
         },
         {
          "font": {
           "color": "#FFFFFF"
          },
          "showarrow": false,
          "text": "0.0",
          "x": "purpose_cat",
          "xref": "x",
          "y": "annual_inc",
          "yref": "y"
         },
         {
          "font": {
           "color": "#FFFFFF"
          },
          "showarrow": false,
          "text": "-0.03",
          "x": "loan_condition_cat",
          "xref": "x",
          "y": "annual_inc",
          "yref": "y"
         },
         {
          "font": {
           "color": "#FFFFFF"
          },
          "showarrow": false,
          "text": "-0.07",
          "x": "interest_rate",
          "xref": "x",
          "y": "annual_inc",
          "yref": "y"
         },
         {
          "font": {
           "color": "#FFFFFF"
          },
          "showarrow": false,
          "text": "-0.06",
          "x": "grade_cat",
          "xref": "x",
          "y": "annual_inc",
          "yref": "y"
         },
         {
          "font": {
           "color": "#FFFFFF"
          },
          "showarrow": false,
          "text": "-0.09",
          "x": "dti",
          "xref": "x",
          "y": "annual_inc",
          "yref": "y"
         },
         {
          "font": {
           "color": "#FFFFFF"
          },
          "showarrow": false,
          "text": "0.1",
          "x": "year",
          "xref": "x",
          "y": "loan_amount",
          "yref": "y"
         },
         {
          "font": {
           "color": "#FFFFFF"
          },
          "showarrow": false,
          "text": "0.1",
          "x": "emp_length_int",
          "xref": "x",
          "y": "loan_amount",
          "yref": "y"
         },
         {
          "font": {
           "color": "#FFFFFF"
          },
          "showarrow": false,
          "text": "0.2",
          "x": "home_ownership_cat",
          "xref": "x",
          "y": "loan_amount",
          "yref": "y"
         },
         {
          "font": {
           "color": "#FFFFFF"
          },
          "showarrow": false,
          "text": "0.33",
          "x": "annual_inc",
          "xref": "x",
          "y": "loan_amount",
          "yref": "y"
         },
         {
          "font": {
           "color": "#000000"
          },
          "showarrow": false,
          "text": "1.0",
          "x": "loan_amount",
          "xref": "x",
          "y": "loan_amount",
          "yref": "y"
         },
         {
          "font": {
           "color": "#FFFFFF"
          },
          "showarrow": false,
          "text": "0.41",
          "x": "term_cat",
          "xref": "x",
          "y": "loan_amount",
          "yref": "y"
         },
         {
          "font": {
           "color": "#FFFFFF"
          },
          "showarrow": false,
          "text": "0.01",
          "x": "application_type_cat",
          "xref": "x",
          "y": "loan_amount",
          "yref": "y"
         },
         {
          "font": {
           "color": "#FFFFFF"
          },
          "showarrow": false,
          "text": "-0.04",
          "x": "purpose_cat",
          "xref": "x",
          "y": "loan_amount",
          "yref": "y"
         },
         {
          "font": {
           "color": "#FFFFFF"
          },
          "showarrow": false,
          "text": "0.0",
          "x": "loan_condition_cat",
          "xref": "x",
          "y": "loan_amount",
          "yref": "y"
         },
         {
          "font": {
           "color": "#FFFFFF"
          },
          "showarrow": false,
          "text": "0.15",
          "x": "interest_rate",
          "xref": "x",
          "y": "loan_amount",
          "yref": "y"
         },
         {
          "font": {
           "color": "#FFFFFF"
          },
          "showarrow": false,
          "text": "0.15",
          "x": "grade_cat",
          "xref": "x",
          "y": "loan_amount",
          "yref": "y"
         },
         {
          "font": {
           "color": "#FFFFFF"
          },
          "showarrow": false,
          "text": "0.02",
          "x": "dti",
          "xref": "x",
          "y": "loan_amount",
          "yref": "y"
         },
         {
          "font": {
           "color": "#FFFFFF"
          },
          "showarrow": false,
          "text": "0.08",
          "x": "year",
          "xref": "x",
          "y": "term_cat",
          "yref": "y"
         },
         {
          "font": {
           "color": "#FFFFFF"
          },
          "showarrow": false,
          "text": "0.07",
          "x": "emp_length_int",
          "xref": "x",
          "y": "term_cat",
          "yref": "y"
         },
         {
          "font": {
           "color": "#FFFFFF"
          },
          "showarrow": false,
          "text": "0.11",
          "x": "home_ownership_cat",
          "xref": "x",
          "y": "term_cat",
          "yref": "y"
         },
         {
          "font": {
           "color": "#FFFFFF"
          },
          "showarrow": false,
          "text": "0.06",
          "x": "annual_inc",
          "xref": "x",
          "y": "term_cat",
          "yref": "y"
         },
         {
          "font": {
           "color": "#FFFFFF"
          },
          "showarrow": false,
          "text": "0.41",
          "x": "loan_amount",
          "xref": "x",
          "y": "term_cat",
          "yref": "y"
         },
         {
          "font": {
           "color": "#000000"
          },
          "showarrow": false,
          "text": "1.0",
          "x": "term_cat",
          "xref": "x",
          "y": "term_cat",
          "yref": "y"
         },
         {
          "font": {
           "color": "#FFFFFF"
          },
          "showarrow": false,
          "text": "0.01",
          "x": "application_type_cat",
          "xref": "x",
          "y": "term_cat",
          "yref": "y"
         },
         {
          "font": {
           "color": "#FFFFFF"
          },
          "showarrow": false,
          "text": "0.03",
          "x": "purpose_cat",
          "xref": "x",
          "y": "term_cat",
          "yref": "y"
         },
         {
          "font": {
           "color": "#FFFFFF"
          },
          "showarrow": false,
          "text": "0.04",
          "x": "loan_condition_cat",
          "xref": "x",
          "y": "term_cat",
          "yref": "y"
         },
         {
          "font": {
           "color": "#000000"
          },
          "showarrow": false,
          "text": "0.43",
          "x": "interest_rate",
          "xref": "x",
          "y": "term_cat",
          "yref": "y"
         },
         {
          "font": {
           "color": "#000000"
          },
          "showarrow": false,
          "text": "0.44",
          "x": "grade_cat",
          "xref": "x",
          "y": "term_cat",
          "yref": "y"
         },
         {
          "font": {
           "color": "#FFFFFF"
          },
          "showarrow": false,
          "text": "0.05",
          "x": "dti",
          "xref": "x",
          "y": "term_cat",
          "yref": "y"
         },
         {
          "font": {
           "color": "#FFFFFF"
          },
          "showarrow": false,
          "text": "0.02",
          "x": "year",
          "xref": "x",
          "y": "application_type_cat",
          "yref": "y"
         },
         {
          "font": {
           "color": "#FFFFFF"
          },
          "showarrow": false,
          "text": "0.0",
          "x": "emp_length_int",
          "xref": "x",
          "y": "application_type_cat",
          "yref": "y"
         },
         {
          "font": {
           "color": "#FFFFFF"
          },
          "showarrow": false,
          "text": "0.01",
          "x": "home_ownership_cat",
          "xref": "x",
          "y": "application_type_cat",
          "yref": "y"
         },
         {
          "font": {
           "color": "#FFFFFF"
          },
          "showarrow": false,
          "text": "-0.01",
          "x": "annual_inc",
          "xref": "x",
          "y": "application_type_cat",
          "yref": "y"
         },
         {
          "font": {
           "color": "#FFFFFF"
          },
          "showarrow": false,
          "text": "0.01",
          "x": "loan_amount",
          "xref": "x",
          "y": "application_type_cat",
          "yref": "y"
         },
         {
          "font": {
           "color": "#FFFFFF"
          },
          "showarrow": false,
          "text": "0.01",
          "x": "term_cat",
          "xref": "x",
          "y": "application_type_cat",
          "yref": "y"
         },
         {
          "font": {
           "color": "#000000"
          },
          "showarrow": false,
          "text": "1.0",
          "x": "application_type_cat",
          "xref": "x",
          "y": "application_type_cat",
          "yref": "y"
         },
         {
          "font": {
           "color": "#FFFFFF"
          },
          "showarrow": false,
          "text": "-0.0",
          "x": "purpose_cat",
          "xref": "x",
          "y": "application_type_cat",
          "yref": "y"
         },
         {
          "font": {
           "color": "#FFFFFF"
          },
          "showarrow": false,
          "text": "-0.01",
          "x": "loan_condition_cat",
          "xref": "x",
          "y": "application_type_cat",
          "yref": "y"
         },
         {
          "font": {
           "color": "#FFFFFF"
          },
          "showarrow": false,
          "text": "0.01",
          "x": "interest_rate",
          "xref": "x",
          "y": "application_type_cat",
          "yref": "y"
         },
         {
          "font": {
           "color": "#FFFFFF"
          },
          "showarrow": false,
          "text": "0.01",
          "x": "grade_cat",
          "xref": "x",
          "y": "application_type_cat",
          "yref": "y"
         },
         {
          "font": {
           "color": "#FFFFFF"
          },
          "showarrow": false,
          "text": "0.07",
          "x": "dti",
          "xref": "x",
          "y": "application_type_cat",
          "yref": "y"
         },
         {
          "font": {
           "color": "#FFFFFF"
          },
          "showarrow": false,
          "text": "-0.04",
          "x": "year",
          "xref": "x",
          "y": "purpose_cat",
          "yref": "y"
         },
         {
          "font": {
           "color": "#FFFFFF"
          },
          "showarrow": false,
          "text": "0.02",
          "x": "emp_length_int",
          "xref": "x",
          "y": "purpose_cat",
          "yref": "y"
         },
         {
          "font": {
           "color": "#FFFFFF"
          },
          "showarrow": false,
          "text": "0.02",
          "x": "home_ownership_cat",
          "xref": "x",
          "y": "purpose_cat",
          "yref": "y"
         },
         {
          "font": {
           "color": "#FFFFFF"
          },
          "showarrow": false,
          "text": "0.0",
          "x": "annual_inc",
          "xref": "x",
          "y": "purpose_cat",
          "yref": "y"
         },
         {
          "font": {
           "color": "#FFFFFF"
          },
          "showarrow": false,
          "text": "-0.04",
          "x": "loan_amount",
          "xref": "x",
          "y": "purpose_cat",
          "yref": "y"
         },
         {
          "font": {
           "color": "#FFFFFF"
          },
          "showarrow": false,
          "text": "0.03",
          "x": "term_cat",
          "xref": "x",
          "y": "purpose_cat",
          "yref": "y"
         },
         {
          "font": {
           "color": "#FFFFFF"
          },
          "showarrow": false,
          "text": "-0.0",
          "x": "application_type_cat",
          "xref": "x",
          "y": "purpose_cat",
          "yref": "y"
         },
         {
          "font": {
           "color": "#000000"
          },
          "showarrow": false,
          "text": "1.0",
          "x": "purpose_cat",
          "xref": "x",
          "y": "purpose_cat",
          "yref": "y"
         },
         {
          "font": {
           "color": "#FFFFFF"
          },
          "showarrow": false,
          "text": "0.03",
          "x": "loan_condition_cat",
          "xref": "x",
          "y": "purpose_cat",
          "yref": "y"
         },
         {
          "font": {
           "color": "#FFFFFF"
          },
          "showarrow": false,
          "text": "0.16",
          "x": "interest_rate",
          "xref": "x",
          "y": "purpose_cat",
          "yref": "y"
         },
         {
          "font": {
           "color": "#FFFFFF"
          },
          "showarrow": false,
          "text": "0.16",
          "x": "grade_cat",
          "xref": "x",
          "y": "purpose_cat",
          "yref": "y"
         },
         {
          "font": {
           "color": "#FFFFFF"
          },
          "showarrow": false,
          "text": "-0.01",
          "x": "dti",
          "xref": "x",
          "y": "purpose_cat",
          "yref": "y"
         },
         {
          "font": {
           "color": "#FFFFFF"
          },
          "showarrow": false,
          "text": "-0.17",
          "x": "year",
          "xref": "x",
          "y": "loan_condition_cat",
          "yref": "y"
         },
         {
          "font": {
           "color": "#FFFFFF"
          },
          "showarrow": false,
          "text": "-0.02",
          "x": "emp_length_int",
          "xref": "x",
          "y": "loan_condition_cat",
          "yref": "y"
         },
         {
          "font": {
           "color": "#FFFFFF"
          },
          "showarrow": false,
          "text": "-0.04",
          "x": "home_ownership_cat",
          "xref": "x",
          "y": "loan_condition_cat",
          "yref": "y"
         },
         {
          "font": {
           "color": "#FFFFFF"
          },
          "showarrow": false,
          "text": "-0.03",
          "x": "annual_inc",
          "xref": "x",
          "y": "loan_condition_cat",
          "yref": "y"
         },
         {
          "font": {
           "color": "#FFFFFF"
          },
          "showarrow": false,
          "text": "0.0",
          "x": "loan_amount",
          "xref": "x",
          "y": "loan_condition_cat",
          "yref": "y"
         },
         {
          "font": {
           "color": "#FFFFFF"
          },
          "showarrow": false,
          "text": "0.04",
          "x": "term_cat",
          "xref": "x",
          "y": "loan_condition_cat",
          "yref": "y"
         },
         {
          "font": {
           "color": "#FFFFFF"
          },
          "showarrow": false,
          "text": "-0.01",
          "x": "application_type_cat",
          "xref": "x",
          "y": "loan_condition_cat",
          "yref": "y"
         },
         {
          "font": {
           "color": "#FFFFFF"
          },
          "showarrow": false,
          "text": "0.03",
          "x": "purpose_cat",
          "xref": "x",
          "y": "loan_condition_cat",
          "yref": "y"
         },
         {
          "font": {
           "color": "#000000"
          },
          "showarrow": false,
          "text": "1.0",
          "x": "loan_condition_cat",
          "xref": "x",
          "y": "loan_condition_cat",
          "yref": "y"
         },
         {
          "font": {
           "color": "#FFFFFF"
          },
          "showarrow": false,
          "text": "0.18",
          "x": "interest_rate",
          "xref": "x",
          "y": "loan_condition_cat",
          "yref": "y"
         },
         {
          "font": {
           "color": "#FFFFFF"
          },
          "showarrow": false,
          "text": "0.15",
          "x": "grade_cat",
          "xref": "x",
          "y": "loan_condition_cat",
          "yref": "y"
         },
         {
          "font": {
           "color": "#FFFFFF"
          },
          "showarrow": false,
          "text": "0.01",
          "x": "dti",
          "xref": "x",
          "y": "loan_condition_cat",
          "yref": "y"
         },
         {
          "font": {
           "color": "#FFFFFF"
          },
          "showarrow": false,
          "text": "-0.06",
          "x": "year",
          "xref": "x",
          "y": "interest_rate",
          "yref": "y"
         },
         {
          "font": {
           "color": "#FFFFFF"
          },
          "showarrow": false,
          "text": "0.01",
          "x": "emp_length_int",
          "xref": "x",
          "y": "interest_rate",
          "yref": "y"
         },
         {
          "font": {
           "color": "#FFFFFF"
          },
          "showarrow": false,
          "text": "-0.06",
          "x": "home_ownership_cat",
          "xref": "x",
          "y": "interest_rate",
          "yref": "y"
         },
         {
          "font": {
           "color": "#FFFFFF"
          },
          "showarrow": false,
          "text": "-0.07",
          "x": "annual_inc",
          "xref": "x",
          "y": "interest_rate",
          "yref": "y"
         },
         {
          "font": {
           "color": "#FFFFFF"
          },
          "showarrow": false,
          "text": "0.15",
          "x": "loan_amount",
          "xref": "x",
          "y": "interest_rate",
          "yref": "y"
         },
         {
          "font": {
           "color": "#000000"
          },
          "showarrow": false,
          "text": "0.43",
          "x": "term_cat",
          "xref": "x",
          "y": "interest_rate",
          "yref": "y"
         },
         {
          "font": {
           "color": "#FFFFFF"
          },
          "showarrow": false,
          "text": "0.01",
          "x": "application_type_cat",
          "xref": "x",
          "y": "interest_rate",
          "yref": "y"
         },
         {
          "font": {
           "color": "#FFFFFF"
          },
          "showarrow": false,
          "text": "0.16",
          "x": "purpose_cat",
          "xref": "x",
          "y": "interest_rate",
          "yref": "y"
         },
         {
          "font": {
           "color": "#FFFFFF"
          },
          "showarrow": false,
          "text": "0.18",
          "x": "loan_condition_cat",
          "xref": "x",
          "y": "interest_rate",
          "yref": "y"
         },
         {
          "font": {
           "color": "#000000"
          },
          "showarrow": false,
          "text": "1.0",
          "x": "interest_rate",
          "xref": "x",
          "y": "interest_rate",
          "yref": "y"
         },
         {
          "font": {
           "color": "#000000"
          },
          "showarrow": false,
          "text": "0.95",
          "x": "grade_cat",
          "xref": "x",
          "y": "interest_rate",
          "yref": "y"
         },
         {
          "font": {
           "color": "#FFFFFF"
          },
          "showarrow": false,
          "text": "0.08",
          "x": "dti",
          "xref": "x",
          "y": "interest_rate",
          "yref": "y"
         },
         {
          "font": {
           "color": "#FFFFFF"
          },
          "showarrow": false,
          "text": "0.02",
          "x": "year",
          "xref": "x",
          "y": "grade_cat",
          "yref": "y"
         },
         {
          "font": {
           "color": "#FFFFFF"
          },
          "showarrow": false,
          "text": "0.0",
          "x": "emp_length_int",
          "xref": "x",
          "y": "grade_cat",
          "yref": "y"
         },
         {
          "font": {
           "color": "#FFFFFF"
          },
          "showarrow": false,
          "text": "-0.06",
          "x": "home_ownership_cat",
          "xref": "x",
          "y": "grade_cat",
          "yref": "y"
         },
         {
          "font": {
           "color": "#FFFFFF"
          },
          "showarrow": false,
          "text": "-0.06",
          "x": "annual_inc",
          "xref": "x",
          "y": "grade_cat",
          "yref": "y"
         },
         {
          "font": {
           "color": "#FFFFFF"
          },
          "showarrow": false,
          "text": "0.15",
          "x": "loan_amount",
          "xref": "x",
          "y": "grade_cat",
          "yref": "y"
         },
         {
          "font": {
           "color": "#000000"
          },
          "showarrow": false,
          "text": "0.44",
          "x": "term_cat",
          "xref": "x",
          "y": "grade_cat",
          "yref": "y"
         },
         {
          "font": {
           "color": "#FFFFFF"
          },
          "showarrow": false,
          "text": "0.01",
          "x": "application_type_cat",
          "xref": "x",
          "y": "grade_cat",
          "yref": "y"
         },
         {
          "font": {
           "color": "#FFFFFF"
          },
          "showarrow": false,
          "text": "0.16",
          "x": "purpose_cat",
          "xref": "x",
          "y": "grade_cat",
          "yref": "y"
         },
         {
          "font": {
           "color": "#FFFFFF"
          },
          "showarrow": false,
          "text": "0.15",
          "x": "loan_condition_cat",
          "xref": "x",
          "y": "grade_cat",
          "yref": "y"
         },
         {
          "font": {
           "color": "#000000"
          },
          "showarrow": false,
          "text": "0.95",
          "x": "interest_rate",
          "xref": "x",
          "y": "grade_cat",
          "yref": "y"
         },
         {
          "font": {
           "color": "#000000"
          },
          "showarrow": false,
          "text": "1.0",
          "x": "grade_cat",
          "xref": "x",
          "y": "grade_cat",
          "yref": "y"
         },
         {
          "font": {
           "color": "#FFFFFF"
          },
          "showarrow": false,
          "text": "0.08",
          "x": "dti",
          "xref": "x",
          "y": "grade_cat",
          "yref": "y"
         },
         {
          "font": {
           "color": "#FFFFFF"
          },
          "showarrow": false,
          "text": "0.08",
          "x": "year",
          "xref": "x",
          "y": "dti",
          "yref": "y"
         },
         {
          "font": {
           "color": "#FFFFFF"
          },
          "showarrow": false,
          "text": "0.02",
          "x": "emp_length_int",
          "xref": "x",
          "y": "dti",
          "yref": "y"
         },
         {
          "font": {
           "color": "#FFFFFF"
          },
          "showarrow": false,
          "text": "0.0",
          "x": "home_ownership_cat",
          "xref": "x",
          "y": "dti",
          "yref": "y"
         },
         {
          "font": {
           "color": "#FFFFFF"
          },
          "showarrow": false,
          "text": "-0.09",
          "x": "annual_inc",
          "xref": "x",
          "y": "dti",
          "yref": "y"
         },
         {
          "font": {
           "color": "#FFFFFF"
          },
          "showarrow": false,
          "text": "0.02",
          "x": "loan_amount",
          "xref": "x",
          "y": "dti",
          "yref": "y"
         },
         {
          "font": {
           "color": "#FFFFFF"
          },
          "showarrow": false,
          "text": "0.05",
          "x": "term_cat",
          "xref": "x",
          "y": "dti",
          "yref": "y"
         },
         {
          "font": {
           "color": "#FFFFFF"
          },
          "showarrow": false,
          "text": "0.07",
          "x": "application_type_cat",
          "xref": "x",
          "y": "dti",
          "yref": "y"
         },
         {
          "font": {
           "color": "#FFFFFF"
          },
          "showarrow": false,
          "text": "-0.01",
          "x": "purpose_cat",
          "xref": "x",
          "y": "dti",
          "yref": "y"
         },
         {
          "font": {
           "color": "#FFFFFF"
          },
          "showarrow": false,
          "text": "0.01",
          "x": "loan_condition_cat",
          "xref": "x",
          "y": "dti",
          "yref": "y"
         },
         {
          "font": {
           "color": "#FFFFFF"
          },
          "showarrow": false,
          "text": "0.08",
          "x": "interest_rate",
          "xref": "x",
          "y": "dti",
          "yref": "y"
         },
         {
          "font": {
           "color": "#FFFFFF"
          },
          "showarrow": false,
          "text": "0.08",
          "x": "grade_cat",
          "xref": "x",
          "y": "dti",
          "yref": "y"
         },
         {
          "font": {
           "color": "#000000"
          },
          "showarrow": false,
          "text": "1.0",
          "x": "dti",
          "xref": "x",
          "y": "dti",
          "yref": "y"
         }
        ],
        "template": {
         "data": {
          "bar": [
           {
            "error_x": {
             "color": "#2a3f5f"
            },
            "error_y": {
             "color": "#2a3f5f"
            },
            "marker": {
             "line": {
              "color": "#E5ECF6",
              "width": 0.5
             }
            },
            "type": "bar"
           }
          ],
          "barpolar": [
           {
            "marker": {
             "line": {
              "color": "#E5ECF6",
              "width": 0.5
             }
            },
            "type": "barpolar"
           }
          ],
          "carpet": [
           {
            "aaxis": {
             "endlinecolor": "#2a3f5f",
             "gridcolor": "white",
             "linecolor": "white",
             "minorgridcolor": "white",
             "startlinecolor": "#2a3f5f"
            },
            "baxis": {
             "endlinecolor": "#2a3f5f",
             "gridcolor": "white",
             "linecolor": "white",
             "minorgridcolor": "white",
             "startlinecolor": "#2a3f5f"
            },
            "type": "carpet"
           }
          ],
          "choropleth": [
           {
            "colorbar": {
             "outlinewidth": 0,
             "ticks": ""
            },
            "type": "choropleth"
           }
          ],
          "contour": [
           {
            "colorbar": {
             "outlinewidth": 0,
             "ticks": ""
            },
            "colorscale": [
             [
              0,
              "#0d0887"
             ],
             [
              0.1111111111111111,
              "#46039f"
             ],
             [
              0.2222222222222222,
              "#7201a8"
             ],
             [
              0.3333333333333333,
              "#9c179e"
             ],
             [
              0.4444444444444444,
              "#bd3786"
             ],
             [
              0.5555555555555556,
              "#d8576b"
             ],
             [
              0.6666666666666666,
              "#ed7953"
             ],
             [
              0.7777777777777778,
              "#fb9f3a"
             ],
             [
              0.8888888888888888,
              "#fdca26"
             ],
             [
              1,
              "#f0f921"
             ]
            ],
            "type": "contour"
           }
          ],
          "contourcarpet": [
           {
            "colorbar": {
             "outlinewidth": 0,
             "ticks": ""
            },
            "type": "contourcarpet"
           }
          ],
          "heatmap": [
           {
            "colorbar": {
             "outlinewidth": 0,
             "ticks": ""
            },
            "colorscale": [
             [
              0,
              "#0d0887"
             ],
             [
              0.1111111111111111,
              "#46039f"
             ],
             [
              0.2222222222222222,
              "#7201a8"
             ],
             [
              0.3333333333333333,
              "#9c179e"
             ],
             [
              0.4444444444444444,
              "#bd3786"
             ],
             [
              0.5555555555555556,
              "#d8576b"
             ],
             [
              0.6666666666666666,
              "#ed7953"
             ],
             [
              0.7777777777777778,
              "#fb9f3a"
             ],
             [
              0.8888888888888888,
              "#fdca26"
             ],
             [
              1,
              "#f0f921"
             ]
            ],
            "type": "heatmap"
           }
          ],
          "heatmapgl": [
           {
            "colorbar": {
             "outlinewidth": 0,
             "ticks": ""
            },
            "colorscale": [
             [
              0,
              "#0d0887"
             ],
             [
              0.1111111111111111,
              "#46039f"
             ],
             [
              0.2222222222222222,
              "#7201a8"
             ],
             [
              0.3333333333333333,
              "#9c179e"
             ],
             [
              0.4444444444444444,
              "#bd3786"
             ],
             [
              0.5555555555555556,
              "#d8576b"
             ],
             [
              0.6666666666666666,
              "#ed7953"
             ],
             [
              0.7777777777777778,
              "#fb9f3a"
             ],
             [
              0.8888888888888888,
              "#fdca26"
             ],
             [
              1,
              "#f0f921"
             ]
            ],
            "type": "heatmapgl"
           }
          ],
          "histogram": [
           {
            "marker": {
             "colorbar": {
              "outlinewidth": 0,
              "ticks": ""
             }
            },
            "type": "histogram"
           }
          ],
          "histogram2d": [
           {
            "colorbar": {
             "outlinewidth": 0,
             "ticks": ""
            },
            "colorscale": [
             [
              0,
              "#0d0887"
             ],
             [
              0.1111111111111111,
              "#46039f"
             ],
             [
              0.2222222222222222,
              "#7201a8"
             ],
             [
              0.3333333333333333,
              "#9c179e"
             ],
             [
              0.4444444444444444,
              "#bd3786"
             ],
             [
              0.5555555555555556,
              "#d8576b"
             ],
             [
              0.6666666666666666,
              "#ed7953"
             ],
             [
              0.7777777777777778,
              "#fb9f3a"
             ],
             [
              0.8888888888888888,
              "#fdca26"
             ],
             [
              1,
              "#f0f921"
             ]
            ],
            "type": "histogram2d"
           }
          ],
          "histogram2dcontour": [
           {
            "colorbar": {
             "outlinewidth": 0,
             "ticks": ""
            },
            "colorscale": [
             [
              0,
              "#0d0887"
             ],
             [
              0.1111111111111111,
              "#46039f"
             ],
             [
              0.2222222222222222,
              "#7201a8"
             ],
             [
              0.3333333333333333,
              "#9c179e"
             ],
             [
              0.4444444444444444,
              "#bd3786"
             ],
             [
              0.5555555555555556,
              "#d8576b"
             ],
             [
              0.6666666666666666,
              "#ed7953"
             ],
             [
              0.7777777777777778,
              "#fb9f3a"
             ],
             [
              0.8888888888888888,
              "#fdca26"
             ],
             [
              1,
              "#f0f921"
             ]
            ],
            "type": "histogram2dcontour"
           }
          ],
          "mesh3d": [
           {
            "colorbar": {
             "outlinewidth": 0,
             "ticks": ""
            },
            "type": "mesh3d"
           }
          ],
          "parcoords": [
           {
            "line": {
             "colorbar": {
              "outlinewidth": 0,
              "ticks": ""
             }
            },
            "type": "parcoords"
           }
          ],
          "pie": [
           {
            "automargin": true,
            "type": "pie"
           }
          ],
          "scatter": [
           {
            "marker": {
             "colorbar": {
              "outlinewidth": 0,
              "ticks": ""
             }
            },
            "type": "scatter"
           }
          ],
          "scatter3d": [
           {
            "line": {
             "colorbar": {
              "outlinewidth": 0,
              "ticks": ""
             }
            },
            "marker": {
             "colorbar": {
              "outlinewidth": 0,
              "ticks": ""
             }
            },
            "type": "scatter3d"
           }
          ],
          "scattercarpet": [
           {
            "marker": {
             "colorbar": {
              "outlinewidth": 0,
              "ticks": ""
             }
            },
            "type": "scattercarpet"
           }
          ],
          "scattergeo": [
           {
            "marker": {
             "colorbar": {
              "outlinewidth": 0,
              "ticks": ""
             }
            },
            "type": "scattergeo"
           }
          ],
          "scattergl": [
           {
            "marker": {
             "colorbar": {
              "outlinewidth": 0,
              "ticks": ""
             }
            },
            "type": "scattergl"
           }
          ],
          "scattermapbox": [
           {
            "marker": {
             "colorbar": {
              "outlinewidth": 0,
              "ticks": ""
             }
            },
            "type": "scattermapbox"
           }
          ],
          "scatterpolar": [
           {
            "marker": {
             "colorbar": {
              "outlinewidth": 0,
              "ticks": ""
             }
            },
            "type": "scatterpolar"
           }
          ],
          "scatterpolargl": [
           {
            "marker": {
             "colorbar": {
              "outlinewidth": 0,
              "ticks": ""
             }
            },
            "type": "scatterpolargl"
           }
          ],
          "scatterternary": [
           {
            "marker": {
             "colorbar": {
              "outlinewidth": 0,
              "ticks": ""
             }
            },
            "type": "scatterternary"
           }
          ],
          "surface": [
           {
            "colorbar": {
             "outlinewidth": 0,
             "ticks": ""
            },
            "colorscale": [
             [
              0,
              "#0d0887"
             ],
             [
              0.1111111111111111,
              "#46039f"
             ],
             [
              0.2222222222222222,
              "#7201a8"
             ],
             [
              0.3333333333333333,
              "#9c179e"
             ],
             [
              0.4444444444444444,
              "#bd3786"
             ],
             [
              0.5555555555555556,
              "#d8576b"
             ],
             [
              0.6666666666666666,
              "#ed7953"
             ],
             [
              0.7777777777777778,
              "#fb9f3a"
             ],
             [
              0.8888888888888888,
              "#fdca26"
             ],
             [
              1,
              "#f0f921"
             ]
            ],
            "type": "surface"
           }
          ],
          "table": [
           {
            "cells": {
             "fill": {
              "color": "#EBF0F8"
             },
             "line": {
              "color": "white"
             }
            },
            "header": {
             "fill": {
              "color": "#C8D4E3"
             },
             "line": {
              "color": "white"
             }
            },
            "type": "table"
           }
          ]
         },
         "layout": {
          "annotationdefaults": {
           "arrowcolor": "#2a3f5f",
           "arrowhead": 0,
           "arrowwidth": 1
          },
          "coloraxis": {
           "colorbar": {
            "outlinewidth": 0,
            "ticks": ""
           }
          },
          "colorscale": {
           "diverging": [
            [
             0,
             "#8e0152"
            ],
            [
             0.1,
             "#c51b7d"
            ],
            [
             0.2,
             "#de77ae"
            ],
            [
             0.3,
             "#f1b6da"
            ],
            [
             0.4,
             "#fde0ef"
            ],
            [
             0.5,
             "#f7f7f7"
            ],
            [
             0.6,
             "#e6f5d0"
            ],
            [
             0.7,
             "#b8e186"
            ],
            [
             0.8,
             "#7fbc41"
            ],
            [
             0.9,
             "#4d9221"
            ],
            [
             1,
             "#276419"
            ]
           ],
           "sequential": [
            [
             0,
             "#0d0887"
            ],
            [
             0.1111111111111111,
             "#46039f"
            ],
            [
             0.2222222222222222,
             "#7201a8"
            ],
            [
             0.3333333333333333,
             "#9c179e"
            ],
            [
             0.4444444444444444,
             "#bd3786"
            ],
            [
             0.5555555555555556,
             "#d8576b"
            ],
            [
             0.6666666666666666,
             "#ed7953"
            ],
            [
             0.7777777777777778,
             "#fb9f3a"
            ],
            [
             0.8888888888888888,
             "#fdca26"
            ],
            [
             1,
             "#f0f921"
            ]
           ],
           "sequentialminus": [
            [
             0,
             "#0d0887"
            ],
            [
             0.1111111111111111,
             "#46039f"
            ],
            [
             0.2222222222222222,
             "#7201a8"
            ],
            [
             0.3333333333333333,
             "#9c179e"
            ],
            [
             0.4444444444444444,
             "#bd3786"
            ],
            [
             0.5555555555555556,
             "#d8576b"
            ],
            [
             0.6666666666666666,
             "#ed7953"
            ],
            [
             0.7777777777777778,
             "#fb9f3a"
            ],
            [
             0.8888888888888888,
             "#fdca26"
            ],
            [
             1,
             "#f0f921"
            ]
           ]
          },
          "colorway": [
           "#636efa",
           "#EF553B",
           "#00cc96",
           "#ab63fa",
           "#FFA15A",
           "#19d3f3",
           "#FF6692",
           "#B6E880",
           "#FF97FF",
           "#FECB52"
          ],
          "font": {
           "color": "#2a3f5f"
          },
          "geo": {
           "bgcolor": "white",
           "lakecolor": "white",
           "landcolor": "#E5ECF6",
           "showlakes": true,
           "showland": true,
           "subunitcolor": "white"
          },
          "hoverlabel": {
           "align": "left"
          },
          "hovermode": "closest",
          "mapbox": {
           "style": "light"
          },
          "paper_bgcolor": "white",
          "plot_bgcolor": "#E5ECF6",
          "polar": {
           "angularaxis": {
            "gridcolor": "white",
            "linecolor": "white",
            "ticks": ""
           },
           "bgcolor": "#E5ECF6",
           "radialaxis": {
            "gridcolor": "white",
            "linecolor": "white",
            "ticks": ""
           }
          },
          "scene": {
           "xaxis": {
            "backgroundcolor": "#E5ECF6",
            "gridcolor": "white",
            "gridwidth": 2,
            "linecolor": "white",
            "showbackground": true,
            "ticks": "",
            "zerolinecolor": "white"
           },
           "yaxis": {
            "backgroundcolor": "#E5ECF6",
            "gridcolor": "white",
            "gridwidth": 2,
            "linecolor": "white",
            "showbackground": true,
            "ticks": "",
            "zerolinecolor": "white"
           },
           "zaxis": {
            "backgroundcolor": "#E5ECF6",
            "gridcolor": "white",
            "gridwidth": 2,
            "linecolor": "white",
            "showbackground": true,
            "ticks": "",
            "zerolinecolor": "white"
           }
          },
          "shapedefaults": {
           "line": {
            "color": "#2a3f5f"
           }
          },
          "ternary": {
           "aaxis": {
            "gridcolor": "white",
            "linecolor": "white",
            "ticks": ""
           },
           "baxis": {
            "gridcolor": "white",
            "linecolor": "white",
            "ticks": ""
           },
           "bgcolor": "#E5ECF6",
           "caxis": {
            "gridcolor": "white",
            "linecolor": "white",
            "ticks": ""
           }
          },
          "title": {
           "x": 0.05
          },
          "xaxis": {
           "automargin": true,
           "gridcolor": "white",
           "linecolor": "white",
           "ticks": "",
           "title": {
            "standoff": 15
           },
           "zerolinecolor": "white",
           "zerolinewidth": 2
          },
          "yaxis": {
           "automargin": true,
           "gridcolor": "white",
           "linecolor": "white",
           "ticks": "",
           "title": {
            "standoff": 15
           },
           "zerolinecolor": "white",
           "zerolinewidth": 2
          }
         }
        },
        "xaxis": {
         "dtick": 1,
         "gridcolor": "rgb(0, 0, 0)",
         "side": "top",
         "ticks": ""
        },
        "yaxis": {
         "dtick": 1,
         "ticks": "",
         "ticksuffix": "  "
        }
       }
      },
      "text/html": [
       "<div>\n",
       "        \n",
       "        \n",
       "            <div id=\"d7563c46-8f11-41d1-996a-fe65662fc5ee\" class=\"plotly-graph-div\" style=\"height:525px; width:100%;\"></div>\n",
       "            <script type=\"text/javascript\">\n",
       "                require([\"plotly\"], function(Plotly) {\n",
       "                    window.PLOTLYENV=window.PLOTLYENV || {};\n",
       "                    \n",
       "                if (document.getElementById(\"d7563c46-8f11-41d1-996a-fe65662fc5ee\")) {\n",
       "                    Plotly.newPlot(\n",
       "                        'd7563c46-8f11-41d1-996a-fe65662fc5ee',\n",
       "                        [{\"colorscale\": [[0.0, \"#0d0887\"], [0.1111111111111111, \"#46039f\"], [0.2222222222222222, \"#7201a8\"], [0.3333333333333333, \"#9c179e\"], [0.4444444444444444, \"#bd3786\"], [0.5555555555555556, \"#d8576b\"], [0.6666666666666666, \"#ed7953\"], [0.7777777777777778, \"#fb9f3a\"], [0.8888888888888888, \"#fdca26\"], [1.0, \"#f0f921\"]], \"reversescale\": false, \"showscale\": true, \"type\": \"heatmap\", \"x\": [\"year\", \"emp_length_int\", \"home_ownership_cat\", \"annual_inc\", \"loan_amount\", \"term_cat\", \"application_type_cat\", \"purpose_cat\", \"loan_condition_cat\", \"interest_rate\", \"grade_cat\", \"dti\"], \"y\": [\"year\", \"emp_length_int\", \"home_ownership_cat\", \"annual_inc\", \"loan_amount\", \"term_cat\", \"application_type_cat\", \"purpose_cat\", \"loan_condition_cat\", \"interest_rate\", \"grade_cat\", \"dti\"], \"z\": [[1.0, 0.048980432080065396, 0.019557785672916238, 0.035911066301582646, 0.10372224425019906, 0.08102628117064206, 0.01861041239241502, -0.03639813973550114, -0.16512213331135947, -0.06363242890423974, 0.016913549359203216, 0.07853006485909256], [0.048980432080065396, 1.0, 0.20431176855840752, 0.06338207193163006, 0.10389755344676584, 0.06752804689838195, 0.0005251569627356946, 0.01916897519908807, -0.01582066608618902, 0.008943089341020153, 0.004301140136809992, 0.020659522282680132], [0.019557785672916238, 0.20431176855840752, 1.0, 0.15483220389795388, 0.19626948622817791, 0.10976980194582542, 0.009015858920349553, 0.022575357861573945, -0.03725280665477459, -0.06427118628550338, -0.062029073355378404, 0.0011165898148096814], [0.035911066301582646, 0.06338207193163006, 0.15483220389795388, 1.0, 0.33269685968376866, 0.058360319448248286, -0.006071261768406951, 0.004787204309919917, -0.03414234654403705, -0.07278537431733886, -0.06442647753517972, -0.08740936558277704], [0.10372224425019906, 0.10389755344676584, 0.19626948622817791, 0.33269685968376866, 1.0, 0.411716633642369, 0.013191963677309092, -0.037037657902533466, 0.0035117458959958727, 0.14502309929852084, 0.1508728638307328, 0.020675486936727473], [0.08102628117064206, 0.06752804689838195, 0.10976980194582542, 0.058360319448248286, 0.411716633642369, 1.0, 0.012164588748714773, 0.029276834709238964, 0.03959128335930243, 0.42805783566249944, 0.44270129312804435, 0.05107730448897661], [0.01861041239241502, 0.0005251569627356946, 0.009015858920349553, -0.006071261768406951, 0.013191963677309092, 0.012164588748714773, 1.0, -0.0003734646951373888, -0.005997136323685966, 0.010545373963114295, 0.013671299002524675, 0.07445328329264068], [-0.03639813973550114, 0.01916897519908807, 0.022575357861573945, 0.004787204309919917, -0.037037657902533466, 0.029276834709238964, -0.0003734646951373888, 1.0, 0.03119742637120517, 0.15808200631134356, 0.15639841903059054, -0.008617092595520093], [-0.16512213331135947, -0.01582066608618902, -0.03725280665477459, -0.03414234654403705, 0.0035117458959958727, 0.03959128335930243, -0.005997136323685966, 0.03119742637120517, 1.0, 0.17545032207679048, 0.15029105996667952, 0.009961315207174762], [-0.06363242890423974, 0.008943089341020153, -0.06427118628550338, -0.07278537431733886, 0.14502309929852084, 0.42805783566249944, 0.010545373963114295, 0.15808200631134356, 0.17545032207679048, 1.0, 0.9541455304977997, 0.07990255119031472], [0.016913549359203216, 0.004301140136809992, -0.062029073355378404, -0.06442647753517972, 0.1508728638307328, 0.44270129312804435, 0.013671299002524675, 0.15639841903059054, 0.15029105996667952, 0.9541455304977997, 1.0, 0.08354405445326134], [0.07853006485909256, 0.020659522282680132, 0.0011165898148096814, -0.08740936558277704, 0.020675486936727473, 0.05107730448897661, 0.07445328329264068, -0.008617092595520093, 0.009961315207174762, 0.07990255119031472, 0.08354405445326134, 1.0]]}],\n",
       "                        {\"annotations\": [{\"font\": {\"color\": \"#000000\"}, \"showarrow\": false, \"text\": \"1.0\", \"x\": \"year\", \"xref\": \"x\", \"y\": \"year\", \"yref\": \"y\"}, {\"font\": {\"color\": \"#FFFFFF\"}, \"showarrow\": false, \"text\": \"0.05\", \"x\": \"emp_length_int\", \"xref\": \"x\", \"y\": \"year\", \"yref\": \"y\"}, {\"font\": {\"color\": \"#FFFFFF\"}, \"showarrow\": false, \"text\": \"0.02\", \"x\": \"home_ownership_cat\", \"xref\": \"x\", \"y\": \"year\", \"yref\": \"y\"}, {\"font\": {\"color\": \"#FFFFFF\"}, \"showarrow\": false, \"text\": \"0.04\", \"x\": \"annual_inc\", \"xref\": \"x\", \"y\": \"year\", \"yref\": \"y\"}, {\"font\": {\"color\": \"#FFFFFF\"}, \"showarrow\": false, \"text\": \"0.1\", \"x\": \"loan_amount\", \"xref\": \"x\", \"y\": \"year\", \"yref\": \"y\"}, {\"font\": {\"color\": \"#FFFFFF\"}, \"showarrow\": false, \"text\": \"0.08\", \"x\": \"term_cat\", \"xref\": \"x\", \"y\": \"year\", \"yref\": \"y\"}, {\"font\": {\"color\": \"#FFFFFF\"}, \"showarrow\": false, \"text\": \"0.02\", \"x\": \"application_type_cat\", \"xref\": \"x\", \"y\": \"year\", \"yref\": \"y\"}, {\"font\": {\"color\": \"#FFFFFF\"}, \"showarrow\": false, \"text\": \"-0.04\", \"x\": \"purpose_cat\", \"xref\": \"x\", \"y\": \"year\", \"yref\": \"y\"}, {\"font\": {\"color\": \"#FFFFFF\"}, \"showarrow\": false, \"text\": \"-0.17\", \"x\": \"loan_condition_cat\", \"xref\": \"x\", \"y\": \"year\", \"yref\": \"y\"}, {\"font\": {\"color\": \"#FFFFFF\"}, \"showarrow\": false, \"text\": \"-0.06\", \"x\": \"interest_rate\", \"xref\": \"x\", \"y\": \"year\", \"yref\": \"y\"}, {\"font\": {\"color\": \"#FFFFFF\"}, \"showarrow\": false, \"text\": \"0.02\", \"x\": \"grade_cat\", \"xref\": \"x\", \"y\": \"year\", \"yref\": \"y\"}, {\"font\": {\"color\": \"#FFFFFF\"}, \"showarrow\": false, \"text\": \"0.08\", \"x\": \"dti\", \"xref\": \"x\", \"y\": \"year\", \"yref\": \"y\"}, {\"font\": {\"color\": \"#FFFFFF\"}, \"showarrow\": false, \"text\": \"0.05\", \"x\": \"year\", \"xref\": \"x\", \"y\": \"emp_length_int\", \"yref\": \"y\"}, {\"font\": {\"color\": \"#000000\"}, \"showarrow\": false, \"text\": \"1.0\", \"x\": \"emp_length_int\", \"xref\": \"x\", \"y\": \"emp_length_int\", \"yref\": \"y\"}, {\"font\": {\"color\": \"#FFFFFF\"}, \"showarrow\": false, \"text\": \"0.2\", \"x\": \"home_ownership_cat\", \"xref\": \"x\", \"y\": \"emp_length_int\", \"yref\": \"y\"}, {\"font\": {\"color\": \"#FFFFFF\"}, \"showarrow\": false, \"text\": \"0.06\", \"x\": \"annual_inc\", \"xref\": \"x\", \"y\": \"emp_length_int\", \"yref\": \"y\"}, {\"font\": {\"color\": \"#FFFFFF\"}, \"showarrow\": false, \"text\": \"0.1\", \"x\": \"loan_amount\", \"xref\": \"x\", \"y\": \"emp_length_int\", \"yref\": \"y\"}, {\"font\": {\"color\": \"#FFFFFF\"}, \"showarrow\": false, \"text\": \"0.07\", \"x\": \"term_cat\", \"xref\": \"x\", \"y\": \"emp_length_int\", \"yref\": \"y\"}, {\"font\": {\"color\": \"#FFFFFF\"}, \"showarrow\": false, \"text\": \"0.0\", \"x\": \"application_type_cat\", \"xref\": \"x\", \"y\": \"emp_length_int\", \"yref\": \"y\"}, {\"font\": {\"color\": \"#FFFFFF\"}, \"showarrow\": false, \"text\": \"0.02\", \"x\": \"purpose_cat\", \"xref\": \"x\", \"y\": \"emp_length_int\", \"yref\": \"y\"}, {\"font\": {\"color\": \"#FFFFFF\"}, \"showarrow\": false, \"text\": \"-0.02\", \"x\": \"loan_condition_cat\", \"xref\": \"x\", \"y\": \"emp_length_int\", \"yref\": \"y\"}, {\"font\": {\"color\": \"#FFFFFF\"}, \"showarrow\": false, \"text\": \"0.01\", \"x\": \"interest_rate\", \"xref\": \"x\", \"y\": \"emp_length_int\", \"yref\": \"y\"}, {\"font\": {\"color\": \"#FFFFFF\"}, \"showarrow\": false, \"text\": \"0.0\", \"x\": \"grade_cat\", \"xref\": \"x\", \"y\": \"emp_length_int\", \"yref\": \"y\"}, {\"font\": {\"color\": \"#FFFFFF\"}, \"showarrow\": false, \"text\": \"0.02\", \"x\": \"dti\", \"xref\": \"x\", \"y\": \"emp_length_int\", \"yref\": \"y\"}, {\"font\": {\"color\": \"#FFFFFF\"}, \"showarrow\": false, \"text\": \"0.02\", \"x\": \"year\", \"xref\": \"x\", \"y\": \"home_ownership_cat\", \"yref\": \"y\"}, {\"font\": {\"color\": \"#FFFFFF\"}, \"showarrow\": false, \"text\": \"0.2\", \"x\": \"emp_length_int\", \"xref\": \"x\", \"y\": \"home_ownership_cat\", \"yref\": \"y\"}, {\"font\": {\"color\": \"#000000\"}, \"showarrow\": false, \"text\": \"1.0\", \"x\": \"home_ownership_cat\", \"xref\": \"x\", \"y\": \"home_ownership_cat\", \"yref\": \"y\"}, {\"font\": {\"color\": \"#FFFFFF\"}, \"showarrow\": false, \"text\": \"0.15\", \"x\": \"annual_inc\", \"xref\": \"x\", \"y\": \"home_ownership_cat\", \"yref\": \"y\"}, {\"font\": {\"color\": \"#FFFFFF\"}, \"showarrow\": false, \"text\": \"0.2\", \"x\": \"loan_amount\", \"xref\": \"x\", \"y\": \"home_ownership_cat\", \"yref\": \"y\"}, {\"font\": {\"color\": \"#FFFFFF\"}, \"showarrow\": false, \"text\": \"0.11\", \"x\": \"term_cat\", \"xref\": \"x\", \"y\": \"home_ownership_cat\", \"yref\": \"y\"}, {\"font\": {\"color\": \"#FFFFFF\"}, \"showarrow\": false, \"text\": \"0.01\", \"x\": \"application_type_cat\", \"xref\": \"x\", \"y\": \"home_ownership_cat\", \"yref\": \"y\"}, {\"font\": {\"color\": \"#FFFFFF\"}, \"showarrow\": false, \"text\": \"0.02\", \"x\": \"purpose_cat\", \"xref\": \"x\", \"y\": \"home_ownership_cat\", \"yref\": \"y\"}, {\"font\": {\"color\": \"#FFFFFF\"}, \"showarrow\": false, \"text\": \"-0.04\", \"x\": \"loan_condition_cat\", \"xref\": \"x\", \"y\": \"home_ownership_cat\", \"yref\": \"y\"}, {\"font\": {\"color\": \"#FFFFFF\"}, \"showarrow\": false, \"text\": \"-0.06\", \"x\": \"interest_rate\", \"xref\": \"x\", \"y\": \"home_ownership_cat\", \"yref\": \"y\"}, {\"font\": {\"color\": \"#FFFFFF\"}, \"showarrow\": false, \"text\": \"-0.06\", \"x\": \"grade_cat\", \"xref\": \"x\", \"y\": \"home_ownership_cat\", \"yref\": \"y\"}, {\"font\": {\"color\": \"#FFFFFF\"}, \"showarrow\": false, \"text\": \"0.0\", \"x\": \"dti\", \"xref\": \"x\", \"y\": \"home_ownership_cat\", \"yref\": \"y\"}, {\"font\": {\"color\": \"#FFFFFF\"}, \"showarrow\": false, \"text\": \"0.04\", \"x\": \"year\", \"xref\": \"x\", \"y\": \"annual_inc\", \"yref\": \"y\"}, {\"font\": {\"color\": \"#FFFFFF\"}, \"showarrow\": false, \"text\": \"0.06\", \"x\": \"emp_length_int\", \"xref\": \"x\", \"y\": \"annual_inc\", \"yref\": \"y\"}, {\"font\": {\"color\": \"#FFFFFF\"}, \"showarrow\": false, \"text\": \"0.15\", \"x\": \"home_ownership_cat\", \"xref\": \"x\", \"y\": \"annual_inc\", \"yref\": \"y\"}, {\"font\": {\"color\": \"#000000\"}, \"showarrow\": false, \"text\": \"1.0\", \"x\": \"annual_inc\", \"xref\": \"x\", \"y\": \"annual_inc\", \"yref\": \"y\"}, {\"font\": {\"color\": \"#FFFFFF\"}, \"showarrow\": false, \"text\": \"0.33\", \"x\": \"loan_amount\", \"xref\": \"x\", \"y\": \"annual_inc\", \"yref\": \"y\"}, {\"font\": {\"color\": \"#FFFFFF\"}, \"showarrow\": false, \"text\": \"0.06\", \"x\": \"term_cat\", \"xref\": \"x\", \"y\": \"annual_inc\", \"yref\": \"y\"}, {\"font\": {\"color\": \"#FFFFFF\"}, \"showarrow\": false, \"text\": \"-0.01\", \"x\": \"application_type_cat\", \"xref\": \"x\", \"y\": \"annual_inc\", \"yref\": \"y\"}, {\"font\": {\"color\": \"#FFFFFF\"}, \"showarrow\": false, \"text\": \"0.0\", \"x\": \"purpose_cat\", \"xref\": \"x\", \"y\": \"annual_inc\", \"yref\": \"y\"}, {\"font\": {\"color\": \"#FFFFFF\"}, \"showarrow\": false, \"text\": \"-0.03\", \"x\": \"loan_condition_cat\", \"xref\": \"x\", \"y\": \"annual_inc\", \"yref\": \"y\"}, {\"font\": {\"color\": \"#FFFFFF\"}, \"showarrow\": false, \"text\": \"-0.07\", \"x\": \"interest_rate\", \"xref\": \"x\", \"y\": \"annual_inc\", \"yref\": \"y\"}, {\"font\": {\"color\": \"#FFFFFF\"}, \"showarrow\": false, \"text\": \"-0.06\", \"x\": \"grade_cat\", \"xref\": \"x\", \"y\": \"annual_inc\", \"yref\": \"y\"}, {\"font\": {\"color\": \"#FFFFFF\"}, \"showarrow\": false, \"text\": \"-0.09\", \"x\": \"dti\", \"xref\": \"x\", \"y\": \"annual_inc\", \"yref\": \"y\"}, {\"font\": {\"color\": \"#FFFFFF\"}, \"showarrow\": false, \"text\": \"0.1\", \"x\": \"year\", \"xref\": \"x\", \"y\": \"loan_amount\", \"yref\": \"y\"}, {\"font\": {\"color\": \"#FFFFFF\"}, \"showarrow\": false, \"text\": \"0.1\", \"x\": \"emp_length_int\", \"xref\": \"x\", \"y\": \"loan_amount\", \"yref\": \"y\"}, {\"font\": {\"color\": \"#FFFFFF\"}, \"showarrow\": false, \"text\": \"0.2\", \"x\": \"home_ownership_cat\", \"xref\": \"x\", \"y\": \"loan_amount\", \"yref\": \"y\"}, {\"font\": {\"color\": \"#FFFFFF\"}, \"showarrow\": false, \"text\": \"0.33\", \"x\": \"annual_inc\", \"xref\": \"x\", \"y\": \"loan_amount\", \"yref\": \"y\"}, {\"font\": {\"color\": \"#000000\"}, \"showarrow\": false, \"text\": \"1.0\", \"x\": \"loan_amount\", \"xref\": \"x\", \"y\": \"loan_amount\", \"yref\": \"y\"}, {\"font\": {\"color\": \"#FFFFFF\"}, \"showarrow\": false, \"text\": \"0.41\", \"x\": \"term_cat\", \"xref\": \"x\", \"y\": \"loan_amount\", \"yref\": \"y\"}, {\"font\": {\"color\": \"#FFFFFF\"}, \"showarrow\": false, \"text\": \"0.01\", \"x\": \"application_type_cat\", \"xref\": \"x\", \"y\": \"loan_amount\", \"yref\": \"y\"}, {\"font\": {\"color\": \"#FFFFFF\"}, \"showarrow\": false, \"text\": \"-0.04\", \"x\": \"purpose_cat\", \"xref\": \"x\", \"y\": \"loan_amount\", \"yref\": \"y\"}, {\"font\": {\"color\": \"#FFFFFF\"}, \"showarrow\": false, \"text\": \"0.0\", \"x\": \"loan_condition_cat\", \"xref\": \"x\", \"y\": \"loan_amount\", \"yref\": \"y\"}, {\"font\": {\"color\": \"#FFFFFF\"}, \"showarrow\": false, \"text\": \"0.15\", \"x\": \"interest_rate\", \"xref\": \"x\", \"y\": \"loan_amount\", \"yref\": \"y\"}, {\"font\": {\"color\": \"#FFFFFF\"}, \"showarrow\": false, \"text\": \"0.15\", \"x\": \"grade_cat\", \"xref\": \"x\", \"y\": \"loan_amount\", \"yref\": \"y\"}, {\"font\": {\"color\": \"#FFFFFF\"}, \"showarrow\": false, \"text\": \"0.02\", \"x\": \"dti\", \"xref\": \"x\", \"y\": \"loan_amount\", \"yref\": \"y\"}, {\"font\": {\"color\": \"#FFFFFF\"}, \"showarrow\": false, \"text\": \"0.08\", \"x\": \"year\", \"xref\": \"x\", \"y\": \"term_cat\", \"yref\": \"y\"}, {\"font\": {\"color\": \"#FFFFFF\"}, \"showarrow\": false, \"text\": \"0.07\", \"x\": \"emp_length_int\", \"xref\": \"x\", \"y\": \"term_cat\", \"yref\": \"y\"}, {\"font\": {\"color\": \"#FFFFFF\"}, \"showarrow\": false, \"text\": \"0.11\", \"x\": \"home_ownership_cat\", \"xref\": \"x\", \"y\": \"term_cat\", \"yref\": \"y\"}, {\"font\": {\"color\": \"#FFFFFF\"}, \"showarrow\": false, \"text\": \"0.06\", \"x\": \"annual_inc\", \"xref\": \"x\", \"y\": \"term_cat\", \"yref\": \"y\"}, {\"font\": {\"color\": \"#FFFFFF\"}, \"showarrow\": false, \"text\": \"0.41\", \"x\": \"loan_amount\", \"xref\": \"x\", \"y\": \"term_cat\", \"yref\": \"y\"}, {\"font\": {\"color\": \"#000000\"}, \"showarrow\": false, \"text\": \"1.0\", \"x\": \"term_cat\", \"xref\": \"x\", \"y\": \"term_cat\", \"yref\": \"y\"}, {\"font\": {\"color\": \"#FFFFFF\"}, \"showarrow\": false, \"text\": \"0.01\", \"x\": \"application_type_cat\", \"xref\": \"x\", \"y\": \"term_cat\", \"yref\": \"y\"}, {\"font\": {\"color\": \"#FFFFFF\"}, \"showarrow\": false, \"text\": \"0.03\", \"x\": \"purpose_cat\", \"xref\": \"x\", \"y\": \"term_cat\", \"yref\": \"y\"}, {\"font\": {\"color\": \"#FFFFFF\"}, \"showarrow\": false, \"text\": \"0.04\", \"x\": \"loan_condition_cat\", \"xref\": \"x\", \"y\": \"term_cat\", \"yref\": \"y\"}, {\"font\": {\"color\": \"#000000\"}, \"showarrow\": false, \"text\": \"0.43\", \"x\": \"interest_rate\", \"xref\": \"x\", \"y\": \"term_cat\", \"yref\": \"y\"}, {\"font\": {\"color\": \"#000000\"}, \"showarrow\": false, \"text\": \"0.44\", \"x\": \"grade_cat\", \"xref\": \"x\", \"y\": \"term_cat\", \"yref\": \"y\"}, {\"font\": {\"color\": \"#FFFFFF\"}, \"showarrow\": false, \"text\": \"0.05\", \"x\": \"dti\", \"xref\": \"x\", \"y\": \"term_cat\", \"yref\": \"y\"}, {\"font\": {\"color\": \"#FFFFFF\"}, \"showarrow\": false, \"text\": \"0.02\", \"x\": \"year\", \"xref\": \"x\", \"y\": \"application_type_cat\", \"yref\": \"y\"}, {\"font\": {\"color\": \"#FFFFFF\"}, \"showarrow\": false, \"text\": \"0.0\", \"x\": \"emp_length_int\", \"xref\": \"x\", \"y\": \"application_type_cat\", \"yref\": \"y\"}, {\"font\": {\"color\": \"#FFFFFF\"}, \"showarrow\": false, \"text\": \"0.01\", \"x\": \"home_ownership_cat\", \"xref\": \"x\", \"y\": \"application_type_cat\", \"yref\": \"y\"}, {\"font\": {\"color\": \"#FFFFFF\"}, \"showarrow\": false, \"text\": \"-0.01\", \"x\": \"annual_inc\", \"xref\": \"x\", \"y\": \"application_type_cat\", \"yref\": \"y\"}, {\"font\": {\"color\": \"#FFFFFF\"}, \"showarrow\": false, \"text\": \"0.01\", \"x\": \"loan_amount\", \"xref\": \"x\", \"y\": \"application_type_cat\", \"yref\": \"y\"}, {\"font\": {\"color\": \"#FFFFFF\"}, \"showarrow\": false, \"text\": \"0.01\", \"x\": \"term_cat\", \"xref\": \"x\", \"y\": \"application_type_cat\", \"yref\": \"y\"}, {\"font\": {\"color\": \"#000000\"}, \"showarrow\": false, \"text\": \"1.0\", \"x\": \"application_type_cat\", \"xref\": \"x\", \"y\": \"application_type_cat\", \"yref\": \"y\"}, {\"font\": {\"color\": \"#FFFFFF\"}, \"showarrow\": false, \"text\": \"-0.0\", \"x\": \"purpose_cat\", \"xref\": \"x\", \"y\": \"application_type_cat\", \"yref\": \"y\"}, {\"font\": {\"color\": \"#FFFFFF\"}, \"showarrow\": false, \"text\": \"-0.01\", \"x\": \"loan_condition_cat\", \"xref\": \"x\", \"y\": \"application_type_cat\", \"yref\": \"y\"}, {\"font\": {\"color\": \"#FFFFFF\"}, \"showarrow\": false, \"text\": \"0.01\", \"x\": \"interest_rate\", \"xref\": \"x\", \"y\": \"application_type_cat\", \"yref\": \"y\"}, {\"font\": {\"color\": \"#FFFFFF\"}, \"showarrow\": false, \"text\": \"0.01\", \"x\": \"grade_cat\", \"xref\": \"x\", \"y\": \"application_type_cat\", \"yref\": \"y\"}, {\"font\": {\"color\": \"#FFFFFF\"}, \"showarrow\": false, \"text\": \"0.07\", \"x\": \"dti\", \"xref\": \"x\", \"y\": \"application_type_cat\", \"yref\": \"y\"}, {\"font\": {\"color\": \"#FFFFFF\"}, \"showarrow\": false, \"text\": \"-0.04\", \"x\": \"year\", \"xref\": \"x\", \"y\": \"purpose_cat\", \"yref\": \"y\"}, {\"font\": {\"color\": \"#FFFFFF\"}, \"showarrow\": false, \"text\": \"0.02\", \"x\": \"emp_length_int\", \"xref\": \"x\", \"y\": \"purpose_cat\", \"yref\": \"y\"}, {\"font\": {\"color\": \"#FFFFFF\"}, \"showarrow\": false, \"text\": \"0.02\", \"x\": \"home_ownership_cat\", \"xref\": \"x\", \"y\": \"purpose_cat\", \"yref\": \"y\"}, {\"font\": {\"color\": \"#FFFFFF\"}, \"showarrow\": false, \"text\": \"0.0\", \"x\": \"annual_inc\", \"xref\": \"x\", \"y\": \"purpose_cat\", \"yref\": \"y\"}, {\"font\": {\"color\": \"#FFFFFF\"}, \"showarrow\": false, \"text\": \"-0.04\", \"x\": \"loan_amount\", \"xref\": \"x\", \"y\": \"purpose_cat\", \"yref\": \"y\"}, {\"font\": {\"color\": \"#FFFFFF\"}, \"showarrow\": false, \"text\": \"0.03\", \"x\": \"term_cat\", \"xref\": \"x\", \"y\": \"purpose_cat\", \"yref\": \"y\"}, {\"font\": {\"color\": \"#FFFFFF\"}, \"showarrow\": false, \"text\": \"-0.0\", \"x\": \"application_type_cat\", \"xref\": \"x\", \"y\": \"purpose_cat\", \"yref\": \"y\"}, {\"font\": {\"color\": \"#000000\"}, \"showarrow\": false, \"text\": \"1.0\", \"x\": \"purpose_cat\", \"xref\": \"x\", \"y\": \"purpose_cat\", \"yref\": \"y\"}, {\"font\": {\"color\": \"#FFFFFF\"}, \"showarrow\": false, \"text\": \"0.03\", \"x\": \"loan_condition_cat\", \"xref\": \"x\", \"y\": \"purpose_cat\", \"yref\": \"y\"}, {\"font\": {\"color\": \"#FFFFFF\"}, \"showarrow\": false, \"text\": \"0.16\", \"x\": \"interest_rate\", \"xref\": \"x\", \"y\": \"purpose_cat\", \"yref\": \"y\"}, {\"font\": {\"color\": \"#FFFFFF\"}, \"showarrow\": false, \"text\": \"0.16\", \"x\": \"grade_cat\", \"xref\": \"x\", \"y\": \"purpose_cat\", \"yref\": \"y\"}, {\"font\": {\"color\": \"#FFFFFF\"}, \"showarrow\": false, \"text\": \"-0.01\", \"x\": \"dti\", \"xref\": \"x\", \"y\": \"purpose_cat\", \"yref\": \"y\"}, {\"font\": {\"color\": \"#FFFFFF\"}, \"showarrow\": false, \"text\": \"-0.17\", \"x\": \"year\", \"xref\": \"x\", \"y\": \"loan_condition_cat\", \"yref\": \"y\"}, {\"font\": {\"color\": \"#FFFFFF\"}, \"showarrow\": false, \"text\": \"-0.02\", \"x\": \"emp_length_int\", \"xref\": \"x\", \"y\": \"loan_condition_cat\", \"yref\": \"y\"}, {\"font\": {\"color\": \"#FFFFFF\"}, \"showarrow\": false, \"text\": \"-0.04\", \"x\": \"home_ownership_cat\", \"xref\": \"x\", \"y\": \"loan_condition_cat\", \"yref\": \"y\"}, {\"font\": {\"color\": \"#FFFFFF\"}, \"showarrow\": false, \"text\": \"-0.03\", \"x\": \"annual_inc\", \"xref\": \"x\", \"y\": \"loan_condition_cat\", \"yref\": \"y\"}, {\"font\": {\"color\": \"#FFFFFF\"}, \"showarrow\": false, \"text\": \"0.0\", \"x\": \"loan_amount\", \"xref\": \"x\", \"y\": \"loan_condition_cat\", \"yref\": \"y\"}, {\"font\": {\"color\": \"#FFFFFF\"}, \"showarrow\": false, \"text\": \"0.04\", \"x\": \"term_cat\", \"xref\": \"x\", \"y\": \"loan_condition_cat\", \"yref\": \"y\"}, {\"font\": {\"color\": \"#FFFFFF\"}, \"showarrow\": false, \"text\": \"-0.01\", \"x\": \"application_type_cat\", \"xref\": \"x\", \"y\": \"loan_condition_cat\", \"yref\": \"y\"}, {\"font\": {\"color\": \"#FFFFFF\"}, \"showarrow\": false, \"text\": \"0.03\", \"x\": \"purpose_cat\", \"xref\": \"x\", \"y\": \"loan_condition_cat\", \"yref\": \"y\"}, {\"font\": {\"color\": \"#000000\"}, \"showarrow\": false, \"text\": \"1.0\", \"x\": \"loan_condition_cat\", \"xref\": \"x\", \"y\": \"loan_condition_cat\", \"yref\": \"y\"}, {\"font\": {\"color\": \"#FFFFFF\"}, \"showarrow\": false, \"text\": \"0.18\", \"x\": \"interest_rate\", \"xref\": \"x\", \"y\": \"loan_condition_cat\", \"yref\": \"y\"}, {\"font\": {\"color\": \"#FFFFFF\"}, \"showarrow\": false, \"text\": \"0.15\", \"x\": \"grade_cat\", \"xref\": \"x\", \"y\": \"loan_condition_cat\", \"yref\": \"y\"}, {\"font\": {\"color\": \"#FFFFFF\"}, \"showarrow\": false, \"text\": \"0.01\", \"x\": \"dti\", \"xref\": \"x\", \"y\": \"loan_condition_cat\", \"yref\": \"y\"}, {\"font\": {\"color\": \"#FFFFFF\"}, \"showarrow\": false, \"text\": \"-0.06\", \"x\": \"year\", \"xref\": \"x\", \"y\": \"interest_rate\", \"yref\": \"y\"}, {\"font\": {\"color\": \"#FFFFFF\"}, \"showarrow\": false, \"text\": \"0.01\", \"x\": \"emp_length_int\", \"xref\": \"x\", \"y\": \"interest_rate\", \"yref\": \"y\"}, {\"font\": {\"color\": \"#FFFFFF\"}, \"showarrow\": false, \"text\": \"-0.06\", \"x\": \"home_ownership_cat\", \"xref\": \"x\", \"y\": \"interest_rate\", \"yref\": \"y\"}, {\"font\": {\"color\": \"#FFFFFF\"}, \"showarrow\": false, \"text\": \"-0.07\", \"x\": \"annual_inc\", \"xref\": \"x\", \"y\": \"interest_rate\", \"yref\": \"y\"}, {\"font\": {\"color\": \"#FFFFFF\"}, \"showarrow\": false, \"text\": \"0.15\", \"x\": \"loan_amount\", \"xref\": \"x\", \"y\": \"interest_rate\", \"yref\": \"y\"}, {\"font\": {\"color\": \"#000000\"}, \"showarrow\": false, \"text\": \"0.43\", \"x\": \"term_cat\", \"xref\": \"x\", \"y\": \"interest_rate\", \"yref\": \"y\"}, {\"font\": {\"color\": \"#FFFFFF\"}, \"showarrow\": false, \"text\": \"0.01\", \"x\": \"application_type_cat\", \"xref\": \"x\", \"y\": \"interest_rate\", \"yref\": \"y\"}, {\"font\": {\"color\": \"#FFFFFF\"}, \"showarrow\": false, \"text\": \"0.16\", \"x\": \"purpose_cat\", \"xref\": \"x\", \"y\": \"interest_rate\", \"yref\": \"y\"}, {\"font\": {\"color\": \"#FFFFFF\"}, \"showarrow\": false, \"text\": \"0.18\", \"x\": \"loan_condition_cat\", \"xref\": \"x\", \"y\": \"interest_rate\", \"yref\": \"y\"}, {\"font\": {\"color\": \"#000000\"}, \"showarrow\": false, \"text\": \"1.0\", \"x\": \"interest_rate\", \"xref\": \"x\", \"y\": \"interest_rate\", \"yref\": \"y\"}, {\"font\": {\"color\": \"#000000\"}, \"showarrow\": false, \"text\": \"0.95\", \"x\": \"grade_cat\", \"xref\": \"x\", \"y\": \"interest_rate\", \"yref\": \"y\"}, {\"font\": {\"color\": \"#FFFFFF\"}, \"showarrow\": false, \"text\": \"0.08\", \"x\": \"dti\", \"xref\": \"x\", \"y\": \"interest_rate\", \"yref\": \"y\"}, {\"font\": {\"color\": \"#FFFFFF\"}, \"showarrow\": false, \"text\": \"0.02\", \"x\": \"year\", \"xref\": \"x\", \"y\": \"grade_cat\", \"yref\": \"y\"}, {\"font\": {\"color\": \"#FFFFFF\"}, \"showarrow\": false, \"text\": \"0.0\", \"x\": \"emp_length_int\", \"xref\": \"x\", \"y\": \"grade_cat\", \"yref\": \"y\"}, {\"font\": {\"color\": \"#FFFFFF\"}, \"showarrow\": false, \"text\": \"-0.06\", \"x\": \"home_ownership_cat\", \"xref\": \"x\", \"y\": \"grade_cat\", \"yref\": \"y\"}, {\"font\": {\"color\": \"#FFFFFF\"}, \"showarrow\": false, \"text\": \"-0.06\", \"x\": \"annual_inc\", \"xref\": \"x\", \"y\": \"grade_cat\", \"yref\": \"y\"}, {\"font\": {\"color\": \"#FFFFFF\"}, \"showarrow\": false, \"text\": \"0.15\", \"x\": \"loan_amount\", \"xref\": \"x\", \"y\": \"grade_cat\", \"yref\": \"y\"}, {\"font\": {\"color\": \"#000000\"}, \"showarrow\": false, \"text\": \"0.44\", \"x\": \"term_cat\", \"xref\": \"x\", \"y\": \"grade_cat\", \"yref\": \"y\"}, {\"font\": {\"color\": \"#FFFFFF\"}, \"showarrow\": false, \"text\": \"0.01\", \"x\": \"application_type_cat\", \"xref\": \"x\", \"y\": \"grade_cat\", \"yref\": \"y\"}, {\"font\": {\"color\": \"#FFFFFF\"}, \"showarrow\": false, \"text\": \"0.16\", \"x\": \"purpose_cat\", \"xref\": \"x\", \"y\": \"grade_cat\", \"yref\": \"y\"}, {\"font\": {\"color\": \"#FFFFFF\"}, \"showarrow\": false, \"text\": \"0.15\", \"x\": \"loan_condition_cat\", \"xref\": \"x\", \"y\": \"grade_cat\", \"yref\": \"y\"}, {\"font\": {\"color\": \"#000000\"}, \"showarrow\": false, \"text\": \"0.95\", \"x\": \"interest_rate\", \"xref\": \"x\", \"y\": \"grade_cat\", \"yref\": \"y\"}, {\"font\": {\"color\": \"#000000\"}, \"showarrow\": false, \"text\": \"1.0\", \"x\": \"grade_cat\", \"xref\": \"x\", \"y\": \"grade_cat\", \"yref\": \"y\"}, {\"font\": {\"color\": \"#FFFFFF\"}, \"showarrow\": false, \"text\": \"0.08\", \"x\": \"dti\", \"xref\": \"x\", \"y\": \"grade_cat\", \"yref\": \"y\"}, {\"font\": {\"color\": \"#FFFFFF\"}, \"showarrow\": false, \"text\": \"0.08\", \"x\": \"year\", \"xref\": \"x\", \"y\": \"dti\", \"yref\": \"y\"}, {\"font\": {\"color\": \"#FFFFFF\"}, \"showarrow\": false, \"text\": \"0.02\", \"x\": \"emp_length_int\", \"xref\": \"x\", \"y\": \"dti\", \"yref\": \"y\"}, {\"font\": {\"color\": \"#FFFFFF\"}, \"showarrow\": false, \"text\": \"0.0\", \"x\": \"home_ownership_cat\", \"xref\": \"x\", \"y\": \"dti\", \"yref\": \"y\"}, {\"font\": {\"color\": \"#FFFFFF\"}, \"showarrow\": false, \"text\": \"-0.09\", \"x\": \"annual_inc\", \"xref\": \"x\", \"y\": \"dti\", \"yref\": \"y\"}, {\"font\": {\"color\": \"#FFFFFF\"}, \"showarrow\": false, \"text\": \"0.02\", \"x\": \"loan_amount\", \"xref\": \"x\", \"y\": \"dti\", \"yref\": \"y\"}, {\"font\": {\"color\": \"#FFFFFF\"}, \"showarrow\": false, \"text\": \"0.05\", \"x\": \"term_cat\", \"xref\": \"x\", \"y\": \"dti\", \"yref\": \"y\"}, {\"font\": {\"color\": \"#FFFFFF\"}, \"showarrow\": false, \"text\": \"0.07\", \"x\": \"application_type_cat\", \"xref\": \"x\", \"y\": \"dti\", \"yref\": \"y\"}, {\"font\": {\"color\": \"#FFFFFF\"}, \"showarrow\": false, \"text\": \"-0.01\", \"x\": \"purpose_cat\", \"xref\": \"x\", \"y\": \"dti\", \"yref\": \"y\"}, {\"font\": {\"color\": \"#FFFFFF\"}, \"showarrow\": false, \"text\": \"0.01\", \"x\": \"loan_condition_cat\", \"xref\": \"x\", \"y\": \"dti\", \"yref\": \"y\"}, {\"font\": {\"color\": \"#FFFFFF\"}, \"showarrow\": false, \"text\": \"0.08\", \"x\": \"interest_rate\", \"xref\": \"x\", \"y\": \"dti\", \"yref\": \"y\"}, {\"font\": {\"color\": \"#FFFFFF\"}, \"showarrow\": false, \"text\": \"0.08\", \"x\": \"grade_cat\", \"xref\": \"x\", \"y\": \"dti\", \"yref\": \"y\"}, {\"font\": {\"color\": \"#000000\"}, \"showarrow\": false, \"text\": \"1.0\", \"x\": \"dti\", \"xref\": \"x\", \"y\": \"dti\", \"yref\": \"y\"}], \"template\": {\"data\": {\"bar\": [{\"error_x\": {\"color\": \"#2a3f5f\"}, \"error_y\": {\"color\": \"#2a3f5f\"}, \"marker\": {\"line\": {\"color\": \"#E5ECF6\", \"width\": 0.5}}, \"type\": \"bar\"}], \"barpolar\": [{\"marker\": {\"line\": {\"color\": \"#E5ECF6\", \"width\": 0.5}}, \"type\": \"barpolar\"}], \"carpet\": [{\"aaxis\": {\"endlinecolor\": \"#2a3f5f\", \"gridcolor\": \"white\", \"linecolor\": \"white\", \"minorgridcolor\": \"white\", \"startlinecolor\": \"#2a3f5f\"}, \"baxis\": {\"endlinecolor\": \"#2a3f5f\", \"gridcolor\": \"white\", \"linecolor\": \"white\", \"minorgridcolor\": \"white\", \"startlinecolor\": \"#2a3f5f\"}, \"type\": \"carpet\"}], \"choropleth\": [{\"colorbar\": {\"outlinewidth\": 0, \"ticks\": \"\"}, \"type\": \"choropleth\"}], \"contour\": [{\"colorbar\": {\"outlinewidth\": 0, \"ticks\": \"\"}, \"colorscale\": [[0.0, \"#0d0887\"], [0.1111111111111111, \"#46039f\"], [0.2222222222222222, \"#7201a8\"], [0.3333333333333333, \"#9c179e\"], [0.4444444444444444, \"#bd3786\"], [0.5555555555555556, \"#d8576b\"], [0.6666666666666666, \"#ed7953\"], [0.7777777777777778, \"#fb9f3a\"], [0.8888888888888888, \"#fdca26\"], [1.0, \"#f0f921\"]], \"type\": \"contour\"}], \"contourcarpet\": [{\"colorbar\": {\"outlinewidth\": 0, \"ticks\": \"\"}, \"type\": \"contourcarpet\"}], \"heatmap\": [{\"colorbar\": {\"outlinewidth\": 0, \"ticks\": \"\"}, \"colorscale\": [[0.0, \"#0d0887\"], [0.1111111111111111, \"#46039f\"], [0.2222222222222222, \"#7201a8\"], [0.3333333333333333, \"#9c179e\"], [0.4444444444444444, \"#bd3786\"], [0.5555555555555556, \"#d8576b\"], [0.6666666666666666, \"#ed7953\"], [0.7777777777777778, \"#fb9f3a\"], [0.8888888888888888, \"#fdca26\"], [1.0, \"#f0f921\"]], \"type\": \"heatmap\"}], \"heatmapgl\": [{\"colorbar\": {\"outlinewidth\": 0, \"ticks\": \"\"}, \"colorscale\": [[0.0, \"#0d0887\"], [0.1111111111111111, \"#46039f\"], [0.2222222222222222, \"#7201a8\"], [0.3333333333333333, \"#9c179e\"], [0.4444444444444444, \"#bd3786\"], [0.5555555555555556, \"#d8576b\"], [0.6666666666666666, \"#ed7953\"], [0.7777777777777778, \"#fb9f3a\"], [0.8888888888888888, \"#fdca26\"], [1.0, \"#f0f921\"]], \"type\": \"heatmapgl\"}], \"histogram\": [{\"marker\": {\"colorbar\": {\"outlinewidth\": 0, \"ticks\": \"\"}}, \"type\": \"histogram\"}], \"histogram2d\": [{\"colorbar\": {\"outlinewidth\": 0, \"ticks\": \"\"}, \"colorscale\": [[0.0, \"#0d0887\"], [0.1111111111111111, \"#46039f\"], [0.2222222222222222, \"#7201a8\"], [0.3333333333333333, \"#9c179e\"], [0.4444444444444444, \"#bd3786\"], [0.5555555555555556, \"#d8576b\"], [0.6666666666666666, \"#ed7953\"], [0.7777777777777778, \"#fb9f3a\"], [0.8888888888888888, \"#fdca26\"], [1.0, \"#f0f921\"]], \"type\": \"histogram2d\"}], \"histogram2dcontour\": [{\"colorbar\": {\"outlinewidth\": 0, \"ticks\": \"\"}, \"colorscale\": [[0.0, \"#0d0887\"], [0.1111111111111111, \"#46039f\"], [0.2222222222222222, \"#7201a8\"], [0.3333333333333333, \"#9c179e\"], [0.4444444444444444, \"#bd3786\"], [0.5555555555555556, \"#d8576b\"], [0.6666666666666666, \"#ed7953\"], [0.7777777777777778, \"#fb9f3a\"], [0.8888888888888888, \"#fdca26\"], [1.0, \"#f0f921\"]], \"type\": \"histogram2dcontour\"}], \"mesh3d\": [{\"colorbar\": {\"outlinewidth\": 0, \"ticks\": \"\"}, \"type\": \"mesh3d\"}], \"parcoords\": [{\"line\": {\"colorbar\": {\"outlinewidth\": 0, \"ticks\": \"\"}}, \"type\": \"parcoords\"}], \"pie\": [{\"automargin\": true, \"type\": \"pie\"}], \"scatter\": [{\"marker\": {\"colorbar\": {\"outlinewidth\": 0, \"ticks\": \"\"}}, \"type\": \"scatter\"}], \"scatter3d\": [{\"line\": {\"colorbar\": {\"outlinewidth\": 0, \"ticks\": \"\"}}, \"marker\": {\"colorbar\": {\"outlinewidth\": 0, \"ticks\": \"\"}}, \"type\": \"scatter3d\"}], \"scattercarpet\": [{\"marker\": {\"colorbar\": {\"outlinewidth\": 0, \"ticks\": \"\"}}, \"type\": \"scattercarpet\"}], \"scattergeo\": [{\"marker\": {\"colorbar\": {\"outlinewidth\": 0, \"ticks\": \"\"}}, \"type\": \"scattergeo\"}], \"scattergl\": [{\"marker\": {\"colorbar\": {\"outlinewidth\": 0, \"ticks\": \"\"}}, \"type\": \"scattergl\"}], \"scattermapbox\": [{\"marker\": {\"colorbar\": {\"outlinewidth\": 0, \"ticks\": \"\"}}, \"type\": \"scattermapbox\"}], \"scatterpolar\": [{\"marker\": {\"colorbar\": {\"outlinewidth\": 0, \"ticks\": \"\"}}, \"type\": \"scatterpolar\"}], \"scatterpolargl\": [{\"marker\": {\"colorbar\": {\"outlinewidth\": 0, \"ticks\": \"\"}}, \"type\": \"scatterpolargl\"}], \"scatterternary\": [{\"marker\": {\"colorbar\": {\"outlinewidth\": 0, \"ticks\": \"\"}}, \"type\": \"scatterternary\"}], \"surface\": [{\"colorbar\": {\"outlinewidth\": 0, \"ticks\": \"\"}, \"colorscale\": [[0.0, \"#0d0887\"], [0.1111111111111111, \"#46039f\"], [0.2222222222222222, \"#7201a8\"], [0.3333333333333333, \"#9c179e\"], [0.4444444444444444, \"#bd3786\"], [0.5555555555555556, \"#d8576b\"], [0.6666666666666666, \"#ed7953\"], [0.7777777777777778, \"#fb9f3a\"], [0.8888888888888888, \"#fdca26\"], [1.0, \"#f0f921\"]], \"type\": \"surface\"}], \"table\": [{\"cells\": {\"fill\": {\"color\": \"#EBF0F8\"}, \"line\": {\"color\": \"white\"}}, \"header\": {\"fill\": {\"color\": \"#C8D4E3\"}, \"line\": {\"color\": \"white\"}}, \"type\": \"table\"}]}, \"layout\": {\"annotationdefaults\": {\"arrowcolor\": \"#2a3f5f\", \"arrowhead\": 0, \"arrowwidth\": 1}, \"coloraxis\": {\"colorbar\": {\"outlinewidth\": 0, \"ticks\": \"\"}}, \"colorscale\": {\"diverging\": [[0, \"#8e0152\"], [0.1, \"#c51b7d\"], [0.2, \"#de77ae\"], [0.3, \"#f1b6da\"], [0.4, \"#fde0ef\"], [0.5, \"#f7f7f7\"], [0.6, \"#e6f5d0\"], [0.7, \"#b8e186\"], [0.8, \"#7fbc41\"], [0.9, \"#4d9221\"], [1, \"#276419\"]], \"sequential\": [[0.0, \"#0d0887\"], [0.1111111111111111, \"#46039f\"], [0.2222222222222222, \"#7201a8\"], [0.3333333333333333, \"#9c179e\"], [0.4444444444444444, \"#bd3786\"], [0.5555555555555556, \"#d8576b\"], [0.6666666666666666, \"#ed7953\"], [0.7777777777777778, \"#fb9f3a\"], [0.8888888888888888, \"#fdca26\"], [1.0, \"#f0f921\"]], \"sequentialminus\": [[0.0, \"#0d0887\"], [0.1111111111111111, \"#46039f\"], [0.2222222222222222, \"#7201a8\"], [0.3333333333333333, \"#9c179e\"], [0.4444444444444444, \"#bd3786\"], [0.5555555555555556, \"#d8576b\"], [0.6666666666666666, \"#ed7953\"], [0.7777777777777778, \"#fb9f3a\"], [0.8888888888888888, \"#fdca26\"], [1.0, \"#f0f921\"]]}, \"colorway\": [\"#636efa\", \"#EF553B\", \"#00cc96\", \"#ab63fa\", \"#FFA15A\", \"#19d3f3\", \"#FF6692\", \"#B6E880\", \"#FF97FF\", \"#FECB52\"], \"font\": {\"color\": \"#2a3f5f\"}, \"geo\": {\"bgcolor\": \"white\", \"lakecolor\": \"white\", \"landcolor\": \"#E5ECF6\", \"showlakes\": true, \"showland\": true, \"subunitcolor\": \"white\"}, \"hoverlabel\": {\"align\": \"left\"}, \"hovermode\": \"closest\", \"mapbox\": {\"style\": \"light\"}, \"paper_bgcolor\": \"white\", \"plot_bgcolor\": \"#E5ECF6\", \"polar\": {\"angularaxis\": {\"gridcolor\": \"white\", \"linecolor\": \"white\", \"ticks\": \"\"}, \"bgcolor\": \"#E5ECF6\", \"radialaxis\": {\"gridcolor\": \"white\", \"linecolor\": \"white\", \"ticks\": \"\"}}, \"scene\": {\"xaxis\": {\"backgroundcolor\": \"#E5ECF6\", \"gridcolor\": \"white\", \"gridwidth\": 2, \"linecolor\": \"white\", \"showbackground\": true, \"ticks\": \"\", \"zerolinecolor\": \"white\"}, \"yaxis\": {\"backgroundcolor\": \"#E5ECF6\", \"gridcolor\": \"white\", \"gridwidth\": 2, \"linecolor\": \"white\", \"showbackground\": true, \"ticks\": \"\", \"zerolinecolor\": \"white\"}, \"zaxis\": {\"backgroundcolor\": \"#E5ECF6\", \"gridcolor\": \"white\", \"gridwidth\": 2, \"linecolor\": \"white\", \"showbackground\": true, \"ticks\": \"\", \"zerolinecolor\": \"white\"}}, \"shapedefaults\": {\"line\": {\"color\": \"#2a3f5f\"}}, \"ternary\": {\"aaxis\": {\"gridcolor\": \"white\", \"linecolor\": \"white\", \"ticks\": \"\"}, \"baxis\": {\"gridcolor\": \"white\", \"linecolor\": \"white\", \"ticks\": \"\"}, \"bgcolor\": \"#E5ECF6\", \"caxis\": {\"gridcolor\": \"white\", \"linecolor\": \"white\", \"ticks\": \"\"}}, \"title\": {\"x\": 0.05}, \"xaxis\": {\"automargin\": true, \"gridcolor\": \"white\", \"linecolor\": \"white\", \"ticks\": \"\", \"title\": {\"standoff\": 15}, \"zerolinecolor\": \"white\", \"zerolinewidth\": 2}, \"yaxis\": {\"automargin\": true, \"gridcolor\": \"white\", \"linecolor\": \"white\", \"ticks\": \"\", \"title\": {\"standoff\": 15}, \"zerolinecolor\": \"white\", \"zerolinewidth\": 2}}}, \"xaxis\": {\"dtick\": 1, \"gridcolor\": \"rgb(0, 0, 0)\", \"side\": \"top\", \"ticks\": \"\"}, \"yaxis\": {\"dtick\": 1, \"ticks\": \"\", \"ticksuffix\": \"  \"}},\n",
       "                        {\"responsive\": true}\n",
       "                    ).then(function(){\n",
       "                            \n",
       "var gd = document.getElementById('d7563c46-8f11-41d1-996a-fe65662fc5ee');\n",
       "var x = new MutationObserver(function (mutations, observer) {{\n",
       "        var display = window.getComputedStyle(gd).display;\n",
       "        if (!display || display === 'none') {{\n",
       "            console.log([gd, 'removed!']);\n",
       "            Plotly.purge(gd);\n",
       "            observer.disconnect();\n",
       "        }}\n",
       "}});\n",
       "\n",
       "// Listen for the removal of the full notebook cells\n",
       "var notebookContainer = gd.closest('#notebook-container');\n",
       "if (notebookContainer) {{\n",
       "    x.observe(notebookContainer, {childList: true});\n",
       "}}\n",
       "\n",
       "// Listen for the clearing of the current output cell\n",
       "var outputEl = gd.closest('.output');\n",
       "if (outputEl) {{\n",
       "    x.observe(outputEl, {childList: true});\n",
       "}}\n",
       "\n",
       "                        })\n",
       "                };\n",
       "                });\n",
       "            </script>\n",
       "        </div>"
      ]
     },
     "metadata": {},
     "output_type": "display_data"
    }
   ],
   "source": [
    "corrs = data.corr()\n",
    "\n",
    "figure = ff.create_annotated_heatmap(\n",
    "    z=corrs.values,\n",
    "    x=list(corrs.columns),\n",
    "    y=list(corrs.index),\n",
    "    annotation_text=corrs.round(2).values,\n",
    "    showscale=True)\n",
    "figure.show()"
   ]
  },
  {
   "cell_type": "markdown",
   "metadata": {},
   "source": [
    "По графику видим, что loan_condition_cat скоррелирован сильнее всего с grade_cat и interest_rate. Так же влияние оказывает год, когда был взят кредит.\n",
    "Так же стоит отметить, что loan_condition_cat и grade_cat имеют очень сильную корреляционную связь.\n",
    "Остальные критерии имеют слабую корреляцию с loan_condition_cat."
   ]
  },
  {
   "cell_type": "markdown",
   "metadata": {},
   "source": [
    "некоторые признаки были изначально закодированы с помощью LabelEncode.\n",
    "Возможно нектороые величины лучше закодировать  через OneHotEncode, т.к непонятно как была произведена градация таких параметров как:\n",
    "- application_type\n",
    "- purpose_cat\n",
    "- region"
   ]
  },
  {
   "cell_type": "markdown",
   "metadata": {},
   "source": [
    "## Посмотрим на новую таблицу корреляции для закодированных с помощью OneHotEncode признаков application_type и purpose_cat."
   ]
  },
  {
   "cell_type": "code",
   "execution_count": 12,
   "metadata": {
    "scrolled": false
   },
   "outputs": [
    {
     "data": {
      "application/vnd.plotly.v1+json": {
       "config": {
        "plotlyServerURL": "https://plot.ly"
       },
       "data": [
        {
         "colorscale": [
          [
           0,
           "#0d0887"
          ],
          [
           0.1111111111111111,
           "#46039f"
          ],
          [
           0.2222222222222222,
           "#7201a8"
          ],
          [
           0.3333333333333333,
           "#9c179e"
          ],
          [
           0.4444444444444444,
           "#bd3786"
          ],
          [
           0.5555555555555556,
           "#d8576b"
          ],
          [
           0.6666666666666666,
           "#ed7953"
          ],
          [
           0.7777777777777778,
           "#fb9f3a"
          ],
          [
           0.8888888888888888,
           "#fdca26"
          ],
          [
           1,
           "#f0f921"
          ]
         ],
         "reversescale": false,
         "showscale": true,
         "type": "heatmap",
         "x": [
          "application_type_INDIVIDUAL",
          "application_type_JOINT",
          "purpose_car",
          "purpose_credit_card",
          "purpose_debt_consolidation",
          "purpose_educational",
          "purpose_home_improvement",
          "purpose_house",
          "purpose_major_purchase",
          "purpose_medical",
          "purpose_moving",
          "purpose_other",
          "purpose_renewable_energy",
          "purpose_small_business",
          "purpose_vacation",
          "purpose_wedding",
          "loan_condition_cat"
         ],
         "y": [
          "application_type_INDIVIDUAL",
          "application_type_JOINT",
          "purpose_car",
          "purpose_credit_card",
          "purpose_debt_consolidation",
          "purpose_educational",
          "purpose_home_improvement",
          "purpose_house",
          "purpose_major_purchase",
          "purpose_medical",
          "purpose_moving",
          "purpose_other",
          "purpose_renewable_energy",
          "purpose_small_business",
          "purpose_vacation",
          "purpose_wedding",
          "loan_condition_cat"
         ],
         "z": [
          [
           1,
           -1,
           0.0019386024402051705,
           0.0004149359117629466,
           -0.0030694611457226517,
           0.0005242037256699487,
           0.0007703601429454182,
           0.0015547003757616887,
           0.002702484873911735,
           0.001403909266613083,
           0.0012774457988153681,
           -0.000503594427482861,
           0.0006112249282784781,
           0.001737155794955385,
           0.001113585697362842,
           0.0012361125493433702,
           0.005997136323685813
          ],
          [
           -1,
           1,
           -0.0019386024402053867,
           -0.00041493591176384233,
           0.003069461145721854,
           -0.0005242037256699854,
           -0.0007703601429453385,
           -0.001554700375761772,
           -0.002702484873912049,
           -0.0014039092666131405,
           -0.0012774457988154189,
           0.0005035944274828323,
           -0.0006112249282785007,
           -0.001737155794955613,
           -0.001113585697362036,
           -0.0012361125493434155,
           -0.005997136323685964
          ],
          [
           0.0019386024402051705,
           -0.0019386024402053867,
           1,
           -0.05525919419132912,
           -0.12067543231580959,
           -0.0021934850695698293,
           -0.025015876829257974,
           -0.006505509011994163,
           -0.014153525121208063,
           -0.009901245105742407,
           -0.007869533476610433,
           -0.022636946304075516,
           -0.002557617751581086,
           -0.010925747345529752,
           -0.007357475813864022,
           -0.005172405857621368,
           -0.0033133020270883964
          ],
          [
           0.0004149359117629466,
           -0.00041493591176384233,
           -0.05525919419132912,
           1,
           -0.6609861158416089,
           -0.012014567907261655,
           -0.13702165339151487,
           -0.035633194354942166,
           -0.07752434290649825,
           -0.05423295710673562,
           -0.04310448503321327,
           -0.12399132884385962,
           -0.014009063741694763,
           -0.05984455296385242,
           -0.04029974674427636,
           -0.02833127167433007,
           -0.03939482085585167
          ],
          [
           -0.0030694611457226517,
           0.003069461145721854,
           -0.12067543231580959,
           -0.6609861158416089,
           1,
           -0.026237501242246546,
           -0.29922888854721175,
           -0.07781603037241218,
           -0.16929822687940752,
           -0.11843432826636616,
           -0.09413188958649589,
           -0.27077317052958405,
           -0.030593095830301124,
           -0.13068897233311363,
           -0.08800688160235674,
           -0.061870038228109214,
           0.015349512140519184
          ],
          [
           0.0005242037256699487,
           -0.0005242037256699854,
           -0.0021934850695698293,
           -0.012014567907261655,
           -0.026237501242246546,
           1,
           -0.005439003505243375,
           -0.0014144411792204974,
           -0.003077288606204298,
           -0.0021527491201748165,
           -0.001711010189870409,
           -0.004921771526635524,
           -0.0005560825235757156,
           -0.002375498509292519,
           -0.0015996775574774029,
           -0.0011245951433504968,
           0.010883118564475457
          ],
          [
           0.0007703601429454182,
           -0.0007703601429453385,
           -0.025015876829257974,
           -0.13702165339151487,
           -0.29922888854721175,
           -0.005439003505243375,
           1,
           -0.016131172632148236,
           -0.035095325616224124,
           -0.024551298564482696,
           -0.019513431278415667,
           -0.05613096346553329,
           -0.006341913199996652,
           -0.027091672033888306,
           -0.01824372424438574,
           -0.012825586998617989,
           -0.0069877103127852
          ],
          [
           0.0015547003757616887,
           -0.001554700375761772,
           -0.006505509011994163,
           -0.035633194354942166,
           -0.07781603037241218,
           -0.0014144411792204974,
           -0.016131172632148236,
           1,
           -0.009126722146647247,
           -0.006384693015721001,
           -0.005074569398763527,
           -0.014597149289733803,
           -0.0016492475462052617,
           -0.00704533036248379,
           -0.004744375473994022,
           -0.003335360674104063,
           0.008922542406448354
          ],
          [
           0.002702484873911735,
           -0.002702484873912049,
           -0.014153525121208063,
           -0.07752434290649825,
           -0.16929822687940752,
           -0.003077288606204298,
           -0.035095325616224124,
           -0.009126722146647247,
           1,
           -0.013890675244693718,
           -0.011040342167194666,
           -0.03175787148677539,
           -0.0035881383812689754,
           -0.015327972044571649,
           -0.010321965172868491,
           -0.0072564823139431595,
           -0.0005793523428704952
          ],
          [
           0.001403909266613083,
           -0.0014039092666131405,
           -0.009901245105742407,
           -0.05423295710673562,
           -0.11843432826636616,
           -0.0021527491201748165,
           -0.024551298564482696,
           -0.006384693015721001,
           -0.013890675244693718,
           1,
           -0.007723385722962812,
           -0.022216547958721126,
           -0.002510119371873656,
           -0.010722841616095196,
           -0.007220837655379603,
           -0.005076347367827503,
           0.006755326978657103
          ],
          [
           0.0012774457988153681,
           -0.0012774457988154189,
           -0.007869533476610433,
           -0.04310448503321327,
           -0.09413188958649589,
           -0.001711010189870409,
           -0.019513431278415667,
           -0.005074569398763527,
           -0.011040342167194666,
           -0.007723385722962812,
           1,
           -0.017657765869169357,
           -0.0019950489271681766,
           -0.008522540363154288,
           -0.00573913917375271,
           -0.004034693124531827,
           0.01068301781698047
          ],
          [
           -0.000503594427482861,
           0.0005035944274828323,
           -0.022636946304075516,
           -0.12399132884385962,
           -0.27077317052958405,
           -0.004921771526635524,
           -0.05613096346553329,
           -0.014597149289733803,
           -0.03175787148677539,
           -0.022216547958721126,
           -0.017657765869169357,
           1,
           -0.005738817373932291,
           -0.024515339968997543,
           -0.01650880394584569,
           -0.011605914363737316,
           0.017917889573244396
          ],
          [
           0.0006112249282784781,
           -0.0006112249282785007,
           -0.002557617751581086,
           -0.014009063741694763,
           -0.030593095830301124,
           -0.0005560825235757156,
           -0.006341913199996652,
           -0.0016492475462052617,
           -0.0035881383812689754,
           -0.002510119371873656,
           -0.0019950489271681766,
           -0.005738817373932291,
           1,
           -0.002769846597189795,
           -0.0018652343590091702,
           -0.0013112851972545516,
           0.0047309477939134915
          ],
          [
           0.001737155794955385,
           -0.001737155794955613,
           -0.010925747345529752,
           -0.05984455296385242,
           -0.13068897233311363,
           -0.002375498509292519,
           -0.027091672033888306,
           -0.00704533036248379,
           -0.015327972044571649,
           -0.010722841616095196,
           -0.008522540363154288,
           -0.024515339968997543,
           -0.002769846597189795,
           1,
           -0.007967992611446355,
           -0.005601607493865992,
           0.03926271314206915
          ],
          [
           0.001113585697362842,
           -0.001113585697362036,
           -0.007357475813864022,
           -0.04029974674427636,
           -0.08800688160235674,
           -0.0015996775574774029,
           -0.01824372424438574,
           -0.004744375473994022,
           -0.010321965172868491,
           -0.007220837655379603,
           -0.00573913917375271,
           -0.01650880394584569,
           -0.0018652343590091702,
           -0.007967992611446355,
           1,
           -0.0037721622465711076,
           0.0024589756847795837
          ],
          [
           0.0012361125493433702,
           -0.0012361125493434155,
           -0.005172405857621368,
           -0.02833127167433007,
           -0.061870038228109214,
           -0.0011245951433504968,
           -0.012825586998617989,
           -0.003335360674104063,
           -0.0072564823139431595,
           -0.005076347367827503,
           -0.004034693124531827,
           -0.011605914363737316,
           -0.0013112851972545516,
           -0.005601607493865992,
           -0.0037721622465711076,
           1,
           0.009163126356013046
          ],
          [
           0.005997136323685813,
           -0.005997136323685964,
           -0.0033133020270883964,
           -0.03939482085585167,
           0.015349512140519184,
           0.010883118564475457,
           -0.0069877103127852,
           0.008922542406448354,
           -0.0005793523428704952,
           0.006755326978657103,
           0.01068301781698047,
           0.017917889573244396,
           0.0047309477939134915,
           0.03926271314206915,
           0.0024589756847795837,
           0.009163126356013046,
           1
          ]
         ]
        }
       ],
       "layout": {
        "annotations": [
         {
          "font": {
           "color": "#000000"
          },
          "showarrow": false,
          "text": "1.0",
          "x": "application_type_INDIVIDUAL",
          "xref": "x",
          "y": "application_type_INDIVIDUAL",
          "yref": "y"
         },
         {
          "font": {
           "color": "#FFFFFF"
          },
          "showarrow": false,
          "text": "-1.0",
          "x": "application_type_JOINT",
          "xref": "x",
          "y": "application_type_INDIVIDUAL",
          "yref": "y"
         },
         {
          "font": {
           "color": "#000000"
          },
          "showarrow": false,
          "text": "0.0",
          "x": "purpose_car",
          "xref": "x",
          "y": "application_type_INDIVIDUAL",
          "yref": "y"
         },
         {
          "font": {
           "color": "#000000"
          },
          "showarrow": false,
          "text": "0.0",
          "x": "purpose_credit_card",
          "xref": "x",
          "y": "application_type_INDIVIDUAL",
          "yref": "y"
         },
         {
          "font": {
           "color": "#FFFFFF"
          },
          "showarrow": false,
          "text": "-0.0",
          "x": "purpose_debt_consolidation",
          "xref": "x",
          "y": "application_type_INDIVIDUAL",
          "yref": "y"
         },
         {
          "font": {
           "color": "#000000"
          },
          "showarrow": false,
          "text": "0.0",
          "x": "purpose_educational",
          "xref": "x",
          "y": "application_type_INDIVIDUAL",
          "yref": "y"
         },
         {
          "font": {
           "color": "#000000"
          },
          "showarrow": false,
          "text": "0.0",
          "x": "purpose_home_improvement",
          "xref": "x",
          "y": "application_type_INDIVIDUAL",
          "yref": "y"
         },
         {
          "font": {
           "color": "#000000"
          },
          "showarrow": false,
          "text": "0.0",
          "x": "purpose_house",
          "xref": "x",
          "y": "application_type_INDIVIDUAL",
          "yref": "y"
         },
         {
          "font": {
           "color": "#000000"
          },
          "showarrow": false,
          "text": "0.0",
          "x": "purpose_major_purchase",
          "xref": "x",
          "y": "application_type_INDIVIDUAL",
          "yref": "y"
         },
         {
          "font": {
           "color": "#000000"
          },
          "showarrow": false,
          "text": "0.0",
          "x": "purpose_medical",
          "xref": "x",
          "y": "application_type_INDIVIDUAL",
          "yref": "y"
         },
         {
          "font": {
           "color": "#000000"
          },
          "showarrow": false,
          "text": "0.0",
          "x": "purpose_moving",
          "xref": "x",
          "y": "application_type_INDIVIDUAL",
          "yref": "y"
         },
         {
          "font": {
           "color": "#FFFFFF"
          },
          "showarrow": false,
          "text": "-0.0",
          "x": "purpose_other",
          "xref": "x",
          "y": "application_type_INDIVIDUAL",
          "yref": "y"
         },
         {
          "font": {
           "color": "#000000"
          },
          "showarrow": false,
          "text": "0.0",
          "x": "purpose_renewable_energy",
          "xref": "x",
          "y": "application_type_INDIVIDUAL",
          "yref": "y"
         },
         {
          "font": {
           "color": "#000000"
          },
          "showarrow": false,
          "text": "0.0",
          "x": "purpose_small_business",
          "xref": "x",
          "y": "application_type_INDIVIDUAL",
          "yref": "y"
         },
         {
          "font": {
           "color": "#000000"
          },
          "showarrow": false,
          "text": "0.0",
          "x": "purpose_vacation",
          "xref": "x",
          "y": "application_type_INDIVIDUAL",
          "yref": "y"
         },
         {
          "font": {
           "color": "#000000"
          },
          "showarrow": false,
          "text": "0.0",
          "x": "purpose_wedding",
          "xref": "x",
          "y": "application_type_INDIVIDUAL",
          "yref": "y"
         },
         {
          "font": {
           "color": "#000000"
          },
          "showarrow": false,
          "text": "0.01",
          "x": "loan_condition_cat",
          "xref": "x",
          "y": "application_type_INDIVIDUAL",
          "yref": "y"
         },
         {
          "font": {
           "color": "#FFFFFF"
          },
          "showarrow": false,
          "text": "-1.0",
          "x": "application_type_INDIVIDUAL",
          "xref": "x",
          "y": "application_type_JOINT",
          "yref": "y"
         },
         {
          "font": {
           "color": "#000000"
          },
          "showarrow": false,
          "text": "1.0",
          "x": "application_type_JOINT",
          "xref": "x",
          "y": "application_type_JOINT",
          "yref": "y"
         },
         {
          "font": {
           "color": "#FFFFFF"
          },
          "showarrow": false,
          "text": "-0.0",
          "x": "purpose_car",
          "xref": "x",
          "y": "application_type_JOINT",
          "yref": "y"
         },
         {
          "font": {
           "color": "#FFFFFF"
          },
          "showarrow": false,
          "text": "-0.0",
          "x": "purpose_credit_card",
          "xref": "x",
          "y": "application_type_JOINT",
          "yref": "y"
         },
         {
          "font": {
           "color": "#000000"
          },
          "showarrow": false,
          "text": "0.0",
          "x": "purpose_debt_consolidation",
          "xref": "x",
          "y": "application_type_JOINT",
          "yref": "y"
         },
         {
          "font": {
           "color": "#FFFFFF"
          },
          "showarrow": false,
          "text": "-0.0",
          "x": "purpose_educational",
          "xref": "x",
          "y": "application_type_JOINT",
          "yref": "y"
         },
         {
          "font": {
           "color": "#FFFFFF"
          },
          "showarrow": false,
          "text": "-0.0",
          "x": "purpose_home_improvement",
          "xref": "x",
          "y": "application_type_JOINT",
          "yref": "y"
         },
         {
          "font": {
           "color": "#FFFFFF"
          },
          "showarrow": false,
          "text": "-0.0",
          "x": "purpose_house",
          "xref": "x",
          "y": "application_type_JOINT",
          "yref": "y"
         },
         {
          "font": {
           "color": "#FFFFFF"
          },
          "showarrow": false,
          "text": "-0.0",
          "x": "purpose_major_purchase",
          "xref": "x",
          "y": "application_type_JOINT",
          "yref": "y"
         },
         {
          "font": {
           "color": "#FFFFFF"
          },
          "showarrow": false,
          "text": "-0.0",
          "x": "purpose_medical",
          "xref": "x",
          "y": "application_type_JOINT",
          "yref": "y"
         },
         {
          "font": {
           "color": "#FFFFFF"
          },
          "showarrow": false,
          "text": "-0.0",
          "x": "purpose_moving",
          "xref": "x",
          "y": "application_type_JOINT",
          "yref": "y"
         },
         {
          "font": {
           "color": "#000000"
          },
          "showarrow": false,
          "text": "0.0",
          "x": "purpose_other",
          "xref": "x",
          "y": "application_type_JOINT",
          "yref": "y"
         },
         {
          "font": {
           "color": "#FFFFFF"
          },
          "showarrow": false,
          "text": "-0.0",
          "x": "purpose_renewable_energy",
          "xref": "x",
          "y": "application_type_JOINT",
          "yref": "y"
         },
         {
          "font": {
           "color": "#FFFFFF"
          },
          "showarrow": false,
          "text": "-0.0",
          "x": "purpose_small_business",
          "xref": "x",
          "y": "application_type_JOINT",
          "yref": "y"
         },
         {
          "font": {
           "color": "#FFFFFF"
          },
          "showarrow": false,
          "text": "-0.0",
          "x": "purpose_vacation",
          "xref": "x",
          "y": "application_type_JOINT",
          "yref": "y"
         },
         {
          "font": {
           "color": "#FFFFFF"
          },
          "showarrow": false,
          "text": "-0.0",
          "x": "purpose_wedding",
          "xref": "x",
          "y": "application_type_JOINT",
          "yref": "y"
         },
         {
          "font": {
           "color": "#FFFFFF"
          },
          "showarrow": false,
          "text": "-0.01",
          "x": "loan_condition_cat",
          "xref": "x",
          "y": "application_type_JOINT",
          "yref": "y"
         },
         {
          "font": {
           "color": "#000000"
          },
          "showarrow": false,
          "text": "0.0",
          "x": "application_type_INDIVIDUAL",
          "xref": "x",
          "y": "purpose_car",
          "yref": "y"
         },
         {
          "font": {
           "color": "#FFFFFF"
          },
          "showarrow": false,
          "text": "-0.0",
          "x": "application_type_JOINT",
          "xref": "x",
          "y": "purpose_car",
          "yref": "y"
         },
         {
          "font": {
           "color": "#000000"
          },
          "showarrow": false,
          "text": "1.0",
          "x": "purpose_car",
          "xref": "x",
          "y": "purpose_car",
          "yref": "y"
         },
         {
          "font": {
           "color": "#FFFFFF"
          },
          "showarrow": false,
          "text": "-0.06",
          "x": "purpose_credit_card",
          "xref": "x",
          "y": "purpose_car",
          "yref": "y"
         },
         {
          "font": {
           "color": "#FFFFFF"
          },
          "showarrow": false,
          "text": "-0.12",
          "x": "purpose_debt_consolidation",
          "xref": "x",
          "y": "purpose_car",
          "yref": "y"
         },
         {
          "font": {
           "color": "#FFFFFF"
          },
          "showarrow": false,
          "text": "-0.0",
          "x": "purpose_educational",
          "xref": "x",
          "y": "purpose_car",
          "yref": "y"
         },
         {
          "font": {
           "color": "#FFFFFF"
          },
          "showarrow": false,
          "text": "-0.03",
          "x": "purpose_home_improvement",
          "xref": "x",
          "y": "purpose_car",
          "yref": "y"
         },
         {
          "font": {
           "color": "#FFFFFF"
          },
          "showarrow": false,
          "text": "-0.01",
          "x": "purpose_house",
          "xref": "x",
          "y": "purpose_car",
          "yref": "y"
         },
         {
          "font": {
           "color": "#FFFFFF"
          },
          "showarrow": false,
          "text": "-0.01",
          "x": "purpose_major_purchase",
          "xref": "x",
          "y": "purpose_car",
          "yref": "y"
         },
         {
          "font": {
           "color": "#FFFFFF"
          },
          "showarrow": false,
          "text": "-0.01",
          "x": "purpose_medical",
          "xref": "x",
          "y": "purpose_car",
          "yref": "y"
         },
         {
          "font": {
           "color": "#FFFFFF"
          },
          "showarrow": false,
          "text": "-0.01",
          "x": "purpose_moving",
          "xref": "x",
          "y": "purpose_car",
          "yref": "y"
         },
         {
          "font": {
           "color": "#FFFFFF"
          },
          "showarrow": false,
          "text": "-0.02",
          "x": "purpose_other",
          "xref": "x",
          "y": "purpose_car",
          "yref": "y"
         },
         {
          "font": {
           "color": "#FFFFFF"
          },
          "showarrow": false,
          "text": "-0.0",
          "x": "purpose_renewable_energy",
          "xref": "x",
          "y": "purpose_car",
          "yref": "y"
         },
         {
          "font": {
           "color": "#FFFFFF"
          },
          "showarrow": false,
          "text": "-0.01",
          "x": "purpose_small_business",
          "xref": "x",
          "y": "purpose_car",
          "yref": "y"
         },
         {
          "font": {
           "color": "#FFFFFF"
          },
          "showarrow": false,
          "text": "-0.01",
          "x": "purpose_vacation",
          "xref": "x",
          "y": "purpose_car",
          "yref": "y"
         },
         {
          "font": {
           "color": "#FFFFFF"
          },
          "showarrow": false,
          "text": "-0.01",
          "x": "purpose_wedding",
          "xref": "x",
          "y": "purpose_car",
          "yref": "y"
         },
         {
          "font": {
           "color": "#FFFFFF"
          },
          "showarrow": false,
          "text": "-0.0",
          "x": "loan_condition_cat",
          "xref": "x",
          "y": "purpose_car",
          "yref": "y"
         },
         {
          "font": {
           "color": "#000000"
          },
          "showarrow": false,
          "text": "0.0",
          "x": "application_type_INDIVIDUAL",
          "xref": "x",
          "y": "purpose_credit_card",
          "yref": "y"
         },
         {
          "font": {
           "color": "#FFFFFF"
          },
          "showarrow": false,
          "text": "-0.0",
          "x": "application_type_JOINT",
          "xref": "x",
          "y": "purpose_credit_card",
          "yref": "y"
         },
         {
          "font": {
           "color": "#FFFFFF"
          },
          "showarrow": false,
          "text": "-0.06",
          "x": "purpose_car",
          "xref": "x",
          "y": "purpose_credit_card",
          "yref": "y"
         },
         {
          "font": {
           "color": "#000000"
          },
          "showarrow": false,
          "text": "1.0",
          "x": "purpose_credit_card",
          "xref": "x",
          "y": "purpose_credit_card",
          "yref": "y"
         },
         {
          "font": {
           "color": "#FFFFFF"
          },
          "showarrow": false,
          "text": "-0.66",
          "x": "purpose_debt_consolidation",
          "xref": "x",
          "y": "purpose_credit_card",
          "yref": "y"
         },
         {
          "font": {
           "color": "#FFFFFF"
          },
          "showarrow": false,
          "text": "-0.01",
          "x": "purpose_educational",
          "xref": "x",
          "y": "purpose_credit_card",
          "yref": "y"
         },
         {
          "font": {
           "color": "#FFFFFF"
          },
          "showarrow": false,
          "text": "-0.14",
          "x": "purpose_home_improvement",
          "xref": "x",
          "y": "purpose_credit_card",
          "yref": "y"
         },
         {
          "font": {
           "color": "#FFFFFF"
          },
          "showarrow": false,
          "text": "-0.04",
          "x": "purpose_house",
          "xref": "x",
          "y": "purpose_credit_card",
          "yref": "y"
         },
         {
          "font": {
           "color": "#FFFFFF"
          },
          "showarrow": false,
          "text": "-0.08",
          "x": "purpose_major_purchase",
          "xref": "x",
          "y": "purpose_credit_card",
          "yref": "y"
         },
         {
          "font": {
           "color": "#FFFFFF"
          },
          "showarrow": false,
          "text": "-0.05",
          "x": "purpose_medical",
          "xref": "x",
          "y": "purpose_credit_card",
          "yref": "y"
         },
         {
          "font": {
           "color": "#FFFFFF"
          },
          "showarrow": false,
          "text": "-0.04",
          "x": "purpose_moving",
          "xref": "x",
          "y": "purpose_credit_card",
          "yref": "y"
         },
         {
          "font": {
           "color": "#FFFFFF"
          },
          "showarrow": false,
          "text": "-0.12",
          "x": "purpose_other",
          "xref": "x",
          "y": "purpose_credit_card",
          "yref": "y"
         },
         {
          "font": {
           "color": "#FFFFFF"
          },
          "showarrow": false,
          "text": "-0.01",
          "x": "purpose_renewable_energy",
          "xref": "x",
          "y": "purpose_credit_card",
          "yref": "y"
         },
         {
          "font": {
           "color": "#FFFFFF"
          },
          "showarrow": false,
          "text": "-0.06",
          "x": "purpose_small_business",
          "xref": "x",
          "y": "purpose_credit_card",
          "yref": "y"
         },
         {
          "font": {
           "color": "#FFFFFF"
          },
          "showarrow": false,
          "text": "-0.04",
          "x": "purpose_vacation",
          "xref": "x",
          "y": "purpose_credit_card",
          "yref": "y"
         },
         {
          "font": {
           "color": "#FFFFFF"
          },
          "showarrow": false,
          "text": "-0.03",
          "x": "purpose_wedding",
          "xref": "x",
          "y": "purpose_credit_card",
          "yref": "y"
         },
         {
          "font": {
           "color": "#FFFFFF"
          },
          "showarrow": false,
          "text": "-0.04",
          "x": "loan_condition_cat",
          "xref": "x",
          "y": "purpose_credit_card",
          "yref": "y"
         },
         {
          "font": {
           "color": "#FFFFFF"
          },
          "showarrow": false,
          "text": "-0.0",
          "x": "application_type_INDIVIDUAL",
          "xref": "x",
          "y": "purpose_debt_consolidation",
          "yref": "y"
         },
         {
          "font": {
           "color": "#000000"
          },
          "showarrow": false,
          "text": "0.0",
          "x": "application_type_JOINT",
          "xref": "x",
          "y": "purpose_debt_consolidation",
          "yref": "y"
         },
         {
          "font": {
           "color": "#FFFFFF"
          },
          "showarrow": false,
          "text": "-0.12",
          "x": "purpose_car",
          "xref": "x",
          "y": "purpose_debt_consolidation",
          "yref": "y"
         },
         {
          "font": {
           "color": "#FFFFFF"
          },
          "showarrow": false,
          "text": "-0.66",
          "x": "purpose_credit_card",
          "xref": "x",
          "y": "purpose_debt_consolidation",
          "yref": "y"
         },
         {
          "font": {
           "color": "#000000"
          },
          "showarrow": false,
          "text": "1.0",
          "x": "purpose_debt_consolidation",
          "xref": "x",
          "y": "purpose_debt_consolidation",
          "yref": "y"
         },
         {
          "font": {
           "color": "#FFFFFF"
          },
          "showarrow": false,
          "text": "-0.03",
          "x": "purpose_educational",
          "xref": "x",
          "y": "purpose_debt_consolidation",
          "yref": "y"
         },
         {
          "font": {
           "color": "#FFFFFF"
          },
          "showarrow": false,
          "text": "-0.3",
          "x": "purpose_home_improvement",
          "xref": "x",
          "y": "purpose_debt_consolidation",
          "yref": "y"
         },
         {
          "font": {
           "color": "#FFFFFF"
          },
          "showarrow": false,
          "text": "-0.08",
          "x": "purpose_house",
          "xref": "x",
          "y": "purpose_debt_consolidation",
          "yref": "y"
         },
         {
          "font": {
           "color": "#FFFFFF"
          },
          "showarrow": false,
          "text": "-0.17",
          "x": "purpose_major_purchase",
          "xref": "x",
          "y": "purpose_debt_consolidation",
          "yref": "y"
         },
         {
          "font": {
           "color": "#FFFFFF"
          },
          "showarrow": false,
          "text": "-0.12",
          "x": "purpose_medical",
          "xref": "x",
          "y": "purpose_debt_consolidation",
          "yref": "y"
         },
         {
          "font": {
           "color": "#FFFFFF"
          },
          "showarrow": false,
          "text": "-0.09",
          "x": "purpose_moving",
          "xref": "x",
          "y": "purpose_debt_consolidation",
          "yref": "y"
         },
         {
          "font": {
           "color": "#FFFFFF"
          },
          "showarrow": false,
          "text": "-0.27",
          "x": "purpose_other",
          "xref": "x",
          "y": "purpose_debt_consolidation",
          "yref": "y"
         },
         {
          "font": {
           "color": "#FFFFFF"
          },
          "showarrow": false,
          "text": "-0.03",
          "x": "purpose_renewable_energy",
          "xref": "x",
          "y": "purpose_debt_consolidation",
          "yref": "y"
         },
         {
          "font": {
           "color": "#FFFFFF"
          },
          "showarrow": false,
          "text": "-0.13",
          "x": "purpose_small_business",
          "xref": "x",
          "y": "purpose_debt_consolidation",
          "yref": "y"
         },
         {
          "font": {
           "color": "#FFFFFF"
          },
          "showarrow": false,
          "text": "-0.09",
          "x": "purpose_vacation",
          "xref": "x",
          "y": "purpose_debt_consolidation",
          "yref": "y"
         },
         {
          "font": {
           "color": "#FFFFFF"
          },
          "showarrow": false,
          "text": "-0.06",
          "x": "purpose_wedding",
          "xref": "x",
          "y": "purpose_debt_consolidation",
          "yref": "y"
         },
         {
          "font": {
           "color": "#000000"
          },
          "showarrow": false,
          "text": "0.02",
          "x": "loan_condition_cat",
          "xref": "x",
          "y": "purpose_debt_consolidation",
          "yref": "y"
         },
         {
          "font": {
           "color": "#000000"
          },
          "showarrow": false,
          "text": "0.0",
          "x": "application_type_INDIVIDUAL",
          "xref": "x",
          "y": "purpose_educational",
          "yref": "y"
         },
         {
          "font": {
           "color": "#FFFFFF"
          },
          "showarrow": false,
          "text": "-0.0",
          "x": "application_type_JOINT",
          "xref": "x",
          "y": "purpose_educational",
          "yref": "y"
         },
         {
          "font": {
           "color": "#FFFFFF"
          },
          "showarrow": false,
          "text": "-0.0",
          "x": "purpose_car",
          "xref": "x",
          "y": "purpose_educational",
          "yref": "y"
         },
         {
          "font": {
           "color": "#FFFFFF"
          },
          "showarrow": false,
          "text": "-0.01",
          "x": "purpose_credit_card",
          "xref": "x",
          "y": "purpose_educational",
          "yref": "y"
         },
         {
          "font": {
           "color": "#FFFFFF"
          },
          "showarrow": false,
          "text": "-0.03",
          "x": "purpose_debt_consolidation",
          "xref": "x",
          "y": "purpose_educational",
          "yref": "y"
         },
         {
          "font": {
           "color": "#000000"
          },
          "showarrow": false,
          "text": "1.0",
          "x": "purpose_educational",
          "xref": "x",
          "y": "purpose_educational",
          "yref": "y"
         },
         {
          "font": {
           "color": "#FFFFFF"
          },
          "showarrow": false,
          "text": "-0.01",
          "x": "purpose_home_improvement",
          "xref": "x",
          "y": "purpose_educational",
          "yref": "y"
         },
         {
          "font": {
           "color": "#FFFFFF"
          },
          "showarrow": false,
          "text": "-0.0",
          "x": "purpose_house",
          "xref": "x",
          "y": "purpose_educational",
          "yref": "y"
         },
         {
          "font": {
           "color": "#FFFFFF"
          },
          "showarrow": false,
          "text": "-0.0",
          "x": "purpose_major_purchase",
          "xref": "x",
          "y": "purpose_educational",
          "yref": "y"
         },
         {
          "font": {
           "color": "#FFFFFF"
          },
          "showarrow": false,
          "text": "-0.0",
          "x": "purpose_medical",
          "xref": "x",
          "y": "purpose_educational",
          "yref": "y"
         },
         {
          "font": {
           "color": "#FFFFFF"
          },
          "showarrow": false,
          "text": "-0.0",
          "x": "purpose_moving",
          "xref": "x",
          "y": "purpose_educational",
          "yref": "y"
         },
         {
          "font": {
           "color": "#FFFFFF"
          },
          "showarrow": false,
          "text": "-0.0",
          "x": "purpose_other",
          "xref": "x",
          "y": "purpose_educational",
          "yref": "y"
         },
         {
          "font": {
           "color": "#FFFFFF"
          },
          "showarrow": false,
          "text": "-0.0",
          "x": "purpose_renewable_energy",
          "xref": "x",
          "y": "purpose_educational",
          "yref": "y"
         },
         {
          "font": {
           "color": "#FFFFFF"
          },
          "showarrow": false,
          "text": "-0.0",
          "x": "purpose_small_business",
          "xref": "x",
          "y": "purpose_educational",
          "yref": "y"
         },
         {
          "font": {
           "color": "#FFFFFF"
          },
          "showarrow": false,
          "text": "-0.0",
          "x": "purpose_vacation",
          "xref": "x",
          "y": "purpose_educational",
          "yref": "y"
         },
         {
          "font": {
           "color": "#FFFFFF"
          },
          "showarrow": false,
          "text": "-0.0",
          "x": "purpose_wedding",
          "xref": "x",
          "y": "purpose_educational",
          "yref": "y"
         },
         {
          "font": {
           "color": "#000000"
          },
          "showarrow": false,
          "text": "0.01",
          "x": "loan_condition_cat",
          "xref": "x",
          "y": "purpose_educational",
          "yref": "y"
         },
         {
          "font": {
           "color": "#000000"
          },
          "showarrow": false,
          "text": "0.0",
          "x": "application_type_INDIVIDUAL",
          "xref": "x",
          "y": "purpose_home_improvement",
          "yref": "y"
         },
         {
          "font": {
           "color": "#FFFFFF"
          },
          "showarrow": false,
          "text": "-0.0",
          "x": "application_type_JOINT",
          "xref": "x",
          "y": "purpose_home_improvement",
          "yref": "y"
         },
         {
          "font": {
           "color": "#FFFFFF"
          },
          "showarrow": false,
          "text": "-0.03",
          "x": "purpose_car",
          "xref": "x",
          "y": "purpose_home_improvement",
          "yref": "y"
         },
         {
          "font": {
           "color": "#FFFFFF"
          },
          "showarrow": false,
          "text": "-0.14",
          "x": "purpose_credit_card",
          "xref": "x",
          "y": "purpose_home_improvement",
          "yref": "y"
         },
         {
          "font": {
           "color": "#FFFFFF"
          },
          "showarrow": false,
          "text": "-0.3",
          "x": "purpose_debt_consolidation",
          "xref": "x",
          "y": "purpose_home_improvement",
          "yref": "y"
         },
         {
          "font": {
           "color": "#FFFFFF"
          },
          "showarrow": false,
          "text": "-0.01",
          "x": "purpose_educational",
          "xref": "x",
          "y": "purpose_home_improvement",
          "yref": "y"
         },
         {
          "font": {
           "color": "#000000"
          },
          "showarrow": false,
          "text": "1.0",
          "x": "purpose_home_improvement",
          "xref": "x",
          "y": "purpose_home_improvement",
          "yref": "y"
         },
         {
          "font": {
           "color": "#FFFFFF"
          },
          "showarrow": false,
          "text": "-0.02",
          "x": "purpose_house",
          "xref": "x",
          "y": "purpose_home_improvement",
          "yref": "y"
         },
         {
          "font": {
           "color": "#FFFFFF"
          },
          "showarrow": false,
          "text": "-0.04",
          "x": "purpose_major_purchase",
          "xref": "x",
          "y": "purpose_home_improvement",
          "yref": "y"
         },
         {
          "font": {
           "color": "#FFFFFF"
          },
          "showarrow": false,
          "text": "-0.02",
          "x": "purpose_medical",
          "xref": "x",
          "y": "purpose_home_improvement",
          "yref": "y"
         },
         {
          "font": {
           "color": "#FFFFFF"
          },
          "showarrow": false,
          "text": "-0.02",
          "x": "purpose_moving",
          "xref": "x",
          "y": "purpose_home_improvement",
          "yref": "y"
         },
         {
          "font": {
           "color": "#FFFFFF"
          },
          "showarrow": false,
          "text": "-0.06",
          "x": "purpose_other",
          "xref": "x",
          "y": "purpose_home_improvement",
          "yref": "y"
         },
         {
          "font": {
           "color": "#FFFFFF"
          },
          "showarrow": false,
          "text": "-0.01",
          "x": "purpose_renewable_energy",
          "xref": "x",
          "y": "purpose_home_improvement",
          "yref": "y"
         },
         {
          "font": {
           "color": "#FFFFFF"
          },
          "showarrow": false,
          "text": "-0.03",
          "x": "purpose_small_business",
          "xref": "x",
          "y": "purpose_home_improvement",
          "yref": "y"
         },
         {
          "font": {
           "color": "#FFFFFF"
          },
          "showarrow": false,
          "text": "-0.02",
          "x": "purpose_vacation",
          "xref": "x",
          "y": "purpose_home_improvement",
          "yref": "y"
         },
         {
          "font": {
           "color": "#FFFFFF"
          },
          "showarrow": false,
          "text": "-0.01",
          "x": "purpose_wedding",
          "xref": "x",
          "y": "purpose_home_improvement",
          "yref": "y"
         },
         {
          "font": {
           "color": "#FFFFFF"
          },
          "showarrow": false,
          "text": "-0.01",
          "x": "loan_condition_cat",
          "xref": "x",
          "y": "purpose_home_improvement",
          "yref": "y"
         },
         {
          "font": {
           "color": "#000000"
          },
          "showarrow": false,
          "text": "0.0",
          "x": "application_type_INDIVIDUAL",
          "xref": "x",
          "y": "purpose_house",
          "yref": "y"
         },
         {
          "font": {
           "color": "#FFFFFF"
          },
          "showarrow": false,
          "text": "-0.0",
          "x": "application_type_JOINT",
          "xref": "x",
          "y": "purpose_house",
          "yref": "y"
         },
         {
          "font": {
           "color": "#FFFFFF"
          },
          "showarrow": false,
          "text": "-0.01",
          "x": "purpose_car",
          "xref": "x",
          "y": "purpose_house",
          "yref": "y"
         },
         {
          "font": {
           "color": "#FFFFFF"
          },
          "showarrow": false,
          "text": "-0.04",
          "x": "purpose_credit_card",
          "xref": "x",
          "y": "purpose_house",
          "yref": "y"
         },
         {
          "font": {
           "color": "#FFFFFF"
          },
          "showarrow": false,
          "text": "-0.08",
          "x": "purpose_debt_consolidation",
          "xref": "x",
          "y": "purpose_house",
          "yref": "y"
         },
         {
          "font": {
           "color": "#FFFFFF"
          },
          "showarrow": false,
          "text": "-0.0",
          "x": "purpose_educational",
          "xref": "x",
          "y": "purpose_house",
          "yref": "y"
         },
         {
          "font": {
           "color": "#FFFFFF"
          },
          "showarrow": false,
          "text": "-0.02",
          "x": "purpose_home_improvement",
          "xref": "x",
          "y": "purpose_house",
          "yref": "y"
         },
         {
          "font": {
           "color": "#000000"
          },
          "showarrow": false,
          "text": "1.0",
          "x": "purpose_house",
          "xref": "x",
          "y": "purpose_house",
          "yref": "y"
         },
         {
          "font": {
           "color": "#FFFFFF"
          },
          "showarrow": false,
          "text": "-0.01",
          "x": "purpose_major_purchase",
          "xref": "x",
          "y": "purpose_house",
          "yref": "y"
         },
         {
          "font": {
           "color": "#FFFFFF"
          },
          "showarrow": false,
          "text": "-0.01",
          "x": "purpose_medical",
          "xref": "x",
          "y": "purpose_house",
          "yref": "y"
         },
         {
          "font": {
           "color": "#FFFFFF"
          },
          "showarrow": false,
          "text": "-0.01",
          "x": "purpose_moving",
          "xref": "x",
          "y": "purpose_house",
          "yref": "y"
         },
         {
          "font": {
           "color": "#FFFFFF"
          },
          "showarrow": false,
          "text": "-0.01",
          "x": "purpose_other",
          "xref": "x",
          "y": "purpose_house",
          "yref": "y"
         },
         {
          "font": {
           "color": "#FFFFFF"
          },
          "showarrow": false,
          "text": "-0.0",
          "x": "purpose_renewable_energy",
          "xref": "x",
          "y": "purpose_house",
          "yref": "y"
         },
         {
          "font": {
           "color": "#FFFFFF"
          },
          "showarrow": false,
          "text": "-0.01",
          "x": "purpose_small_business",
          "xref": "x",
          "y": "purpose_house",
          "yref": "y"
         },
         {
          "font": {
           "color": "#FFFFFF"
          },
          "showarrow": false,
          "text": "-0.0",
          "x": "purpose_vacation",
          "xref": "x",
          "y": "purpose_house",
          "yref": "y"
         },
         {
          "font": {
           "color": "#FFFFFF"
          },
          "showarrow": false,
          "text": "-0.0",
          "x": "purpose_wedding",
          "xref": "x",
          "y": "purpose_house",
          "yref": "y"
         },
         {
          "font": {
           "color": "#000000"
          },
          "showarrow": false,
          "text": "0.01",
          "x": "loan_condition_cat",
          "xref": "x",
          "y": "purpose_house",
          "yref": "y"
         },
         {
          "font": {
           "color": "#000000"
          },
          "showarrow": false,
          "text": "0.0",
          "x": "application_type_INDIVIDUAL",
          "xref": "x",
          "y": "purpose_major_purchase",
          "yref": "y"
         },
         {
          "font": {
           "color": "#FFFFFF"
          },
          "showarrow": false,
          "text": "-0.0",
          "x": "application_type_JOINT",
          "xref": "x",
          "y": "purpose_major_purchase",
          "yref": "y"
         },
         {
          "font": {
           "color": "#FFFFFF"
          },
          "showarrow": false,
          "text": "-0.01",
          "x": "purpose_car",
          "xref": "x",
          "y": "purpose_major_purchase",
          "yref": "y"
         },
         {
          "font": {
           "color": "#FFFFFF"
          },
          "showarrow": false,
          "text": "-0.08",
          "x": "purpose_credit_card",
          "xref": "x",
          "y": "purpose_major_purchase",
          "yref": "y"
         },
         {
          "font": {
           "color": "#FFFFFF"
          },
          "showarrow": false,
          "text": "-0.17",
          "x": "purpose_debt_consolidation",
          "xref": "x",
          "y": "purpose_major_purchase",
          "yref": "y"
         },
         {
          "font": {
           "color": "#FFFFFF"
          },
          "showarrow": false,
          "text": "-0.0",
          "x": "purpose_educational",
          "xref": "x",
          "y": "purpose_major_purchase",
          "yref": "y"
         },
         {
          "font": {
           "color": "#FFFFFF"
          },
          "showarrow": false,
          "text": "-0.04",
          "x": "purpose_home_improvement",
          "xref": "x",
          "y": "purpose_major_purchase",
          "yref": "y"
         },
         {
          "font": {
           "color": "#FFFFFF"
          },
          "showarrow": false,
          "text": "-0.01",
          "x": "purpose_house",
          "xref": "x",
          "y": "purpose_major_purchase",
          "yref": "y"
         },
         {
          "font": {
           "color": "#000000"
          },
          "showarrow": false,
          "text": "1.0",
          "x": "purpose_major_purchase",
          "xref": "x",
          "y": "purpose_major_purchase",
          "yref": "y"
         },
         {
          "font": {
           "color": "#FFFFFF"
          },
          "showarrow": false,
          "text": "-0.01",
          "x": "purpose_medical",
          "xref": "x",
          "y": "purpose_major_purchase",
          "yref": "y"
         },
         {
          "font": {
           "color": "#FFFFFF"
          },
          "showarrow": false,
          "text": "-0.01",
          "x": "purpose_moving",
          "xref": "x",
          "y": "purpose_major_purchase",
          "yref": "y"
         },
         {
          "font": {
           "color": "#FFFFFF"
          },
          "showarrow": false,
          "text": "-0.03",
          "x": "purpose_other",
          "xref": "x",
          "y": "purpose_major_purchase",
          "yref": "y"
         },
         {
          "font": {
           "color": "#FFFFFF"
          },
          "showarrow": false,
          "text": "-0.0",
          "x": "purpose_renewable_energy",
          "xref": "x",
          "y": "purpose_major_purchase",
          "yref": "y"
         },
         {
          "font": {
           "color": "#FFFFFF"
          },
          "showarrow": false,
          "text": "-0.02",
          "x": "purpose_small_business",
          "xref": "x",
          "y": "purpose_major_purchase",
          "yref": "y"
         },
         {
          "font": {
           "color": "#FFFFFF"
          },
          "showarrow": false,
          "text": "-0.01",
          "x": "purpose_vacation",
          "xref": "x",
          "y": "purpose_major_purchase",
          "yref": "y"
         },
         {
          "font": {
           "color": "#FFFFFF"
          },
          "showarrow": false,
          "text": "-0.01",
          "x": "purpose_wedding",
          "xref": "x",
          "y": "purpose_major_purchase",
          "yref": "y"
         },
         {
          "font": {
           "color": "#FFFFFF"
          },
          "showarrow": false,
          "text": "-0.0",
          "x": "loan_condition_cat",
          "xref": "x",
          "y": "purpose_major_purchase",
          "yref": "y"
         },
         {
          "font": {
           "color": "#000000"
          },
          "showarrow": false,
          "text": "0.0",
          "x": "application_type_INDIVIDUAL",
          "xref": "x",
          "y": "purpose_medical",
          "yref": "y"
         },
         {
          "font": {
           "color": "#FFFFFF"
          },
          "showarrow": false,
          "text": "-0.0",
          "x": "application_type_JOINT",
          "xref": "x",
          "y": "purpose_medical",
          "yref": "y"
         },
         {
          "font": {
           "color": "#FFFFFF"
          },
          "showarrow": false,
          "text": "-0.01",
          "x": "purpose_car",
          "xref": "x",
          "y": "purpose_medical",
          "yref": "y"
         },
         {
          "font": {
           "color": "#FFFFFF"
          },
          "showarrow": false,
          "text": "-0.05",
          "x": "purpose_credit_card",
          "xref": "x",
          "y": "purpose_medical",
          "yref": "y"
         },
         {
          "font": {
           "color": "#FFFFFF"
          },
          "showarrow": false,
          "text": "-0.12",
          "x": "purpose_debt_consolidation",
          "xref": "x",
          "y": "purpose_medical",
          "yref": "y"
         },
         {
          "font": {
           "color": "#FFFFFF"
          },
          "showarrow": false,
          "text": "-0.0",
          "x": "purpose_educational",
          "xref": "x",
          "y": "purpose_medical",
          "yref": "y"
         },
         {
          "font": {
           "color": "#FFFFFF"
          },
          "showarrow": false,
          "text": "-0.02",
          "x": "purpose_home_improvement",
          "xref": "x",
          "y": "purpose_medical",
          "yref": "y"
         },
         {
          "font": {
           "color": "#FFFFFF"
          },
          "showarrow": false,
          "text": "-0.01",
          "x": "purpose_house",
          "xref": "x",
          "y": "purpose_medical",
          "yref": "y"
         },
         {
          "font": {
           "color": "#FFFFFF"
          },
          "showarrow": false,
          "text": "-0.01",
          "x": "purpose_major_purchase",
          "xref": "x",
          "y": "purpose_medical",
          "yref": "y"
         },
         {
          "font": {
           "color": "#000000"
          },
          "showarrow": false,
          "text": "1.0",
          "x": "purpose_medical",
          "xref": "x",
          "y": "purpose_medical",
          "yref": "y"
         },
         {
          "font": {
           "color": "#FFFFFF"
          },
          "showarrow": false,
          "text": "-0.01",
          "x": "purpose_moving",
          "xref": "x",
          "y": "purpose_medical",
          "yref": "y"
         },
         {
          "font": {
           "color": "#FFFFFF"
          },
          "showarrow": false,
          "text": "-0.02",
          "x": "purpose_other",
          "xref": "x",
          "y": "purpose_medical",
          "yref": "y"
         },
         {
          "font": {
           "color": "#FFFFFF"
          },
          "showarrow": false,
          "text": "-0.0",
          "x": "purpose_renewable_energy",
          "xref": "x",
          "y": "purpose_medical",
          "yref": "y"
         },
         {
          "font": {
           "color": "#FFFFFF"
          },
          "showarrow": false,
          "text": "-0.01",
          "x": "purpose_small_business",
          "xref": "x",
          "y": "purpose_medical",
          "yref": "y"
         },
         {
          "font": {
           "color": "#FFFFFF"
          },
          "showarrow": false,
          "text": "-0.01",
          "x": "purpose_vacation",
          "xref": "x",
          "y": "purpose_medical",
          "yref": "y"
         },
         {
          "font": {
           "color": "#FFFFFF"
          },
          "showarrow": false,
          "text": "-0.01",
          "x": "purpose_wedding",
          "xref": "x",
          "y": "purpose_medical",
          "yref": "y"
         },
         {
          "font": {
           "color": "#000000"
          },
          "showarrow": false,
          "text": "0.01",
          "x": "loan_condition_cat",
          "xref": "x",
          "y": "purpose_medical",
          "yref": "y"
         },
         {
          "font": {
           "color": "#000000"
          },
          "showarrow": false,
          "text": "0.0",
          "x": "application_type_INDIVIDUAL",
          "xref": "x",
          "y": "purpose_moving",
          "yref": "y"
         },
         {
          "font": {
           "color": "#FFFFFF"
          },
          "showarrow": false,
          "text": "-0.0",
          "x": "application_type_JOINT",
          "xref": "x",
          "y": "purpose_moving",
          "yref": "y"
         },
         {
          "font": {
           "color": "#FFFFFF"
          },
          "showarrow": false,
          "text": "-0.01",
          "x": "purpose_car",
          "xref": "x",
          "y": "purpose_moving",
          "yref": "y"
         },
         {
          "font": {
           "color": "#FFFFFF"
          },
          "showarrow": false,
          "text": "-0.04",
          "x": "purpose_credit_card",
          "xref": "x",
          "y": "purpose_moving",
          "yref": "y"
         },
         {
          "font": {
           "color": "#FFFFFF"
          },
          "showarrow": false,
          "text": "-0.09",
          "x": "purpose_debt_consolidation",
          "xref": "x",
          "y": "purpose_moving",
          "yref": "y"
         },
         {
          "font": {
           "color": "#FFFFFF"
          },
          "showarrow": false,
          "text": "-0.0",
          "x": "purpose_educational",
          "xref": "x",
          "y": "purpose_moving",
          "yref": "y"
         },
         {
          "font": {
           "color": "#FFFFFF"
          },
          "showarrow": false,
          "text": "-0.02",
          "x": "purpose_home_improvement",
          "xref": "x",
          "y": "purpose_moving",
          "yref": "y"
         },
         {
          "font": {
           "color": "#FFFFFF"
          },
          "showarrow": false,
          "text": "-0.01",
          "x": "purpose_house",
          "xref": "x",
          "y": "purpose_moving",
          "yref": "y"
         },
         {
          "font": {
           "color": "#FFFFFF"
          },
          "showarrow": false,
          "text": "-0.01",
          "x": "purpose_major_purchase",
          "xref": "x",
          "y": "purpose_moving",
          "yref": "y"
         },
         {
          "font": {
           "color": "#FFFFFF"
          },
          "showarrow": false,
          "text": "-0.01",
          "x": "purpose_medical",
          "xref": "x",
          "y": "purpose_moving",
          "yref": "y"
         },
         {
          "font": {
           "color": "#000000"
          },
          "showarrow": false,
          "text": "1.0",
          "x": "purpose_moving",
          "xref": "x",
          "y": "purpose_moving",
          "yref": "y"
         },
         {
          "font": {
           "color": "#FFFFFF"
          },
          "showarrow": false,
          "text": "-0.02",
          "x": "purpose_other",
          "xref": "x",
          "y": "purpose_moving",
          "yref": "y"
         },
         {
          "font": {
           "color": "#FFFFFF"
          },
          "showarrow": false,
          "text": "-0.0",
          "x": "purpose_renewable_energy",
          "xref": "x",
          "y": "purpose_moving",
          "yref": "y"
         },
         {
          "font": {
           "color": "#FFFFFF"
          },
          "showarrow": false,
          "text": "-0.01",
          "x": "purpose_small_business",
          "xref": "x",
          "y": "purpose_moving",
          "yref": "y"
         },
         {
          "font": {
           "color": "#FFFFFF"
          },
          "showarrow": false,
          "text": "-0.01",
          "x": "purpose_vacation",
          "xref": "x",
          "y": "purpose_moving",
          "yref": "y"
         },
         {
          "font": {
           "color": "#FFFFFF"
          },
          "showarrow": false,
          "text": "-0.0",
          "x": "purpose_wedding",
          "xref": "x",
          "y": "purpose_moving",
          "yref": "y"
         },
         {
          "font": {
           "color": "#000000"
          },
          "showarrow": false,
          "text": "0.01",
          "x": "loan_condition_cat",
          "xref": "x",
          "y": "purpose_moving",
          "yref": "y"
         },
         {
          "font": {
           "color": "#FFFFFF"
          },
          "showarrow": false,
          "text": "-0.0",
          "x": "application_type_INDIVIDUAL",
          "xref": "x",
          "y": "purpose_other",
          "yref": "y"
         },
         {
          "font": {
           "color": "#000000"
          },
          "showarrow": false,
          "text": "0.0",
          "x": "application_type_JOINT",
          "xref": "x",
          "y": "purpose_other",
          "yref": "y"
         },
         {
          "font": {
           "color": "#FFFFFF"
          },
          "showarrow": false,
          "text": "-0.02",
          "x": "purpose_car",
          "xref": "x",
          "y": "purpose_other",
          "yref": "y"
         },
         {
          "font": {
           "color": "#FFFFFF"
          },
          "showarrow": false,
          "text": "-0.12",
          "x": "purpose_credit_card",
          "xref": "x",
          "y": "purpose_other",
          "yref": "y"
         },
         {
          "font": {
           "color": "#FFFFFF"
          },
          "showarrow": false,
          "text": "-0.27",
          "x": "purpose_debt_consolidation",
          "xref": "x",
          "y": "purpose_other",
          "yref": "y"
         },
         {
          "font": {
           "color": "#FFFFFF"
          },
          "showarrow": false,
          "text": "-0.0",
          "x": "purpose_educational",
          "xref": "x",
          "y": "purpose_other",
          "yref": "y"
         },
         {
          "font": {
           "color": "#FFFFFF"
          },
          "showarrow": false,
          "text": "-0.06",
          "x": "purpose_home_improvement",
          "xref": "x",
          "y": "purpose_other",
          "yref": "y"
         },
         {
          "font": {
           "color": "#FFFFFF"
          },
          "showarrow": false,
          "text": "-0.01",
          "x": "purpose_house",
          "xref": "x",
          "y": "purpose_other",
          "yref": "y"
         },
         {
          "font": {
           "color": "#FFFFFF"
          },
          "showarrow": false,
          "text": "-0.03",
          "x": "purpose_major_purchase",
          "xref": "x",
          "y": "purpose_other",
          "yref": "y"
         },
         {
          "font": {
           "color": "#FFFFFF"
          },
          "showarrow": false,
          "text": "-0.02",
          "x": "purpose_medical",
          "xref": "x",
          "y": "purpose_other",
          "yref": "y"
         },
         {
          "font": {
           "color": "#FFFFFF"
          },
          "showarrow": false,
          "text": "-0.02",
          "x": "purpose_moving",
          "xref": "x",
          "y": "purpose_other",
          "yref": "y"
         },
         {
          "font": {
           "color": "#000000"
          },
          "showarrow": false,
          "text": "1.0",
          "x": "purpose_other",
          "xref": "x",
          "y": "purpose_other",
          "yref": "y"
         },
         {
          "font": {
           "color": "#FFFFFF"
          },
          "showarrow": false,
          "text": "-0.01",
          "x": "purpose_renewable_energy",
          "xref": "x",
          "y": "purpose_other",
          "yref": "y"
         },
         {
          "font": {
           "color": "#FFFFFF"
          },
          "showarrow": false,
          "text": "-0.02",
          "x": "purpose_small_business",
          "xref": "x",
          "y": "purpose_other",
          "yref": "y"
         },
         {
          "font": {
           "color": "#FFFFFF"
          },
          "showarrow": false,
          "text": "-0.02",
          "x": "purpose_vacation",
          "xref": "x",
          "y": "purpose_other",
          "yref": "y"
         },
         {
          "font": {
           "color": "#FFFFFF"
          },
          "showarrow": false,
          "text": "-0.01",
          "x": "purpose_wedding",
          "xref": "x",
          "y": "purpose_other",
          "yref": "y"
         },
         {
          "font": {
           "color": "#000000"
          },
          "showarrow": false,
          "text": "0.02",
          "x": "loan_condition_cat",
          "xref": "x",
          "y": "purpose_other",
          "yref": "y"
         },
         {
          "font": {
           "color": "#000000"
          },
          "showarrow": false,
          "text": "0.0",
          "x": "application_type_INDIVIDUAL",
          "xref": "x",
          "y": "purpose_renewable_energy",
          "yref": "y"
         },
         {
          "font": {
           "color": "#FFFFFF"
          },
          "showarrow": false,
          "text": "-0.0",
          "x": "application_type_JOINT",
          "xref": "x",
          "y": "purpose_renewable_energy",
          "yref": "y"
         },
         {
          "font": {
           "color": "#FFFFFF"
          },
          "showarrow": false,
          "text": "-0.0",
          "x": "purpose_car",
          "xref": "x",
          "y": "purpose_renewable_energy",
          "yref": "y"
         },
         {
          "font": {
           "color": "#FFFFFF"
          },
          "showarrow": false,
          "text": "-0.01",
          "x": "purpose_credit_card",
          "xref": "x",
          "y": "purpose_renewable_energy",
          "yref": "y"
         },
         {
          "font": {
           "color": "#FFFFFF"
          },
          "showarrow": false,
          "text": "-0.03",
          "x": "purpose_debt_consolidation",
          "xref": "x",
          "y": "purpose_renewable_energy",
          "yref": "y"
         },
         {
          "font": {
           "color": "#FFFFFF"
          },
          "showarrow": false,
          "text": "-0.0",
          "x": "purpose_educational",
          "xref": "x",
          "y": "purpose_renewable_energy",
          "yref": "y"
         },
         {
          "font": {
           "color": "#FFFFFF"
          },
          "showarrow": false,
          "text": "-0.01",
          "x": "purpose_home_improvement",
          "xref": "x",
          "y": "purpose_renewable_energy",
          "yref": "y"
         },
         {
          "font": {
           "color": "#FFFFFF"
          },
          "showarrow": false,
          "text": "-0.0",
          "x": "purpose_house",
          "xref": "x",
          "y": "purpose_renewable_energy",
          "yref": "y"
         },
         {
          "font": {
           "color": "#FFFFFF"
          },
          "showarrow": false,
          "text": "-0.0",
          "x": "purpose_major_purchase",
          "xref": "x",
          "y": "purpose_renewable_energy",
          "yref": "y"
         },
         {
          "font": {
           "color": "#FFFFFF"
          },
          "showarrow": false,
          "text": "-0.0",
          "x": "purpose_medical",
          "xref": "x",
          "y": "purpose_renewable_energy",
          "yref": "y"
         },
         {
          "font": {
           "color": "#FFFFFF"
          },
          "showarrow": false,
          "text": "-0.0",
          "x": "purpose_moving",
          "xref": "x",
          "y": "purpose_renewable_energy",
          "yref": "y"
         },
         {
          "font": {
           "color": "#FFFFFF"
          },
          "showarrow": false,
          "text": "-0.01",
          "x": "purpose_other",
          "xref": "x",
          "y": "purpose_renewable_energy",
          "yref": "y"
         },
         {
          "font": {
           "color": "#000000"
          },
          "showarrow": false,
          "text": "1.0",
          "x": "purpose_renewable_energy",
          "xref": "x",
          "y": "purpose_renewable_energy",
          "yref": "y"
         },
         {
          "font": {
           "color": "#FFFFFF"
          },
          "showarrow": false,
          "text": "-0.0",
          "x": "purpose_small_business",
          "xref": "x",
          "y": "purpose_renewable_energy",
          "yref": "y"
         },
         {
          "font": {
           "color": "#FFFFFF"
          },
          "showarrow": false,
          "text": "-0.0",
          "x": "purpose_vacation",
          "xref": "x",
          "y": "purpose_renewable_energy",
          "yref": "y"
         },
         {
          "font": {
           "color": "#FFFFFF"
          },
          "showarrow": false,
          "text": "-0.0",
          "x": "purpose_wedding",
          "xref": "x",
          "y": "purpose_renewable_energy",
          "yref": "y"
         },
         {
          "font": {
           "color": "#000000"
          },
          "showarrow": false,
          "text": "0.0",
          "x": "loan_condition_cat",
          "xref": "x",
          "y": "purpose_renewable_energy",
          "yref": "y"
         },
         {
          "font": {
           "color": "#000000"
          },
          "showarrow": false,
          "text": "0.0",
          "x": "application_type_INDIVIDUAL",
          "xref": "x",
          "y": "purpose_small_business",
          "yref": "y"
         },
         {
          "font": {
           "color": "#FFFFFF"
          },
          "showarrow": false,
          "text": "-0.0",
          "x": "application_type_JOINT",
          "xref": "x",
          "y": "purpose_small_business",
          "yref": "y"
         },
         {
          "font": {
           "color": "#FFFFFF"
          },
          "showarrow": false,
          "text": "-0.01",
          "x": "purpose_car",
          "xref": "x",
          "y": "purpose_small_business",
          "yref": "y"
         },
         {
          "font": {
           "color": "#FFFFFF"
          },
          "showarrow": false,
          "text": "-0.06",
          "x": "purpose_credit_card",
          "xref": "x",
          "y": "purpose_small_business",
          "yref": "y"
         },
         {
          "font": {
           "color": "#FFFFFF"
          },
          "showarrow": false,
          "text": "-0.13",
          "x": "purpose_debt_consolidation",
          "xref": "x",
          "y": "purpose_small_business",
          "yref": "y"
         },
         {
          "font": {
           "color": "#FFFFFF"
          },
          "showarrow": false,
          "text": "-0.0",
          "x": "purpose_educational",
          "xref": "x",
          "y": "purpose_small_business",
          "yref": "y"
         },
         {
          "font": {
           "color": "#FFFFFF"
          },
          "showarrow": false,
          "text": "-0.03",
          "x": "purpose_home_improvement",
          "xref": "x",
          "y": "purpose_small_business",
          "yref": "y"
         },
         {
          "font": {
           "color": "#FFFFFF"
          },
          "showarrow": false,
          "text": "-0.01",
          "x": "purpose_house",
          "xref": "x",
          "y": "purpose_small_business",
          "yref": "y"
         },
         {
          "font": {
           "color": "#FFFFFF"
          },
          "showarrow": false,
          "text": "-0.02",
          "x": "purpose_major_purchase",
          "xref": "x",
          "y": "purpose_small_business",
          "yref": "y"
         },
         {
          "font": {
           "color": "#FFFFFF"
          },
          "showarrow": false,
          "text": "-0.01",
          "x": "purpose_medical",
          "xref": "x",
          "y": "purpose_small_business",
          "yref": "y"
         },
         {
          "font": {
           "color": "#FFFFFF"
          },
          "showarrow": false,
          "text": "-0.01",
          "x": "purpose_moving",
          "xref": "x",
          "y": "purpose_small_business",
          "yref": "y"
         },
         {
          "font": {
           "color": "#FFFFFF"
          },
          "showarrow": false,
          "text": "-0.02",
          "x": "purpose_other",
          "xref": "x",
          "y": "purpose_small_business",
          "yref": "y"
         },
         {
          "font": {
           "color": "#FFFFFF"
          },
          "showarrow": false,
          "text": "-0.0",
          "x": "purpose_renewable_energy",
          "xref": "x",
          "y": "purpose_small_business",
          "yref": "y"
         },
         {
          "font": {
           "color": "#000000"
          },
          "showarrow": false,
          "text": "1.0",
          "x": "purpose_small_business",
          "xref": "x",
          "y": "purpose_small_business",
          "yref": "y"
         },
         {
          "font": {
           "color": "#FFFFFF"
          },
          "showarrow": false,
          "text": "-0.01",
          "x": "purpose_vacation",
          "xref": "x",
          "y": "purpose_small_business",
          "yref": "y"
         },
         {
          "font": {
           "color": "#FFFFFF"
          },
          "showarrow": false,
          "text": "-0.01",
          "x": "purpose_wedding",
          "xref": "x",
          "y": "purpose_small_business",
          "yref": "y"
         },
         {
          "font": {
           "color": "#000000"
          },
          "showarrow": false,
          "text": "0.04",
          "x": "loan_condition_cat",
          "xref": "x",
          "y": "purpose_small_business",
          "yref": "y"
         },
         {
          "font": {
           "color": "#000000"
          },
          "showarrow": false,
          "text": "0.0",
          "x": "application_type_INDIVIDUAL",
          "xref": "x",
          "y": "purpose_vacation",
          "yref": "y"
         },
         {
          "font": {
           "color": "#FFFFFF"
          },
          "showarrow": false,
          "text": "-0.0",
          "x": "application_type_JOINT",
          "xref": "x",
          "y": "purpose_vacation",
          "yref": "y"
         },
         {
          "font": {
           "color": "#FFFFFF"
          },
          "showarrow": false,
          "text": "-0.01",
          "x": "purpose_car",
          "xref": "x",
          "y": "purpose_vacation",
          "yref": "y"
         },
         {
          "font": {
           "color": "#FFFFFF"
          },
          "showarrow": false,
          "text": "-0.04",
          "x": "purpose_credit_card",
          "xref": "x",
          "y": "purpose_vacation",
          "yref": "y"
         },
         {
          "font": {
           "color": "#FFFFFF"
          },
          "showarrow": false,
          "text": "-0.09",
          "x": "purpose_debt_consolidation",
          "xref": "x",
          "y": "purpose_vacation",
          "yref": "y"
         },
         {
          "font": {
           "color": "#FFFFFF"
          },
          "showarrow": false,
          "text": "-0.0",
          "x": "purpose_educational",
          "xref": "x",
          "y": "purpose_vacation",
          "yref": "y"
         },
         {
          "font": {
           "color": "#FFFFFF"
          },
          "showarrow": false,
          "text": "-0.02",
          "x": "purpose_home_improvement",
          "xref": "x",
          "y": "purpose_vacation",
          "yref": "y"
         },
         {
          "font": {
           "color": "#FFFFFF"
          },
          "showarrow": false,
          "text": "-0.0",
          "x": "purpose_house",
          "xref": "x",
          "y": "purpose_vacation",
          "yref": "y"
         },
         {
          "font": {
           "color": "#FFFFFF"
          },
          "showarrow": false,
          "text": "-0.01",
          "x": "purpose_major_purchase",
          "xref": "x",
          "y": "purpose_vacation",
          "yref": "y"
         },
         {
          "font": {
           "color": "#FFFFFF"
          },
          "showarrow": false,
          "text": "-0.01",
          "x": "purpose_medical",
          "xref": "x",
          "y": "purpose_vacation",
          "yref": "y"
         },
         {
          "font": {
           "color": "#FFFFFF"
          },
          "showarrow": false,
          "text": "-0.01",
          "x": "purpose_moving",
          "xref": "x",
          "y": "purpose_vacation",
          "yref": "y"
         },
         {
          "font": {
           "color": "#FFFFFF"
          },
          "showarrow": false,
          "text": "-0.02",
          "x": "purpose_other",
          "xref": "x",
          "y": "purpose_vacation",
          "yref": "y"
         },
         {
          "font": {
           "color": "#FFFFFF"
          },
          "showarrow": false,
          "text": "-0.0",
          "x": "purpose_renewable_energy",
          "xref": "x",
          "y": "purpose_vacation",
          "yref": "y"
         },
         {
          "font": {
           "color": "#FFFFFF"
          },
          "showarrow": false,
          "text": "-0.01",
          "x": "purpose_small_business",
          "xref": "x",
          "y": "purpose_vacation",
          "yref": "y"
         },
         {
          "font": {
           "color": "#000000"
          },
          "showarrow": false,
          "text": "1.0",
          "x": "purpose_vacation",
          "xref": "x",
          "y": "purpose_vacation",
          "yref": "y"
         },
         {
          "font": {
           "color": "#FFFFFF"
          },
          "showarrow": false,
          "text": "-0.0",
          "x": "purpose_wedding",
          "xref": "x",
          "y": "purpose_vacation",
          "yref": "y"
         },
         {
          "font": {
           "color": "#000000"
          },
          "showarrow": false,
          "text": "0.0",
          "x": "loan_condition_cat",
          "xref": "x",
          "y": "purpose_vacation",
          "yref": "y"
         },
         {
          "font": {
           "color": "#000000"
          },
          "showarrow": false,
          "text": "0.0",
          "x": "application_type_INDIVIDUAL",
          "xref": "x",
          "y": "purpose_wedding",
          "yref": "y"
         },
         {
          "font": {
           "color": "#FFFFFF"
          },
          "showarrow": false,
          "text": "-0.0",
          "x": "application_type_JOINT",
          "xref": "x",
          "y": "purpose_wedding",
          "yref": "y"
         },
         {
          "font": {
           "color": "#FFFFFF"
          },
          "showarrow": false,
          "text": "-0.01",
          "x": "purpose_car",
          "xref": "x",
          "y": "purpose_wedding",
          "yref": "y"
         },
         {
          "font": {
           "color": "#FFFFFF"
          },
          "showarrow": false,
          "text": "-0.03",
          "x": "purpose_credit_card",
          "xref": "x",
          "y": "purpose_wedding",
          "yref": "y"
         },
         {
          "font": {
           "color": "#FFFFFF"
          },
          "showarrow": false,
          "text": "-0.06",
          "x": "purpose_debt_consolidation",
          "xref": "x",
          "y": "purpose_wedding",
          "yref": "y"
         },
         {
          "font": {
           "color": "#FFFFFF"
          },
          "showarrow": false,
          "text": "-0.0",
          "x": "purpose_educational",
          "xref": "x",
          "y": "purpose_wedding",
          "yref": "y"
         },
         {
          "font": {
           "color": "#FFFFFF"
          },
          "showarrow": false,
          "text": "-0.01",
          "x": "purpose_home_improvement",
          "xref": "x",
          "y": "purpose_wedding",
          "yref": "y"
         },
         {
          "font": {
           "color": "#FFFFFF"
          },
          "showarrow": false,
          "text": "-0.0",
          "x": "purpose_house",
          "xref": "x",
          "y": "purpose_wedding",
          "yref": "y"
         },
         {
          "font": {
           "color": "#FFFFFF"
          },
          "showarrow": false,
          "text": "-0.01",
          "x": "purpose_major_purchase",
          "xref": "x",
          "y": "purpose_wedding",
          "yref": "y"
         },
         {
          "font": {
           "color": "#FFFFFF"
          },
          "showarrow": false,
          "text": "-0.01",
          "x": "purpose_medical",
          "xref": "x",
          "y": "purpose_wedding",
          "yref": "y"
         },
         {
          "font": {
           "color": "#FFFFFF"
          },
          "showarrow": false,
          "text": "-0.0",
          "x": "purpose_moving",
          "xref": "x",
          "y": "purpose_wedding",
          "yref": "y"
         },
         {
          "font": {
           "color": "#FFFFFF"
          },
          "showarrow": false,
          "text": "-0.01",
          "x": "purpose_other",
          "xref": "x",
          "y": "purpose_wedding",
          "yref": "y"
         },
         {
          "font": {
           "color": "#FFFFFF"
          },
          "showarrow": false,
          "text": "-0.0",
          "x": "purpose_renewable_energy",
          "xref": "x",
          "y": "purpose_wedding",
          "yref": "y"
         },
         {
          "font": {
           "color": "#FFFFFF"
          },
          "showarrow": false,
          "text": "-0.01",
          "x": "purpose_small_business",
          "xref": "x",
          "y": "purpose_wedding",
          "yref": "y"
         },
         {
          "font": {
           "color": "#FFFFFF"
          },
          "showarrow": false,
          "text": "-0.0",
          "x": "purpose_vacation",
          "xref": "x",
          "y": "purpose_wedding",
          "yref": "y"
         },
         {
          "font": {
           "color": "#000000"
          },
          "showarrow": false,
          "text": "1.0",
          "x": "purpose_wedding",
          "xref": "x",
          "y": "purpose_wedding",
          "yref": "y"
         },
         {
          "font": {
           "color": "#000000"
          },
          "showarrow": false,
          "text": "0.01",
          "x": "loan_condition_cat",
          "xref": "x",
          "y": "purpose_wedding",
          "yref": "y"
         },
         {
          "font": {
           "color": "#000000"
          },
          "showarrow": false,
          "text": "0.01",
          "x": "application_type_INDIVIDUAL",
          "xref": "x",
          "y": "loan_condition_cat",
          "yref": "y"
         },
         {
          "font": {
           "color": "#FFFFFF"
          },
          "showarrow": false,
          "text": "-0.01",
          "x": "application_type_JOINT",
          "xref": "x",
          "y": "loan_condition_cat",
          "yref": "y"
         },
         {
          "font": {
           "color": "#FFFFFF"
          },
          "showarrow": false,
          "text": "-0.0",
          "x": "purpose_car",
          "xref": "x",
          "y": "loan_condition_cat",
          "yref": "y"
         },
         {
          "font": {
           "color": "#FFFFFF"
          },
          "showarrow": false,
          "text": "-0.04",
          "x": "purpose_credit_card",
          "xref": "x",
          "y": "loan_condition_cat",
          "yref": "y"
         },
         {
          "font": {
           "color": "#000000"
          },
          "showarrow": false,
          "text": "0.02",
          "x": "purpose_debt_consolidation",
          "xref": "x",
          "y": "loan_condition_cat",
          "yref": "y"
         },
         {
          "font": {
           "color": "#000000"
          },
          "showarrow": false,
          "text": "0.01",
          "x": "purpose_educational",
          "xref": "x",
          "y": "loan_condition_cat",
          "yref": "y"
         },
         {
          "font": {
           "color": "#FFFFFF"
          },
          "showarrow": false,
          "text": "-0.01",
          "x": "purpose_home_improvement",
          "xref": "x",
          "y": "loan_condition_cat",
          "yref": "y"
         },
         {
          "font": {
           "color": "#000000"
          },
          "showarrow": false,
          "text": "0.01",
          "x": "purpose_house",
          "xref": "x",
          "y": "loan_condition_cat",
          "yref": "y"
         },
         {
          "font": {
           "color": "#FFFFFF"
          },
          "showarrow": false,
          "text": "-0.0",
          "x": "purpose_major_purchase",
          "xref": "x",
          "y": "loan_condition_cat",
          "yref": "y"
         },
         {
          "font": {
           "color": "#000000"
          },
          "showarrow": false,
          "text": "0.01",
          "x": "purpose_medical",
          "xref": "x",
          "y": "loan_condition_cat",
          "yref": "y"
         },
         {
          "font": {
           "color": "#000000"
          },
          "showarrow": false,
          "text": "0.01",
          "x": "purpose_moving",
          "xref": "x",
          "y": "loan_condition_cat",
          "yref": "y"
         },
         {
          "font": {
           "color": "#000000"
          },
          "showarrow": false,
          "text": "0.02",
          "x": "purpose_other",
          "xref": "x",
          "y": "loan_condition_cat",
          "yref": "y"
         },
         {
          "font": {
           "color": "#000000"
          },
          "showarrow": false,
          "text": "0.0",
          "x": "purpose_renewable_energy",
          "xref": "x",
          "y": "loan_condition_cat",
          "yref": "y"
         },
         {
          "font": {
           "color": "#000000"
          },
          "showarrow": false,
          "text": "0.04",
          "x": "purpose_small_business",
          "xref": "x",
          "y": "loan_condition_cat",
          "yref": "y"
         },
         {
          "font": {
           "color": "#000000"
          },
          "showarrow": false,
          "text": "0.0",
          "x": "purpose_vacation",
          "xref": "x",
          "y": "loan_condition_cat",
          "yref": "y"
         },
         {
          "font": {
           "color": "#000000"
          },
          "showarrow": false,
          "text": "0.01",
          "x": "purpose_wedding",
          "xref": "x",
          "y": "loan_condition_cat",
          "yref": "y"
         },
         {
          "font": {
           "color": "#000000"
          },
          "showarrow": false,
          "text": "1.0",
          "x": "loan_condition_cat",
          "xref": "x",
          "y": "loan_condition_cat",
          "yref": "y"
         }
        ],
        "template": {
         "data": {
          "bar": [
           {
            "error_x": {
             "color": "#2a3f5f"
            },
            "error_y": {
             "color": "#2a3f5f"
            },
            "marker": {
             "line": {
              "color": "#E5ECF6",
              "width": 0.5
             }
            },
            "type": "bar"
           }
          ],
          "barpolar": [
           {
            "marker": {
             "line": {
              "color": "#E5ECF6",
              "width": 0.5
             }
            },
            "type": "barpolar"
           }
          ],
          "carpet": [
           {
            "aaxis": {
             "endlinecolor": "#2a3f5f",
             "gridcolor": "white",
             "linecolor": "white",
             "minorgridcolor": "white",
             "startlinecolor": "#2a3f5f"
            },
            "baxis": {
             "endlinecolor": "#2a3f5f",
             "gridcolor": "white",
             "linecolor": "white",
             "minorgridcolor": "white",
             "startlinecolor": "#2a3f5f"
            },
            "type": "carpet"
           }
          ],
          "choropleth": [
           {
            "colorbar": {
             "outlinewidth": 0,
             "ticks": ""
            },
            "type": "choropleth"
           }
          ],
          "contour": [
           {
            "colorbar": {
             "outlinewidth": 0,
             "ticks": ""
            },
            "colorscale": [
             [
              0,
              "#0d0887"
             ],
             [
              0.1111111111111111,
              "#46039f"
             ],
             [
              0.2222222222222222,
              "#7201a8"
             ],
             [
              0.3333333333333333,
              "#9c179e"
             ],
             [
              0.4444444444444444,
              "#bd3786"
             ],
             [
              0.5555555555555556,
              "#d8576b"
             ],
             [
              0.6666666666666666,
              "#ed7953"
             ],
             [
              0.7777777777777778,
              "#fb9f3a"
             ],
             [
              0.8888888888888888,
              "#fdca26"
             ],
             [
              1,
              "#f0f921"
             ]
            ],
            "type": "contour"
           }
          ],
          "contourcarpet": [
           {
            "colorbar": {
             "outlinewidth": 0,
             "ticks": ""
            },
            "type": "contourcarpet"
           }
          ],
          "heatmap": [
           {
            "colorbar": {
             "outlinewidth": 0,
             "ticks": ""
            },
            "colorscale": [
             [
              0,
              "#0d0887"
             ],
             [
              0.1111111111111111,
              "#46039f"
             ],
             [
              0.2222222222222222,
              "#7201a8"
             ],
             [
              0.3333333333333333,
              "#9c179e"
             ],
             [
              0.4444444444444444,
              "#bd3786"
             ],
             [
              0.5555555555555556,
              "#d8576b"
             ],
             [
              0.6666666666666666,
              "#ed7953"
             ],
             [
              0.7777777777777778,
              "#fb9f3a"
             ],
             [
              0.8888888888888888,
              "#fdca26"
             ],
             [
              1,
              "#f0f921"
             ]
            ],
            "type": "heatmap"
           }
          ],
          "heatmapgl": [
           {
            "colorbar": {
             "outlinewidth": 0,
             "ticks": ""
            },
            "colorscale": [
             [
              0,
              "#0d0887"
             ],
             [
              0.1111111111111111,
              "#46039f"
             ],
             [
              0.2222222222222222,
              "#7201a8"
             ],
             [
              0.3333333333333333,
              "#9c179e"
             ],
             [
              0.4444444444444444,
              "#bd3786"
             ],
             [
              0.5555555555555556,
              "#d8576b"
             ],
             [
              0.6666666666666666,
              "#ed7953"
             ],
             [
              0.7777777777777778,
              "#fb9f3a"
             ],
             [
              0.8888888888888888,
              "#fdca26"
             ],
             [
              1,
              "#f0f921"
             ]
            ],
            "type": "heatmapgl"
           }
          ],
          "histogram": [
           {
            "marker": {
             "colorbar": {
              "outlinewidth": 0,
              "ticks": ""
             }
            },
            "type": "histogram"
           }
          ],
          "histogram2d": [
           {
            "colorbar": {
             "outlinewidth": 0,
             "ticks": ""
            },
            "colorscale": [
             [
              0,
              "#0d0887"
             ],
             [
              0.1111111111111111,
              "#46039f"
             ],
             [
              0.2222222222222222,
              "#7201a8"
             ],
             [
              0.3333333333333333,
              "#9c179e"
             ],
             [
              0.4444444444444444,
              "#bd3786"
             ],
             [
              0.5555555555555556,
              "#d8576b"
             ],
             [
              0.6666666666666666,
              "#ed7953"
             ],
             [
              0.7777777777777778,
              "#fb9f3a"
             ],
             [
              0.8888888888888888,
              "#fdca26"
             ],
             [
              1,
              "#f0f921"
             ]
            ],
            "type": "histogram2d"
           }
          ],
          "histogram2dcontour": [
           {
            "colorbar": {
             "outlinewidth": 0,
             "ticks": ""
            },
            "colorscale": [
             [
              0,
              "#0d0887"
             ],
             [
              0.1111111111111111,
              "#46039f"
             ],
             [
              0.2222222222222222,
              "#7201a8"
             ],
             [
              0.3333333333333333,
              "#9c179e"
             ],
             [
              0.4444444444444444,
              "#bd3786"
             ],
             [
              0.5555555555555556,
              "#d8576b"
             ],
             [
              0.6666666666666666,
              "#ed7953"
             ],
             [
              0.7777777777777778,
              "#fb9f3a"
             ],
             [
              0.8888888888888888,
              "#fdca26"
             ],
             [
              1,
              "#f0f921"
             ]
            ],
            "type": "histogram2dcontour"
           }
          ],
          "mesh3d": [
           {
            "colorbar": {
             "outlinewidth": 0,
             "ticks": ""
            },
            "type": "mesh3d"
           }
          ],
          "parcoords": [
           {
            "line": {
             "colorbar": {
              "outlinewidth": 0,
              "ticks": ""
             }
            },
            "type": "parcoords"
           }
          ],
          "pie": [
           {
            "automargin": true,
            "type": "pie"
           }
          ],
          "scatter": [
           {
            "marker": {
             "colorbar": {
              "outlinewidth": 0,
              "ticks": ""
             }
            },
            "type": "scatter"
           }
          ],
          "scatter3d": [
           {
            "line": {
             "colorbar": {
              "outlinewidth": 0,
              "ticks": ""
             }
            },
            "marker": {
             "colorbar": {
              "outlinewidth": 0,
              "ticks": ""
             }
            },
            "type": "scatter3d"
           }
          ],
          "scattercarpet": [
           {
            "marker": {
             "colorbar": {
              "outlinewidth": 0,
              "ticks": ""
             }
            },
            "type": "scattercarpet"
           }
          ],
          "scattergeo": [
           {
            "marker": {
             "colorbar": {
              "outlinewidth": 0,
              "ticks": ""
             }
            },
            "type": "scattergeo"
           }
          ],
          "scattergl": [
           {
            "marker": {
             "colorbar": {
              "outlinewidth": 0,
              "ticks": ""
             }
            },
            "type": "scattergl"
           }
          ],
          "scattermapbox": [
           {
            "marker": {
             "colorbar": {
              "outlinewidth": 0,
              "ticks": ""
             }
            },
            "type": "scattermapbox"
           }
          ],
          "scatterpolar": [
           {
            "marker": {
             "colorbar": {
              "outlinewidth": 0,
              "ticks": ""
             }
            },
            "type": "scatterpolar"
           }
          ],
          "scatterpolargl": [
           {
            "marker": {
             "colorbar": {
              "outlinewidth": 0,
              "ticks": ""
             }
            },
            "type": "scatterpolargl"
           }
          ],
          "scatterternary": [
           {
            "marker": {
             "colorbar": {
              "outlinewidth": 0,
              "ticks": ""
             }
            },
            "type": "scatterternary"
           }
          ],
          "surface": [
           {
            "colorbar": {
             "outlinewidth": 0,
             "ticks": ""
            },
            "colorscale": [
             [
              0,
              "#0d0887"
             ],
             [
              0.1111111111111111,
              "#46039f"
             ],
             [
              0.2222222222222222,
              "#7201a8"
             ],
             [
              0.3333333333333333,
              "#9c179e"
             ],
             [
              0.4444444444444444,
              "#bd3786"
             ],
             [
              0.5555555555555556,
              "#d8576b"
             ],
             [
              0.6666666666666666,
              "#ed7953"
             ],
             [
              0.7777777777777778,
              "#fb9f3a"
             ],
             [
              0.8888888888888888,
              "#fdca26"
             ],
             [
              1,
              "#f0f921"
             ]
            ],
            "type": "surface"
           }
          ],
          "table": [
           {
            "cells": {
             "fill": {
              "color": "#EBF0F8"
             },
             "line": {
              "color": "white"
             }
            },
            "header": {
             "fill": {
              "color": "#C8D4E3"
             },
             "line": {
              "color": "white"
             }
            },
            "type": "table"
           }
          ]
         },
         "layout": {
          "annotationdefaults": {
           "arrowcolor": "#2a3f5f",
           "arrowhead": 0,
           "arrowwidth": 1
          },
          "coloraxis": {
           "colorbar": {
            "outlinewidth": 0,
            "ticks": ""
           }
          },
          "colorscale": {
           "diverging": [
            [
             0,
             "#8e0152"
            ],
            [
             0.1,
             "#c51b7d"
            ],
            [
             0.2,
             "#de77ae"
            ],
            [
             0.3,
             "#f1b6da"
            ],
            [
             0.4,
             "#fde0ef"
            ],
            [
             0.5,
             "#f7f7f7"
            ],
            [
             0.6,
             "#e6f5d0"
            ],
            [
             0.7,
             "#b8e186"
            ],
            [
             0.8,
             "#7fbc41"
            ],
            [
             0.9,
             "#4d9221"
            ],
            [
             1,
             "#276419"
            ]
           ],
           "sequential": [
            [
             0,
             "#0d0887"
            ],
            [
             0.1111111111111111,
             "#46039f"
            ],
            [
             0.2222222222222222,
             "#7201a8"
            ],
            [
             0.3333333333333333,
             "#9c179e"
            ],
            [
             0.4444444444444444,
             "#bd3786"
            ],
            [
             0.5555555555555556,
             "#d8576b"
            ],
            [
             0.6666666666666666,
             "#ed7953"
            ],
            [
             0.7777777777777778,
             "#fb9f3a"
            ],
            [
             0.8888888888888888,
             "#fdca26"
            ],
            [
             1,
             "#f0f921"
            ]
           ],
           "sequentialminus": [
            [
             0,
             "#0d0887"
            ],
            [
             0.1111111111111111,
             "#46039f"
            ],
            [
             0.2222222222222222,
             "#7201a8"
            ],
            [
             0.3333333333333333,
             "#9c179e"
            ],
            [
             0.4444444444444444,
             "#bd3786"
            ],
            [
             0.5555555555555556,
             "#d8576b"
            ],
            [
             0.6666666666666666,
             "#ed7953"
            ],
            [
             0.7777777777777778,
             "#fb9f3a"
            ],
            [
             0.8888888888888888,
             "#fdca26"
            ],
            [
             1,
             "#f0f921"
            ]
           ]
          },
          "colorway": [
           "#636efa",
           "#EF553B",
           "#00cc96",
           "#ab63fa",
           "#FFA15A",
           "#19d3f3",
           "#FF6692",
           "#B6E880",
           "#FF97FF",
           "#FECB52"
          ],
          "font": {
           "color": "#2a3f5f"
          },
          "geo": {
           "bgcolor": "white",
           "lakecolor": "white",
           "landcolor": "#E5ECF6",
           "showlakes": true,
           "showland": true,
           "subunitcolor": "white"
          },
          "hoverlabel": {
           "align": "left"
          },
          "hovermode": "closest",
          "mapbox": {
           "style": "light"
          },
          "paper_bgcolor": "white",
          "plot_bgcolor": "#E5ECF6",
          "polar": {
           "angularaxis": {
            "gridcolor": "white",
            "linecolor": "white",
            "ticks": ""
           },
           "bgcolor": "#E5ECF6",
           "radialaxis": {
            "gridcolor": "white",
            "linecolor": "white",
            "ticks": ""
           }
          },
          "scene": {
           "xaxis": {
            "backgroundcolor": "#E5ECF6",
            "gridcolor": "white",
            "gridwidth": 2,
            "linecolor": "white",
            "showbackground": true,
            "ticks": "",
            "zerolinecolor": "white"
           },
           "yaxis": {
            "backgroundcolor": "#E5ECF6",
            "gridcolor": "white",
            "gridwidth": 2,
            "linecolor": "white",
            "showbackground": true,
            "ticks": "",
            "zerolinecolor": "white"
           },
           "zaxis": {
            "backgroundcolor": "#E5ECF6",
            "gridcolor": "white",
            "gridwidth": 2,
            "linecolor": "white",
            "showbackground": true,
            "ticks": "",
            "zerolinecolor": "white"
           }
          },
          "shapedefaults": {
           "line": {
            "color": "#2a3f5f"
           }
          },
          "ternary": {
           "aaxis": {
            "gridcolor": "white",
            "linecolor": "white",
            "ticks": ""
           },
           "baxis": {
            "gridcolor": "white",
            "linecolor": "white",
            "ticks": ""
           },
           "bgcolor": "#E5ECF6",
           "caxis": {
            "gridcolor": "white",
            "linecolor": "white",
            "ticks": ""
           }
          },
          "title": {
           "x": 0.05
          },
          "xaxis": {
           "automargin": true,
           "gridcolor": "white",
           "linecolor": "white",
           "ticks": "",
           "title": {
            "standoff": 15
           },
           "zerolinecolor": "white",
           "zerolinewidth": 2
          },
          "yaxis": {
           "automargin": true,
           "gridcolor": "white",
           "linecolor": "white",
           "ticks": "",
           "title": {
            "standoff": 15
           },
           "zerolinecolor": "white",
           "zerolinewidth": 2
          }
         }
        },
        "xaxis": {
         "dtick": 1,
         "gridcolor": "rgb(0, 0, 0)",
         "side": "top",
         "ticks": ""
        },
        "yaxis": {
         "dtick": 1,
         "ticks": "",
         "ticksuffix": "  "
        }
       }
      },
      "text/html": [
       "<div>\n",
       "        \n",
       "        \n",
       "            <div id=\"f0c4c51e-76fb-49f3-b31a-e612b403ccaa\" class=\"plotly-graph-div\" style=\"height:525px; width:100%;\"></div>\n",
       "            <script type=\"text/javascript\">\n",
       "                require([\"plotly\"], function(Plotly) {\n",
       "                    window.PLOTLYENV=window.PLOTLYENV || {};\n",
       "                    \n",
       "                if (document.getElementById(\"f0c4c51e-76fb-49f3-b31a-e612b403ccaa\")) {\n",
       "                    Plotly.newPlot(\n",
       "                        'f0c4c51e-76fb-49f3-b31a-e612b403ccaa',\n",
       "                        [{\"colorscale\": [[0.0, \"#0d0887\"], [0.1111111111111111, \"#46039f\"], [0.2222222222222222, \"#7201a8\"], [0.3333333333333333, \"#9c179e\"], [0.4444444444444444, \"#bd3786\"], [0.5555555555555556, \"#d8576b\"], [0.6666666666666666, \"#ed7953\"], [0.7777777777777778, \"#fb9f3a\"], [0.8888888888888888, \"#fdca26\"], [1.0, \"#f0f921\"]], \"reversescale\": false, \"showscale\": true, \"type\": \"heatmap\", \"x\": [\"application_type_INDIVIDUAL\", \"application_type_JOINT\", \"purpose_car\", \"purpose_credit_card\", \"purpose_debt_consolidation\", \"purpose_educational\", \"purpose_home_improvement\", \"purpose_house\", \"purpose_major_purchase\", \"purpose_medical\", \"purpose_moving\", \"purpose_other\", \"purpose_renewable_energy\", \"purpose_small_business\", \"purpose_vacation\", \"purpose_wedding\", \"loan_condition_cat\"], \"y\": [\"application_type_INDIVIDUAL\", \"application_type_JOINT\", \"purpose_car\", \"purpose_credit_card\", \"purpose_debt_consolidation\", \"purpose_educational\", \"purpose_home_improvement\", \"purpose_house\", \"purpose_major_purchase\", \"purpose_medical\", \"purpose_moving\", \"purpose_other\", \"purpose_renewable_energy\", \"purpose_small_business\", \"purpose_vacation\", \"purpose_wedding\", \"loan_condition_cat\"], \"z\": [[1.0, -1.0, 0.0019386024402051705, 0.0004149359117629466, -0.0030694611457226517, 0.0005242037256699487, 0.0007703601429454182, 0.0015547003757616887, 0.002702484873911735, 0.001403909266613083, 0.0012774457988153681, -0.000503594427482861, 0.0006112249282784781, 0.001737155794955385, 0.001113585697362842, 0.0012361125493433702, 0.005997136323685813], [-1.0, 1.0, -0.0019386024402053867, -0.00041493591176384233, 0.003069461145721854, -0.0005242037256699854, -0.0007703601429453385, -0.001554700375761772, -0.002702484873912049, -0.0014039092666131405, -0.0012774457988154189, 0.0005035944274828323, -0.0006112249282785007, -0.001737155794955613, -0.001113585697362036, -0.0012361125493434155, -0.005997136323685964], [0.0019386024402051705, -0.0019386024402053867, 1.0, -0.05525919419132912, -0.12067543231580959, -0.0021934850695698293, -0.025015876829257974, -0.006505509011994163, -0.014153525121208063, -0.009901245105742407, -0.007869533476610433, -0.022636946304075516, -0.002557617751581086, -0.010925747345529752, -0.007357475813864022, -0.005172405857621368, -0.0033133020270883964], [0.0004149359117629466, -0.00041493591176384233, -0.05525919419132912, 1.0, -0.6609861158416089, -0.012014567907261655, -0.13702165339151487, -0.035633194354942166, -0.07752434290649825, -0.05423295710673562, -0.04310448503321327, -0.12399132884385962, -0.014009063741694763, -0.05984455296385242, -0.04029974674427636, -0.02833127167433007, -0.03939482085585167], [-0.0030694611457226517, 0.003069461145721854, -0.12067543231580959, -0.6609861158416089, 1.0, -0.026237501242246546, -0.29922888854721175, -0.07781603037241218, -0.16929822687940752, -0.11843432826636616, -0.09413188958649589, -0.27077317052958405, -0.030593095830301124, -0.13068897233311363, -0.08800688160235674, -0.061870038228109214, 0.015349512140519184], [0.0005242037256699487, -0.0005242037256699854, -0.0021934850695698293, -0.012014567907261655, -0.026237501242246546, 1.0, -0.005439003505243375, -0.0014144411792204974, -0.003077288606204298, -0.0021527491201748165, -0.001711010189870409, -0.004921771526635524, -0.0005560825235757156, -0.002375498509292519, -0.0015996775574774029, -0.0011245951433504968, 0.010883118564475457], [0.0007703601429454182, -0.0007703601429453385, -0.025015876829257974, -0.13702165339151487, -0.29922888854721175, -0.005439003505243375, 1.0, -0.016131172632148236, -0.035095325616224124, -0.024551298564482696, -0.019513431278415667, -0.05613096346553329, -0.006341913199996652, -0.027091672033888306, -0.01824372424438574, -0.012825586998617989, -0.0069877103127852], [0.0015547003757616887, -0.001554700375761772, -0.006505509011994163, -0.035633194354942166, -0.07781603037241218, -0.0014144411792204974, -0.016131172632148236, 1.0, -0.009126722146647247, -0.006384693015721001, -0.005074569398763527, -0.014597149289733803, -0.0016492475462052617, -0.00704533036248379, -0.004744375473994022, -0.003335360674104063, 0.008922542406448354], [0.002702484873911735, -0.002702484873912049, -0.014153525121208063, -0.07752434290649825, -0.16929822687940752, -0.003077288606204298, -0.035095325616224124, -0.009126722146647247, 1.0, -0.013890675244693718, -0.011040342167194666, -0.03175787148677539, -0.0035881383812689754, -0.015327972044571649, -0.010321965172868491, -0.0072564823139431595, -0.0005793523428704952], [0.001403909266613083, -0.0014039092666131405, -0.009901245105742407, -0.05423295710673562, -0.11843432826636616, -0.0021527491201748165, -0.024551298564482696, -0.006384693015721001, -0.013890675244693718, 1.0, -0.007723385722962812, -0.022216547958721126, -0.002510119371873656, -0.010722841616095196, -0.007220837655379603, -0.005076347367827503, 0.006755326978657103], [0.0012774457988153681, -0.0012774457988154189, -0.007869533476610433, -0.04310448503321327, -0.09413188958649589, -0.001711010189870409, -0.019513431278415667, -0.005074569398763527, -0.011040342167194666, -0.007723385722962812, 1.0, -0.017657765869169357, -0.0019950489271681766, -0.008522540363154288, -0.00573913917375271, -0.004034693124531827, 0.01068301781698047], [-0.000503594427482861, 0.0005035944274828323, -0.022636946304075516, -0.12399132884385962, -0.27077317052958405, -0.004921771526635524, -0.05613096346553329, -0.014597149289733803, -0.03175787148677539, -0.022216547958721126, -0.017657765869169357, 1.0, -0.005738817373932291, -0.024515339968997543, -0.01650880394584569, -0.011605914363737316, 0.017917889573244396], [0.0006112249282784781, -0.0006112249282785007, -0.002557617751581086, -0.014009063741694763, -0.030593095830301124, -0.0005560825235757156, -0.006341913199996652, -0.0016492475462052617, -0.0035881383812689754, -0.002510119371873656, -0.0019950489271681766, -0.005738817373932291, 1.0, -0.002769846597189795, -0.0018652343590091702, -0.0013112851972545516, 0.0047309477939134915], [0.001737155794955385, -0.001737155794955613, -0.010925747345529752, -0.05984455296385242, -0.13068897233311363, -0.002375498509292519, -0.027091672033888306, -0.00704533036248379, -0.015327972044571649, -0.010722841616095196, -0.008522540363154288, -0.024515339968997543, -0.002769846597189795, 1.0, -0.007967992611446355, -0.005601607493865992, 0.03926271314206915], [0.001113585697362842, -0.001113585697362036, -0.007357475813864022, -0.04029974674427636, -0.08800688160235674, -0.0015996775574774029, -0.01824372424438574, -0.004744375473994022, -0.010321965172868491, -0.007220837655379603, -0.00573913917375271, -0.01650880394584569, -0.0018652343590091702, -0.007967992611446355, 1.0, -0.0037721622465711076, 0.0024589756847795837], [0.0012361125493433702, -0.0012361125493434155, -0.005172405857621368, -0.02833127167433007, -0.061870038228109214, -0.0011245951433504968, -0.012825586998617989, -0.003335360674104063, -0.0072564823139431595, -0.005076347367827503, -0.004034693124531827, -0.011605914363737316, -0.0013112851972545516, -0.005601607493865992, -0.0037721622465711076, 1.0, 0.009163126356013046], [0.005997136323685813, -0.005997136323685964, -0.0033133020270883964, -0.03939482085585167, 0.015349512140519184, 0.010883118564475457, -0.0069877103127852, 0.008922542406448354, -0.0005793523428704952, 0.006755326978657103, 0.01068301781698047, 0.017917889573244396, 0.0047309477939134915, 0.03926271314206915, 0.0024589756847795837, 0.009163126356013046, 1.0]]}],\n",
       "                        {\"annotations\": [{\"font\": {\"color\": \"#000000\"}, \"showarrow\": false, \"text\": \"1.0\", \"x\": \"application_type_INDIVIDUAL\", \"xref\": \"x\", \"y\": \"application_type_INDIVIDUAL\", \"yref\": \"y\"}, {\"font\": {\"color\": \"#FFFFFF\"}, \"showarrow\": false, \"text\": \"-1.0\", \"x\": \"application_type_JOINT\", \"xref\": \"x\", \"y\": \"application_type_INDIVIDUAL\", \"yref\": \"y\"}, {\"font\": {\"color\": \"#000000\"}, \"showarrow\": false, \"text\": \"0.0\", \"x\": \"purpose_car\", \"xref\": \"x\", \"y\": \"application_type_INDIVIDUAL\", \"yref\": \"y\"}, {\"font\": {\"color\": \"#000000\"}, \"showarrow\": false, \"text\": \"0.0\", \"x\": \"purpose_credit_card\", \"xref\": \"x\", \"y\": \"application_type_INDIVIDUAL\", \"yref\": \"y\"}, {\"font\": {\"color\": \"#FFFFFF\"}, \"showarrow\": false, \"text\": \"-0.0\", \"x\": \"purpose_debt_consolidation\", \"xref\": \"x\", \"y\": \"application_type_INDIVIDUAL\", \"yref\": \"y\"}, {\"font\": {\"color\": \"#000000\"}, \"showarrow\": false, \"text\": \"0.0\", \"x\": \"purpose_educational\", \"xref\": \"x\", \"y\": \"application_type_INDIVIDUAL\", \"yref\": \"y\"}, {\"font\": {\"color\": \"#000000\"}, \"showarrow\": false, \"text\": \"0.0\", \"x\": \"purpose_home_improvement\", \"xref\": \"x\", \"y\": \"application_type_INDIVIDUAL\", \"yref\": \"y\"}, {\"font\": {\"color\": \"#000000\"}, \"showarrow\": false, \"text\": \"0.0\", \"x\": \"purpose_house\", \"xref\": \"x\", \"y\": \"application_type_INDIVIDUAL\", \"yref\": \"y\"}, {\"font\": {\"color\": \"#000000\"}, \"showarrow\": false, \"text\": \"0.0\", \"x\": \"purpose_major_purchase\", \"xref\": \"x\", \"y\": \"application_type_INDIVIDUAL\", \"yref\": \"y\"}, {\"font\": {\"color\": \"#000000\"}, \"showarrow\": false, \"text\": \"0.0\", \"x\": \"purpose_medical\", \"xref\": \"x\", \"y\": \"application_type_INDIVIDUAL\", \"yref\": \"y\"}, {\"font\": {\"color\": \"#000000\"}, \"showarrow\": false, \"text\": \"0.0\", \"x\": \"purpose_moving\", \"xref\": \"x\", \"y\": \"application_type_INDIVIDUAL\", \"yref\": \"y\"}, {\"font\": {\"color\": \"#FFFFFF\"}, \"showarrow\": false, \"text\": \"-0.0\", \"x\": \"purpose_other\", \"xref\": \"x\", \"y\": \"application_type_INDIVIDUAL\", \"yref\": \"y\"}, {\"font\": {\"color\": \"#000000\"}, \"showarrow\": false, \"text\": \"0.0\", \"x\": \"purpose_renewable_energy\", \"xref\": \"x\", \"y\": \"application_type_INDIVIDUAL\", \"yref\": \"y\"}, {\"font\": {\"color\": \"#000000\"}, \"showarrow\": false, \"text\": \"0.0\", \"x\": \"purpose_small_business\", \"xref\": \"x\", \"y\": \"application_type_INDIVIDUAL\", \"yref\": \"y\"}, {\"font\": {\"color\": \"#000000\"}, \"showarrow\": false, \"text\": \"0.0\", \"x\": \"purpose_vacation\", \"xref\": \"x\", \"y\": \"application_type_INDIVIDUAL\", \"yref\": \"y\"}, {\"font\": {\"color\": \"#000000\"}, \"showarrow\": false, \"text\": \"0.0\", \"x\": \"purpose_wedding\", \"xref\": \"x\", \"y\": \"application_type_INDIVIDUAL\", \"yref\": \"y\"}, {\"font\": {\"color\": \"#000000\"}, \"showarrow\": false, \"text\": \"0.01\", \"x\": \"loan_condition_cat\", \"xref\": \"x\", \"y\": \"application_type_INDIVIDUAL\", \"yref\": \"y\"}, {\"font\": {\"color\": \"#FFFFFF\"}, \"showarrow\": false, \"text\": \"-1.0\", \"x\": \"application_type_INDIVIDUAL\", \"xref\": \"x\", \"y\": \"application_type_JOINT\", \"yref\": \"y\"}, {\"font\": {\"color\": \"#000000\"}, \"showarrow\": false, \"text\": \"1.0\", \"x\": \"application_type_JOINT\", \"xref\": \"x\", \"y\": \"application_type_JOINT\", \"yref\": \"y\"}, {\"font\": {\"color\": \"#FFFFFF\"}, \"showarrow\": false, \"text\": \"-0.0\", \"x\": \"purpose_car\", \"xref\": \"x\", \"y\": \"application_type_JOINT\", \"yref\": \"y\"}, {\"font\": {\"color\": \"#FFFFFF\"}, \"showarrow\": false, \"text\": \"-0.0\", \"x\": \"purpose_credit_card\", \"xref\": \"x\", \"y\": \"application_type_JOINT\", \"yref\": \"y\"}, {\"font\": {\"color\": \"#000000\"}, \"showarrow\": false, \"text\": \"0.0\", \"x\": \"purpose_debt_consolidation\", \"xref\": \"x\", \"y\": \"application_type_JOINT\", \"yref\": \"y\"}, {\"font\": {\"color\": \"#FFFFFF\"}, \"showarrow\": false, \"text\": \"-0.0\", \"x\": \"purpose_educational\", \"xref\": \"x\", \"y\": \"application_type_JOINT\", \"yref\": \"y\"}, {\"font\": {\"color\": \"#FFFFFF\"}, \"showarrow\": false, \"text\": \"-0.0\", \"x\": \"purpose_home_improvement\", \"xref\": \"x\", \"y\": \"application_type_JOINT\", \"yref\": \"y\"}, {\"font\": {\"color\": \"#FFFFFF\"}, \"showarrow\": false, \"text\": \"-0.0\", \"x\": \"purpose_house\", \"xref\": \"x\", \"y\": \"application_type_JOINT\", \"yref\": \"y\"}, {\"font\": {\"color\": \"#FFFFFF\"}, \"showarrow\": false, \"text\": \"-0.0\", \"x\": \"purpose_major_purchase\", \"xref\": \"x\", \"y\": \"application_type_JOINT\", \"yref\": \"y\"}, {\"font\": {\"color\": \"#FFFFFF\"}, \"showarrow\": false, \"text\": \"-0.0\", \"x\": \"purpose_medical\", \"xref\": \"x\", \"y\": \"application_type_JOINT\", \"yref\": \"y\"}, {\"font\": {\"color\": \"#FFFFFF\"}, \"showarrow\": false, \"text\": \"-0.0\", \"x\": \"purpose_moving\", \"xref\": \"x\", \"y\": \"application_type_JOINT\", \"yref\": \"y\"}, {\"font\": {\"color\": \"#000000\"}, \"showarrow\": false, \"text\": \"0.0\", \"x\": \"purpose_other\", \"xref\": \"x\", \"y\": \"application_type_JOINT\", \"yref\": \"y\"}, {\"font\": {\"color\": \"#FFFFFF\"}, \"showarrow\": false, \"text\": \"-0.0\", \"x\": \"purpose_renewable_energy\", \"xref\": \"x\", \"y\": \"application_type_JOINT\", \"yref\": \"y\"}, {\"font\": {\"color\": \"#FFFFFF\"}, \"showarrow\": false, \"text\": \"-0.0\", \"x\": \"purpose_small_business\", \"xref\": \"x\", \"y\": \"application_type_JOINT\", \"yref\": \"y\"}, {\"font\": {\"color\": \"#FFFFFF\"}, \"showarrow\": false, \"text\": \"-0.0\", \"x\": \"purpose_vacation\", \"xref\": \"x\", \"y\": \"application_type_JOINT\", \"yref\": \"y\"}, {\"font\": {\"color\": \"#FFFFFF\"}, \"showarrow\": false, \"text\": \"-0.0\", \"x\": \"purpose_wedding\", \"xref\": \"x\", \"y\": \"application_type_JOINT\", \"yref\": \"y\"}, {\"font\": {\"color\": \"#FFFFFF\"}, \"showarrow\": false, \"text\": \"-0.01\", \"x\": \"loan_condition_cat\", \"xref\": \"x\", \"y\": \"application_type_JOINT\", \"yref\": \"y\"}, {\"font\": {\"color\": \"#000000\"}, \"showarrow\": false, \"text\": \"0.0\", \"x\": \"application_type_INDIVIDUAL\", \"xref\": \"x\", \"y\": \"purpose_car\", \"yref\": \"y\"}, {\"font\": {\"color\": \"#FFFFFF\"}, \"showarrow\": false, \"text\": \"-0.0\", \"x\": \"application_type_JOINT\", \"xref\": \"x\", \"y\": \"purpose_car\", \"yref\": \"y\"}, {\"font\": {\"color\": \"#000000\"}, \"showarrow\": false, \"text\": \"1.0\", \"x\": \"purpose_car\", \"xref\": \"x\", \"y\": \"purpose_car\", \"yref\": \"y\"}, {\"font\": {\"color\": \"#FFFFFF\"}, \"showarrow\": false, \"text\": \"-0.06\", \"x\": \"purpose_credit_card\", \"xref\": \"x\", \"y\": \"purpose_car\", \"yref\": \"y\"}, {\"font\": {\"color\": \"#FFFFFF\"}, \"showarrow\": false, \"text\": \"-0.12\", \"x\": \"purpose_debt_consolidation\", \"xref\": \"x\", \"y\": \"purpose_car\", \"yref\": \"y\"}, {\"font\": {\"color\": \"#FFFFFF\"}, \"showarrow\": false, \"text\": \"-0.0\", \"x\": \"purpose_educational\", \"xref\": \"x\", \"y\": \"purpose_car\", \"yref\": \"y\"}, {\"font\": {\"color\": \"#FFFFFF\"}, \"showarrow\": false, \"text\": \"-0.03\", \"x\": \"purpose_home_improvement\", \"xref\": \"x\", \"y\": \"purpose_car\", \"yref\": \"y\"}, {\"font\": {\"color\": \"#FFFFFF\"}, \"showarrow\": false, \"text\": \"-0.01\", \"x\": \"purpose_house\", \"xref\": \"x\", \"y\": \"purpose_car\", \"yref\": \"y\"}, {\"font\": {\"color\": \"#FFFFFF\"}, \"showarrow\": false, \"text\": \"-0.01\", \"x\": \"purpose_major_purchase\", \"xref\": \"x\", \"y\": \"purpose_car\", \"yref\": \"y\"}, {\"font\": {\"color\": \"#FFFFFF\"}, \"showarrow\": false, \"text\": \"-0.01\", \"x\": \"purpose_medical\", \"xref\": \"x\", \"y\": \"purpose_car\", \"yref\": \"y\"}, {\"font\": {\"color\": \"#FFFFFF\"}, \"showarrow\": false, \"text\": \"-0.01\", \"x\": \"purpose_moving\", \"xref\": \"x\", \"y\": \"purpose_car\", \"yref\": \"y\"}, {\"font\": {\"color\": \"#FFFFFF\"}, \"showarrow\": false, \"text\": \"-0.02\", \"x\": \"purpose_other\", \"xref\": \"x\", \"y\": \"purpose_car\", \"yref\": \"y\"}, {\"font\": {\"color\": \"#FFFFFF\"}, \"showarrow\": false, \"text\": \"-0.0\", \"x\": \"purpose_renewable_energy\", \"xref\": \"x\", \"y\": \"purpose_car\", \"yref\": \"y\"}, {\"font\": {\"color\": \"#FFFFFF\"}, \"showarrow\": false, \"text\": \"-0.01\", \"x\": \"purpose_small_business\", \"xref\": \"x\", \"y\": \"purpose_car\", \"yref\": \"y\"}, {\"font\": {\"color\": \"#FFFFFF\"}, \"showarrow\": false, \"text\": \"-0.01\", \"x\": \"purpose_vacation\", \"xref\": \"x\", \"y\": \"purpose_car\", \"yref\": \"y\"}, {\"font\": {\"color\": \"#FFFFFF\"}, \"showarrow\": false, \"text\": \"-0.01\", \"x\": \"purpose_wedding\", \"xref\": \"x\", \"y\": \"purpose_car\", \"yref\": \"y\"}, {\"font\": {\"color\": \"#FFFFFF\"}, \"showarrow\": false, \"text\": \"-0.0\", \"x\": \"loan_condition_cat\", \"xref\": \"x\", \"y\": \"purpose_car\", \"yref\": \"y\"}, {\"font\": {\"color\": \"#000000\"}, \"showarrow\": false, \"text\": \"0.0\", \"x\": \"application_type_INDIVIDUAL\", \"xref\": \"x\", \"y\": \"purpose_credit_card\", \"yref\": \"y\"}, {\"font\": {\"color\": \"#FFFFFF\"}, \"showarrow\": false, \"text\": \"-0.0\", \"x\": \"application_type_JOINT\", \"xref\": \"x\", \"y\": \"purpose_credit_card\", \"yref\": \"y\"}, {\"font\": {\"color\": \"#FFFFFF\"}, \"showarrow\": false, \"text\": \"-0.06\", \"x\": \"purpose_car\", \"xref\": \"x\", \"y\": \"purpose_credit_card\", \"yref\": \"y\"}, {\"font\": {\"color\": \"#000000\"}, \"showarrow\": false, \"text\": \"1.0\", \"x\": \"purpose_credit_card\", \"xref\": \"x\", \"y\": \"purpose_credit_card\", \"yref\": \"y\"}, {\"font\": {\"color\": \"#FFFFFF\"}, \"showarrow\": false, \"text\": \"-0.66\", \"x\": \"purpose_debt_consolidation\", \"xref\": \"x\", \"y\": \"purpose_credit_card\", \"yref\": \"y\"}, {\"font\": {\"color\": \"#FFFFFF\"}, \"showarrow\": false, \"text\": \"-0.01\", \"x\": \"purpose_educational\", \"xref\": \"x\", \"y\": \"purpose_credit_card\", \"yref\": \"y\"}, {\"font\": {\"color\": \"#FFFFFF\"}, \"showarrow\": false, \"text\": \"-0.14\", \"x\": \"purpose_home_improvement\", \"xref\": \"x\", \"y\": \"purpose_credit_card\", \"yref\": \"y\"}, {\"font\": {\"color\": \"#FFFFFF\"}, \"showarrow\": false, \"text\": \"-0.04\", \"x\": \"purpose_house\", \"xref\": \"x\", \"y\": \"purpose_credit_card\", \"yref\": \"y\"}, {\"font\": {\"color\": \"#FFFFFF\"}, \"showarrow\": false, \"text\": \"-0.08\", \"x\": \"purpose_major_purchase\", \"xref\": \"x\", \"y\": \"purpose_credit_card\", \"yref\": \"y\"}, {\"font\": {\"color\": \"#FFFFFF\"}, \"showarrow\": false, \"text\": \"-0.05\", \"x\": \"purpose_medical\", \"xref\": \"x\", \"y\": \"purpose_credit_card\", \"yref\": \"y\"}, {\"font\": {\"color\": \"#FFFFFF\"}, \"showarrow\": false, \"text\": \"-0.04\", \"x\": \"purpose_moving\", \"xref\": \"x\", \"y\": \"purpose_credit_card\", \"yref\": \"y\"}, {\"font\": {\"color\": \"#FFFFFF\"}, \"showarrow\": false, \"text\": \"-0.12\", \"x\": \"purpose_other\", \"xref\": \"x\", \"y\": \"purpose_credit_card\", \"yref\": \"y\"}, {\"font\": {\"color\": \"#FFFFFF\"}, \"showarrow\": false, \"text\": \"-0.01\", \"x\": \"purpose_renewable_energy\", \"xref\": \"x\", \"y\": \"purpose_credit_card\", \"yref\": \"y\"}, {\"font\": {\"color\": \"#FFFFFF\"}, \"showarrow\": false, \"text\": \"-0.06\", \"x\": \"purpose_small_business\", \"xref\": \"x\", \"y\": \"purpose_credit_card\", \"yref\": \"y\"}, {\"font\": {\"color\": \"#FFFFFF\"}, \"showarrow\": false, \"text\": \"-0.04\", \"x\": \"purpose_vacation\", \"xref\": \"x\", \"y\": \"purpose_credit_card\", \"yref\": \"y\"}, {\"font\": {\"color\": \"#FFFFFF\"}, \"showarrow\": false, \"text\": \"-0.03\", \"x\": \"purpose_wedding\", \"xref\": \"x\", \"y\": \"purpose_credit_card\", \"yref\": \"y\"}, {\"font\": {\"color\": \"#FFFFFF\"}, \"showarrow\": false, \"text\": \"-0.04\", \"x\": \"loan_condition_cat\", \"xref\": \"x\", \"y\": \"purpose_credit_card\", \"yref\": \"y\"}, {\"font\": {\"color\": \"#FFFFFF\"}, \"showarrow\": false, \"text\": \"-0.0\", \"x\": \"application_type_INDIVIDUAL\", \"xref\": \"x\", \"y\": \"purpose_debt_consolidation\", \"yref\": \"y\"}, {\"font\": {\"color\": \"#000000\"}, \"showarrow\": false, \"text\": \"0.0\", \"x\": \"application_type_JOINT\", \"xref\": \"x\", \"y\": \"purpose_debt_consolidation\", \"yref\": \"y\"}, {\"font\": {\"color\": \"#FFFFFF\"}, \"showarrow\": false, \"text\": \"-0.12\", \"x\": \"purpose_car\", \"xref\": \"x\", \"y\": \"purpose_debt_consolidation\", \"yref\": \"y\"}, {\"font\": {\"color\": \"#FFFFFF\"}, \"showarrow\": false, \"text\": \"-0.66\", \"x\": \"purpose_credit_card\", \"xref\": \"x\", \"y\": \"purpose_debt_consolidation\", \"yref\": \"y\"}, {\"font\": {\"color\": \"#000000\"}, \"showarrow\": false, \"text\": \"1.0\", \"x\": \"purpose_debt_consolidation\", \"xref\": \"x\", \"y\": \"purpose_debt_consolidation\", \"yref\": \"y\"}, {\"font\": {\"color\": \"#FFFFFF\"}, \"showarrow\": false, \"text\": \"-0.03\", \"x\": \"purpose_educational\", \"xref\": \"x\", \"y\": \"purpose_debt_consolidation\", \"yref\": \"y\"}, {\"font\": {\"color\": \"#FFFFFF\"}, \"showarrow\": false, \"text\": \"-0.3\", \"x\": \"purpose_home_improvement\", \"xref\": \"x\", \"y\": \"purpose_debt_consolidation\", \"yref\": \"y\"}, {\"font\": {\"color\": \"#FFFFFF\"}, \"showarrow\": false, \"text\": \"-0.08\", \"x\": \"purpose_house\", \"xref\": \"x\", \"y\": \"purpose_debt_consolidation\", \"yref\": \"y\"}, {\"font\": {\"color\": \"#FFFFFF\"}, \"showarrow\": false, \"text\": \"-0.17\", \"x\": \"purpose_major_purchase\", \"xref\": \"x\", \"y\": \"purpose_debt_consolidation\", \"yref\": \"y\"}, {\"font\": {\"color\": \"#FFFFFF\"}, \"showarrow\": false, \"text\": \"-0.12\", \"x\": \"purpose_medical\", \"xref\": \"x\", \"y\": \"purpose_debt_consolidation\", \"yref\": \"y\"}, {\"font\": {\"color\": \"#FFFFFF\"}, \"showarrow\": false, \"text\": \"-0.09\", \"x\": \"purpose_moving\", \"xref\": \"x\", \"y\": \"purpose_debt_consolidation\", \"yref\": \"y\"}, {\"font\": {\"color\": \"#FFFFFF\"}, \"showarrow\": false, \"text\": \"-0.27\", \"x\": \"purpose_other\", \"xref\": \"x\", \"y\": \"purpose_debt_consolidation\", \"yref\": \"y\"}, {\"font\": {\"color\": \"#FFFFFF\"}, \"showarrow\": false, \"text\": \"-0.03\", \"x\": \"purpose_renewable_energy\", \"xref\": \"x\", \"y\": \"purpose_debt_consolidation\", \"yref\": \"y\"}, {\"font\": {\"color\": \"#FFFFFF\"}, \"showarrow\": false, \"text\": \"-0.13\", \"x\": \"purpose_small_business\", \"xref\": \"x\", \"y\": \"purpose_debt_consolidation\", \"yref\": \"y\"}, {\"font\": {\"color\": \"#FFFFFF\"}, \"showarrow\": false, \"text\": \"-0.09\", \"x\": \"purpose_vacation\", \"xref\": \"x\", \"y\": \"purpose_debt_consolidation\", \"yref\": \"y\"}, {\"font\": {\"color\": \"#FFFFFF\"}, \"showarrow\": false, \"text\": \"-0.06\", \"x\": \"purpose_wedding\", \"xref\": \"x\", \"y\": \"purpose_debt_consolidation\", \"yref\": \"y\"}, {\"font\": {\"color\": \"#000000\"}, \"showarrow\": false, \"text\": \"0.02\", \"x\": \"loan_condition_cat\", \"xref\": \"x\", \"y\": \"purpose_debt_consolidation\", \"yref\": \"y\"}, {\"font\": {\"color\": \"#000000\"}, \"showarrow\": false, \"text\": \"0.0\", \"x\": \"application_type_INDIVIDUAL\", \"xref\": \"x\", \"y\": \"purpose_educational\", \"yref\": \"y\"}, {\"font\": {\"color\": \"#FFFFFF\"}, \"showarrow\": false, \"text\": \"-0.0\", \"x\": \"application_type_JOINT\", \"xref\": \"x\", \"y\": \"purpose_educational\", \"yref\": \"y\"}, {\"font\": {\"color\": \"#FFFFFF\"}, \"showarrow\": false, \"text\": \"-0.0\", \"x\": \"purpose_car\", \"xref\": \"x\", \"y\": \"purpose_educational\", \"yref\": \"y\"}, {\"font\": {\"color\": \"#FFFFFF\"}, \"showarrow\": false, \"text\": \"-0.01\", \"x\": \"purpose_credit_card\", \"xref\": \"x\", \"y\": \"purpose_educational\", \"yref\": \"y\"}, {\"font\": {\"color\": \"#FFFFFF\"}, \"showarrow\": false, \"text\": \"-0.03\", \"x\": \"purpose_debt_consolidation\", \"xref\": \"x\", \"y\": \"purpose_educational\", \"yref\": \"y\"}, {\"font\": {\"color\": \"#000000\"}, \"showarrow\": false, \"text\": \"1.0\", \"x\": \"purpose_educational\", \"xref\": \"x\", \"y\": \"purpose_educational\", \"yref\": \"y\"}, {\"font\": {\"color\": \"#FFFFFF\"}, \"showarrow\": false, \"text\": \"-0.01\", \"x\": \"purpose_home_improvement\", \"xref\": \"x\", \"y\": \"purpose_educational\", \"yref\": \"y\"}, {\"font\": {\"color\": \"#FFFFFF\"}, \"showarrow\": false, \"text\": \"-0.0\", \"x\": \"purpose_house\", \"xref\": \"x\", \"y\": \"purpose_educational\", \"yref\": \"y\"}, {\"font\": {\"color\": \"#FFFFFF\"}, \"showarrow\": false, \"text\": \"-0.0\", \"x\": \"purpose_major_purchase\", \"xref\": \"x\", \"y\": \"purpose_educational\", \"yref\": \"y\"}, {\"font\": {\"color\": \"#FFFFFF\"}, \"showarrow\": false, \"text\": \"-0.0\", \"x\": \"purpose_medical\", \"xref\": \"x\", \"y\": \"purpose_educational\", \"yref\": \"y\"}, {\"font\": {\"color\": \"#FFFFFF\"}, \"showarrow\": false, \"text\": \"-0.0\", \"x\": \"purpose_moving\", \"xref\": \"x\", \"y\": \"purpose_educational\", \"yref\": \"y\"}, {\"font\": {\"color\": \"#FFFFFF\"}, \"showarrow\": false, \"text\": \"-0.0\", \"x\": \"purpose_other\", \"xref\": \"x\", \"y\": \"purpose_educational\", \"yref\": \"y\"}, {\"font\": {\"color\": \"#FFFFFF\"}, \"showarrow\": false, \"text\": \"-0.0\", \"x\": \"purpose_renewable_energy\", \"xref\": \"x\", \"y\": \"purpose_educational\", \"yref\": \"y\"}, {\"font\": {\"color\": \"#FFFFFF\"}, \"showarrow\": false, \"text\": \"-0.0\", \"x\": \"purpose_small_business\", \"xref\": \"x\", \"y\": \"purpose_educational\", \"yref\": \"y\"}, {\"font\": {\"color\": \"#FFFFFF\"}, \"showarrow\": false, \"text\": \"-0.0\", \"x\": \"purpose_vacation\", \"xref\": \"x\", \"y\": \"purpose_educational\", \"yref\": \"y\"}, {\"font\": {\"color\": \"#FFFFFF\"}, \"showarrow\": false, \"text\": \"-0.0\", \"x\": \"purpose_wedding\", \"xref\": \"x\", \"y\": \"purpose_educational\", \"yref\": \"y\"}, {\"font\": {\"color\": \"#000000\"}, \"showarrow\": false, \"text\": \"0.01\", \"x\": \"loan_condition_cat\", \"xref\": \"x\", \"y\": \"purpose_educational\", \"yref\": \"y\"}, {\"font\": {\"color\": \"#000000\"}, \"showarrow\": false, \"text\": \"0.0\", \"x\": \"application_type_INDIVIDUAL\", \"xref\": \"x\", \"y\": \"purpose_home_improvement\", \"yref\": \"y\"}, {\"font\": {\"color\": \"#FFFFFF\"}, \"showarrow\": false, \"text\": \"-0.0\", \"x\": \"application_type_JOINT\", \"xref\": \"x\", \"y\": \"purpose_home_improvement\", \"yref\": \"y\"}, {\"font\": {\"color\": \"#FFFFFF\"}, \"showarrow\": false, \"text\": \"-0.03\", \"x\": \"purpose_car\", \"xref\": \"x\", \"y\": \"purpose_home_improvement\", \"yref\": \"y\"}, {\"font\": {\"color\": \"#FFFFFF\"}, \"showarrow\": false, \"text\": \"-0.14\", \"x\": \"purpose_credit_card\", \"xref\": \"x\", \"y\": \"purpose_home_improvement\", \"yref\": \"y\"}, {\"font\": {\"color\": \"#FFFFFF\"}, \"showarrow\": false, \"text\": \"-0.3\", \"x\": \"purpose_debt_consolidation\", \"xref\": \"x\", \"y\": \"purpose_home_improvement\", \"yref\": \"y\"}, {\"font\": {\"color\": \"#FFFFFF\"}, \"showarrow\": false, \"text\": \"-0.01\", \"x\": \"purpose_educational\", \"xref\": \"x\", \"y\": \"purpose_home_improvement\", \"yref\": \"y\"}, {\"font\": {\"color\": \"#000000\"}, \"showarrow\": false, \"text\": \"1.0\", \"x\": \"purpose_home_improvement\", \"xref\": \"x\", \"y\": \"purpose_home_improvement\", \"yref\": \"y\"}, {\"font\": {\"color\": \"#FFFFFF\"}, \"showarrow\": false, \"text\": \"-0.02\", \"x\": \"purpose_house\", \"xref\": \"x\", \"y\": \"purpose_home_improvement\", \"yref\": \"y\"}, {\"font\": {\"color\": \"#FFFFFF\"}, \"showarrow\": false, \"text\": \"-0.04\", \"x\": \"purpose_major_purchase\", \"xref\": \"x\", \"y\": \"purpose_home_improvement\", \"yref\": \"y\"}, {\"font\": {\"color\": \"#FFFFFF\"}, \"showarrow\": false, \"text\": \"-0.02\", \"x\": \"purpose_medical\", \"xref\": \"x\", \"y\": \"purpose_home_improvement\", \"yref\": \"y\"}, {\"font\": {\"color\": \"#FFFFFF\"}, \"showarrow\": false, \"text\": \"-0.02\", \"x\": \"purpose_moving\", \"xref\": \"x\", \"y\": \"purpose_home_improvement\", \"yref\": \"y\"}, {\"font\": {\"color\": \"#FFFFFF\"}, \"showarrow\": false, \"text\": \"-0.06\", \"x\": \"purpose_other\", \"xref\": \"x\", \"y\": \"purpose_home_improvement\", \"yref\": \"y\"}, {\"font\": {\"color\": \"#FFFFFF\"}, \"showarrow\": false, \"text\": \"-0.01\", \"x\": \"purpose_renewable_energy\", \"xref\": \"x\", \"y\": \"purpose_home_improvement\", \"yref\": \"y\"}, {\"font\": {\"color\": \"#FFFFFF\"}, \"showarrow\": false, \"text\": \"-0.03\", \"x\": \"purpose_small_business\", \"xref\": \"x\", \"y\": \"purpose_home_improvement\", \"yref\": \"y\"}, {\"font\": {\"color\": \"#FFFFFF\"}, \"showarrow\": false, \"text\": \"-0.02\", \"x\": \"purpose_vacation\", \"xref\": \"x\", \"y\": \"purpose_home_improvement\", \"yref\": \"y\"}, {\"font\": {\"color\": \"#FFFFFF\"}, \"showarrow\": false, \"text\": \"-0.01\", \"x\": \"purpose_wedding\", \"xref\": \"x\", \"y\": \"purpose_home_improvement\", \"yref\": \"y\"}, {\"font\": {\"color\": \"#FFFFFF\"}, \"showarrow\": false, \"text\": \"-0.01\", \"x\": \"loan_condition_cat\", \"xref\": \"x\", \"y\": \"purpose_home_improvement\", \"yref\": \"y\"}, {\"font\": {\"color\": \"#000000\"}, \"showarrow\": false, \"text\": \"0.0\", \"x\": \"application_type_INDIVIDUAL\", \"xref\": \"x\", \"y\": \"purpose_house\", \"yref\": \"y\"}, {\"font\": {\"color\": \"#FFFFFF\"}, \"showarrow\": false, \"text\": \"-0.0\", \"x\": \"application_type_JOINT\", \"xref\": \"x\", \"y\": \"purpose_house\", \"yref\": \"y\"}, {\"font\": {\"color\": \"#FFFFFF\"}, \"showarrow\": false, \"text\": \"-0.01\", \"x\": \"purpose_car\", \"xref\": \"x\", \"y\": \"purpose_house\", \"yref\": \"y\"}, {\"font\": {\"color\": \"#FFFFFF\"}, \"showarrow\": false, \"text\": \"-0.04\", \"x\": \"purpose_credit_card\", \"xref\": \"x\", \"y\": \"purpose_house\", \"yref\": \"y\"}, {\"font\": {\"color\": \"#FFFFFF\"}, \"showarrow\": false, \"text\": \"-0.08\", \"x\": \"purpose_debt_consolidation\", \"xref\": \"x\", \"y\": \"purpose_house\", \"yref\": \"y\"}, {\"font\": {\"color\": \"#FFFFFF\"}, \"showarrow\": false, \"text\": \"-0.0\", \"x\": \"purpose_educational\", \"xref\": \"x\", \"y\": \"purpose_house\", \"yref\": \"y\"}, {\"font\": {\"color\": \"#FFFFFF\"}, \"showarrow\": false, \"text\": \"-0.02\", \"x\": \"purpose_home_improvement\", \"xref\": \"x\", \"y\": \"purpose_house\", \"yref\": \"y\"}, {\"font\": {\"color\": \"#000000\"}, \"showarrow\": false, \"text\": \"1.0\", \"x\": \"purpose_house\", \"xref\": \"x\", \"y\": \"purpose_house\", \"yref\": \"y\"}, {\"font\": {\"color\": \"#FFFFFF\"}, \"showarrow\": false, \"text\": \"-0.01\", \"x\": \"purpose_major_purchase\", \"xref\": \"x\", \"y\": \"purpose_house\", \"yref\": \"y\"}, {\"font\": {\"color\": \"#FFFFFF\"}, \"showarrow\": false, \"text\": \"-0.01\", \"x\": \"purpose_medical\", \"xref\": \"x\", \"y\": \"purpose_house\", \"yref\": \"y\"}, {\"font\": {\"color\": \"#FFFFFF\"}, \"showarrow\": false, \"text\": \"-0.01\", \"x\": \"purpose_moving\", \"xref\": \"x\", \"y\": \"purpose_house\", \"yref\": \"y\"}, {\"font\": {\"color\": \"#FFFFFF\"}, \"showarrow\": false, \"text\": \"-0.01\", \"x\": \"purpose_other\", \"xref\": \"x\", \"y\": \"purpose_house\", \"yref\": \"y\"}, {\"font\": {\"color\": \"#FFFFFF\"}, \"showarrow\": false, \"text\": \"-0.0\", \"x\": \"purpose_renewable_energy\", \"xref\": \"x\", \"y\": \"purpose_house\", \"yref\": \"y\"}, {\"font\": {\"color\": \"#FFFFFF\"}, \"showarrow\": false, \"text\": \"-0.01\", \"x\": \"purpose_small_business\", \"xref\": \"x\", \"y\": \"purpose_house\", \"yref\": \"y\"}, {\"font\": {\"color\": \"#FFFFFF\"}, \"showarrow\": false, \"text\": \"-0.0\", \"x\": \"purpose_vacation\", \"xref\": \"x\", \"y\": \"purpose_house\", \"yref\": \"y\"}, {\"font\": {\"color\": \"#FFFFFF\"}, \"showarrow\": false, \"text\": \"-0.0\", \"x\": \"purpose_wedding\", \"xref\": \"x\", \"y\": \"purpose_house\", \"yref\": \"y\"}, {\"font\": {\"color\": \"#000000\"}, \"showarrow\": false, \"text\": \"0.01\", \"x\": \"loan_condition_cat\", \"xref\": \"x\", \"y\": \"purpose_house\", \"yref\": \"y\"}, {\"font\": {\"color\": \"#000000\"}, \"showarrow\": false, \"text\": \"0.0\", \"x\": \"application_type_INDIVIDUAL\", \"xref\": \"x\", \"y\": \"purpose_major_purchase\", \"yref\": \"y\"}, {\"font\": {\"color\": \"#FFFFFF\"}, \"showarrow\": false, \"text\": \"-0.0\", \"x\": \"application_type_JOINT\", \"xref\": \"x\", \"y\": \"purpose_major_purchase\", \"yref\": \"y\"}, {\"font\": {\"color\": \"#FFFFFF\"}, \"showarrow\": false, \"text\": \"-0.01\", \"x\": \"purpose_car\", \"xref\": \"x\", \"y\": \"purpose_major_purchase\", \"yref\": \"y\"}, {\"font\": {\"color\": \"#FFFFFF\"}, \"showarrow\": false, \"text\": \"-0.08\", \"x\": \"purpose_credit_card\", \"xref\": \"x\", \"y\": \"purpose_major_purchase\", \"yref\": \"y\"}, {\"font\": {\"color\": \"#FFFFFF\"}, \"showarrow\": false, \"text\": \"-0.17\", \"x\": \"purpose_debt_consolidation\", \"xref\": \"x\", \"y\": \"purpose_major_purchase\", \"yref\": \"y\"}, {\"font\": {\"color\": \"#FFFFFF\"}, \"showarrow\": false, \"text\": \"-0.0\", \"x\": \"purpose_educational\", \"xref\": \"x\", \"y\": \"purpose_major_purchase\", \"yref\": \"y\"}, {\"font\": {\"color\": \"#FFFFFF\"}, \"showarrow\": false, \"text\": \"-0.04\", \"x\": \"purpose_home_improvement\", \"xref\": \"x\", \"y\": \"purpose_major_purchase\", \"yref\": \"y\"}, {\"font\": {\"color\": \"#FFFFFF\"}, \"showarrow\": false, \"text\": \"-0.01\", \"x\": \"purpose_house\", \"xref\": \"x\", \"y\": \"purpose_major_purchase\", \"yref\": \"y\"}, {\"font\": {\"color\": \"#000000\"}, \"showarrow\": false, \"text\": \"1.0\", \"x\": \"purpose_major_purchase\", \"xref\": \"x\", \"y\": \"purpose_major_purchase\", \"yref\": \"y\"}, {\"font\": {\"color\": \"#FFFFFF\"}, \"showarrow\": false, \"text\": \"-0.01\", \"x\": \"purpose_medical\", \"xref\": \"x\", \"y\": \"purpose_major_purchase\", \"yref\": \"y\"}, {\"font\": {\"color\": \"#FFFFFF\"}, \"showarrow\": false, \"text\": \"-0.01\", \"x\": \"purpose_moving\", \"xref\": \"x\", \"y\": \"purpose_major_purchase\", \"yref\": \"y\"}, {\"font\": {\"color\": \"#FFFFFF\"}, \"showarrow\": false, \"text\": \"-0.03\", \"x\": \"purpose_other\", \"xref\": \"x\", \"y\": \"purpose_major_purchase\", \"yref\": \"y\"}, {\"font\": {\"color\": \"#FFFFFF\"}, \"showarrow\": false, \"text\": \"-0.0\", \"x\": \"purpose_renewable_energy\", \"xref\": \"x\", \"y\": \"purpose_major_purchase\", \"yref\": \"y\"}, {\"font\": {\"color\": \"#FFFFFF\"}, \"showarrow\": false, \"text\": \"-0.02\", \"x\": \"purpose_small_business\", \"xref\": \"x\", \"y\": \"purpose_major_purchase\", \"yref\": \"y\"}, {\"font\": {\"color\": \"#FFFFFF\"}, \"showarrow\": false, \"text\": \"-0.01\", \"x\": \"purpose_vacation\", \"xref\": \"x\", \"y\": \"purpose_major_purchase\", \"yref\": \"y\"}, {\"font\": {\"color\": \"#FFFFFF\"}, \"showarrow\": false, \"text\": \"-0.01\", \"x\": \"purpose_wedding\", \"xref\": \"x\", \"y\": \"purpose_major_purchase\", \"yref\": \"y\"}, {\"font\": {\"color\": \"#FFFFFF\"}, \"showarrow\": false, \"text\": \"-0.0\", \"x\": \"loan_condition_cat\", \"xref\": \"x\", \"y\": \"purpose_major_purchase\", \"yref\": \"y\"}, {\"font\": {\"color\": \"#000000\"}, \"showarrow\": false, \"text\": \"0.0\", \"x\": \"application_type_INDIVIDUAL\", \"xref\": \"x\", \"y\": \"purpose_medical\", \"yref\": \"y\"}, {\"font\": {\"color\": \"#FFFFFF\"}, \"showarrow\": false, \"text\": \"-0.0\", \"x\": \"application_type_JOINT\", \"xref\": \"x\", \"y\": \"purpose_medical\", \"yref\": \"y\"}, {\"font\": {\"color\": \"#FFFFFF\"}, \"showarrow\": false, \"text\": \"-0.01\", \"x\": \"purpose_car\", \"xref\": \"x\", \"y\": \"purpose_medical\", \"yref\": \"y\"}, {\"font\": {\"color\": \"#FFFFFF\"}, \"showarrow\": false, \"text\": \"-0.05\", \"x\": \"purpose_credit_card\", \"xref\": \"x\", \"y\": \"purpose_medical\", \"yref\": \"y\"}, {\"font\": {\"color\": \"#FFFFFF\"}, \"showarrow\": false, \"text\": \"-0.12\", \"x\": \"purpose_debt_consolidation\", \"xref\": \"x\", \"y\": \"purpose_medical\", \"yref\": \"y\"}, {\"font\": {\"color\": \"#FFFFFF\"}, \"showarrow\": false, \"text\": \"-0.0\", \"x\": \"purpose_educational\", \"xref\": \"x\", \"y\": \"purpose_medical\", \"yref\": \"y\"}, {\"font\": {\"color\": \"#FFFFFF\"}, \"showarrow\": false, \"text\": \"-0.02\", \"x\": \"purpose_home_improvement\", \"xref\": \"x\", \"y\": \"purpose_medical\", \"yref\": \"y\"}, {\"font\": {\"color\": \"#FFFFFF\"}, \"showarrow\": false, \"text\": \"-0.01\", \"x\": \"purpose_house\", \"xref\": \"x\", \"y\": \"purpose_medical\", \"yref\": \"y\"}, {\"font\": {\"color\": \"#FFFFFF\"}, \"showarrow\": false, \"text\": \"-0.01\", \"x\": \"purpose_major_purchase\", \"xref\": \"x\", \"y\": \"purpose_medical\", \"yref\": \"y\"}, {\"font\": {\"color\": \"#000000\"}, \"showarrow\": false, \"text\": \"1.0\", \"x\": \"purpose_medical\", \"xref\": \"x\", \"y\": \"purpose_medical\", \"yref\": \"y\"}, {\"font\": {\"color\": \"#FFFFFF\"}, \"showarrow\": false, \"text\": \"-0.01\", \"x\": \"purpose_moving\", \"xref\": \"x\", \"y\": \"purpose_medical\", \"yref\": \"y\"}, {\"font\": {\"color\": \"#FFFFFF\"}, \"showarrow\": false, \"text\": \"-0.02\", \"x\": \"purpose_other\", \"xref\": \"x\", \"y\": \"purpose_medical\", \"yref\": \"y\"}, {\"font\": {\"color\": \"#FFFFFF\"}, \"showarrow\": false, \"text\": \"-0.0\", \"x\": \"purpose_renewable_energy\", \"xref\": \"x\", \"y\": \"purpose_medical\", \"yref\": \"y\"}, {\"font\": {\"color\": \"#FFFFFF\"}, \"showarrow\": false, \"text\": \"-0.01\", \"x\": \"purpose_small_business\", \"xref\": \"x\", \"y\": \"purpose_medical\", \"yref\": \"y\"}, {\"font\": {\"color\": \"#FFFFFF\"}, \"showarrow\": false, \"text\": \"-0.01\", \"x\": \"purpose_vacation\", \"xref\": \"x\", \"y\": \"purpose_medical\", \"yref\": \"y\"}, {\"font\": {\"color\": \"#FFFFFF\"}, \"showarrow\": false, \"text\": \"-0.01\", \"x\": \"purpose_wedding\", \"xref\": \"x\", \"y\": \"purpose_medical\", \"yref\": \"y\"}, {\"font\": {\"color\": \"#000000\"}, \"showarrow\": false, \"text\": \"0.01\", \"x\": \"loan_condition_cat\", \"xref\": \"x\", \"y\": \"purpose_medical\", \"yref\": \"y\"}, {\"font\": {\"color\": \"#000000\"}, \"showarrow\": false, \"text\": \"0.0\", \"x\": \"application_type_INDIVIDUAL\", \"xref\": \"x\", \"y\": \"purpose_moving\", \"yref\": \"y\"}, {\"font\": {\"color\": \"#FFFFFF\"}, \"showarrow\": false, \"text\": \"-0.0\", \"x\": \"application_type_JOINT\", \"xref\": \"x\", \"y\": \"purpose_moving\", \"yref\": \"y\"}, {\"font\": {\"color\": \"#FFFFFF\"}, \"showarrow\": false, \"text\": \"-0.01\", \"x\": \"purpose_car\", \"xref\": \"x\", \"y\": \"purpose_moving\", \"yref\": \"y\"}, {\"font\": {\"color\": \"#FFFFFF\"}, \"showarrow\": false, \"text\": \"-0.04\", \"x\": \"purpose_credit_card\", \"xref\": \"x\", \"y\": \"purpose_moving\", \"yref\": \"y\"}, {\"font\": {\"color\": \"#FFFFFF\"}, \"showarrow\": false, \"text\": \"-0.09\", \"x\": \"purpose_debt_consolidation\", \"xref\": \"x\", \"y\": \"purpose_moving\", \"yref\": \"y\"}, {\"font\": {\"color\": \"#FFFFFF\"}, \"showarrow\": false, \"text\": \"-0.0\", \"x\": \"purpose_educational\", \"xref\": \"x\", \"y\": \"purpose_moving\", \"yref\": \"y\"}, {\"font\": {\"color\": \"#FFFFFF\"}, \"showarrow\": false, \"text\": \"-0.02\", \"x\": \"purpose_home_improvement\", \"xref\": \"x\", \"y\": \"purpose_moving\", \"yref\": \"y\"}, {\"font\": {\"color\": \"#FFFFFF\"}, \"showarrow\": false, \"text\": \"-0.01\", \"x\": \"purpose_house\", \"xref\": \"x\", \"y\": \"purpose_moving\", \"yref\": \"y\"}, {\"font\": {\"color\": \"#FFFFFF\"}, \"showarrow\": false, \"text\": \"-0.01\", \"x\": \"purpose_major_purchase\", \"xref\": \"x\", \"y\": \"purpose_moving\", \"yref\": \"y\"}, {\"font\": {\"color\": \"#FFFFFF\"}, \"showarrow\": false, \"text\": \"-0.01\", \"x\": \"purpose_medical\", \"xref\": \"x\", \"y\": \"purpose_moving\", \"yref\": \"y\"}, {\"font\": {\"color\": \"#000000\"}, \"showarrow\": false, \"text\": \"1.0\", \"x\": \"purpose_moving\", \"xref\": \"x\", \"y\": \"purpose_moving\", \"yref\": \"y\"}, {\"font\": {\"color\": \"#FFFFFF\"}, \"showarrow\": false, \"text\": \"-0.02\", \"x\": \"purpose_other\", \"xref\": \"x\", \"y\": \"purpose_moving\", \"yref\": \"y\"}, {\"font\": {\"color\": \"#FFFFFF\"}, \"showarrow\": false, \"text\": \"-0.0\", \"x\": \"purpose_renewable_energy\", \"xref\": \"x\", \"y\": \"purpose_moving\", \"yref\": \"y\"}, {\"font\": {\"color\": \"#FFFFFF\"}, \"showarrow\": false, \"text\": \"-0.01\", \"x\": \"purpose_small_business\", \"xref\": \"x\", \"y\": \"purpose_moving\", \"yref\": \"y\"}, {\"font\": {\"color\": \"#FFFFFF\"}, \"showarrow\": false, \"text\": \"-0.01\", \"x\": \"purpose_vacation\", \"xref\": \"x\", \"y\": \"purpose_moving\", \"yref\": \"y\"}, {\"font\": {\"color\": \"#FFFFFF\"}, \"showarrow\": false, \"text\": \"-0.0\", \"x\": \"purpose_wedding\", \"xref\": \"x\", \"y\": \"purpose_moving\", \"yref\": \"y\"}, {\"font\": {\"color\": \"#000000\"}, \"showarrow\": false, \"text\": \"0.01\", \"x\": \"loan_condition_cat\", \"xref\": \"x\", \"y\": \"purpose_moving\", \"yref\": \"y\"}, {\"font\": {\"color\": \"#FFFFFF\"}, \"showarrow\": false, \"text\": \"-0.0\", \"x\": \"application_type_INDIVIDUAL\", \"xref\": \"x\", \"y\": \"purpose_other\", \"yref\": \"y\"}, {\"font\": {\"color\": \"#000000\"}, \"showarrow\": false, \"text\": \"0.0\", \"x\": \"application_type_JOINT\", \"xref\": \"x\", \"y\": \"purpose_other\", \"yref\": \"y\"}, {\"font\": {\"color\": \"#FFFFFF\"}, \"showarrow\": false, \"text\": \"-0.02\", \"x\": \"purpose_car\", \"xref\": \"x\", \"y\": \"purpose_other\", \"yref\": \"y\"}, {\"font\": {\"color\": \"#FFFFFF\"}, \"showarrow\": false, \"text\": \"-0.12\", \"x\": \"purpose_credit_card\", \"xref\": \"x\", \"y\": \"purpose_other\", \"yref\": \"y\"}, {\"font\": {\"color\": \"#FFFFFF\"}, \"showarrow\": false, \"text\": \"-0.27\", \"x\": \"purpose_debt_consolidation\", \"xref\": \"x\", \"y\": \"purpose_other\", \"yref\": \"y\"}, {\"font\": {\"color\": \"#FFFFFF\"}, \"showarrow\": false, \"text\": \"-0.0\", \"x\": \"purpose_educational\", \"xref\": \"x\", \"y\": \"purpose_other\", \"yref\": \"y\"}, {\"font\": {\"color\": \"#FFFFFF\"}, \"showarrow\": false, \"text\": \"-0.06\", \"x\": \"purpose_home_improvement\", \"xref\": \"x\", \"y\": \"purpose_other\", \"yref\": \"y\"}, {\"font\": {\"color\": \"#FFFFFF\"}, \"showarrow\": false, \"text\": \"-0.01\", \"x\": \"purpose_house\", \"xref\": \"x\", \"y\": \"purpose_other\", \"yref\": \"y\"}, {\"font\": {\"color\": \"#FFFFFF\"}, \"showarrow\": false, \"text\": \"-0.03\", \"x\": \"purpose_major_purchase\", \"xref\": \"x\", \"y\": \"purpose_other\", \"yref\": \"y\"}, {\"font\": {\"color\": \"#FFFFFF\"}, \"showarrow\": false, \"text\": \"-0.02\", \"x\": \"purpose_medical\", \"xref\": \"x\", \"y\": \"purpose_other\", \"yref\": \"y\"}, {\"font\": {\"color\": \"#FFFFFF\"}, \"showarrow\": false, \"text\": \"-0.02\", \"x\": \"purpose_moving\", \"xref\": \"x\", \"y\": \"purpose_other\", \"yref\": \"y\"}, {\"font\": {\"color\": \"#000000\"}, \"showarrow\": false, \"text\": \"1.0\", \"x\": \"purpose_other\", \"xref\": \"x\", \"y\": \"purpose_other\", \"yref\": \"y\"}, {\"font\": {\"color\": \"#FFFFFF\"}, \"showarrow\": false, \"text\": \"-0.01\", \"x\": \"purpose_renewable_energy\", \"xref\": \"x\", \"y\": \"purpose_other\", \"yref\": \"y\"}, {\"font\": {\"color\": \"#FFFFFF\"}, \"showarrow\": false, \"text\": \"-0.02\", \"x\": \"purpose_small_business\", \"xref\": \"x\", \"y\": \"purpose_other\", \"yref\": \"y\"}, {\"font\": {\"color\": \"#FFFFFF\"}, \"showarrow\": false, \"text\": \"-0.02\", \"x\": \"purpose_vacation\", \"xref\": \"x\", \"y\": \"purpose_other\", \"yref\": \"y\"}, {\"font\": {\"color\": \"#FFFFFF\"}, \"showarrow\": false, \"text\": \"-0.01\", \"x\": \"purpose_wedding\", \"xref\": \"x\", \"y\": \"purpose_other\", \"yref\": \"y\"}, {\"font\": {\"color\": \"#000000\"}, \"showarrow\": false, \"text\": \"0.02\", \"x\": \"loan_condition_cat\", \"xref\": \"x\", \"y\": \"purpose_other\", \"yref\": \"y\"}, {\"font\": {\"color\": \"#000000\"}, \"showarrow\": false, \"text\": \"0.0\", \"x\": \"application_type_INDIVIDUAL\", \"xref\": \"x\", \"y\": \"purpose_renewable_energy\", \"yref\": \"y\"}, {\"font\": {\"color\": \"#FFFFFF\"}, \"showarrow\": false, \"text\": \"-0.0\", \"x\": \"application_type_JOINT\", \"xref\": \"x\", \"y\": \"purpose_renewable_energy\", \"yref\": \"y\"}, {\"font\": {\"color\": \"#FFFFFF\"}, \"showarrow\": false, \"text\": \"-0.0\", \"x\": \"purpose_car\", \"xref\": \"x\", \"y\": \"purpose_renewable_energy\", \"yref\": \"y\"}, {\"font\": {\"color\": \"#FFFFFF\"}, \"showarrow\": false, \"text\": \"-0.01\", \"x\": \"purpose_credit_card\", \"xref\": \"x\", \"y\": \"purpose_renewable_energy\", \"yref\": \"y\"}, {\"font\": {\"color\": \"#FFFFFF\"}, \"showarrow\": false, \"text\": \"-0.03\", \"x\": \"purpose_debt_consolidation\", \"xref\": \"x\", \"y\": \"purpose_renewable_energy\", \"yref\": \"y\"}, {\"font\": {\"color\": \"#FFFFFF\"}, \"showarrow\": false, \"text\": \"-0.0\", \"x\": \"purpose_educational\", \"xref\": \"x\", \"y\": \"purpose_renewable_energy\", \"yref\": \"y\"}, {\"font\": {\"color\": \"#FFFFFF\"}, \"showarrow\": false, \"text\": \"-0.01\", \"x\": \"purpose_home_improvement\", \"xref\": \"x\", \"y\": \"purpose_renewable_energy\", \"yref\": \"y\"}, {\"font\": {\"color\": \"#FFFFFF\"}, \"showarrow\": false, \"text\": \"-0.0\", \"x\": \"purpose_house\", \"xref\": \"x\", \"y\": \"purpose_renewable_energy\", \"yref\": \"y\"}, {\"font\": {\"color\": \"#FFFFFF\"}, \"showarrow\": false, \"text\": \"-0.0\", \"x\": \"purpose_major_purchase\", \"xref\": \"x\", \"y\": \"purpose_renewable_energy\", \"yref\": \"y\"}, {\"font\": {\"color\": \"#FFFFFF\"}, \"showarrow\": false, \"text\": \"-0.0\", \"x\": \"purpose_medical\", \"xref\": \"x\", \"y\": \"purpose_renewable_energy\", \"yref\": \"y\"}, {\"font\": {\"color\": \"#FFFFFF\"}, \"showarrow\": false, \"text\": \"-0.0\", \"x\": \"purpose_moving\", \"xref\": \"x\", \"y\": \"purpose_renewable_energy\", \"yref\": \"y\"}, {\"font\": {\"color\": \"#FFFFFF\"}, \"showarrow\": false, \"text\": \"-0.01\", \"x\": \"purpose_other\", \"xref\": \"x\", \"y\": \"purpose_renewable_energy\", \"yref\": \"y\"}, {\"font\": {\"color\": \"#000000\"}, \"showarrow\": false, \"text\": \"1.0\", \"x\": \"purpose_renewable_energy\", \"xref\": \"x\", \"y\": \"purpose_renewable_energy\", \"yref\": \"y\"}, {\"font\": {\"color\": \"#FFFFFF\"}, \"showarrow\": false, \"text\": \"-0.0\", \"x\": \"purpose_small_business\", \"xref\": \"x\", \"y\": \"purpose_renewable_energy\", \"yref\": \"y\"}, {\"font\": {\"color\": \"#FFFFFF\"}, \"showarrow\": false, \"text\": \"-0.0\", \"x\": \"purpose_vacation\", \"xref\": \"x\", \"y\": \"purpose_renewable_energy\", \"yref\": \"y\"}, {\"font\": {\"color\": \"#FFFFFF\"}, \"showarrow\": false, \"text\": \"-0.0\", \"x\": \"purpose_wedding\", \"xref\": \"x\", \"y\": \"purpose_renewable_energy\", \"yref\": \"y\"}, {\"font\": {\"color\": \"#000000\"}, \"showarrow\": false, \"text\": \"0.0\", \"x\": \"loan_condition_cat\", \"xref\": \"x\", \"y\": \"purpose_renewable_energy\", \"yref\": \"y\"}, {\"font\": {\"color\": \"#000000\"}, \"showarrow\": false, \"text\": \"0.0\", \"x\": \"application_type_INDIVIDUAL\", \"xref\": \"x\", \"y\": \"purpose_small_business\", \"yref\": \"y\"}, {\"font\": {\"color\": \"#FFFFFF\"}, \"showarrow\": false, \"text\": \"-0.0\", \"x\": \"application_type_JOINT\", \"xref\": \"x\", \"y\": \"purpose_small_business\", \"yref\": \"y\"}, {\"font\": {\"color\": \"#FFFFFF\"}, \"showarrow\": false, \"text\": \"-0.01\", \"x\": \"purpose_car\", \"xref\": \"x\", \"y\": \"purpose_small_business\", \"yref\": \"y\"}, {\"font\": {\"color\": \"#FFFFFF\"}, \"showarrow\": false, \"text\": \"-0.06\", \"x\": \"purpose_credit_card\", \"xref\": \"x\", \"y\": \"purpose_small_business\", \"yref\": \"y\"}, {\"font\": {\"color\": \"#FFFFFF\"}, \"showarrow\": false, \"text\": \"-0.13\", \"x\": \"purpose_debt_consolidation\", \"xref\": \"x\", \"y\": \"purpose_small_business\", \"yref\": \"y\"}, {\"font\": {\"color\": \"#FFFFFF\"}, \"showarrow\": false, \"text\": \"-0.0\", \"x\": \"purpose_educational\", \"xref\": \"x\", \"y\": \"purpose_small_business\", \"yref\": \"y\"}, {\"font\": {\"color\": \"#FFFFFF\"}, \"showarrow\": false, \"text\": \"-0.03\", \"x\": \"purpose_home_improvement\", \"xref\": \"x\", \"y\": \"purpose_small_business\", \"yref\": \"y\"}, {\"font\": {\"color\": \"#FFFFFF\"}, \"showarrow\": false, \"text\": \"-0.01\", \"x\": \"purpose_house\", \"xref\": \"x\", \"y\": \"purpose_small_business\", \"yref\": \"y\"}, {\"font\": {\"color\": \"#FFFFFF\"}, \"showarrow\": false, \"text\": \"-0.02\", \"x\": \"purpose_major_purchase\", \"xref\": \"x\", \"y\": \"purpose_small_business\", \"yref\": \"y\"}, {\"font\": {\"color\": \"#FFFFFF\"}, \"showarrow\": false, \"text\": \"-0.01\", \"x\": \"purpose_medical\", \"xref\": \"x\", \"y\": \"purpose_small_business\", \"yref\": \"y\"}, {\"font\": {\"color\": \"#FFFFFF\"}, \"showarrow\": false, \"text\": \"-0.01\", \"x\": \"purpose_moving\", \"xref\": \"x\", \"y\": \"purpose_small_business\", \"yref\": \"y\"}, {\"font\": {\"color\": \"#FFFFFF\"}, \"showarrow\": false, \"text\": \"-0.02\", \"x\": \"purpose_other\", \"xref\": \"x\", \"y\": \"purpose_small_business\", \"yref\": \"y\"}, {\"font\": {\"color\": \"#FFFFFF\"}, \"showarrow\": false, \"text\": \"-0.0\", \"x\": \"purpose_renewable_energy\", \"xref\": \"x\", \"y\": \"purpose_small_business\", \"yref\": \"y\"}, {\"font\": {\"color\": \"#000000\"}, \"showarrow\": false, \"text\": \"1.0\", \"x\": \"purpose_small_business\", \"xref\": \"x\", \"y\": \"purpose_small_business\", \"yref\": \"y\"}, {\"font\": {\"color\": \"#FFFFFF\"}, \"showarrow\": false, \"text\": \"-0.01\", \"x\": \"purpose_vacation\", \"xref\": \"x\", \"y\": \"purpose_small_business\", \"yref\": \"y\"}, {\"font\": {\"color\": \"#FFFFFF\"}, \"showarrow\": false, \"text\": \"-0.01\", \"x\": \"purpose_wedding\", \"xref\": \"x\", \"y\": \"purpose_small_business\", \"yref\": \"y\"}, {\"font\": {\"color\": \"#000000\"}, \"showarrow\": false, \"text\": \"0.04\", \"x\": \"loan_condition_cat\", \"xref\": \"x\", \"y\": \"purpose_small_business\", \"yref\": \"y\"}, {\"font\": {\"color\": \"#000000\"}, \"showarrow\": false, \"text\": \"0.0\", \"x\": \"application_type_INDIVIDUAL\", \"xref\": \"x\", \"y\": \"purpose_vacation\", \"yref\": \"y\"}, {\"font\": {\"color\": \"#FFFFFF\"}, \"showarrow\": false, \"text\": \"-0.0\", \"x\": \"application_type_JOINT\", \"xref\": \"x\", \"y\": \"purpose_vacation\", \"yref\": \"y\"}, {\"font\": {\"color\": \"#FFFFFF\"}, \"showarrow\": false, \"text\": \"-0.01\", \"x\": \"purpose_car\", \"xref\": \"x\", \"y\": \"purpose_vacation\", \"yref\": \"y\"}, {\"font\": {\"color\": \"#FFFFFF\"}, \"showarrow\": false, \"text\": \"-0.04\", \"x\": \"purpose_credit_card\", \"xref\": \"x\", \"y\": \"purpose_vacation\", \"yref\": \"y\"}, {\"font\": {\"color\": \"#FFFFFF\"}, \"showarrow\": false, \"text\": \"-0.09\", \"x\": \"purpose_debt_consolidation\", \"xref\": \"x\", \"y\": \"purpose_vacation\", \"yref\": \"y\"}, {\"font\": {\"color\": \"#FFFFFF\"}, \"showarrow\": false, \"text\": \"-0.0\", \"x\": \"purpose_educational\", \"xref\": \"x\", \"y\": \"purpose_vacation\", \"yref\": \"y\"}, {\"font\": {\"color\": \"#FFFFFF\"}, \"showarrow\": false, \"text\": \"-0.02\", \"x\": \"purpose_home_improvement\", \"xref\": \"x\", \"y\": \"purpose_vacation\", \"yref\": \"y\"}, {\"font\": {\"color\": \"#FFFFFF\"}, \"showarrow\": false, \"text\": \"-0.0\", \"x\": \"purpose_house\", \"xref\": \"x\", \"y\": \"purpose_vacation\", \"yref\": \"y\"}, {\"font\": {\"color\": \"#FFFFFF\"}, \"showarrow\": false, \"text\": \"-0.01\", \"x\": \"purpose_major_purchase\", \"xref\": \"x\", \"y\": \"purpose_vacation\", \"yref\": \"y\"}, {\"font\": {\"color\": \"#FFFFFF\"}, \"showarrow\": false, \"text\": \"-0.01\", \"x\": \"purpose_medical\", \"xref\": \"x\", \"y\": \"purpose_vacation\", \"yref\": \"y\"}, {\"font\": {\"color\": \"#FFFFFF\"}, \"showarrow\": false, \"text\": \"-0.01\", \"x\": \"purpose_moving\", \"xref\": \"x\", \"y\": \"purpose_vacation\", \"yref\": \"y\"}, {\"font\": {\"color\": \"#FFFFFF\"}, \"showarrow\": false, \"text\": \"-0.02\", \"x\": \"purpose_other\", \"xref\": \"x\", \"y\": \"purpose_vacation\", \"yref\": \"y\"}, {\"font\": {\"color\": \"#FFFFFF\"}, \"showarrow\": false, \"text\": \"-0.0\", \"x\": \"purpose_renewable_energy\", \"xref\": \"x\", \"y\": \"purpose_vacation\", \"yref\": \"y\"}, {\"font\": {\"color\": \"#FFFFFF\"}, \"showarrow\": false, \"text\": \"-0.01\", \"x\": \"purpose_small_business\", \"xref\": \"x\", \"y\": \"purpose_vacation\", \"yref\": \"y\"}, {\"font\": {\"color\": \"#000000\"}, \"showarrow\": false, \"text\": \"1.0\", \"x\": \"purpose_vacation\", \"xref\": \"x\", \"y\": \"purpose_vacation\", \"yref\": \"y\"}, {\"font\": {\"color\": \"#FFFFFF\"}, \"showarrow\": false, \"text\": \"-0.0\", \"x\": \"purpose_wedding\", \"xref\": \"x\", \"y\": \"purpose_vacation\", \"yref\": \"y\"}, {\"font\": {\"color\": \"#000000\"}, \"showarrow\": false, \"text\": \"0.0\", \"x\": \"loan_condition_cat\", \"xref\": \"x\", \"y\": \"purpose_vacation\", \"yref\": \"y\"}, {\"font\": {\"color\": \"#000000\"}, \"showarrow\": false, \"text\": \"0.0\", \"x\": \"application_type_INDIVIDUAL\", \"xref\": \"x\", \"y\": \"purpose_wedding\", \"yref\": \"y\"}, {\"font\": {\"color\": \"#FFFFFF\"}, \"showarrow\": false, \"text\": \"-0.0\", \"x\": \"application_type_JOINT\", \"xref\": \"x\", \"y\": \"purpose_wedding\", \"yref\": \"y\"}, {\"font\": {\"color\": \"#FFFFFF\"}, \"showarrow\": false, \"text\": \"-0.01\", \"x\": \"purpose_car\", \"xref\": \"x\", \"y\": \"purpose_wedding\", \"yref\": \"y\"}, {\"font\": {\"color\": \"#FFFFFF\"}, \"showarrow\": false, \"text\": \"-0.03\", \"x\": \"purpose_credit_card\", \"xref\": \"x\", \"y\": \"purpose_wedding\", \"yref\": \"y\"}, {\"font\": {\"color\": \"#FFFFFF\"}, \"showarrow\": false, \"text\": \"-0.06\", \"x\": \"purpose_debt_consolidation\", \"xref\": \"x\", \"y\": \"purpose_wedding\", \"yref\": \"y\"}, {\"font\": {\"color\": \"#FFFFFF\"}, \"showarrow\": false, \"text\": \"-0.0\", \"x\": \"purpose_educational\", \"xref\": \"x\", \"y\": \"purpose_wedding\", \"yref\": \"y\"}, {\"font\": {\"color\": \"#FFFFFF\"}, \"showarrow\": false, \"text\": \"-0.01\", \"x\": \"purpose_home_improvement\", \"xref\": \"x\", \"y\": \"purpose_wedding\", \"yref\": \"y\"}, {\"font\": {\"color\": \"#FFFFFF\"}, \"showarrow\": false, \"text\": \"-0.0\", \"x\": \"purpose_house\", \"xref\": \"x\", \"y\": \"purpose_wedding\", \"yref\": \"y\"}, {\"font\": {\"color\": \"#FFFFFF\"}, \"showarrow\": false, \"text\": \"-0.01\", \"x\": \"purpose_major_purchase\", \"xref\": \"x\", \"y\": \"purpose_wedding\", \"yref\": \"y\"}, {\"font\": {\"color\": \"#FFFFFF\"}, \"showarrow\": false, \"text\": \"-0.01\", \"x\": \"purpose_medical\", \"xref\": \"x\", \"y\": \"purpose_wedding\", \"yref\": \"y\"}, {\"font\": {\"color\": \"#FFFFFF\"}, \"showarrow\": false, \"text\": \"-0.0\", \"x\": \"purpose_moving\", \"xref\": \"x\", \"y\": \"purpose_wedding\", \"yref\": \"y\"}, {\"font\": {\"color\": \"#FFFFFF\"}, \"showarrow\": false, \"text\": \"-0.01\", \"x\": \"purpose_other\", \"xref\": \"x\", \"y\": \"purpose_wedding\", \"yref\": \"y\"}, {\"font\": {\"color\": \"#FFFFFF\"}, \"showarrow\": false, \"text\": \"-0.0\", \"x\": \"purpose_renewable_energy\", \"xref\": \"x\", \"y\": \"purpose_wedding\", \"yref\": \"y\"}, {\"font\": {\"color\": \"#FFFFFF\"}, \"showarrow\": false, \"text\": \"-0.01\", \"x\": \"purpose_small_business\", \"xref\": \"x\", \"y\": \"purpose_wedding\", \"yref\": \"y\"}, {\"font\": {\"color\": \"#FFFFFF\"}, \"showarrow\": false, \"text\": \"-0.0\", \"x\": \"purpose_vacation\", \"xref\": \"x\", \"y\": \"purpose_wedding\", \"yref\": \"y\"}, {\"font\": {\"color\": \"#000000\"}, \"showarrow\": false, \"text\": \"1.0\", \"x\": \"purpose_wedding\", \"xref\": \"x\", \"y\": \"purpose_wedding\", \"yref\": \"y\"}, {\"font\": {\"color\": \"#000000\"}, \"showarrow\": false, \"text\": \"0.01\", \"x\": \"loan_condition_cat\", \"xref\": \"x\", \"y\": \"purpose_wedding\", \"yref\": \"y\"}, {\"font\": {\"color\": \"#000000\"}, \"showarrow\": false, \"text\": \"0.01\", \"x\": \"application_type_INDIVIDUAL\", \"xref\": \"x\", \"y\": \"loan_condition_cat\", \"yref\": \"y\"}, {\"font\": {\"color\": \"#FFFFFF\"}, \"showarrow\": false, \"text\": \"-0.01\", \"x\": \"application_type_JOINT\", \"xref\": \"x\", \"y\": \"loan_condition_cat\", \"yref\": \"y\"}, {\"font\": {\"color\": \"#FFFFFF\"}, \"showarrow\": false, \"text\": \"-0.0\", \"x\": \"purpose_car\", \"xref\": \"x\", \"y\": \"loan_condition_cat\", \"yref\": \"y\"}, {\"font\": {\"color\": \"#FFFFFF\"}, \"showarrow\": false, \"text\": \"-0.04\", \"x\": \"purpose_credit_card\", \"xref\": \"x\", \"y\": \"loan_condition_cat\", \"yref\": \"y\"}, {\"font\": {\"color\": \"#000000\"}, \"showarrow\": false, \"text\": \"0.02\", \"x\": \"purpose_debt_consolidation\", \"xref\": \"x\", \"y\": \"loan_condition_cat\", \"yref\": \"y\"}, {\"font\": {\"color\": \"#000000\"}, \"showarrow\": false, \"text\": \"0.01\", \"x\": \"purpose_educational\", \"xref\": \"x\", \"y\": \"loan_condition_cat\", \"yref\": \"y\"}, {\"font\": {\"color\": \"#FFFFFF\"}, \"showarrow\": false, \"text\": \"-0.01\", \"x\": \"purpose_home_improvement\", \"xref\": \"x\", \"y\": \"loan_condition_cat\", \"yref\": \"y\"}, {\"font\": {\"color\": \"#000000\"}, \"showarrow\": false, \"text\": \"0.01\", \"x\": \"purpose_house\", \"xref\": \"x\", \"y\": \"loan_condition_cat\", \"yref\": \"y\"}, {\"font\": {\"color\": \"#FFFFFF\"}, \"showarrow\": false, \"text\": \"-0.0\", \"x\": \"purpose_major_purchase\", \"xref\": \"x\", \"y\": \"loan_condition_cat\", \"yref\": \"y\"}, {\"font\": {\"color\": \"#000000\"}, \"showarrow\": false, \"text\": \"0.01\", \"x\": \"purpose_medical\", \"xref\": \"x\", \"y\": \"loan_condition_cat\", \"yref\": \"y\"}, {\"font\": {\"color\": \"#000000\"}, \"showarrow\": false, \"text\": \"0.01\", \"x\": \"purpose_moving\", \"xref\": \"x\", \"y\": \"loan_condition_cat\", \"yref\": \"y\"}, {\"font\": {\"color\": \"#000000\"}, \"showarrow\": false, \"text\": \"0.02\", \"x\": \"purpose_other\", \"xref\": \"x\", \"y\": \"loan_condition_cat\", \"yref\": \"y\"}, {\"font\": {\"color\": \"#000000\"}, \"showarrow\": false, \"text\": \"0.0\", \"x\": \"purpose_renewable_energy\", \"xref\": \"x\", \"y\": \"loan_condition_cat\", \"yref\": \"y\"}, {\"font\": {\"color\": \"#000000\"}, \"showarrow\": false, \"text\": \"0.04\", \"x\": \"purpose_small_business\", \"xref\": \"x\", \"y\": \"loan_condition_cat\", \"yref\": \"y\"}, {\"font\": {\"color\": \"#000000\"}, \"showarrow\": false, \"text\": \"0.0\", \"x\": \"purpose_vacation\", \"xref\": \"x\", \"y\": \"loan_condition_cat\", \"yref\": \"y\"}, {\"font\": {\"color\": \"#000000\"}, \"showarrow\": false, \"text\": \"0.01\", \"x\": \"purpose_wedding\", \"xref\": \"x\", \"y\": \"loan_condition_cat\", \"yref\": \"y\"}, {\"font\": {\"color\": \"#000000\"}, \"showarrow\": false, \"text\": \"1.0\", \"x\": \"loan_condition_cat\", \"xref\": \"x\", \"y\": \"loan_condition_cat\", \"yref\": \"y\"}], \"template\": {\"data\": {\"bar\": [{\"error_x\": {\"color\": \"#2a3f5f\"}, \"error_y\": {\"color\": \"#2a3f5f\"}, \"marker\": {\"line\": {\"color\": \"#E5ECF6\", \"width\": 0.5}}, \"type\": \"bar\"}], \"barpolar\": [{\"marker\": {\"line\": {\"color\": \"#E5ECF6\", \"width\": 0.5}}, \"type\": \"barpolar\"}], \"carpet\": [{\"aaxis\": {\"endlinecolor\": \"#2a3f5f\", \"gridcolor\": \"white\", \"linecolor\": \"white\", \"minorgridcolor\": \"white\", \"startlinecolor\": \"#2a3f5f\"}, \"baxis\": {\"endlinecolor\": \"#2a3f5f\", \"gridcolor\": \"white\", \"linecolor\": \"white\", \"minorgridcolor\": \"white\", \"startlinecolor\": \"#2a3f5f\"}, \"type\": \"carpet\"}], \"choropleth\": [{\"colorbar\": {\"outlinewidth\": 0, \"ticks\": \"\"}, \"type\": \"choropleth\"}], \"contour\": [{\"colorbar\": {\"outlinewidth\": 0, \"ticks\": \"\"}, \"colorscale\": [[0.0, \"#0d0887\"], [0.1111111111111111, \"#46039f\"], [0.2222222222222222, \"#7201a8\"], [0.3333333333333333, \"#9c179e\"], [0.4444444444444444, \"#bd3786\"], [0.5555555555555556, \"#d8576b\"], [0.6666666666666666, \"#ed7953\"], [0.7777777777777778, \"#fb9f3a\"], [0.8888888888888888, \"#fdca26\"], [1.0, \"#f0f921\"]], \"type\": \"contour\"}], \"contourcarpet\": [{\"colorbar\": {\"outlinewidth\": 0, \"ticks\": \"\"}, \"type\": \"contourcarpet\"}], \"heatmap\": [{\"colorbar\": {\"outlinewidth\": 0, \"ticks\": \"\"}, \"colorscale\": [[0.0, \"#0d0887\"], [0.1111111111111111, \"#46039f\"], [0.2222222222222222, \"#7201a8\"], [0.3333333333333333, \"#9c179e\"], [0.4444444444444444, \"#bd3786\"], [0.5555555555555556, \"#d8576b\"], [0.6666666666666666, \"#ed7953\"], [0.7777777777777778, \"#fb9f3a\"], [0.8888888888888888, \"#fdca26\"], [1.0, \"#f0f921\"]], \"type\": \"heatmap\"}], \"heatmapgl\": [{\"colorbar\": {\"outlinewidth\": 0, \"ticks\": \"\"}, \"colorscale\": [[0.0, \"#0d0887\"], [0.1111111111111111, \"#46039f\"], [0.2222222222222222, \"#7201a8\"], [0.3333333333333333, \"#9c179e\"], [0.4444444444444444, \"#bd3786\"], [0.5555555555555556, \"#d8576b\"], [0.6666666666666666, \"#ed7953\"], [0.7777777777777778, \"#fb9f3a\"], [0.8888888888888888, \"#fdca26\"], [1.0, \"#f0f921\"]], \"type\": \"heatmapgl\"}], \"histogram\": [{\"marker\": {\"colorbar\": {\"outlinewidth\": 0, \"ticks\": \"\"}}, \"type\": \"histogram\"}], \"histogram2d\": [{\"colorbar\": {\"outlinewidth\": 0, \"ticks\": \"\"}, \"colorscale\": [[0.0, \"#0d0887\"], [0.1111111111111111, \"#46039f\"], [0.2222222222222222, \"#7201a8\"], [0.3333333333333333, \"#9c179e\"], [0.4444444444444444, \"#bd3786\"], [0.5555555555555556, \"#d8576b\"], [0.6666666666666666, \"#ed7953\"], [0.7777777777777778, \"#fb9f3a\"], [0.8888888888888888, \"#fdca26\"], [1.0, \"#f0f921\"]], \"type\": \"histogram2d\"}], \"histogram2dcontour\": [{\"colorbar\": {\"outlinewidth\": 0, \"ticks\": \"\"}, \"colorscale\": [[0.0, \"#0d0887\"], [0.1111111111111111, \"#46039f\"], [0.2222222222222222, \"#7201a8\"], [0.3333333333333333, \"#9c179e\"], [0.4444444444444444, \"#bd3786\"], [0.5555555555555556, \"#d8576b\"], [0.6666666666666666, \"#ed7953\"], [0.7777777777777778, \"#fb9f3a\"], [0.8888888888888888, \"#fdca26\"], [1.0, \"#f0f921\"]], \"type\": \"histogram2dcontour\"}], \"mesh3d\": [{\"colorbar\": {\"outlinewidth\": 0, \"ticks\": \"\"}, \"type\": \"mesh3d\"}], \"parcoords\": [{\"line\": {\"colorbar\": {\"outlinewidth\": 0, \"ticks\": \"\"}}, \"type\": \"parcoords\"}], \"pie\": [{\"automargin\": true, \"type\": \"pie\"}], \"scatter\": [{\"marker\": {\"colorbar\": {\"outlinewidth\": 0, \"ticks\": \"\"}}, \"type\": \"scatter\"}], \"scatter3d\": [{\"line\": {\"colorbar\": {\"outlinewidth\": 0, \"ticks\": \"\"}}, \"marker\": {\"colorbar\": {\"outlinewidth\": 0, \"ticks\": \"\"}}, \"type\": \"scatter3d\"}], \"scattercarpet\": [{\"marker\": {\"colorbar\": {\"outlinewidth\": 0, \"ticks\": \"\"}}, \"type\": \"scattercarpet\"}], \"scattergeo\": [{\"marker\": {\"colorbar\": {\"outlinewidth\": 0, \"ticks\": \"\"}}, \"type\": \"scattergeo\"}], \"scattergl\": [{\"marker\": {\"colorbar\": {\"outlinewidth\": 0, \"ticks\": \"\"}}, \"type\": \"scattergl\"}], \"scattermapbox\": [{\"marker\": {\"colorbar\": {\"outlinewidth\": 0, \"ticks\": \"\"}}, \"type\": \"scattermapbox\"}], \"scatterpolar\": [{\"marker\": {\"colorbar\": {\"outlinewidth\": 0, \"ticks\": \"\"}}, \"type\": \"scatterpolar\"}], \"scatterpolargl\": [{\"marker\": {\"colorbar\": {\"outlinewidth\": 0, \"ticks\": \"\"}}, \"type\": \"scatterpolargl\"}], \"scatterternary\": [{\"marker\": {\"colorbar\": {\"outlinewidth\": 0, \"ticks\": \"\"}}, \"type\": \"scatterternary\"}], \"surface\": [{\"colorbar\": {\"outlinewidth\": 0, \"ticks\": \"\"}, \"colorscale\": [[0.0, \"#0d0887\"], [0.1111111111111111, \"#46039f\"], [0.2222222222222222, \"#7201a8\"], [0.3333333333333333, \"#9c179e\"], [0.4444444444444444, \"#bd3786\"], [0.5555555555555556, \"#d8576b\"], [0.6666666666666666, \"#ed7953\"], [0.7777777777777778, \"#fb9f3a\"], [0.8888888888888888, \"#fdca26\"], [1.0, \"#f0f921\"]], \"type\": \"surface\"}], \"table\": [{\"cells\": {\"fill\": {\"color\": \"#EBF0F8\"}, \"line\": {\"color\": \"white\"}}, \"header\": {\"fill\": {\"color\": \"#C8D4E3\"}, \"line\": {\"color\": \"white\"}}, \"type\": \"table\"}]}, \"layout\": {\"annotationdefaults\": {\"arrowcolor\": \"#2a3f5f\", \"arrowhead\": 0, \"arrowwidth\": 1}, \"coloraxis\": {\"colorbar\": {\"outlinewidth\": 0, \"ticks\": \"\"}}, \"colorscale\": {\"diverging\": [[0, \"#8e0152\"], [0.1, \"#c51b7d\"], [0.2, \"#de77ae\"], [0.3, \"#f1b6da\"], [0.4, \"#fde0ef\"], [0.5, \"#f7f7f7\"], [0.6, \"#e6f5d0\"], [0.7, \"#b8e186\"], [0.8, \"#7fbc41\"], [0.9, \"#4d9221\"], [1, \"#276419\"]], \"sequential\": [[0.0, \"#0d0887\"], [0.1111111111111111, \"#46039f\"], [0.2222222222222222, \"#7201a8\"], [0.3333333333333333, \"#9c179e\"], [0.4444444444444444, \"#bd3786\"], [0.5555555555555556, \"#d8576b\"], [0.6666666666666666, \"#ed7953\"], [0.7777777777777778, \"#fb9f3a\"], [0.8888888888888888, \"#fdca26\"], [1.0, \"#f0f921\"]], \"sequentialminus\": [[0.0, \"#0d0887\"], [0.1111111111111111, \"#46039f\"], [0.2222222222222222, \"#7201a8\"], [0.3333333333333333, \"#9c179e\"], [0.4444444444444444, \"#bd3786\"], [0.5555555555555556, \"#d8576b\"], [0.6666666666666666, \"#ed7953\"], [0.7777777777777778, \"#fb9f3a\"], [0.8888888888888888, \"#fdca26\"], [1.0, \"#f0f921\"]]}, \"colorway\": [\"#636efa\", \"#EF553B\", \"#00cc96\", \"#ab63fa\", \"#FFA15A\", \"#19d3f3\", \"#FF6692\", \"#B6E880\", \"#FF97FF\", \"#FECB52\"], \"font\": {\"color\": \"#2a3f5f\"}, \"geo\": {\"bgcolor\": \"white\", \"lakecolor\": \"white\", \"landcolor\": \"#E5ECF6\", \"showlakes\": true, \"showland\": true, \"subunitcolor\": \"white\"}, \"hoverlabel\": {\"align\": \"left\"}, \"hovermode\": \"closest\", \"mapbox\": {\"style\": \"light\"}, \"paper_bgcolor\": \"white\", \"plot_bgcolor\": \"#E5ECF6\", \"polar\": {\"angularaxis\": {\"gridcolor\": \"white\", \"linecolor\": \"white\", \"ticks\": \"\"}, \"bgcolor\": \"#E5ECF6\", \"radialaxis\": {\"gridcolor\": \"white\", \"linecolor\": \"white\", \"ticks\": \"\"}}, \"scene\": {\"xaxis\": {\"backgroundcolor\": \"#E5ECF6\", \"gridcolor\": \"white\", \"gridwidth\": 2, \"linecolor\": \"white\", \"showbackground\": true, \"ticks\": \"\", \"zerolinecolor\": \"white\"}, \"yaxis\": {\"backgroundcolor\": \"#E5ECF6\", \"gridcolor\": \"white\", \"gridwidth\": 2, \"linecolor\": \"white\", \"showbackground\": true, \"ticks\": \"\", \"zerolinecolor\": \"white\"}, \"zaxis\": {\"backgroundcolor\": \"#E5ECF6\", \"gridcolor\": \"white\", \"gridwidth\": 2, \"linecolor\": \"white\", \"showbackground\": true, \"ticks\": \"\", \"zerolinecolor\": \"white\"}}, \"shapedefaults\": {\"line\": {\"color\": \"#2a3f5f\"}}, \"ternary\": {\"aaxis\": {\"gridcolor\": \"white\", \"linecolor\": \"white\", \"ticks\": \"\"}, \"baxis\": {\"gridcolor\": \"white\", \"linecolor\": \"white\", \"ticks\": \"\"}, \"bgcolor\": \"#E5ECF6\", \"caxis\": {\"gridcolor\": \"white\", \"linecolor\": \"white\", \"ticks\": \"\"}}, \"title\": {\"x\": 0.05}, \"xaxis\": {\"automargin\": true, \"gridcolor\": \"white\", \"linecolor\": \"white\", \"ticks\": \"\", \"title\": {\"standoff\": 15}, \"zerolinecolor\": \"white\", \"zerolinewidth\": 2}, \"yaxis\": {\"automargin\": true, \"gridcolor\": \"white\", \"linecolor\": \"white\", \"ticks\": \"\", \"title\": {\"standoff\": 15}, \"zerolinecolor\": \"white\", \"zerolinewidth\": 2}}}, \"xaxis\": {\"dtick\": 1, \"gridcolor\": \"rgb(0, 0, 0)\", \"side\": \"top\", \"ticks\": \"\"}, \"yaxis\": {\"dtick\": 1, \"ticks\": \"\", \"ticksuffix\": \"  \"}},\n",
       "                        {\"responsive\": true}\n",
       "                    ).then(function(){\n",
       "                            \n",
       "var gd = document.getElementById('f0c4c51e-76fb-49f3-b31a-e612b403ccaa');\n",
       "var x = new MutationObserver(function (mutations, observer) {{\n",
       "        var display = window.getComputedStyle(gd).display;\n",
       "        if (!display || display === 'none') {{\n",
       "            console.log([gd, 'removed!']);\n",
       "            Plotly.purge(gd);\n",
       "            observer.disconnect();\n",
       "        }}\n",
       "}});\n",
       "\n",
       "// Listen for the removal of the full notebook cells\n",
       "var notebookContainer = gd.closest('#notebook-container');\n",
       "if (notebookContainer) {{\n",
       "    x.observe(notebookContainer, {childList: true});\n",
       "}}\n",
       "\n",
       "// Listen for the clearing of the current output cell\n",
       "var outputEl = gd.closest('.output');\n",
       "if (outputEl) {{\n",
       "    x.observe(outputEl, {childList: true});\n",
       "}}\n",
       "\n",
       "                        })\n",
       "                };\n",
       "                });\n",
       "            </script>\n",
       "        </div>"
      ]
     },
     "metadata": {},
     "output_type": "display_data"
    }
   ],
   "source": [
    "from sklearn.preprocessing import OneHotEncoder\n",
    "transform_columns = ['application_type','purpose']\n",
    "enc = pd.get_dummies(data[transform_columns])\n",
    "enc = pd.concat((enc, data['loan_condition_cat']), axis = 1)\n",
    "\n",
    "corrs = enc.corr()\n",
    "\n",
    "figure = ff.create_annotated_heatmap(\n",
    "    z=corrs.values,\n",
    "    x=list(corrs.columns),\n",
    "    y=list(corrs.index),\n",
    "    annotation_text=corrs.round(2).values,\n",
    "    showscale=True)\n",
    "figure.show()"
   ]
  },
  {
   "cell_type": "markdown",
   "metadata": {},
   "source": [
    "Судя по таблице разные признаки по-разному влияют на loan_condition. Но их значение незначительное"
   ]
  },
  {
   "cell_type": "markdown",
   "metadata": {},
   "source": [
    "## Посмотрим на новую таблицу корреляции для закодированных с помощью OneHotEncode признака region."
   ]
  },
  {
   "cell_type": "code",
   "execution_count": 13,
   "metadata": {},
   "outputs": [
    {
     "data": {
      "application/vnd.plotly.v1+json": {
       "config": {
        "plotlyServerURL": "https://plot.ly"
       },
       "data": [
        {
         "colorscale": [
          [
           0,
           "#0d0887"
          ],
          [
           0.1111111111111111,
           "#46039f"
          ],
          [
           0.2222222222222222,
           "#7201a8"
          ],
          [
           0.3333333333333333,
           "#9c179e"
          ],
          [
           0.4444444444444444,
           "#bd3786"
          ],
          [
           0.5555555555555556,
           "#d8576b"
          ],
          [
           0.6666666666666666,
           "#ed7953"
          ],
          [
           0.7777777777777778,
           "#fb9f3a"
          ],
          [
           0.8888888888888888,
           "#fdca26"
          ],
          [
           1,
           "#f0f921"
          ]
         ],
         "reversescale": false,
         "showscale": true,
         "type": "heatmap",
         "x": [
          "region_Northern-Irl",
          "region_cannught",
          "region_leinster",
          "region_munster",
          "region_ulster",
          "loan_condition_cat"
         ],
         "y": [
          "region_Northern-Irl",
          "region_cannught",
          "region_leinster",
          "region_munster",
          "region_ulster",
          "loan_condition_cat"
         ],
         "z": [
          [
           1,
           -0.25169959696485655,
           -0.30901205636773443,
           -0.19994956098343336,
           -0.30339371535644455,
           0.006074471403236158
          ],
          [
           -0.25169959696485655,
           1,
           -0.2598885605938531,
           -0.1681636768673138,
           -0.25516336450734767,
           -0.011224201615411319
          ],
          [
           -0.30901205636773443,
           -0.2598885605938531,
           1,
           -0.20645485419958107,
           -0.3132645301243055,
           0.003662285938685167
          ],
          [
           -0.19994956098343336,
           -0.1681636768673138,
           -0.20645485419958107,
           1,
           -0.2027011696773543,
           -0.0071126242479097115
          ],
          [
           -0.30339371535644455,
           -0.25516336450734767,
           -0.3132645301243055,
           -0.2027011696773543,
           1,
           0.005727698762406031
          ],
          [
           0.006074471403236158,
           -0.011224201615411319,
           0.003662285938685167,
           -0.0071126242479097115,
           0.005727698762406031,
           1
          ]
         ]
        }
       ],
       "layout": {
        "annotations": [
         {
          "font": {
           "color": "#000000"
          },
          "showarrow": false,
          "text": "1.0",
          "x": "region_Northern-Irl",
          "xref": "x",
          "y": "region_Northern-Irl",
          "yref": "y"
         },
         {
          "font": {
           "color": "#FFFFFF"
          },
          "showarrow": false,
          "text": "-0.25",
          "x": "region_cannught",
          "xref": "x",
          "y": "region_Northern-Irl",
          "yref": "y"
         },
         {
          "font": {
           "color": "#FFFFFF"
          },
          "showarrow": false,
          "text": "-0.31",
          "x": "region_leinster",
          "xref": "x",
          "y": "region_Northern-Irl",
          "yref": "y"
         },
         {
          "font": {
           "color": "#FFFFFF"
          },
          "showarrow": false,
          "text": "-0.2",
          "x": "region_munster",
          "xref": "x",
          "y": "region_Northern-Irl",
          "yref": "y"
         },
         {
          "font": {
           "color": "#FFFFFF"
          },
          "showarrow": false,
          "text": "-0.3",
          "x": "region_ulster",
          "xref": "x",
          "y": "region_Northern-Irl",
          "yref": "y"
         },
         {
          "font": {
           "color": "#FFFFFF"
          },
          "showarrow": false,
          "text": "0.01",
          "x": "loan_condition_cat",
          "xref": "x",
          "y": "region_Northern-Irl",
          "yref": "y"
         },
         {
          "font": {
           "color": "#FFFFFF"
          },
          "showarrow": false,
          "text": "-0.25",
          "x": "region_Northern-Irl",
          "xref": "x",
          "y": "region_cannught",
          "yref": "y"
         },
         {
          "font": {
           "color": "#000000"
          },
          "showarrow": false,
          "text": "1.0",
          "x": "region_cannught",
          "xref": "x",
          "y": "region_cannught",
          "yref": "y"
         },
         {
          "font": {
           "color": "#FFFFFF"
          },
          "showarrow": false,
          "text": "-0.26",
          "x": "region_leinster",
          "xref": "x",
          "y": "region_cannught",
          "yref": "y"
         },
         {
          "font": {
           "color": "#FFFFFF"
          },
          "showarrow": false,
          "text": "-0.17",
          "x": "region_munster",
          "xref": "x",
          "y": "region_cannught",
          "yref": "y"
         },
         {
          "font": {
           "color": "#FFFFFF"
          },
          "showarrow": false,
          "text": "-0.26",
          "x": "region_ulster",
          "xref": "x",
          "y": "region_cannught",
          "yref": "y"
         },
         {
          "font": {
           "color": "#FFFFFF"
          },
          "showarrow": false,
          "text": "-0.01",
          "x": "loan_condition_cat",
          "xref": "x",
          "y": "region_cannught",
          "yref": "y"
         },
         {
          "font": {
           "color": "#FFFFFF"
          },
          "showarrow": false,
          "text": "-0.31",
          "x": "region_Northern-Irl",
          "xref": "x",
          "y": "region_leinster",
          "yref": "y"
         },
         {
          "font": {
           "color": "#FFFFFF"
          },
          "showarrow": false,
          "text": "-0.26",
          "x": "region_cannught",
          "xref": "x",
          "y": "region_leinster",
          "yref": "y"
         },
         {
          "font": {
           "color": "#000000"
          },
          "showarrow": false,
          "text": "1.0",
          "x": "region_leinster",
          "xref": "x",
          "y": "region_leinster",
          "yref": "y"
         },
         {
          "font": {
           "color": "#FFFFFF"
          },
          "showarrow": false,
          "text": "-0.21",
          "x": "region_munster",
          "xref": "x",
          "y": "region_leinster",
          "yref": "y"
         },
         {
          "font": {
           "color": "#FFFFFF"
          },
          "showarrow": false,
          "text": "-0.31",
          "x": "region_ulster",
          "xref": "x",
          "y": "region_leinster",
          "yref": "y"
         },
         {
          "font": {
           "color": "#FFFFFF"
          },
          "showarrow": false,
          "text": "0.0",
          "x": "loan_condition_cat",
          "xref": "x",
          "y": "region_leinster",
          "yref": "y"
         },
         {
          "font": {
           "color": "#FFFFFF"
          },
          "showarrow": false,
          "text": "-0.2",
          "x": "region_Northern-Irl",
          "xref": "x",
          "y": "region_munster",
          "yref": "y"
         },
         {
          "font": {
           "color": "#FFFFFF"
          },
          "showarrow": false,
          "text": "-0.17",
          "x": "region_cannught",
          "xref": "x",
          "y": "region_munster",
          "yref": "y"
         },
         {
          "font": {
           "color": "#FFFFFF"
          },
          "showarrow": false,
          "text": "-0.21",
          "x": "region_leinster",
          "xref": "x",
          "y": "region_munster",
          "yref": "y"
         },
         {
          "font": {
           "color": "#000000"
          },
          "showarrow": false,
          "text": "1.0",
          "x": "region_munster",
          "xref": "x",
          "y": "region_munster",
          "yref": "y"
         },
         {
          "font": {
           "color": "#FFFFFF"
          },
          "showarrow": false,
          "text": "-0.2",
          "x": "region_ulster",
          "xref": "x",
          "y": "region_munster",
          "yref": "y"
         },
         {
          "font": {
           "color": "#FFFFFF"
          },
          "showarrow": false,
          "text": "-0.01",
          "x": "loan_condition_cat",
          "xref": "x",
          "y": "region_munster",
          "yref": "y"
         },
         {
          "font": {
           "color": "#FFFFFF"
          },
          "showarrow": false,
          "text": "-0.3",
          "x": "region_Northern-Irl",
          "xref": "x",
          "y": "region_ulster",
          "yref": "y"
         },
         {
          "font": {
           "color": "#FFFFFF"
          },
          "showarrow": false,
          "text": "-0.26",
          "x": "region_cannught",
          "xref": "x",
          "y": "region_ulster",
          "yref": "y"
         },
         {
          "font": {
           "color": "#FFFFFF"
          },
          "showarrow": false,
          "text": "-0.31",
          "x": "region_leinster",
          "xref": "x",
          "y": "region_ulster",
          "yref": "y"
         },
         {
          "font": {
           "color": "#FFFFFF"
          },
          "showarrow": false,
          "text": "-0.2",
          "x": "region_munster",
          "xref": "x",
          "y": "region_ulster",
          "yref": "y"
         },
         {
          "font": {
           "color": "#000000"
          },
          "showarrow": false,
          "text": "1.0",
          "x": "region_ulster",
          "xref": "x",
          "y": "region_ulster",
          "yref": "y"
         },
         {
          "font": {
           "color": "#FFFFFF"
          },
          "showarrow": false,
          "text": "0.01",
          "x": "loan_condition_cat",
          "xref": "x",
          "y": "region_ulster",
          "yref": "y"
         },
         {
          "font": {
           "color": "#FFFFFF"
          },
          "showarrow": false,
          "text": "0.01",
          "x": "region_Northern-Irl",
          "xref": "x",
          "y": "loan_condition_cat",
          "yref": "y"
         },
         {
          "font": {
           "color": "#FFFFFF"
          },
          "showarrow": false,
          "text": "-0.01",
          "x": "region_cannught",
          "xref": "x",
          "y": "loan_condition_cat",
          "yref": "y"
         },
         {
          "font": {
           "color": "#FFFFFF"
          },
          "showarrow": false,
          "text": "0.0",
          "x": "region_leinster",
          "xref": "x",
          "y": "loan_condition_cat",
          "yref": "y"
         },
         {
          "font": {
           "color": "#FFFFFF"
          },
          "showarrow": false,
          "text": "-0.01",
          "x": "region_munster",
          "xref": "x",
          "y": "loan_condition_cat",
          "yref": "y"
         },
         {
          "font": {
           "color": "#FFFFFF"
          },
          "showarrow": false,
          "text": "0.01",
          "x": "region_ulster",
          "xref": "x",
          "y": "loan_condition_cat",
          "yref": "y"
         },
         {
          "font": {
           "color": "#000000"
          },
          "showarrow": false,
          "text": "1.0",
          "x": "loan_condition_cat",
          "xref": "x",
          "y": "loan_condition_cat",
          "yref": "y"
         }
        ],
        "template": {
         "data": {
          "bar": [
           {
            "error_x": {
             "color": "#2a3f5f"
            },
            "error_y": {
             "color": "#2a3f5f"
            },
            "marker": {
             "line": {
              "color": "#E5ECF6",
              "width": 0.5
             }
            },
            "type": "bar"
           }
          ],
          "barpolar": [
           {
            "marker": {
             "line": {
              "color": "#E5ECF6",
              "width": 0.5
             }
            },
            "type": "barpolar"
           }
          ],
          "carpet": [
           {
            "aaxis": {
             "endlinecolor": "#2a3f5f",
             "gridcolor": "white",
             "linecolor": "white",
             "minorgridcolor": "white",
             "startlinecolor": "#2a3f5f"
            },
            "baxis": {
             "endlinecolor": "#2a3f5f",
             "gridcolor": "white",
             "linecolor": "white",
             "minorgridcolor": "white",
             "startlinecolor": "#2a3f5f"
            },
            "type": "carpet"
           }
          ],
          "choropleth": [
           {
            "colorbar": {
             "outlinewidth": 0,
             "ticks": ""
            },
            "type": "choropleth"
           }
          ],
          "contour": [
           {
            "colorbar": {
             "outlinewidth": 0,
             "ticks": ""
            },
            "colorscale": [
             [
              0,
              "#0d0887"
             ],
             [
              0.1111111111111111,
              "#46039f"
             ],
             [
              0.2222222222222222,
              "#7201a8"
             ],
             [
              0.3333333333333333,
              "#9c179e"
             ],
             [
              0.4444444444444444,
              "#bd3786"
             ],
             [
              0.5555555555555556,
              "#d8576b"
             ],
             [
              0.6666666666666666,
              "#ed7953"
             ],
             [
              0.7777777777777778,
              "#fb9f3a"
             ],
             [
              0.8888888888888888,
              "#fdca26"
             ],
             [
              1,
              "#f0f921"
             ]
            ],
            "type": "contour"
           }
          ],
          "contourcarpet": [
           {
            "colorbar": {
             "outlinewidth": 0,
             "ticks": ""
            },
            "type": "contourcarpet"
           }
          ],
          "heatmap": [
           {
            "colorbar": {
             "outlinewidth": 0,
             "ticks": ""
            },
            "colorscale": [
             [
              0,
              "#0d0887"
             ],
             [
              0.1111111111111111,
              "#46039f"
             ],
             [
              0.2222222222222222,
              "#7201a8"
             ],
             [
              0.3333333333333333,
              "#9c179e"
             ],
             [
              0.4444444444444444,
              "#bd3786"
             ],
             [
              0.5555555555555556,
              "#d8576b"
             ],
             [
              0.6666666666666666,
              "#ed7953"
             ],
             [
              0.7777777777777778,
              "#fb9f3a"
             ],
             [
              0.8888888888888888,
              "#fdca26"
             ],
             [
              1,
              "#f0f921"
             ]
            ],
            "type": "heatmap"
           }
          ],
          "heatmapgl": [
           {
            "colorbar": {
             "outlinewidth": 0,
             "ticks": ""
            },
            "colorscale": [
             [
              0,
              "#0d0887"
             ],
             [
              0.1111111111111111,
              "#46039f"
             ],
             [
              0.2222222222222222,
              "#7201a8"
             ],
             [
              0.3333333333333333,
              "#9c179e"
             ],
             [
              0.4444444444444444,
              "#bd3786"
             ],
             [
              0.5555555555555556,
              "#d8576b"
             ],
             [
              0.6666666666666666,
              "#ed7953"
             ],
             [
              0.7777777777777778,
              "#fb9f3a"
             ],
             [
              0.8888888888888888,
              "#fdca26"
             ],
             [
              1,
              "#f0f921"
             ]
            ],
            "type": "heatmapgl"
           }
          ],
          "histogram": [
           {
            "marker": {
             "colorbar": {
              "outlinewidth": 0,
              "ticks": ""
             }
            },
            "type": "histogram"
           }
          ],
          "histogram2d": [
           {
            "colorbar": {
             "outlinewidth": 0,
             "ticks": ""
            },
            "colorscale": [
             [
              0,
              "#0d0887"
             ],
             [
              0.1111111111111111,
              "#46039f"
             ],
             [
              0.2222222222222222,
              "#7201a8"
             ],
             [
              0.3333333333333333,
              "#9c179e"
             ],
             [
              0.4444444444444444,
              "#bd3786"
             ],
             [
              0.5555555555555556,
              "#d8576b"
             ],
             [
              0.6666666666666666,
              "#ed7953"
             ],
             [
              0.7777777777777778,
              "#fb9f3a"
             ],
             [
              0.8888888888888888,
              "#fdca26"
             ],
             [
              1,
              "#f0f921"
             ]
            ],
            "type": "histogram2d"
           }
          ],
          "histogram2dcontour": [
           {
            "colorbar": {
             "outlinewidth": 0,
             "ticks": ""
            },
            "colorscale": [
             [
              0,
              "#0d0887"
             ],
             [
              0.1111111111111111,
              "#46039f"
             ],
             [
              0.2222222222222222,
              "#7201a8"
             ],
             [
              0.3333333333333333,
              "#9c179e"
             ],
             [
              0.4444444444444444,
              "#bd3786"
             ],
             [
              0.5555555555555556,
              "#d8576b"
             ],
             [
              0.6666666666666666,
              "#ed7953"
             ],
             [
              0.7777777777777778,
              "#fb9f3a"
             ],
             [
              0.8888888888888888,
              "#fdca26"
             ],
             [
              1,
              "#f0f921"
             ]
            ],
            "type": "histogram2dcontour"
           }
          ],
          "mesh3d": [
           {
            "colorbar": {
             "outlinewidth": 0,
             "ticks": ""
            },
            "type": "mesh3d"
           }
          ],
          "parcoords": [
           {
            "line": {
             "colorbar": {
              "outlinewidth": 0,
              "ticks": ""
             }
            },
            "type": "parcoords"
           }
          ],
          "pie": [
           {
            "automargin": true,
            "type": "pie"
           }
          ],
          "scatter": [
           {
            "marker": {
             "colorbar": {
              "outlinewidth": 0,
              "ticks": ""
             }
            },
            "type": "scatter"
           }
          ],
          "scatter3d": [
           {
            "line": {
             "colorbar": {
              "outlinewidth": 0,
              "ticks": ""
             }
            },
            "marker": {
             "colorbar": {
              "outlinewidth": 0,
              "ticks": ""
             }
            },
            "type": "scatter3d"
           }
          ],
          "scattercarpet": [
           {
            "marker": {
             "colorbar": {
              "outlinewidth": 0,
              "ticks": ""
             }
            },
            "type": "scattercarpet"
           }
          ],
          "scattergeo": [
           {
            "marker": {
             "colorbar": {
              "outlinewidth": 0,
              "ticks": ""
             }
            },
            "type": "scattergeo"
           }
          ],
          "scattergl": [
           {
            "marker": {
             "colorbar": {
              "outlinewidth": 0,
              "ticks": ""
             }
            },
            "type": "scattergl"
           }
          ],
          "scattermapbox": [
           {
            "marker": {
             "colorbar": {
              "outlinewidth": 0,
              "ticks": ""
             }
            },
            "type": "scattermapbox"
           }
          ],
          "scatterpolar": [
           {
            "marker": {
             "colorbar": {
              "outlinewidth": 0,
              "ticks": ""
             }
            },
            "type": "scatterpolar"
           }
          ],
          "scatterpolargl": [
           {
            "marker": {
             "colorbar": {
              "outlinewidth": 0,
              "ticks": ""
             }
            },
            "type": "scatterpolargl"
           }
          ],
          "scatterternary": [
           {
            "marker": {
             "colorbar": {
              "outlinewidth": 0,
              "ticks": ""
             }
            },
            "type": "scatterternary"
           }
          ],
          "surface": [
           {
            "colorbar": {
             "outlinewidth": 0,
             "ticks": ""
            },
            "colorscale": [
             [
              0,
              "#0d0887"
             ],
             [
              0.1111111111111111,
              "#46039f"
             ],
             [
              0.2222222222222222,
              "#7201a8"
             ],
             [
              0.3333333333333333,
              "#9c179e"
             ],
             [
              0.4444444444444444,
              "#bd3786"
             ],
             [
              0.5555555555555556,
              "#d8576b"
             ],
             [
              0.6666666666666666,
              "#ed7953"
             ],
             [
              0.7777777777777778,
              "#fb9f3a"
             ],
             [
              0.8888888888888888,
              "#fdca26"
             ],
             [
              1,
              "#f0f921"
             ]
            ],
            "type": "surface"
           }
          ],
          "table": [
           {
            "cells": {
             "fill": {
              "color": "#EBF0F8"
             },
             "line": {
              "color": "white"
             }
            },
            "header": {
             "fill": {
              "color": "#C8D4E3"
             },
             "line": {
              "color": "white"
             }
            },
            "type": "table"
           }
          ]
         },
         "layout": {
          "annotationdefaults": {
           "arrowcolor": "#2a3f5f",
           "arrowhead": 0,
           "arrowwidth": 1
          },
          "coloraxis": {
           "colorbar": {
            "outlinewidth": 0,
            "ticks": ""
           }
          },
          "colorscale": {
           "diverging": [
            [
             0,
             "#8e0152"
            ],
            [
             0.1,
             "#c51b7d"
            ],
            [
             0.2,
             "#de77ae"
            ],
            [
             0.3,
             "#f1b6da"
            ],
            [
             0.4,
             "#fde0ef"
            ],
            [
             0.5,
             "#f7f7f7"
            ],
            [
             0.6,
             "#e6f5d0"
            ],
            [
             0.7,
             "#b8e186"
            ],
            [
             0.8,
             "#7fbc41"
            ],
            [
             0.9,
             "#4d9221"
            ],
            [
             1,
             "#276419"
            ]
           ],
           "sequential": [
            [
             0,
             "#0d0887"
            ],
            [
             0.1111111111111111,
             "#46039f"
            ],
            [
             0.2222222222222222,
             "#7201a8"
            ],
            [
             0.3333333333333333,
             "#9c179e"
            ],
            [
             0.4444444444444444,
             "#bd3786"
            ],
            [
             0.5555555555555556,
             "#d8576b"
            ],
            [
             0.6666666666666666,
             "#ed7953"
            ],
            [
             0.7777777777777778,
             "#fb9f3a"
            ],
            [
             0.8888888888888888,
             "#fdca26"
            ],
            [
             1,
             "#f0f921"
            ]
           ],
           "sequentialminus": [
            [
             0,
             "#0d0887"
            ],
            [
             0.1111111111111111,
             "#46039f"
            ],
            [
             0.2222222222222222,
             "#7201a8"
            ],
            [
             0.3333333333333333,
             "#9c179e"
            ],
            [
             0.4444444444444444,
             "#bd3786"
            ],
            [
             0.5555555555555556,
             "#d8576b"
            ],
            [
             0.6666666666666666,
             "#ed7953"
            ],
            [
             0.7777777777777778,
             "#fb9f3a"
            ],
            [
             0.8888888888888888,
             "#fdca26"
            ],
            [
             1,
             "#f0f921"
            ]
           ]
          },
          "colorway": [
           "#636efa",
           "#EF553B",
           "#00cc96",
           "#ab63fa",
           "#FFA15A",
           "#19d3f3",
           "#FF6692",
           "#B6E880",
           "#FF97FF",
           "#FECB52"
          ],
          "font": {
           "color": "#2a3f5f"
          },
          "geo": {
           "bgcolor": "white",
           "lakecolor": "white",
           "landcolor": "#E5ECF6",
           "showlakes": true,
           "showland": true,
           "subunitcolor": "white"
          },
          "hoverlabel": {
           "align": "left"
          },
          "hovermode": "closest",
          "mapbox": {
           "style": "light"
          },
          "paper_bgcolor": "white",
          "plot_bgcolor": "#E5ECF6",
          "polar": {
           "angularaxis": {
            "gridcolor": "white",
            "linecolor": "white",
            "ticks": ""
           },
           "bgcolor": "#E5ECF6",
           "radialaxis": {
            "gridcolor": "white",
            "linecolor": "white",
            "ticks": ""
           }
          },
          "scene": {
           "xaxis": {
            "backgroundcolor": "#E5ECF6",
            "gridcolor": "white",
            "gridwidth": 2,
            "linecolor": "white",
            "showbackground": true,
            "ticks": "",
            "zerolinecolor": "white"
           },
           "yaxis": {
            "backgroundcolor": "#E5ECF6",
            "gridcolor": "white",
            "gridwidth": 2,
            "linecolor": "white",
            "showbackground": true,
            "ticks": "",
            "zerolinecolor": "white"
           },
           "zaxis": {
            "backgroundcolor": "#E5ECF6",
            "gridcolor": "white",
            "gridwidth": 2,
            "linecolor": "white",
            "showbackground": true,
            "ticks": "",
            "zerolinecolor": "white"
           }
          },
          "shapedefaults": {
           "line": {
            "color": "#2a3f5f"
           }
          },
          "ternary": {
           "aaxis": {
            "gridcolor": "white",
            "linecolor": "white",
            "ticks": ""
           },
           "baxis": {
            "gridcolor": "white",
            "linecolor": "white",
            "ticks": ""
           },
           "bgcolor": "#E5ECF6",
           "caxis": {
            "gridcolor": "white",
            "linecolor": "white",
            "ticks": ""
           }
          },
          "title": {
           "x": 0.05
          },
          "xaxis": {
           "automargin": true,
           "gridcolor": "white",
           "linecolor": "white",
           "ticks": "",
           "title": {
            "standoff": 15
           },
           "zerolinecolor": "white",
           "zerolinewidth": 2
          },
          "yaxis": {
           "automargin": true,
           "gridcolor": "white",
           "linecolor": "white",
           "ticks": "",
           "title": {
            "standoff": 15
           },
           "zerolinecolor": "white",
           "zerolinewidth": 2
          }
         }
        },
        "xaxis": {
         "dtick": 1,
         "gridcolor": "rgb(0, 0, 0)",
         "side": "top",
         "ticks": ""
        },
        "yaxis": {
         "dtick": 1,
         "ticks": "",
         "ticksuffix": "  "
        }
       }
      },
      "text/html": [
       "<div>\n",
       "        \n",
       "        \n",
       "            <div id=\"158b41d8-a6c6-4726-b8d9-67ec4dfb3b33\" class=\"plotly-graph-div\" style=\"height:525px; width:100%;\"></div>\n",
       "            <script type=\"text/javascript\">\n",
       "                require([\"plotly\"], function(Plotly) {\n",
       "                    window.PLOTLYENV=window.PLOTLYENV || {};\n",
       "                    \n",
       "                if (document.getElementById(\"158b41d8-a6c6-4726-b8d9-67ec4dfb3b33\")) {\n",
       "                    Plotly.newPlot(\n",
       "                        '158b41d8-a6c6-4726-b8d9-67ec4dfb3b33',\n",
       "                        [{\"colorscale\": [[0.0, \"#0d0887\"], [0.1111111111111111, \"#46039f\"], [0.2222222222222222, \"#7201a8\"], [0.3333333333333333, \"#9c179e\"], [0.4444444444444444, \"#bd3786\"], [0.5555555555555556, \"#d8576b\"], [0.6666666666666666, \"#ed7953\"], [0.7777777777777778, \"#fb9f3a\"], [0.8888888888888888, \"#fdca26\"], [1.0, \"#f0f921\"]], \"reversescale\": false, \"showscale\": true, \"type\": \"heatmap\", \"x\": [\"region_Northern-Irl\", \"region_cannught\", \"region_leinster\", \"region_munster\", \"region_ulster\", \"loan_condition_cat\"], \"y\": [\"region_Northern-Irl\", \"region_cannught\", \"region_leinster\", \"region_munster\", \"region_ulster\", \"loan_condition_cat\"], \"z\": [[1.0, -0.25169959696485655, -0.30901205636773443, -0.19994956098343336, -0.30339371535644455, 0.006074471403236158], [-0.25169959696485655, 1.0, -0.2598885605938531, -0.1681636768673138, -0.25516336450734767, -0.011224201615411319], [-0.30901205636773443, -0.2598885605938531, 1.0, -0.20645485419958107, -0.3132645301243055, 0.003662285938685167], [-0.19994956098343336, -0.1681636768673138, -0.20645485419958107, 1.0, -0.2027011696773543, -0.0071126242479097115], [-0.30339371535644455, -0.25516336450734767, -0.3132645301243055, -0.2027011696773543, 1.0, 0.005727698762406031], [0.006074471403236158, -0.011224201615411319, 0.003662285938685167, -0.0071126242479097115, 0.005727698762406031, 1.0]]}],\n",
       "                        {\"annotations\": [{\"font\": {\"color\": \"#000000\"}, \"showarrow\": false, \"text\": \"1.0\", \"x\": \"region_Northern-Irl\", \"xref\": \"x\", \"y\": \"region_Northern-Irl\", \"yref\": \"y\"}, {\"font\": {\"color\": \"#FFFFFF\"}, \"showarrow\": false, \"text\": \"-0.25\", \"x\": \"region_cannught\", \"xref\": \"x\", \"y\": \"region_Northern-Irl\", \"yref\": \"y\"}, {\"font\": {\"color\": \"#FFFFFF\"}, \"showarrow\": false, \"text\": \"-0.31\", \"x\": \"region_leinster\", \"xref\": \"x\", \"y\": \"region_Northern-Irl\", \"yref\": \"y\"}, {\"font\": {\"color\": \"#FFFFFF\"}, \"showarrow\": false, \"text\": \"-0.2\", \"x\": \"region_munster\", \"xref\": \"x\", \"y\": \"region_Northern-Irl\", \"yref\": \"y\"}, {\"font\": {\"color\": \"#FFFFFF\"}, \"showarrow\": false, \"text\": \"-0.3\", \"x\": \"region_ulster\", \"xref\": \"x\", \"y\": \"region_Northern-Irl\", \"yref\": \"y\"}, {\"font\": {\"color\": \"#FFFFFF\"}, \"showarrow\": false, \"text\": \"0.01\", \"x\": \"loan_condition_cat\", \"xref\": \"x\", \"y\": \"region_Northern-Irl\", \"yref\": \"y\"}, {\"font\": {\"color\": \"#FFFFFF\"}, \"showarrow\": false, \"text\": \"-0.25\", \"x\": \"region_Northern-Irl\", \"xref\": \"x\", \"y\": \"region_cannught\", \"yref\": \"y\"}, {\"font\": {\"color\": \"#000000\"}, \"showarrow\": false, \"text\": \"1.0\", \"x\": \"region_cannught\", \"xref\": \"x\", \"y\": \"region_cannught\", \"yref\": \"y\"}, {\"font\": {\"color\": \"#FFFFFF\"}, \"showarrow\": false, \"text\": \"-0.26\", \"x\": \"region_leinster\", \"xref\": \"x\", \"y\": \"region_cannught\", \"yref\": \"y\"}, {\"font\": {\"color\": \"#FFFFFF\"}, \"showarrow\": false, \"text\": \"-0.17\", \"x\": \"region_munster\", \"xref\": \"x\", \"y\": \"region_cannught\", \"yref\": \"y\"}, {\"font\": {\"color\": \"#FFFFFF\"}, \"showarrow\": false, \"text\": \"-0.26\", \"x\": \"region_ulster\", \"xref\": \"x\", \"y\": \"region_cannught\", \"yref\": \"y\"}, {\"font\": {\"color\": \"#FFFFFF\"}, \"showarrow\": false, \"text\": \"-0.01\", \"x\": \"loan_condition_cat\", \"xref\": \"x\", \"y\": \"region_cannught\", \"yref\": \"y\"}, {\"font\": {\"color\": \"#FFFFFF\"}, \"showarrow\": false, \"text\": \"-0.31\", \"x\": \"region_Northern-Irl\", \"xref\": \"x\", \"y\": \"region_leinster\", \"yref\": \"y\"}, {\"font\": {\"color\": \"#FFFFFF\"}, \"showarrow\": false, \"text\": \"-0.26\", \"x\": \"region_cannught\", \"xref\": \"x\", \"y\": \"region_leinster\", \"yref\": \"y\"}, {\"font\": {\"color\": \"#000000\"}, \"showarrow\": false, \"text\": \"1.0\", \"x\": \"region_leinster\", \"xref\": \"x\", \"y\": \"region_leinster\", \"yref\": \"y\"}, {\"font\": {\"color\": \"#FFFFFF\"}, \"showarrow\": false, \"text\": \"-0.21\", \"x\": \"region_munster\", \"xref\": \"x\", \"y\": \"region_leinster\", \"yref\": \"y\"}, {\"font\": {\"color\": \"#FFFFFF\"}, \"showarrow\": false, \"text\": \"-0.31\", \"x\": \"region_ulster\", \"xref\": \"x\", \"y\": \"region_leinster\", \"yref\": \"y\"}, {\"font\": {\"color\": \"#FFFFFF\"}, \"showarrow\": false, \"text\": \"0.0\", \"x\": \"loan_condition_cat\", \"xref\": \"x\", \"y\": \"region_leinster\", \"yref\": \"y\"}, {\"font\": {\"color\": \"#FFFFFF\"}, \"showarrow\": false, \"text\": \"-0.2\", \"x\": \"region_Northern-Irl\", \"xref\": \"x\", \"y\": \"region_munster\", \"yref\": \"y\"}, {\"font\": {\"color\": \"#FFFFFF\"}, \"showarrow\": false, \"text\": \"-0.17\", \"x\": \"region_cannught\", \"xref\": \"x\", \"y\": \"region_munster\", \"yref\": \"y\"}, {\"font\": {\"color\": \"#FFFFFF\"}, \"showarrow\": false, \"text\": \"-0.21\", \"x\": \"region_leinster\", \"xref\": \"x\", \"y\": \"region_munster\", \"yref\": \"y\"}, {\"font\": {\"color\": \"#000000\"}, \"showarrow\": false, \"text\": \"1.0\", \"x\": \"region_munster\", \"xref\": \"x\", \"y\": \"region_munster\", \"yref\": \"y\"}, {\"font\": {\"color\": \"#FFFFFF\"}, \"showarrow\": false, \"text\": \"-0.2\", \"x\": \"region_ulster\", \"xref\": \"x\", \"y\": \"region_munster\", \"yref\": \"y\"}, {\"font\": {\"color\": \"#FFFFFF\"}, \"showarrow\": false, \"text\": \"-0.01\", \"x\": \"loan_condition_cat\", \"xref\": \"x\", \"y\": \"region_munster\", \"yref\": \"y\"}, {\"font\": {\"color\": \"#FFFFFF\"}, \"showarrow\": false, \"text\": \"-0.3\", \"x\": \"region_Northern-Irl\", \"xref\": \"x\", \"y\": \"region_ulster\", \"yref\": \"y\"}, {\"font\": {\"color\": \"#FFFFFF\"}, \"showarrow\": false, \"text\": \"-0.26\", \"x\": \"region_cannught\", \"xref\": \"x\", \"y\": \"region_ulster\", \"yref\": \"y\"}, {\"font\": {\"color\": \"#FFFFFF\"}, \"showarrow\": false, \"text\": \"-0.31\", \"x\": \"region_leinster\", \"xref\": \"x\", \"y\": \"region_ulster\", \"yref\": \"y\"}, {\"font\": {\"color\": \"#FFFFFF\"}, \"showarrow\": false, \"text\": \"-0.2\", \"x\": \"region_munster\", \"xref\": \"x\", \"y\": \"region_ulster\", \"yref\": \"y\"}, {\"font\": {\"color\": \"#000000\"}, \"showarrow\": false, \"text\": \"1.0\", \"x\": \"region_ulster\", \"xref\": \"x\", \"y\": \"region_ulster\", \"yref\": \"y\"}, {\"font\": {\"color\": \"#FFFFFF\"}, \"showarrow\": false, \"text\": \"0.01\", \"x\": \"loan_condition_cat\", \"xref\": \"x\", \"y\": \"region_ulster\", \"yref\": \"y\"}, {\"font\": {\"color\": \"#FFFFFF\"}, \"showarrow\": false, \"text\": \"0.01\", \"x\": \"region_Northern-Irl\", \"xref\": \"x\", \"y\": \"loan_condition_cat\", \"yref\": \"y\"}, {\"font\": {\"color\": \"#FFFFFF\"}, \"showarrow\": false, \"text\": \"-0.01\", \"x\": \"region_cannught\", \"xref\": \"x\", \"y\": \"loan_condition_cat\", \"yref\": \"y\"}, {\"font\": {\"color\": \"#FFFFFF\"}, \"showarrow\": false, \"text\": \"0.0\", \"x\": \"region_leinster\", \"xref\": \"x\", \"y\": \"loan_condition_cat\", \"yref\": \"y\"}, {\"font\": {\"color\": \"#FFFFFF\"}, \"showarrow\": false, \"text\": \"-0.01\", \"x\": \"region_munster\", \"xref\": \"x\", \"y\": \"loan_condition_cat\", \"yref\": \"y\"}, {\"font\": {\"color\": \"#FFFFFF\"}, \"showarrow\": false, \"text\": \"0.01\", \"x\": \"region_ulster\", \"xref\": \"x\", \"y\": \"loan_condition_cat\", \"yref\": \"y\"}, {\"font\": {\"color\": \"#000000\"}, \"showarrow\": false, \"text\": \"1.0\", \"x\": \"loan_condition_cat\", \"xref\": \"x\", \"y\": \"loan_condition_cat\", \"yref\": \"y\"}], \"template\": {\"data\": {\"bar\": [{\"error_x\": {\"color\": \"#2a3f5f\"}, \"error_y\": {\"color\": \"#2a3f5f\"}, \"marker\": {\"line\": {\"color\": \"#E5ECF6\", \"width\": 0.5}}, \"type\": \"bar\"}], \"barpolar\": [{\"marker\": {\"line\": {\"color\": \"#E5ECF6\", \"width\": 0.5}}, \"type\": \"barpolar\"}], \"carpet\": [{\"aaxis\": {\"endlinecolor\": \"#2a3f5f\", \"gridcolor\": \"white\", \"linecolor\": \"white\", \"minorgridcolor\": \"white\", \"startlinecolor\": \"#2a3f5f\"}, \"baxis\": {\"endlinecolor\": \"#2a3f5f\", \"gridcolor\": \"white\", \"linecolor\": \"white\", \"minorgridcolor\": \"white\", \"startlinecolor\": \"#2a3f5f\"}, \"type\": \"carpet\"}], \"choropleth\": [{\"colorbar\": {\"outlinewidth\": 0, \"ticks\": \"\"}, \"type\": \"choropleth\"}], \"contour\": [{\"colorbar\": {\"outlinewidth\": 0, \"ticks\": \"\"}, \"colorscale\": [[0.0, \"#0d0887\"], [0.1111111111111111, \"#46039f\"], [0.2222222222222222, \"#7201a8\"], [0.3333333333333333, \"#9c179e\"], [0.4444444444444444, \"#bd3786\"], [0.5555555555555556, \"#d8576b\"], [0.6666666666666666, \"#ed7953\"], [0.7777777777777778, \"#fb9f3a\"], [0.8888888888888888, \"#fdca26\"], [1.0, \"#f0f921\"]], \"type\": \"contour\"}], \"contourcarpet\": [{\"colorbar\": {\"outlinewidth\": 0, \"ticks\": \"\"}, \"type\": \"contourcarpet\"}], \"heatmap\": [{\"colorbar\": {\"outlinewidth\": 0, \"ticks\": \"\"}, \"colorscale\": [[0.0, \"#0d0887\"], [0.1111111111111111, \"#46039f\"], [0.2222222222222222, \"#7201a8\"], [0.3333333333333333, \"#9c179e\"], [0.4444444444444444, \"#bd3786\"], [0.5555555555555556, \"#d8576b\"], [0.6666666666666666, \"#ed7953\"], [0.7777777777777778, \"#fb9f3a\"], [0.8888888888888888, \"#fdca26\"], [1.0, \"#f0f921\"]], \"type\": \"heatmap\"}], \"heatmapgl\": [{\"colorbar\": {\"outlinewidth\": 0, \"ticks\": \"\"}, \"colorscale\": [[0.0, \"#0d0887\"], [0.1111111111111111, \"#46039f\"], [0.2222222222222222, \"#7201a8\"], [0.3333333333333333, \"#9c179e\"], [0.4444444444444444, \"#bd3786\"], [0.5555555555555556, \"#d8576b\"], [0.6666666666666666, \"#ed7953\"], [0.7777777777777778, \"#fb9f3a\"], [0.8888888888888888, \"#fdca26\"], [1.0, \"#f0f921\"]], \"type\": \"heatmapgl\"}], \"histogram\": [{\"marker\": {\"colorbar\": {\"outlinewidth\": 0, \"ticks\": \"\"}}, \"type\": \"histogram\"}], \"histogram2d\": [{\"colorbar\": {\"outlinewidth\": 0, \"ticks\": \"\"}, \"colorscale\": [[0.0, \"#0d0887\"], [0.1111111111111111, \"#46039f\"], [0.2222222222222222, \"#7201a8\"], [0.3333333333333333, \"#9c179e\"], [0.4444444444444444, \"#bd3786\"], [0.5555555555555556, \"#d8576b\"], [0.6666666666666666, \"#ed7953\"], [0.7777777777777778, \"#fb9f3a\"], [0.8888888888888888, \"#fdca26\"], [1.0, \"#f0f921\"]], \"type\": \"histogram2d\"}], \"histogram2dcontour\": [{\"colorbar\": {\"outlinewidth\": 0, \"ticks\": \"\"}, \"colorscale\": [[0.0, \"#0d0887\"], [0.1111111111111111, \"#46039f\"], [0.2222222222222222, \"#7201a8\"], [0.3333333333333333, \"#9c179e\"], [0.4444444444444444, \"#bd3786\"], [0.5555555555555556, \"#d8576b\"], [0.6666666666666666, \"#ed7953\"], [0.7777777777777778, \"#fb9f3a\"], [0.8888888888888888, \"#fdca26\"], [1.0, \"#f0f921\"]], \"type\": \"histogram2dcontour\"}], \"mesh3d\": [{\"colorbar\": {\"outlinewidth\": 0, \"ticks\": \"\"}, \"type\": \"mesh3d\"}], \"parcoords\": [{\"line\": {\"colorbar\": {\"outlinewidth\": 0, \"ticks\": \"\"}}, \"type\": \"parcoords\"}], \"pie\": [{\"automargin\": true, \"type\": \"pie\"}], \"scatter\": [{\"marker\": {\"colorbar\": {\"outlinewidth\": 0, \"ticks\": \"\"}}, \"type\": \"scatter\"}], \"scatter3d\": [{\"line\": {\"colorbar\": {\"outlinewidth\": 0, \"ticks\": \"\"}}, \"marker\": {\"colorbar\": {\"outlinewidth\": 0, \"ticks\": \"\"}}, \"type\": \"scatter3d\"}], \"scattercarpet\": [{\"marker\": {\"colorbar\": {\"outlinewidth\": 0, \"ticks\": \"\"}}, \"type\": \"scattercarpet\"}], \"scattergeo\": [{\"marker\": {\"colorbar\": {\"outlinewidth\": 0, \"ticks\": \"\"}}, \"type\": \"scattergeo\"}], \"scattergl\": [{\"marker\": {\"colorbar\": {\"outlinewidth\": 0, \"ticks\": \"\"}}, \"type\": \"scattergl\"}], \"scattermapbox\": [{\"marker\": {\"colorbar\": {\"outlinewidth\": 0, \"ticks\": \"\"}}, \"type\": \"scattermapbox\"}], \"scatterpolar\": [{\"marker\": {\"colorbar\": {\"outlinewidth\": 0, \"ticks\": \"\"}}, \"type\": \"scatterpolar\"}], \"scatterpolargl\": [{\"marker\": {\"colorbar\": {\"outlinewidth\": 0, \"ticks\": \"\"}}, \"type\": \"scatterpolargl\"}], \"scatterternary\": [{\"marker\": {\"colorbar\": {\"outlinewidth\": 0, \"ticks\": \"\"}}, \"type\": \"scatterternary\"}], \"surface\": [{\"colorbar\": {\"outlinewidth\": 0, \"ticks\": \"\"}, \"colorscale\": [[0.0, \"#0d0887\"], [0.1111111111111111, \"#46039f\"], [0.2222222222222222, \"#7201a8\"], [0.3333333333333333, \"#9c179e\"], [0.4444444444444444, \"#bd3786\"], [0.5555555555555556, \"#d8576b\"], [0.6666666666666666, \"#ed7953\"], [0.7777777777777778, \"#fb9f3a\"], [0.8888888888888888, \"#fdca26\"], [1.0, \"#f0f921\"]], \"type\": \"surface\"}], \"table\": [{\"cells\": {\"fill\": {\"color\": \"#EBF0F8\"}, \"line\": {\"color\": \"white\"}}, \"header\": {\"fill\": {\"color\": \"#C8D4E3\"}, \"line\": {\"color\": \"white\"}}, \"type\": \"table\"}]}, \"layout\": {\"annotationdefaults\": {\"arrowcolor\": \"#2a3f5f\", \"arrowhead\": 0, \"arrowwidth\": 1}, \"coloraxis\": {\"colorbar\": {\"outlinewidth\": 0, \"ticks\": \"\"}}, \"colorscale\": {\"diverging\": [[0, \"#8e0152\"], [0.1, \"#c51b7d\"], [0.2, \"#de77ae\"], [0.3, \"#f1b6da\"], [0.4, \"#fde0ef\"], [0.5, \"#f7f7f7\"], [0.6, \"#e6f5d0\"], [0.7, \"#b8e186\"], [0.8, \"#7fbc41\"], [0.9, \"#4d9221\"], [1, \"#276419\"]], \"sequential\": [[0.0, \"#0d0887\"], [0.1111111111111111, \"#46039f\"], [0.2222222222222222, \"#7201a8\"], [0.3333333333333333, \"#9c179e\"], [0.4444444444444444, \"#bd3786\"], [0.5555555555555556, \"#d8576b\"], [0.6666666666666666, \"#ed7953\"], [0.7777777777777778, \"#fb9f3a\"], [0.8888888888888888, \"#fdca26\"], [1.0, \"#f0f921\"]], \"sequentialminus\": [[0.0, \"#0d0887\"], [0.1111111111111111, \"#46039f\"], [0.2222222222222222, \"#7201a8\"], [0.3333333333333333, \"#9c179e\"], [0.4444444444444444, \"#bd3786\"], [0.5555555555555556, \"#d8576b\"], [0.6666666666666666, \"#ed7953\"], [0.7777777777777778, \"#fb9f3a\"], [0.8888888888888888, \"#fdca26\"], [1.0, \"#f0f921\"]]}, \"colorway\": [\"#636efa\", \"#EF553B\", \"#00cc96\", \"#ab63fa\", \"#FFA15A\", \"#19d3f3\", \"#FF6692\", \"#B6E880\", \"#FF97FF\", \"#FECB52\"], \"font\": {\"color\": \"#2a3f5f\"}, \"geo\": {\"bgcolor\": \"white\", \"lakecolor\": \"white\", \"landcolor\": \"#E5ECF6\", \"showlakes\": true, \"showland\": true, \"subunitcolor\": \"white\"}, \"hoverlabel\": {\"align\": \"left\"}, \"hovermode\": \"closest\", \"mapbox\": {\"style\": \"light\"}, \"paper_bgcolor\": \"white\", \"plot_bgcolor\": \"#E5ECF6\", \"polar\": {\"angularaxis\": {\"gridcolor\": \"white\", \"linecolor\": \"white\", \"ticks\": \"\"}, \"bgcolor\": \"#E5ECF6\", \"radialaxis\": {\"gridcolor\": \"white\", \"linecolor\": \"white\", \"ticks\": \"\"}}, \"scene\": {\"xaxis\": {\"backgroundcolor\": \"#E5ECF6\", \"gridcolor\": \"white\", \"gridwidth\": 2, \"linecolor\": \"white\", \"showbackground\": true, \"ticks\": \"\", \"zerolinecolor\": \"white\"}, \"yaxis\": {\"backgroundcolor\": \"#E5ECF6\", \"gridcolor\": \"white\", \"gridwidth\": 2, \"linecolor\": \"white\", \"showbackground\": true, \"ticks\": \"\", \"zerolinecolor\": \"white\"}, \"zaxis\": {\"backgroundcolor\": \"#E5ECF6\", \"gridcolor\": \"white\", \"gridwidth\": 2, \"linecolor\": \"white\", \"showbackground\": true, \"ticks\": \"\", \"zerolinecolor\": \"white\"}}, \"shapedefaults\": {\"line\": {\"color\": \"#2a3f5f\"}}, \"ternary\": {\"aaxis\": {\"gridcolor\": \"white\", \"linecolor\": \"white\", \"ticks\": \"\"}, \"baxis\": {\"gridcolor\": \"white\", \"linecolor\": \"white\", \"ticks\": \"\"}, \"bgcolor\": \"#E5ECF6\", \"caxis\": {\"gridcolor\": \"white\", \"linecolor\": \"white\", \"ticks\": \"\"}}, \"title\": {\"x\": 0.05}, \"xaxis\": {\"automargin\": true, \"gridcolor\": \"white\", \"linecolor\": \"white\", \"ticks\": \"\", \"title\": {\"standoff\": 15}, \"zerolinecolor\": \"white\", \"zerolinewidth\": 2}, \"yaxis\": {\"automargin\": true, \"gridcolor\": \"white\", \"linecolor\": \"white\", \"ticks\": \"\", \"title\": {\"standoff\": 15}, \"zerolinecolor\": \"white\", \"zerolinewidth\": 2}}}, \"xaxis\": {\"dtick\": 1, \"gridcolor\": \"rgb(0, 0, 0)\", \"side\": \"top\", \"ticks\": \"\"}, \"yaxis\": {\"dtick\": 1, \"ticks\": \"\", \"ticksuffix\": \"  \"}},\n",
       "                        {\"responsive\": true}\n",
       "                    ).then(function(){\n",
       "                            \n",
       "var gd = document.getElementById('158b41d8-a6c6-4726-b8d9-67ec4dfb3b33');\n",
       "var x = new MutationObserver(function (mutations, observer) {{\n",
       "        var display = window.getComputedStyle(gd).display;\n",
       "        if (!display || display === 'none') {{\n",
       "            console.log([gd, 'removed!']);\n",
       "            Plotly.purge(gd);\n",
       "            observer.disconnect();\n",
       "        }}\n",
       "}});\n",
       "\n",
       "// Listen for the removal of the full notebook cells\n",
       "var notebookContainer = gd.closest('#notebook-container');\n",
       "if (notebookContainer) {{\n",
       "    x.observe(notebookContainer, {childList: true});\n",
       "}}\n",
       "\n",
       "// Listen for the clearing of the current output cell\n",
       "var outputEl = gd.closest('.output');\n",
       "if (outputEl) {{\n",
       "    x.observe(outputEl, {childList: true});\n",
       "}}\n",
       "\n",
       "                        })\n",
       "                };\n",
       "                });\n",
       "            </script>\n",
       "        </div>"
      ]
     },
     "metadata": {},
     "output_type": "display_data"
    }
   ],
   "source": [
    "transform_columns = ['region']\n",
    "enc = pd.get_dummies(data[transform_columns])\n",
    "enc = pd.concat((enc, data['loan_condition_cat']), axis = 1)\n",
    "\n",
    "corrs = enc.corr()\n",
    "\n",
    "figure = ff.create_annotated_heatmap(\n",
    "    z=corrs.values,\n",
    "    x=list(corrs.columns),\n",
    "    y=list(corrs.index),\n",
    "    annotation_text=corrs.round(2).values,\n",
    "    showscale=True)\n",
    "figure.show()"
   ]
  },
  {
   "cell_type": "markdown",
   "metadata": {},
   "source": [
    "Значение признака region практически не имеет связи с loan_condition. \n",
    "Возможно его вообще стоит удалить."
   ]
  },
  {
   "cell_type": "markdown",
   "metadata": {},
   "source": [
    "## Посмотрим на новую таблицу корреляции для закодированных с помощью OneHotEncode признака home_ownership."
   ]
  },
  {
   "cell_type": "code",
   "execution_count": 14,
   "metadata": {},
   "outputs": [
    {
     "data": {
      "application/vnd.plotly.v1+json": {
       "config": {
        "plotlyServerURL": "https://plot.ly"
       },
       "data": [
        {
         "colorscale": [
          [
           0,
           "#0d0887"
          ],
          [
           0.1111111111111111,
           "#46039f"
          ],
          [
           0.2222222222222222,
           "#7201a8"
          ],
          [
           0.3333333333333333,
           "#9c179e"
          ],
          [
           0.4444444444444444,
           "#bd3786"
          ],
          [
           0.5555555555555556,
           "#d8576b"
          ],
          [
           0.6666666666666666,
           "#ed7953"
          ],
          [
           0.7777777777777778,
           "#fb9f3a"
          ],
          [
           0.8888888888888888,
           "#fdca26"
          ],
          [
           1,
           "#f0f921"
          ]
         ],
         "reversescale": false,
         "showscale": true,
         "type": "heatmap",
         "x": [
          "home_ownership_ANY",
          "home_ownership_MORTGAGE",
          "home_ownership_NONE",
          "home_ownership_OTHER",
          "home_ownership_OWN",
          "home_ownership_RENT",
          "loan_condition_cat"
         ],
         "y": [
          "home_ownership_ANY",
          "home_ownership_MORTGAGE",
          "home_ownership_NONE",
          "home_ownership_OTHER",
          "home_ownership_OWN",
          "home_ownership_RENT",
          "loan_condition_cat"
         ],
         "z": [
          [
           1,
           -0.00183813368439606,
           -1.3802236110663328e-05,
           -2.6334947065227503e-05,
           -0.000608017472533914,
           -0.0015053890914838864,
           -0.0005272741283616553
          ],
          [
           -0.00183813368439606,
           1,
           -0.007504348080009186,
           -0.014318448682696728,
           -0.33058228509092114,
           -0.8184879354445255,
           -0.034069229189993215
          ],
          [
           -1.3802236110663328e-05,
           -0.007504348080009186,
           1,
           -0.00010751481850364487,
           -0.002482286675484828,
           -0.006145887991715196,
           0.0023800321377334837
          ],
          [
           -2.6334947065227503e-05,
           -0.014318448682696728,
           -0.00010751481850364487,
           1,
           -0.004736253436346346,
           -0.011726479220349813,
           0.007178448526974541
          ],
          [
           -0.000608017472533914,
           -0.33058228509092114,
           -0.002482286675484828,
           -0.004736253436346346,
           1,
           -0.2707392667043037,
           -0.00504430143783113
          ],
          [
           -0.0015053890914838864,
           -0.8184879354445255,
           -0.006145887991715196,
           -0.011726479220349813,
           -0.2707392667043037,
           1,
           0.03757630079765596
          ],
          [
           -0.0005272741283616553,
           -0.034069229189993215,
           0.0023800321377334837,
           0.007178448526974541,
           -0.00504430143783113,
           0.03757630079765596,
           1
          ]
         ]
        }
       ],
       "layout": {
        "annotations": [
         {
          "font": {
           "color": "#000000"
          },
          "showarrow": false,
          "text": "1.0",
          "x": "home_ownership_ANY",
          "xref": "x",
          "y": "home_ownership_ANY",
          "yref": "y"
         },
         {
          "font": {
           "color": "#FFFFFF"
          },
          "showarrow": false,
          "text": "-0.0",
          "x": "home_ownership_MORTGAGE",
          "xref": "x",
          "y": "home_ownership_ANY",
          "yref": "y"
         },
         {
          "font": {
           "color": "#FFFFFF"
          },
          "showarrow": false,
          "text": "-0.0",
          "x": "home_ownership_NONE",
          "xref": "x",
          "y": "home_ownership_ANY",
          "yref": "y"
         },
         {
          "font": {
           "color": "#FFFFFF"
          },
          "showarrow": false,
          "text": "-0.0",
          "x": "home_ownership_OTHER",
          "xref": "x",
          "y": "home_ownership_ANY",
          "yref": "y"
         },
         {
          "font": {
           "color": "#FFFFFF"
          },
          "showarrow": false,
          "text": "-0.0",
          "x": "home_ownership_OWN",
          "xref": "x",
          "y": "home_ownership_ANY",
          "yref": "y"
         },
         {
          "font": {
           "color": "#FFFFFF"
          },
          "showarrow": false,
          "text": "-0.0",
          "x": "home_ownership_RENT",
          "xref": "x",
          "y": "home_ownership_ANY",
          "yref": "y"
         },
         {
          "font": {
           "color": "#FFFFFF"
          },
          "showarrow": false,
          "text": "-0.0",
          "x": "loan_condition_cat",
          "xref": "x",
          "y": "home_ownership_ANY",
          "yref": "y"
         },
         {
          "font": {
           "color": "#FFFFFF"
          },
          "showarrow": false,
          "text": "-0.0",
          "x": "home_ownership_ANY",
          "xref": "x",
          "y": "home_ownership_MORTGAGE",
          "yref": "y"
         },
         {
          "font": {
           "color": "#000000"
          },
          "showarrow": false,
          "text": "1.0",
          "x": "home_ownership_MORTGAGE",
          "xref": "x",
          "y": "home_ownership_MORTGAGE",
          "yref": "y"
         },
         {
          "font": {
           "color": "#FFFFFF"
          },
          "showarrow": false,
          "text": "-0.01",
          "x": "home_ownership_NONE",
          "xref": "x",
          "y": "home_ownership_MORTGAGE",
          "yref": "y"
         },
         {
          "font": {
           "color": "#FFFFFF"
          },
          "showarrow": false,
          "text": "-0.01",
          "x": "home_ownership_OTHER",
          "xref": "x",
          "y": "home_ownership_MORTGAGE",
          "yref": "y"
         },
         {
          "font": {
           "color": "#FFFFFF"
          },
          "showarrow": false,
          "text": "-0.33",
          "x": "home_ownership_OWN",
          "xref": "x",
          "y": "home_ownership_MORTGAGE",
          "yref": "y"
         },
         {
          "font": {
           "color": "#FFFFFF"
          },
          "showarrow": false,
          "text": "-0.82",
          "x": "home_ownership_RENT",
          "xref": "x",
          "y": "home_ownership_MORTGAGE",
          "yref": "y"
         },
         {
          "font": {
           "color": "#FFFFFF"
          },
          "showarrow": false,
          "text": "-0.03",
          "x": "loan_condition_cat",
          "xref": "x",
          "y": "home_ownership_MORTGAGE",
          "yref": "y"
         },
         {
          "font": {
           "color": "#FFFFFF"
          },
          "showarrow": false,
          "text": "-0.0",
          "x": "home_ownership_ANY",
          "xref": "x",
          "y": "home_ownership_NONE",
          "yref": "y"
         },
         {
          "font": {
           "color": "#FFFFFF"
          },
          "showarrow": false,
          "text": "-0.01",
          "x": "home_ownership_MORTGAGE",
          "xref": "x",
          "y": "home_ownership_NONE",
          "yref": "y"
         },
         {
          "font": {
           "color": "#000000"
          },
          "showarrow": false,
          "text": "1.0",
          "x": "home_ownership_NONE",
          "xref": "x",
          "y": "home_ownership_NONE",
          "yref": "y"
         },
         {
          "font": {
           "color": "#FFFFFF"
          },
          "showarrow": false,
          "text": "-0.0",
          "x": "home_ownership_OTHER",
          "xref": "x",
          "y": "home_ownership_NONE",
          "yref": "y"
         },
         {
          "font": {
           "color": "#FFFFFF"
          },
          "showarrow": false,
          "text": "-0.0",
          "x": "home_ownership_OWN",
          "xref": "x",
          "y": "home_ownership_NONE",
          "yref": "y"
         },
         {
          "font": {
           "color": "#FFFFFF"
          },
          "showarrow": false,
          "text": "-0.01",
          "x": "home_ownership_RENT",
          "xref": "x",
          "y": "home_ownership_NONE",
          "yref": "y"
         },
         {
          "font": {
           "color": "#FFFFFF"
          },
          "showarrow": false,
          "text": "0.0",
          "x": "loan_condition_cat",
          "xref": "x",
          "y": "home_ownership_NONE",
          "yref": "y"
         },
         {
          "font": {
           "color": "#FFFFFF"
          },
          "showarrow": false,
          "text": "-0.0",
          "x": "home_ownership_ANY",
          "xref": "x",
          "y": "home_ownership_OTHER",
          "yref": "y"
         },
         {
          "font": {
           "color": "#FFFFFF"
          },
          "showarrow": false,
          "text": "-0.01",
          "x": "home_ownership_MORTGAGE",
          "xref": "x",
          "y": "home_ownership_OTHER",
          "yref": "y"
         },
         {
          "font": {
           "color": "#FFFFFF"
          },
          "showarrow": false,
          "text": "-0.0",
          "x": "home_ownership_NONE",
          "xref": "x",
          "y": "home_ownership_OTHER",
          "yref": "y"
         },
         {
          "font": {
           "color": "#000000"
          },
          "showarrow": false,
          "text": "1.0",
          "x": "home_ownership_OTHER",
          "xref": "x",
          "y": "home_ownership_OTHER",
          "yref": "y"
         },
         {
          "font": {
           "color": "#FFFFFF"
          },
          "showarrow": false,
          "text": "-0.0",
          "x": "home_ownership_OWN",
          "xref": "x",
          "y": "home_ownership_OTHER",
          "yref": "y"
         },
         {
          "font": {
           "color": "#FFFFFF"
          },
          "showarrow": false,
          "text": "-0.01",
          "x": "home_ownership_RENT",
          "xref": "x",
          "y": "home_ownership_OTHER",
          "yref": "y"
         },
         {
          "font": {
           "color": "#FFFFFF"
          },
          "showarrow": false,
          "text": "0.01",
          "x": "loan_condition_cat",
          "xref": "x",
          "y": "home_ownership_OTHER",
          "yref": "y"
         },
         {
          "font": {
           "color": "#FFFFFF"
          },
          "showarrow": false,
          "text": "-0.0",
          "x": "home_ownership_ANY",
          "xref": "x",
          "y": "home_ownership_OWN",
          "yref": "y"
         },
         {
          "font": {
           "color": "#FFFFFF"
          },
          "showarrow": false,
          "text": "-0.33",
          "x": "home_ownership_MORTGAGE",
          "xref": "x",
          "y": "home_ownership_OWN",
          "yref": "y"
         },
         {
          "font": {
           "color": "#FFFFFF"
          },
          "showarrow": false,
          "text": "-0.0",
          "x": "home_ownership_NONE",
          "xref": "x",
          "y": "home_ownership_OWN",
          "yref": "y"
         },
         {
          "font": {
           "color": "#FFFFFF"
          },
          "showarrow": false,
          "text": "-0.0",
          "x": "home_ownership_OTHER",
          "xref": "x",
          "y": "home_ownership_OWN",
          "yref": "y"
         },
         {
          "font": {
           "color": "#000000"
          },
          "showarrow": false,
          "text": "1.0",
          "x": "home_ownership_OWN",
          "xref": "x",
          "y": "home_ownership_OWN",
          "yref": "y"
         },
         {
          "font": {
           "color": "#FFFFFF"
          },
          "showarrow": false,
          "text": "-0.27",
          "x": "home_ownership_RENT",
          "xref": "x",
          "y": "home_ownership_OWN",
          "yref": "y"
         },
         {
          "font": {
           "color": "#FFFFFF"
          },
          "showarrow": false,
          "text": "-0.01",
          "x": "loan_condition_cat",
          "xref": "x",
          "y": "home_ownership_OWN",
          "yref": "y"
         },
         {
          "font": {
           "color": "#FFFFFF"
          },
          "showarrow": false,
          "text": "-0.0",
          "x": "home_ownership_ANY",
          "xref": "x",
          "y": "home_ownership_RENT",
          "yref": "y"
         },
         {
          "font": {
           "color": "#FFFFFF"
          },
          "showarrow": false,
          "text": "-0.82",
          "x": "home_ownership_MORTGAGE",
          "xref": "x",
          "y": "home_ownership_RENT",
          "yref": "y"
         },
         {
          "font": {
           "color": "#FFFFFF"
          },
          "showarrow": false,
          "text": "-0.01",
          "x": "home_ownership_NONE",
          "xref": "x",
          "y": "home_ownership_RENT",
          "yref": "y"
         },
         {
          "font": {
           "color": "#FFFFFF"
          },
          "showarrow": false,
          "text": "-0.01",
          "x": "home_ownership_OTHER",
          "xref": "x",
          "y": "home_ownership_RENT",
          "yref": "y"
         },
         {
          "font": {
           "color": "#FFFFFF"
          },
          "showarrow": false,
          "text": "-0.27",
          "x": "home_ownership_OWN",
          "xref": "x",
          "y": "home_ownership_RENT",
          "yref": "y"
         },
         {
          "font": {
           "color": "#000000"
          },
          "showarrow": false,
          "text": "1.0",
          "x": "home_ownership_RENT",
          "xref": "x",
          "y": "home_ownership_RENT",
          "yref": "y"
         },
         {
          "font": {
           "color": "#FFFFFF"
          },
          "showarrow": false,
          "text": "0.04",
          "x": "loan_condition_cat",
          "xref": "x",
          "y": "home_ownership_RENT",
          "yref": "y"
         },
         {
          "font": {
           "color": "#FFFFFF"
          },
          "showarrow": false,
          "text": "-0.0",
          "x": "home_ownership_ANY",
          "xref": "x",
          "y": "loan_condition_cat",
          "yref": "y"
         },
         {
          "font": {
           "color": "#FFFFFF"
          },
          "showarrow": false,
          "text": "-0.03",
          "x": "home_ownership_MORTGAGE",
          "xref": "x",
          "y": "loan_condition_cat",
          "yref": "y"
         },
         {
          "font": {
           "color": "#FFFFFF"
          },
          "showarrow": false,
          "text": "0.0",
          "x": "home_ownership_NONE",
          "xref": "x",
          "y": "loan_condition_cat",
          "yref": "y"
         },
         {
          "font": {
           "color": "#FFFFFF"
          },
          "showarrow": false,
          "text": "0.01",
          "x": "home_ownership_OTHER",
          "xref": "x",
          "y": "loan_condition_cat",
          "yref": "y"
         },
         {
          "font": {
           "color": "#FFFFFF"
          },
          "showarrow": false,
          "text": "-0.01",
          "x": "home_ownership_OWN",
          "xref": "x",
          "y": "loan_condition_cat",
          "yref": "y"
         },
         {
          "font": {
           "color": "#FFFFFF"
          },
          "showarrow": false,
          "text": "0.04",
          "x": "home_ownership_RENT",
          "xref": "x",
          "y": "loan_condition_cat",
          "yref": "y"
         },
         {
          "font": {
           "color": "#000000"
          },
          "showarrow": false,
          "text": "1.0",
          "x": "loan_condition_cat",
          "xref": "x",
          "y": "loan_condition_cat",
          "yref": "y"
         }
        ],
        "template": {
         "data": {
          "bar": [
           {
            "error_x": {
             "color": "#2a3f5f"
            },
            "error_y": {
             "color": "#2a3f5f"
            },
            "marker": {
             "line": {
              "color": "#E5ECF6",
              "width": 0.5
             }
            },
            "type": "bar"
           }
          ],
          "barpolar": [
           {
            "marker": {
             "line": {
              "color": "#E5ECF6",
              "width": 0.5
             }
            },
            "type": "barpolar"
           }
          ],
          "carpet": [
           {
            "aaxis": {
             "endlinecolor": "#2a3f5f",
             "gridcolor": "white",
             "linecolor": "white",
             "minorgridcolor": "white",
             "startlinecolor": "#2a3f5f"
            },
            "baxis": {
             "endlinecolor": "#2a3f5f",
             "gridcolor": "white",
             "linecolor": "white",
             "minorgridcolor": "white",
             "startlinecolor": "#2a3f5f"
            },
            "type": "carpet"
           }
          ],
          "choropleth": [
           {
            "colorbar": {
             "outlinewidth": 0,
             "ticks": ""
            },
            "type": "choropleth"
           }
          ],
          "contour": [
           {
            "colorbar": {
             "outlinewidth": 0,
             "ticks": ""
            },
            "colorscale": [
             [
              0,
              "#0d0887"
             ],
             [
              0.1111111111111111,
              "#46039f"
             ],
             [
              0.2222222222222222,
              "#7201a8"
             ],
             [
              0.3333333333333333,
              "#9c179e"
             ],
             [
              0.4444444444444444,
              "#bd3786"
             ],
             [
              0.5555555555555556,
              "#d8576b"
             ],
             [
              0.6666666666666666,
              "#ed7953"
             ],
             [
              0.7777777777777778,
              "#fb9f3a"
             ],
             [
              0.8888888888888888,
              "#fdca26"
             ],
             [
              1,
              "#f0f921"
             ]
            ],
            "type": "contour"
           }
          ],
          "contourcarpet": [
           {
            "colorbar": {
             "outlinewidth": 0,
             "ticks": ""
            },
            "type": "contourcarpet"
           }
          ],
          "heatmap": [
           {
            "colorbar": {
             "outlinewidth": 0,
             "ticks": ""
            },
            "colorscale": [
             [
              0,
              "#0d0887"
             ],
             [
              0.1111111111111111,
              "#46039f"
             ],
             [
              0.2222222222222222,
              "#7201a8"
             ],
             [
              0.3333333333333333,
              "#9c179e"
             ],
             [
              0.4444444444444444,
              "#bd3786"
             ],
             [
              0.5555555555555556,
              "#d8576b"
             ],
             [
              0.6666666666666666,
              "#ed7953"
             ],
             [
              0.7777777777777778,
              "#fb9f3a"
             ],
             [
              0.8888888888888888,
              "#fdca26"
             ],
             [
              1,
              "#f0f921"
             ]
            ],
            "type": "heatmap"
           }
          ],
          "heatmapgl": [
           {
            "colorbar": {
             "outlinewidth": 0,
             "ticks": ""
            },
            "colorscale": [
             [
              0,
              "#0d0887"
             ],
             [
              0.1111111111111111,
              "#46039f"
             ],
             [
              0.2222222222222222,
              "#7201a8"
             ],
             [
              0.3333333333333333,
              "#9c179e"
             ],
             [
              0.4444444444444444,
              "#bd3786"
             ],
             [
              0.5555555555555556,
              "#d8576b"
             ],
             [
              0.6666666666666666,
              "#ed7953"
             ],
             [
              0.7777777777777778,
              "#fb9f3a"
             ],
             [
              0.8888888888888888,
              "#fdca26"
             ],
             [
              1,
              "#f0f921"
             ]
            ],
            "type": "heatmapgl"
           }
          ],
          "histogram": [
           {
            "marker": {
             "colorbar": {
              "outlinewidth": 0,
              "ticks": ""
             }
            },
            "type": "histogram"
           }
          ],
          "histogram2d": [
           {
            "colorbar": {
             "outlinewidth": 0,
             "ticks": ""
            },
            "colorscale": [
             [
              0,
              "#0d0887"
             ],
             [
              0.1111111111111111,
              "#46039f"
             ],
             [
              0.2222222222222222,
              "#7201a8"
             ],
             [
              0.3333333333333333,
              "#9c179e"
             ],
             [
              0.4444444444444444,
              "#bd3786"
             ],
             [
              0.5555555555555556,
              "#d8576b"
             ],
             [
              0.6666666666666666,
              "#ed7953"
             ],
             [
              0.7777777777777778,
              "#fb9f3a"
             ],
             [
              0.8888888888888888,
              "#fdca26"
             ],
             [
              1,
              "#f0f921"
             ]
            ],
            "type": "histogram2d"
           }
          ],
          "histogram2dcontour": [
           {
            "colorbar": {
             "outlinewidth": 0,
             "ticks": ""
            },
            "colorscale": [
             [
              0,
              "#0d0887"
             ],
             [
              0.1111111111111111,
              "#46039f"
             ],
             [
              0.2222222222222222,
              "#7201a8"
             ],
             [
              0.3333333333333333,
              "#9c179e"
             ],
             [
              0.4444444444444444,
              "#bd3786"
             ],
             [
              0.5555555555555556,
              "#d8576b"
             ],
             [
              0.6666666666666666,
              "#ed7953"
             ],
             [
              0.7777777777777778,
              "#fb9f3a"
             ],
             [
              0.8888888888888888,
              "#fdca26"
             ],
             [
              1,
              "#f0f921"
             ]
            ],
            "type": "histogram2dcontour"
           }
          ],
          "mesh3d": [
           {
            "colorbar": {
             "outlinewidth": 0,
             "ticks": ""
            },
            "type": "mesh3d"
           }
          ],
          "parcoords": [
           {
            "line": {
             "colorbar": {
              "outlinewidth": 0,
              "ticks": ""
             }
            },
            "type": "parcoords"
           }
          ],
          "pie": [
           {
            "automargin": true,
            "type": "pie"
           }
          ],
          "scatter": [
           {
            "marker": {
             "colorbar": {
              "outlinewidth": 0,
              "ticks": ""
             }
            },
            "type": "scatter"
           }
          ],
          "scatter3d": [
           {
            "line": {
             "colorbar": {
              "outlinewidth": 0,
              "ticks": ""
             }
            },
            "marker": {
             "colorbar": {
              "outlinewidth": 0,
              "ticks": ""
             }
            },
            "type": "scatter3d"
           }
          ],
          "scattercarpet": [
           {
            "marker": {
             "colorbar": {
              "outlinewidth": 0,
              "ticks": ""
             }
            },
            "type": "scattercarpet"
           }
          ],
          "scattergeo": [
           {
            "marker": {
             "colorbar": {
              "outlinewidth": 0,
              "ticks": ""
             }
            },
            "type": "scattergeo"
           }
          ],
          "scattergl": [
           {
            "marker": {
             "colorbar": {
              "outlinewidth": 0,
              "ticks": ""
             }
            },
            "type": "scattergl"
           }
          ],
          "scattermapbox": [
           {
            "marker": {
             "colorbar": {
              "outlinewidth": 0,
              "ticks": ""
             }
            },
            "type": "scattermapbox"
           }
          ],
          "scatterpolar": [
           {
            "marker": {
             "colorbar": {
              "outlinewidth": 0,
              "ticks": ""
             }
            },
            "type": "scatterpolar"
           }
          ],
          "scatterpolargl": [
           {
            "marker": {
             "colorbar": {
              "outlinewidth": 0,
              "ticks": ""
             }
            },
            "type": "scatterpolargl"
           }
          ],
          "scatterternary": [
           {
            "marker": {
             "colorbar": {
              "outlinewidth": 0,
              "ticks": ""
             }
            },
            "type": "scatterternary"
           }
          ],
          "surface": [
           {
            "colorbar": {
             "outlinewidth": 0,
             "ticks": ""
            },
            "colorscale": [
             [
              0,
              "#0d0887"
             ],
             [
              0.1111111111111111,
              "#46039f"
             ],
             [
              0.2222222222222222,
              "#7201a8"
             ],
             [
              0.3333333333333333,
              "#9c179e"
             ],
             [
              0.4444444444444444,
              "#bd3786"
             ],
             [
              0.5555555555555556,
              "#d8576b"
             ],
             [
              0.6666666666666666,
              "#ed7953"
             ],
             [
              0.7777777777777778,
              "#fb9f3a"
             ],
             [
              0.8888888888888888,
              "#fdca26"
             ],
             [
              1,
              "#f0f921"
             ]
            ],
            "type": "surface"
           }
          ],
          "table": [
           {
            "cells": {
             "fill": {
              "color": "#EBF0F8"
             },
             "line": {
              "color": "white"
             }
            },
            "header": {
             "fill": {
              "color": "#C8D4E3"
             },
             "line": {
              "color": "white"
             }
            },
            "type": "table"
           }
          ]
         },
         "layout": {
          "annotationdefaults": {
           "arrowcolor": "#2a3f5f",
           "arrowhead": 0,
           "arrowwidth": 1
          },
          "coloraxis": {
           "colorbar": {
            "outlinewidth": 0,
            "ticks": ""
           }
          },
          "colorscale": {
           "diverging": [
            [
             0,
             "#8e0152"
            ],
            [
             0.1,
             "#c51b7d"
            ],
            [
             0.2,
             "#de77ae"
            ],
            [
             0.3,
             "#f1b6da"
            ],
            [
             0.4,
             "#fde0ef"
            ],
            [
             0.5,
             "#f7f7f7"
            ],
            [
             0.6,
             "#e6f5d0"
            ],
            [
             0.7,
             "#b8e186"
            ],
            [
             0.8,
             "#7fbc41"
            ],
            [
             0.9,
             "#4d9221"
            ],
            [
             1,
             "#276419"
            ]
           ],
           "sequential": [
            [
             0,
             "#0d0887"
            ],
            [
             0.1111111111111111,
             "#46039f"
            ],
            [
             0.2222222222222222,
             "#7201a8"
            ],
            [
             0.3333333333333333,
             "#9c179e"
            ],
            [
             0.4444444444444444,
             "#bd3786"
            ],
            [
             0.5555555555555556,
             "#d8576b"
            ],
            [
             0.6666666666666666,
             "#ed7953"
            ],
            [
             0.7777777777777778,
             "#fb9f3a"
            ],
            [
             0.8888888888888888,
             "#fdca26"
            ],
            [
             1,
             "#f0f921"
            ]
           ],
           "sequentialminus": [
            [
             0,
             "#0d0887"
            ],
            [
             0.1111111111111111,
             "#46039f"
            ],
            [
             0.2222222222222222,
             "#7201a8"
            ],
            [
             0.3333333333333333,
             "#9c179e"
            ],
            [
             0.4444444444444444,
             "#bd3786"
            ],
            [
             0.5555555555555556,
             "#d8576b"
            ],
            [
             0.6666666666666666,
             "#ed7953"
            ],
            [
             0.7777777777777778,
             "#fb9f3a"
            ],
            [
             0.8888888888888888,
             "#fdca26"
            ],
            [
             1,
             "#f0f921"
            ]
           ]
          },
          "colorway": [
           "#636efa",
           "#EF553B",
           "#00cc96",
           "#ab63fa",
           "#FFA15A",
           "#19d3f3",
           "#FF6692",
           "#B6E880",
           "#FF97FF",
           "#FECB52"
          ],
          "font": {
           "color": "#2a3f5f"
          },
          "geo": {
           "bgcolor": "white",
           "lakecolor": "white",
           "landcolor": "#E5ECF6",
           "showlakes": true,
           "showland": true,
           "subunitcolor": "white"
          },
          "hoverlabel": {
           "align": "left"
          },
          "hovermode": "closest",
          "mapbox": {
           "style": "light"
          },
          "paper_bgcolor": "white",
          "plot_bgcolor": "#E5ECF6",
          "polar": {
           "angularaxis": {
            "gridcolor": "white",
            "linecolor": "white",
            "ticks": ""
           },
           "bgcolor": "#E5ECF6",
           "radialaxis": {
            "gridcolor": "white",
            "linecolor": "white",
            "ticks": ""
           }
          },
          "scene": {
           "xaxis": {
            "backgroundcolor": "#E5ECF6",
            "gridcolor": "white",
            "gridwidth": 2,
            "linecolor": "white",
            "showbackground": true,
            "ticks": "",
            "zerolinecolor": "white"
           },
           "yaxis": {
            "backgroundcolor": "#E5ECF6",
            "gridcolor": "white",
            "gridwidth": 2,
            "linecolor": "white",
            "showbackground": true,
            "ticks": "",
            "zerolinecolor": "white"
           },
           "zaxis": {
            "backgroundcolor": "#E5ECF6",
            "gridcolor": "white",
            "gridwidth": 2,
            "linecolor": "white",
            "showbackground": true,
            "ticks": "",
            "zerolinecolor": "white"
           }
          },
          "shapedefaults": {
           "line": {
            "color": "#2a3f5f"
           }
          },
          "ternary": {
           "aaxis": {
            "gridcolor": "white",
            "linecolor": "white",
            "ticks": ""
           },
           "baxis": {
            "gridcolor": "white",
            "linecolor": "white",
            "ticks": ""
           },
           "bgcolor": "#E5ECF6",
           "caxis": {
            "gridcolor": "white",
            "linecolor": "white",
            "ticks": ""
           }
          },
          "title": {
           "x": 0.05
          },
          "xaxis": {
           "automargin": true,
           "gridcolor": "white",
           "linecolor": "white",
           "ticks": "",
           "title": {
            "standoff": 15
           },
           "zerolinecolor": "white",
           "zerolinewidth": 2
          },
          "yaxis": {
           "automargin": true,
           "gridcolor": "white",
           "linecolor": "white",
           "ticks": "",
           "title": {
            "standoff": 15
           },
           "zerolinecolor": "white",
           "zerolinewidth": 2
          }
         }
        },
        "xaxis": {
         "dtick": 1,
         "gridcolor": "rgb(0, 0, 0)",
         "side": "top",
         "ticks": ""
        },
        "yaxis": {
         "dtick": 1,
         "ticks": "",
         "ticksuffix": "  "
        }
       }
      },
      "text/html": [
       "<div>\n",
       "        \n",
       "        \n",
       "            <div id=\"f534a551-6865-4a00-8e32-2746be115dd2\" class=\"plotly-graph-div\" style=\"height:525px; width:100%;\"></div>\n",
       "            <script type=\"text/javascript\">\n",
       "                require([\"plotly\"], function(Plotly) {\n",
       "                    window.PLOTLYENV=window.PLOTLYENV || {};\n",
       "                    \n",
       "                if (document.getElementById(\"f534a551-6865-4a00-8e32-2746be115dd2\")) {\n",
       "                    Plotly.newPlot(\n",
       "                        'f534a551-6865-4a00-8e32-2746be115dd2',\n",
       "                        [{\"colorscale\": [[0.0, \"#0d0887\"], [0.1111111111111111, \"#46039f\"], [0.2222222222222222, \"#7201a8\"], [0.3333333333333333, \"#9c179e\"], [0.4444444444444444, \"#bd3786\"], [0.5555555555555556, \"#d8576b\"], [0.6666666666666666, \"#ed7953\"], [0.7777777777777778, \"#fb9f3a\"], [0.8888888888888888, \"#fdca26\"], [1.0, \"#f0f921\"]], \"reversescale\": false, \"showscale\": true, \"type\": \"heatmap\", \"x\": [\"home_ownership_ANY\", \"home_ownership_MORTGAGE\", \"home_ownership_NONE\", \"home_ownership_OTHER\", \"home_ownership_OWN\", \"home_ownership_RENT\", \"loan_condition_cat\"], \"y\": [\"home_ownership_ANY\", \"home_ownership_MORTGAGE\", \"home_ownership_NONE\", \"home_ownership_OTHER\", \"home_ownership_OWN\", \"home_ownership_RENT\", \"loan_condition_cat\"], \"z\": [[1.0, -0.00183813368439606, -1.3802236110663328e-05, -2.6334947065227503e-05, -0.000608017472533914, -0.0015053890914838864, -0.0005272741283616553], [-0.00183813368439606, 1.0, -0.007504348080009186, -0.014318448682696728, -0.33058228509092114, -0.8184879354445255, -0.034069229189993215], [-1.3802236110663328e-05, -0.007504348080009186, 1.0, -0.00010751481850364487, -0.002482286675484828, -0.006145887991715196, 0.0023800321377334837], [-2.6334947065227503e-05, -0.014318448682696728, -0.00010751481850364487, 1.0, -0.004736253436346346, -0.011726479220349813, 0.007178448526974541], [-0.000608017472533914, -0.33058228509092114, -0.002482286675484828, -0.004736253436346346, 1.0, -0.2707392667043037, -0.00504430143783113], [-0.0015053890914838864, -0.8184879354445255, -0.006145887991715196, -0.011726479220349813, -0.2707392667043037, 1.0, 0.03757630079765596], [-0.0005272741283616553, -0.034069229189993215, 0.0023800321377334837, 0.007178448526974541, -0.00504430143783113, 0.03757630079765596, 1.0]]}],\n",
       "                        {\"annotations\": [{\"font\": {\"color\": \"#000000\"}, \"showarrow\": false, \"text\": \"1.0\", \"x\": \"home_ownership_ANY\", \"xref\": \"x\", \"y\": \"home_ownership_ANY\", \"yref\": \"y\"}, {\"font\": {\"color\": \"#FFFFFF\"}, \"showarrow\": false, \"text\": \"-0.0\", \"x\": \"home_ownership_MORTGAGE\", \"xref\": \"x\", \"y\": \"home_ownership_ANY\", \"yref\": \"y\"}, {\"font\": {\"color\": \"#FFFFFF\"}, \"showarrow\": false, \"text\": \"-0.0\", \"x\": \"home_ownership_NONE\", \"xref\": \"x\", \"y\": \"home_ownership_ANY\", \"yref\": \"y\"}, {\"font\": {\"color\": \"#FFFFFF\"}, \"showarrow\": false, \"text\": \"-0.0\", \"x\": \"home_ownership_OTHER\", \"xref\": \"x\", \"y\": \"home_ownership_ANY\", \"yref\": \"y\"}, {\"font\": {\"color\": \"#FFFFFF\"}, \"showarrow\": false, \"text\": \"-0.0\", \"x\": \"home_ownership_OWN\", \"xref\": \"x\", \"y\": \"home_ownership_ANY\", \"yref\": \"y\"}, {\"font\": {\"color\": \"#FFFFFF\"}, \"showarrow\": false, \"text\": \"-0.0\", \"x\": \"home_ownership_RENT\", \"xref\": \"x\", \"y\": \"home_ownership_ANY\", \"yref\": \"y\"}, {\"font\": {\"color\": \"#FFFFFF\"}, \"showarrow\": false, \"text\": \"-0.0\", \"x\": \"loan_condition_cat\", \"xref\": \"x\", \"y\": \"home_ownership_ANY\", \"yref\": \"y\"}, {\"font\": {\"color\": \"#FFFFFF\"}, \"showarrow\": false, \"text\": \"-0.0\", \"x\": \"home_ownership_ANY\", \"xref\": \"x\", \"y\": \"home_ownership_MORTGAGE\", \"yref\": \"y\"}, {\"font\": {\"color\": \"#000000\"}, \"showarrow\": false, \"text\": \"1.0\", \"x\": \"home_ownership_MORTGAGE\", \"xref\": \"x\", \"y\": \"home_ownership_MORTGAGE\", \"yref\": \"y\"}, {\"font\": {\"color\": \"#FFFFFF\"}, \"showarrow\": false, \"text\": \"-0.01\", \"x\": \"home_ownership_NONE\", \"xref\": \"x\", \"y\": \"home_ownership_MORTGAGE\", \"yref\": \"y\"}, {\"font\": {\"color\": \"#FFFFFF\"}, \"showarrow\": false, \"text\": \"-0.01\", \"x\": \"home_ownership_OTHER\", \"xref\": \"x\", \"y\": \"home_ownership_MORTGAGE\", \"yref\": \"y\"}, {\"font\": {\"color\": \"#FFFFFF\"}, \"showarrow\": false, \"text\": \"-0.33\", \"x\": \"home_ownership_OWN\", \"xref\": \"x\", \"y\": \"home_ownership_MORTGAGE\", \"yref\": \"y\"}, {\"font\": {\"color\": \"#FFFFFF\"}, \"showarrow\": false, \"text\": \"-0.82\", \"x\": \"home_ownership_RENT\", \"xref\": \"x\", \"y\": \"home_ownership_MORTGAGE\", \"yref\": \"y\"}, {\"font\": {\"color\": \"#FFFFFF\"}, \"showarrow\": false, \"text\": \"-0.03\", \"x\": \"loan_condition_cat\", \"xref\": \"x\", \"y\": \"home_ownership_MORTGAGE\", \"yref\": \"y\"}, {\"font\": {\"color\": \"#FFFFFF\"}, \"showarrow\": false, \"text\": \"-0.0\", \"x\": \"home_ownership_ANY\", \"xref\": \"x\", \"y\": \"home_ownership_NONE\", \"yref\": \"y\"}, {\"font\": {\"color\": \"#FFFFFF\"}, \"showarrow\": false, \"text\": \"-0.01\", \"x\": \"home_ownership_MORTGAGE\", \"xref\": \"x\", \"y\": \"home_ownership_NONE\", \"yref\": \"y\"}, {\"font\": {\"color\": \"#000000\"}, \"showarrow\": false, \"text\": \"1.0\", \"x\": \"home_ownership_NONE\", \"xref\": \"x\", \"y\": \"home_ownership_NONE\", \"yref\": \"y\"}, {\"font\": {\"color\": \"#FFFFFF\"}, \"showarrow\": false, \"text\": \"-0.0\", \"x\": \"home_ownership_OTHER\", \"xref\": \"x\", \"y\": \"home_ownership_NONE\", \"yref\": \"y\"}, {\"font\": {\"color\": \"#FFFFFF\"}, \"showarrow\": false, \"text\": \"-0.0\", \"x\": \"home_ownership_OWN\", \"xref\": \"x\", \"y\": \"home_ownership_NONE\", \"yref\": \"y\"}, {\"font\": {\"color\": \"#FFFFFF\"}, \"showarrow\": false, \"text\": \"-0.01\", \"x\": \"home_ownership_RENT\", \"xref\": \"x\", \"y\": \"home_ownership_NONE\", \"yref\": \"y\"}, {\"font\": {\"color\": \"#FFFFFF\"}, \"showarrow\": false, \"text\": \"0.0\", \"x\": \"loan_condition_cat\", \"xref\": \"x\", \"y\": \"home_ownership_NONE\", \"yref\": \"y\"}, {\"font\": {\"color\": \"#FFFFFF\"}, \"showarrow\": false, \"text\": \"-0.0\", \"x\": \"home_ownership_ANY\", \"xref\": \"x\", \"y\": \"home_ownership_OTHER\", \"yref\": \"y\"}, {\"font\": {\"color\": \"#FFFFFF\"}, \"showarrow\": false, \"text\": \"-0.01\", \"x\": \"home_ownership_MORTGAGE\", \"xref\": \"x\", \"y\": \"home_ownership_OTHER\", \"yref\": \"y\"}, {\"font\": {\"color\": \"#FFFFFF\"}, \"showarrow\": false, \"text\": \"-0.0\", \"x\": \"home_ownership_NONE\", \"xref\": \"x\", \"y\": \"home_ownership_OTHER\", \"yref\": \"y\"}, {\"font\": {\"color\": \"#000000\"}, \"showarrow\": false, \"text\": \"1.0\", \"x\": \"home_ownership_OTHER\", \"xref\": \"x\", \"y\": \"home_ownership_OTHER\", \"yref\": \"y\"}, {\"font\": {\"color\": \"#FFFFFF\"}, \"showarrow\": false, \"text\": \"-0.0\", \"x\": \"home_ownership_OWN\", \"xref\": \"x\", \"y\": \"home_ownership_OTHER\", \"yref\": \"y\"}, {\"font\": {\"color\": \"#FFFFFF\"}, \"showarrow\": false, \"text\": \"-0.01\", \"x\": \"home_ownership_RENT\", \"xref\": \"x\", \"y\": \"home_ownership_OTHER\", \"yref\": \"y\"}, {\"font\": {\"color\": \"#FFFFFF\"}, \"showarrow\": false, \"text\": \"0.01\", \"x\": \"loan_condition_cat\", \"xref\": \"x\", \"y\": \"home_ownership_OTHER\", \"yref\": \"y\"}, {\"font\": {\"color\": \"#FFFFFF\"}, \"showarrow\": false, \"text\": \"-0.0\", \"x\": \"home_ownership_ANY\", \"xref\": \"x\", \"y\": \"home_ownership_OWN\", \"yref\": \"y\"}, {\"font\": {\"color\": \"#FFFFFF\"}, \"showarrow\": false, \"text\": \"-0.33\", \"x\": \"home_ownership_MORTGAGE\", \"xref\": \"x\", \"y\": \"home_ownership_OWN\", \"yref\": \"y\"}, {\"font\": {\"color\": \"#FFFFFF\"}, \"showarrow\": false, \"text\": \"-0.0\", \"x\": \"home_ownership_NONE\", \"xref\": \"x\", \"y\": \"home_ownership_OWN\", \"yref\": \"y\"}, {\"font\": {\"color\": \"#FFFFFF\"}, \"showarrow\": false, \"text\": \"-0.0\", \"x\": \"home_ownership_OTHER\", \"xref\": \"x\", \"y\": \"home_ownership_OWN\", \"yref\": \"y\"}, {\"font\": {\"color\": \"#000000\"}, \"showarrow\": false, \"text\": \"1.0\", \"x\": \"home_ownership_OWN\", \"xref\": \"x\", \"y\": \"home_ownership_OWN\", \"yref\": \"y\"}, {\"font\": {\"color\": \"#FFFFFF\"}, \"showarrow\": false, \"text\": \"-0.27\", \"x\": \"home_ownership_RENT\", \"xref\": \"x\", \"y\": \"home_ownership_OWN\", \"yref\": \"y\"}, {\"font\": {\"color\": \"#FFFFFF\"}, \"showarrow\": false, \"text\": \"-0.01\", \"x\": \"loan_condition_cat\", \"xref\": \"x\", \"y\": \"home_ownership_OWN\", \"yref\": \"y\"}, {\"font\": {\"color\": \"#FFFFFF\"}, \"showarrow\": false, \"text\": \"-0.0\", \"x\": \"home_ownership_ANY\", \"xref\": \"x\", \"y\": \"home_ownership_RENT\", \"yref\": \"y\"}, {\"font\": {\"color\": \"#FFFFFF\"}, \"showarrow\": false, \"text\": \"-0.82\", \"x\": \"home_ownership_MORTGAGE\", \"xref\": \"x\", \"y\": \"home_ownership_RENT\", \"yref\": \"y\"}, {\"font\": {\"color\": \"#FFFFFF\"}, \"showarrow\": false, \"text\": \"-0.01\", \"x\": \"home_ownership_NONE\", \"xref\": \"x\", \"y\": \"home_ownership_RENT\", \"yref\": \"y\"}, {\"font\": {\"color\": \"#FFFFFF\"}, \"showarrow\": false, \"text\": \"-0.01\", \"x\": \"home_ownership_OTHER\", \"xref\": \"x\", \"y\": \"home_ownership_RENT\", \"yref\": \"y\"}, {\"font\": {\"color\": \"#FFFFFF\"}, \"showarrow\": false, \"text\": \"-0.27\", \"x\": \"home_ownership_OWN\", \"xref\": \"x\", \"y\": \"home_ownership_RENT\", \"yref\": \"y\"}, {\"font\": {\"color\": \"#000000\"}, \"showarrow\": false, \"text\": \"1.0\", \"x\": \"home_ownership_RENT\", \"xref\": \"x\", \"y\": \"home_ownership_RENT\", \"yref\": \"y\"}, {\"font\": {\"color\": \"#FFFFFF\"}, \"showarrow\": false, \"text\": \"0.04\", \"x\": \"loan_condition_cat\", \"xref\": \"x\", \"y\": \"home_ownership_RENT\", \"yref\": \"y\"}, {\"font\": {\"color\": \"#FFFFFF\"}, \"showarrow\": false, \"text\": \"-0.0\", \"x\": \"home_ownership_ANY\", \"xref\": \"x\", \"y\": \"loan_condition_cat\", \"yref\": \"y\"}, {\"font\": {\"color\": \"#FFFFFF\"}, \"showarrow\": false, \"text\": \"-0.03\", \"x\": \"home_ownership_MORTGAGE\", \"xref\": \"x\", \"y\": \"loan_condition_cat\", \"yref\": \"y\"}, {\"font\": {\"color\": \"#FFFFFF\"}, \"showarrow\": false, \"text\": \"0.0\", \"x\": \"home_ownership_NONE\", \"xref\": \"x\", \"y\": \"loan_condition_cat\", \"yref\": \"y\"}, {\"font\": {\"color\": \"#FFFFFF\"}, \"showarrow\": false, \"text\": \"0.01\", \"x\": \"home_ownership_OTHER\", \"xref\": \"x\", \"y\": \"loan_condition_cat\", \"yref\": \"y\"}, {\"font\": {\"color\": \"#FFFFFF\"}, \"showarrow\": false, \"text\": \"-0.01\", \"x\": \"home_ownership_OWN\", \"xref\": \"x\", \"y\": \"loan_condition_cat\", \"yref\": \"y\"}, {\"font\": {\"color\": \"#FFFFFF\"}, \"showarrow\": false, \"text\": \"0.04\", \"x\": \"home_ownership_RENT\", \"xref\": \"x\", \"y\": \"loan_condition_cat\", \"yref\": \"y\"}, {\"font\": {\"color\": \"#000000\"}, \"showarrow\": false, \"text\": \"1.0\", \"x\": \"loan_condition_cat\", \"xref\": \"x\", \"y\": \"loan_condition_cat\", \"yref\": \"y\"}], \"template\": {\"data\": {\"bar\": [{\"error_x\": {\"color\": \"#2a3f5f\"}, \"error_y\": {\"color\": \"#2a3f5f\"}, \"marker\": {\"line\": {\"color\": \"#E5ECF6\", \"width\": 0.5}}, \"type\": \"bar\"}], \"barpolar\": [{\"marker\": {\"line\": {\"color\": \"#E5ECF6\", \"width\": 0.5}}, \"type\": \"barpolar\"}], \"carpet\": [{\"aaxis\": {\"endlinecolor\": \"#2a3f5f\", \"gridcolor\": \"white\", \"linecolor\": \"white\", \"minorgridcolor\": \"white\", \"startlinecolor\": \"#2a3f5f\"}, \"baxis\": {\"endlinecolor\": \"#2a3f5f\", \"gridcolor\": \"white\", \"linecolor\": \"white\", \"minorgridcolor\": \"white\", \"startlinecolor\": \"#2a3f5f\"}, \"type\": \"carpet\"}], \"choropleth\": [{\"colorbar\": {\"outlinewidth\": 0, \"ticks\": \"\"}, \"type\": \"choropleth\"}], \"contour\": [{\"colorbar\": {\"outlinewidth\": 0, \"ticks\": \"\"}, \"colorscale\": [[0.0, \"#0d0887\"], [0.1111111111111111, \"#46039f\"], [0.2222222222222222, \"#7201a8\"], [0.3333333333333333, \"#9c179e\"], [0.4444444444444444, \"#bd3786\"], [0.5555555555555556, \"#d8576b\"], [0.6666666666666666, \"#ed7953\"], [0.7777777777777778, \"#fb9f3a\"], [0.8888888888888888, \"#fdca26\"], [1.0, \"#f0f921\"]], \"type\": \"contour\"}], \"contourcarpet\": [{\"colorbar\": {\"outlinewidth\": 0, \"ticks\": \"\"}, \"type\": \"contourcarpet\"}], \"heatmap\": [{\"colorbar\": {\"outlinewidth\": 0, \"ticks\": \"\"}, \"colorscale\": [[0.0, \"#0d0887\"], [0.1111111111111111, \"#46039f\"], [0.2222222222222222, \"#7201a8\"], [0.3333333333333333, \"#9c179e\"], [0.4444444444444444, \"#bd3786\"], [0.5555555555555556, \"#d8576b\"], [0.6666666666666666, \"#ed7953\"], [0.7777777777777778, \"#fb9f3a\"], [0.8888888888888888, \"#fdca26\"], [1.0, \"#f0f921\"]], \"type\": \"heatmap\"}], \"heatmapgl\": [{\"colorbar\": {\"outlinewidth\": 0, \"ticks\": \"\"}, \"colorscale\": [[0.0, \"#0d0887\"], [0.1111111111111111, \"#46039f\"], [0.2222222222222222, \"#7201a8\"], [0.3333333333333333, \"#9c179e\"], [0.4444444444444444, \"#bd3786\"], [0.5555555555555556, \"#d8576b\"], [0.6666666666666666, \"#ed7953\"], [0.7777777777777778, \"#fb9f3a\"], [0.8888888888888888, \"#fdca26\"], [1.0, \"#f0f921\"]], \"type\": \"heatmapgl\"}], \"histogram\": [{\"marker\": {\"colorbar\": {\"outlinewidth\": 0, \"ticks\": \"\"}}, \"type\": \"histogram\"}], \"histogram2d\": [{\"colorbar\": {\"outlinewidth\": 0, \"ticks\": \"\"}, \"colorscale\": [[0.0, \"#0d0887\"], [0.1111111111111111, \"#46039f\"], [0.2222222222222222, \"#7201a8\"], [0.3333333333333333, \"#9c179e\"], [0.4444444444444444, \"#bd3786\"], [0.5555555555555556, \"#d8576b\"], [0.6666666666666666, \"#ed7953\"], [0.7777777777777778, \"#fb9f3a\"], [0.8888888888888888, \"#fdca26\"], [1.0, \"#f0f921\"]], \"type\": \"histogram2d\"}], \"histogram2dcontour\": [{\"colorbar\": {\"outlinewidth\": 0, \"ticks\": \"\"}, \"colorscale\": [[0.0, \"#0d0887\"], [0.1111111111111111, \"#46039f\"], [0.2222222222222222, \"#7201a8\"], [0.3333333333333333, \"#9c179e\"], [0.4444444444444444, \"#bd3786\"], [0.5555555555555556, \"#d8576b\"], [0.6666666666666666, \"#ed7953\"], [0.7777777777777778, \"#fb9f3a\"], [0.8888888888888888, \"#fdca26\"], [1.0, \"#f0f921\"]], \"type\": \"histogram2dcontour\"}], \"mesh3d\": [{\"colorbar\": {\"outlinewidth\": 0, \"ticks\": \"\"}, \"type\": \"mesh3d\"}], \"parcoords\": [{\"line\": {\"colorbar\": {\"outlinewidth\": 0, \"ticks\": \"\"}}, \"type\": \"parcoords\"}], \"pie\": [{\"automargin\": true, \"type\": \"pie\"}], \"scatter\": [{\"marker\": {\"colorbar\": {\"outlinewidth\": 0, \"ticks\": \"\"}}, \"type\": \"scatter\"}], \"scatter3d\": [{\"line\": {\"colorbar\": {\"outlinewidth\": 0, \"ticks\": \"\"}}, \"marker\": {\"colorbar\": {\"outlinewidth\": 0, \"ticks\": \"\"}}, \"type\": \"scatter3d\"}], \"scattercarpet\": [{\"marker\": {\"colorbar\": {\"outlinewidth\": 0, \"ticks\": \"\"}}, \"type\": \"scattercarpet\"}], \"scattergeo\": [{\"marker\": {\"colorbar\": {\"outlinewidth\": 0, \"ticks\": \"\"}}, \"type\": \"scattergeo\"}], \"scattergl\": [{\"marker\": {\"colorbar\": {\"outlinewidth\": 0, \"ticks\": \"\"}}, \"type\": \"scattergl\"}], \"scattermapbox\": [{\"marker\": {\"colorbar\": {\"outlinewidth\": 0, \"ticks\": \"\"}}, \"type\": \"scattermapbox\"}], \"scatterpolar\": [{\"marker\": {\"colorbar\": {\"outlinewidth\": 0, \"ticks\": \"\"}}, \"type\": \"scatterpolar\"}], \"scatterpolargl\": [{\"marker\": {\"colorbar\": {\"outlinewidth\": 0, \"ticks\": \"\"}}, \"type\": \"scatterpolargl\"}], \"scatterternary\": [{\"marker\": {\"colorbar\": {\"outlinewidth\": 0, \"ticks\": \"\"}}, \"type\": \"scatterternary\"}], \"surface\": [{\"colorbar\": {\"outlinewidth\": 0, \"ticks\": \"\"}, \"colorscale\": [[0.0, \"#0d0887\"], [0.1111111111111111, \"#46039f\"], [0.2222222222222222, \"#7201a8\"], [0.3333333333333333, \"#9c179e\"], [0.4444444444444444, \"#bd3786\"], [0.5555555555555556, \"#d8576b\"], [0.6666666666666666, \"#ed7953\"], [0.7777777777777778, \"#fb9f3a\"], [0.8888888888888888, \"#fdca26\"], [1.0, \"#f0f921\"]], \"type\": \"surface\"}], \"table\": [{\"cells\": {\"fill\": {\"color\": \"#EBF0F8\"}, \"line\": {\"color\": \"white\"}}, \"header\": {\"fill\": {\"color\": \"#C8D4E3\"}, \"line\": {\"color\": \"white\"}}, \"type\": \"table\"}]}, \"layout\": {\"annotationdefaults\": {\"arrowcolor\": \"#2a3f5f\", \"arrowhead\": 0, \"arrowwidth\": 1}, \"coloraxis\": {\"colorbar\": {\"outlinewidth\": 0, \"ticks\": \"\"}}, \"colorscale\": {\"diverging\": [[0, \"#8e0152\"], [0.1, \"#c51b7d\"], [0.2, \"#de77ae\"], [0.3, \"#f1b6da\"], [0.4, \"#fde0ef\"], [0.5, \"#f7f7f7\"], [0.6, \"#e6f5d0\"], [0.7, \"#b8e186\"], [0.8, \"#7fbc41\"], [0.9, \"#4d9221\"], [1, \"#276419\"]], \"sequential\": [[0.0, \"#0d0887\"], [0.1111111111111111, \"#46039f\"], [0.2222222222222222, \"#7201a8\"], [0.3333333333333333, \"#9c179e\"], [0.4444444444444444, \"#bd3786\"], [0.5555555555555556, \"#d8576b\"], [0.6666666666666666, \"#ed7953\"], [0.7777777777777778, \"#fb9f3a\"], [0.8888888888888888, \"#fdca26\"], [1.0, \"#f0f921\"]], \"sequentialminus\": [[0.0, \"#0d0887\"], [0.1111111111111111, \"#46039f\"], [0.2222222222222222, \"#7201a8\"], [0.3333333333333333, \"#9c179e\"], [0.4444444444444444, \"#bd3786\"], [0.5555555555555556, \"#d8576b\"], [0.6666666666666666, \"#ed7953\"], [0.7777777777777778, \"#fb9f3a\"], [0.8888888888888888, \"#fdca26\"], [1.0, \"#f0f921\"]]}, \"colorway\": [\"#636efa\", \"#EF553B\", \"#00cc96\", \"#ab63fa\", \"#FFA15A\", \"#19d3f3\", \"#FF6692\", \"#B6E880\", \"#FF97FF\", \"#FECB52\"], \"font\": {\"color\": \"#2a3f5f\"}, \"geo\": {\"bgcolor\": \"white\", \"lakecolor\": \"white\", \"landcolor\": \"#E5ECF6\", \"showlakes\": true, \"showland\": true, \"subunitcolor\": \"white\"}, \"hoverlabel\": {\"align\": \"left\"}, \"hovermode\": \"closest\", \"mapbox\": {\"style\": \"light\"}, \"paper_bgcolor\": \"white\", \"plot_bgcolor\": \"#E5ECF6\", \"polar\": {\"angularaxis\": {\"gridcolor\": \"white\", \"linecolor\": \"white\", \"ticks\": \"\"}, \"bgcolor\": \"#E5ECF6\", \"radialaxis\": {\"gridcolor\": \"white\", \"linecolor\": \"white\", \"ticks\": \"\"}}, \"scene\": {\"xaxis\": {\"backgroundcolor\": \"#E5ECF6\", \"gridcolor\": \"white\", \"gridwidth\": 2, \"linecolor\": \"white\", \"showbackground\": true, \"ticks\": \"\", \"zerolinecolor\": \"white\"}, \"yaxis\": {\"backgroundcolor\": \"#E5ECF6\", \"gridcolor\": \"white\", \"gridwidth\": 2, \"linecolor\": \"white\", \"showbackground\": true, \"ticks\": \"\", \"zerolinecolor\": \"white\"}, \"zaxis\": {\"backgroundcolor\": \"#E5ECF6\", \"gridcolor\": \"white\", \"gridwidth\": 2, \"linecolor\": \"white\", \"showbackground\": true, \"ticks\": \"\", \"zerolinecolor\": \"white\"}}, \"shapedefaults\": {\"line\": {\"color\": \"#2a3f5f\"}}, \"ternary\": {\"aaxis\": {\"gridcolor\": \"white\", \"linecolor\": \"white\", \"ticks\": \"\"}, \"baxis\": {\"gridcolor\": \"white\", \"linecolor\": \"white\", \"ticks\": \"\"}, \"bgcolor\": \"#E5ECF6\", \"caxis\": {\"gridcolor\": \"white\", \"linecolor\": \"white\", \"ticks\": \"\"}}, \"title\": {\"x\": 0.05}, \"xaxis\": {\"automargin\": true, \"gridcolor\": \"white\", \"linecolor\": \"white\", \"ticks\": \"\", \"title\": {\"standoff\": 15}, \"zerolinecolor\": \"white\", \"zerolinewidth\": 2}, \"yaxis\": {\"automargin\": true, \"gridcolor\": \"white\", \"linecolor\": \"white\", \"ticks\": \"\", \"title\": {\"standoff\": 15}, \"zerolinecolor\": \"white\", \"zerolinewidth\": 2}}}, \"xaxis\": {\"dtick\": 1, \"gridcolor\": \"rgb(0, 0, 0)\", \"side\": \"top\", \"ticks\": \"\"}, \"yaxis\": {\"dtick\": 1, \"ticks\": \"\", \"ticksuffix\": \"  \"}},\n",
       "                        {\"responsive\": true}\n",
       "                    ).then(function(){\n",
       "                            \n",
       "var gd = document.getElementById('f534a551-6865-4a00-8e32-2746be115dd2');\n",
       "var x = new MutationObserver(function (mutations, observer) {{\n",
       "        var display = window.getComputedStyle(gd).display;\n",
       "        if (!display || display === 'none') {{\n",
       "            console.log([gd, 'removed!']);\n",
       "            Plotly.purge(gd);\n",
       "            observer.disconnect();\n",
       "        }}\n",
       "}});\n",
       "\n",
       "// Listen for the removal of the full notebook cells\n",
       "var notebookContainer = gd.closest('#notebook-container');\n",
       "if (notebookContainer) {{\n",
       "    x.observe(notebookContainer, {childList: true});\n",
       "}}\n",
       "\n",
       "// Listen for the clearing of the current output cell\n",
       "var outputEl = gd.closest('.output');\n",
       "if (outputEl) {{\n",
       "    x.observe(outputEl, {childList: true});\n",
       "}}\n",
       "\n",
       "                        })\n",
       "                };\n",
       "                });\n",
       "            </script>\n",
       "        </div>"
      ]
     },
     "metadata": {},
     "output_type": "display_data"
    }
   ],
   "source": [
    "transform_columns = ['home_ownership']\n",
    "enc = pd.get_dummies(data_full[transform_columns])\n",
    "enc = pd.concat((enc, data_full['loan_condition_cat']), axis = 1)\n",
    "\n",
    "corrs = enc.corr()\n",
    "\n",
    "figure = ff.create_annotated_heatmap(\n",
    "    z=corrs.values,\n",
    "    x=list(corrs.columns),\n",
    "    y=list(corrs.index),\n",
    "    annotation_text=corrs.round(2).values,\n",
    "    showscale=True)\n",
    "figure.show()"
   ]
  },
  {
   "cell_type": "markdown",
   "metadata": {},
   "source": [
    "Судя по таблице разные признаки по-разному влияют на loan_condition. Но их значение незначительное"
   ]
  },
  {
   "cell_type": "markdown",
   "metadata": {},
   "source": [
    "# Построим графики "
   ]
  },
  {
   "cell_type": "code",
   "execution_count": null,
   "metadata": {},
   "outputs": [],
   "source": [
    "data['loan_condition_cat'].iplot(kind='bar', barmode='stack', title='Stacked Bar Chart with Random Data')"
   ]
  },
  {
   "cell_type": "markdown",
   "metadata": {},
   "source": [
    "## Подготовим данные"
   ]
  },
  {
   "cell_type": "code",
   "execution_count": 17,
   "metadata": {},
   "outputs": [],
   "source": [
    "data = data_full.drop(['id','final_d','issue_d',\n",
    "           'income_category', 'income_cat', 'term', \n",
    "           'interest_payments','interest_payment_cat', 'loan_condition','grade',\n",
    "            'purpose_cat','application_type_cat','home_ownership_cat',\n",
    "           'total_pymnt','total_rec_prncp','recoveries','installment' ], axis = 1)\n"
   ]
  },
  {
   "cell_type": "code",
   "execution_count": 18,
   "metadata": {},
   "outputs": [
    {
     "data": {
      "text/plain": [
       "Index(['year', 'emp_length_int', 'home_ownership', 'annual_inc', 'loan_amount',\n",
       "       'term_cat', 'application_type', 'purpose', 'loan_condition_cat',\n",
       "       'interest_rate', 'grade_cat', 'dti', 'region'],\n",
       "      dtype='object')"
      ]
     },
     "execution_count": 18,
     "metadata": {},
     "output_type": "execute_result"
    }
   ],
   "source": [
    "data.columns"
   ]
  },
  {
   "cell_type": "markdown",
   "metadata": {},
   "source": [
    "loan_condition_cat home_ownership_cat purpose_cat'"
   ]
  },
  {
   "cell_type": "code",
   "execution_count": 19,
   "metadata": {
    "scrolled": true
   },
   "outputs": [
    {
     "data": {
      "text/plain": [
       "year                  887379\n",
       "emp_length_int        887379\n",
       "home_ownership        887379\n",
       "annual_inc            887379\n",
       "loan_amount           887379\n",
       "term_cat              887379\n",
       "application_type      887379\n",
       "purpose               887379\n",
       "loan_condition_cat    887379\n",
       "interest_rate         887379\n",
       "grade_cat             887379\n",
       "dti                   887379\n",
       "region                887379\n",
       "dtype: int64"
      ]
     },
     "execution_count": 19,
     "metadata": {},
     "output_type": "execute_result"
    }
   ],
   "source": [
    "data.count()"
   ]
  },
  {
   "cell_type": "markdown",
   "metadata": {},
   "source": [
    "Пропущенных значений нет"
   ]
  },
  {
   "cell_type": "code",
   "execution_count": 20,
   "metadata": {},
   "outputs": [],
   "source": [
    "categorical_columns = [c for c in data.columns if data[c].dtype.name == 'object']\n",
    "numerical_columns   = [c for c in data.columns if data[c].dtype.name != 'object' and data[c].dtype.name != 'datetime64[ns]']\n",
    "numerical_columns.remove('loan_condition_cat')\n",
    "target_column = ['loan_condition_cat']"
   ]
  },
  {
   "cell_type": "code",
   "execution_count": 21,
   "metadata": {},
   "outputs": [
    {
     "name": "stdout",
     "output_type": "stream",
     "text": [
      "categorical_columns \n",
      " ['home_ownership', 'application_type', 'purpose', 'region']\n",
      "numerical_columns \n",
      " ['year', 'emp_length_int', 'annual_inc', 'loan_amount', 'term_cat', 'interest_rate', 'grade_cat', 'dti']\n",
      "target_column \n",
      " ['loan_condition_cat']\n"
     ]
    }
   ],
   "source": [
    "print(f'categorical_columns \\n {categorical_columns}')\n",
    "print(f'numerical_columns \\n {numerical_columns}')\n",
    "print(f'target_column \\n {target_column}')\n",
    "# print(date_columns)"
   ]
  },
  {
   "cell_type": "code",
   "execution_count": 22,
   "metadata": {},
   "outputs": [],
   "source": [
    "transform_columns = categorical_columns\n",
    "enc = pd.get_dummies(data_full[transform_columns])"
   ]
  },
  {
   "cell_type": "code",
   "execution_count": 23,
   "metadata": {},
   "outputs": [],
   "source": [
    "data[numerical_columns] = (data[numerical_columns] - data[numerical_columns].mean(axis = 0))/data[numerical_columns].std(axis = 0)"
   ]
  },
  {
   "cell_type": "markdown",
   "metadata": {},
   "source": [
    "Соединяем в одну таблицу"
   ]
  },
  {
   "cell_type": "code",
   "execution_count": 24,
   "metadata": {},
   "outputs": [],
   "source": [
    "data = pd.concat((data[numerical_columns], enc, data[target_column]), axis = 1)"
   ]
  },
  {
   "cell_type": "code",
   "execution_count": 25,
   "metadata": {},
   "outputs": [
    {
     "data": {
      "text/html": [
       "<div>\n",
       "<style scoped>\n",
       "    .dataframe tbody tr th:only-of-type {\n",
       "        vertical-align: middle;\n",
       "    }\n",
       "\n",
       "    .dataframe tbody tr th {\n",
       "        vertical-align: top;\n",
       "    }\n",
       "\n",
       "    .dataframe thead th {\n",
       "        text-align: right;\n",
       "    }\n",
       "</style>\n",
       "<table border=\"1\" class=\"dataframe\">\n",
       "  <thead>\n",
       "    <tr style=\"text-align: right;\">\n",
       "      <th></th>\n",
       "      <th>year</th>\n",
       "      <th>emp_length_int</th>\n",
       "      <th>annual_inc</th>\n",
       "      <th>loan_amount</th>\n",
       "      <th>term_cat</th>\n",
       "      <th>interest_rate</th>\n",
       "      <th>grade_cat</th>\n",
       "      <th>dti</th>\n",
       "      <th>home_ownership_ANY</th>\n",
       "      <th>home_ownership_MORTGAGE</th>\n",
       "      <th>...</th>\n",
       "      <th>purpose_renewable_energy</th>\n",
       "      <th>purpose_small_business</th>\n",
       "      <th>purpose_vacation</th>\n",
       "      <th>purpose_wedding</th>\n",
       "      <th>region_Northern-Irl</th>\n",
       "      <th>region_cannught</th>\n",
       "      <th>region_leinster</th>\n",
       "      <th>region_munster</th>\n",
       "      <th>region_ulster</th>\n",
       "      <th>loan_condition_cat</th>\n",
       "    </tr>\n",
       "  </thead>\n",
       "  <tbody>\n",
       "    <tr>\n",
       "      <th>0</th>\n",
       "      <td>-2.394913</td>\n",
       "      <td>1.126028</td>\n",
       "      <td>-0.788702</td>\n",
       "      <td>-1.156460</td>\n",
       "      <td>-0.654724</td>\n",
       "      <td>-0.592610</td>\n",
       "      <td>-0.608261</td>\n",
       "      <td>0.552217</td>\n",
       "      <td>0</td>\n",
       "      <td>0</td>\n",
       "      <td>...</td>\n",
       "      <td>0</td>\n",
       "      <td>0</td>\n",
       "      <td>0</td>\n",
       "      <td>0</td>\n",
       "      <td>0</td>\n",
       "      <td>0</td>\n",
       "      <td>0</td>\n",
       "      <td>1</td>\n",
       "      <td>0</td>\n",
       "      <td>0</td>\n",
       "    </tr>\n",
       "    <tr>\n",
       "      <th>1</th>\n",
       "      <td>-2.394913</td>\n",
       "      <td>-1.582527</td>\n",
       "      <td>-0.695964</td>\n",
       "      <td>-1.452828</td>\n",
       "      <td>1.527359</td>\n",
       "      <td>0.461735</td>\n",
       "      <td>0.153586</td>\n",
       "      <td>-0.998046</td>\n",
       "      <td>0</td>\n",
       "      <td>0</td>\n",
       "      <td>...</td>\n",
       "      <td>0</td>\n",
       "      <td>0</td>\n",
       "      <td>0</td>\n",
       "      <td>0</td>\n",
       "      <td>0</td>\n",
       "      <td>0</td>\n",
       "      <td>1</td>\n",
       "      <td>0</td>\n",
       "      <td>0</td>\n",
       "      <td>1</td>\n",
       "    </tr>\n",
       "    <tr>\n",
       "      <th>2</th>\n",
       "      <td>-2.394913</td>\n",
       "      <td>1.126028</td>\n",
       "      <td>-0.970284</td>\n",
       "      <td>-1.464683</td>\n",
       "      <td>-0.654724</td>\n",
       "      <td>0.619202</td>\n",
       "      <td>0.153586</td>\n",
       "      <td>-0.548964</td>\n",
       "      <td>0</td>\n",
       "      <td>0</td>\n",
       "      <td>...</td>\n",
       "      <td>0</td>\n",
       "      <td>1</td>\n",
       "      <td>0</td>\n",
       "      <td>0</td>\n",
       "      <td>0</td>\n",
       "      <td>1</td>\n",
       "      <td>0</td>\n",
       "      <td>0</td>\n",
       "      <td>0</td>\n",
       "      <td>0</td>\n",
       "    </tr>\n",
       "    <tr>\n",
       "      <th>3</th>\n",
       "      <td>-2.394913</td>\n",
       "      <td>1.126028</td>\n",
       "      <td>-0.399201</td>\n",
       "      <td>-0.563724</td>\n",
       "      <td>-0.654724</td>\n",
       "      <td>0.055515</td>\n",
       "      <td>0.153586</td>\n",
       "      <td>0.107207</td>\n",
       "      <td>0</td>\n",
       "      <td>0</td>\n",
       "      <td>...</td>\n",
       "      <td>0</td>\n",
       "      <td>0</td>\n",
       "      <td>0</td>\n",
       "      <td>0</td>\n",
       "      <td>0</td>\n",
       "      <td>0</td>\n",
       "      <td>0</td>\n",
       "      <td>0</td>\n",
       "      <td>1</td>\n",
       "      <td>0</td>\n",
       "    </tr>\n",
       "    <tr>\n",
       "      <th>4</th>\n",
       "      <td>-2.394913</td>\n",
       "      <td>-1.439972</td>\n",
       "      <td>0.076856</td>\n",
       "      <td>-1.393554</td>\n",
       "      <td>1.527359</td>\n",
       "      <td>-0.127055</td>\n",
       "      <td>-0.608261</td>\n",
       "      <td>-0.012625</td>\n",
       "      <td>0</td>\n",
       "      <td>0</td>\n",
       "      <td>...</td>\n",
       "      <td>0</td>\n",
       "      <td>0</td>\n",
       "      <td>0</td>\n",
       "      <td>0</td>\n",
       "      <td>0</td>\n",
       "      <td>0</td>\n",
       "      <td>0</td>\n",
       "      <td>0</td>\n",
       "      <td>1</td>\n",
       "      <td>0</td>\n",
       "    </tr>\n",
       "  </tbody>\n",
       "</table>\n",
       "<p>5 rows × 36 columns</p>\n",
       "</div>"
      ],
      "text/plain": [
       "       year  emp_length_int  annual_inc  loan_amount  term_cat  interest_rate  \\\n",
       "0 -2.394913        1.126028   -0.788702    -1.156460 -0.654724      -0.592610   \n",
       "1 -2.394913       -1.582527   -0.695964    -1.452828  1.527359       0.461735   \n",
       "2 -2.394913        1.126028   -0.970284    -1.464683 -0.654724       0.619202   \n",
       "3 -2.394913        1.126028   -0.399201    -0.563724 -0.654724       0.055515   \n",
       "4 -2.394913       -1.439972    0.076856    -1.393554  1.527359      -0.127055   \n",
       "\n",
       "   grade_cat       dti  home_ownership_ANY  home_ownership_MORTGAGE  ...  \\\n",
       "0  -0.608261  0.552217                   0                        0  ...   \n",
       "1   0.153586 -0.998046                   0                        0  ...   \n",
       "2   0.153586 -0.548964                   0                        0  ...   \n",
       "3   0.153586  0.107207                   0                        0  ...   \n",
       "4  -0.608261 -0.012625                   0                        0  ...   \n",
       "\n",
       "   purpose_renewable_energy  purpose_small_business  purpose_vacation  \\\n",
       "0                         0                       0                 0   \n",
       "1                         0                       0                 0   \n",
       "2                         0                       1                 0   \n",
       "3                         0                       0                 0   \n",
       "4                         0                       0                 0   \n",
       "\n",
       "   purpose_wedding  region_Northern-Irl  region_cannught  region_leinster  \\\n",
       "0                0                    0                0                0   \n",
       "1                0                    0                0                1   \n",
       "2                0                    0                1                0   \n",
       "3                0                    0                0                0   \n",
       "4                0                    0                0                0   \n",
       "\n",
       "   region_munster  region_ulster  loan_condition_cat  \n",
       "0               1              0                   0  \n",
       "1               0              0                   1  \n",
       "2               0              0                   0  \n",
       "3               0              1                   0  \n",
       "4               0              1                   0  \n",
       "\n",
       "[5 rows x 36 columns]"
      ]
     },
     "execution_count": 25,
     "metadata": {},
     "output_type": "execute_result"
    }
   ],
   "source": [
    "data.head()"
   ]
  },
  {
   "cell_type": "markdown",
   "metadata": {
    "colab_type": "text",
    "id": "o-WV3jkDs-l0"
   },
   "source": [
    "# X и y"
   ]
  },
  {
   "cell_type": "code",
   "execution_count": 26,
   "metadata": {
    "colab": {},
    "colab_type": "code",
    "id": "h3F0nik3s-l1"
   },
   "outputs": [],
   "source": [
    "X = data.drop(target_column, axis = 1) # выбрасываем столбец 'loan_condition'\n",
    "y = data[target_column]\n",
    "feature_names = X.columns"
   ]
  },
  {
   "cell_type": "code",
   "execution_count": 27,
   "metadata": {
    "colab": {},
    "colab_type": "code",
    "id": "i4gFbI62s-l3",
    "outputId": "37855a54-0c70-4ef6-9df5-9997b56c8fae"
   },
   "outputs": [
    {
     "data": {
      "text/plain": [
       "pandas.core.indexes.base.Index"
      ]
     },
     "execution_count": 27,
     "metadata": {},
     "output_type": "execute_result"
    }
   ],
   "source": [
    "type(feature_names)"
   ]
  },
  {
   "cell_type": "code",
   "execution_count": 28,
   "metadata": {
    "colab": {},
    "colab_type": "code",
    "id": "TuX8by3Bs-l5",
    "outputId": "6c7e9be0-edaa-4053-a5ad-70bd5eabd1e8"
   },
   "outputs": [
    {
     "data": {
      "text/plain": [
       "Index(['year', 'emp_length_int', 'annual_inc', 'loan_amount', 'term_cat',\n",
       "       'interest_rate', 'grade_cat', 'dti', 'home_ownership_ANY',\n",
       "       'home_ownership_MORTGAGE', 'home_ownership_NONE',\n",
       "       'home_ownership_OTHER', 'home_ownership_OWN', 'home_ownership_RENT',\n",
       "       'application_type_INDIVIDUAL', 'application_type_JOINT', 'purpose_car',\n",
       "       'purpose_credit_card', 'purpose_debt_consolidation',\n",
       "       'purpose_educational', 'purpose_home_improvement', 'purpose_house',\n",
       "       'purpose_major_purchase', 'purpose_medical', 'purpose_moving',\n",
       "       'purpose_other', 'purpose_renewable_energy', 'purpose_small_business',\n",
       "       'purpose_vacation', 'purpose_wedding', 'region_Northern-Irl',\n",
       "       'region_cannught', 'region_leinster', 'region_munster',\n",
       "       'region_ulster'],\n",
       "      dtype='object')"
      ]
     },
     "execution_count": 28,
     "metadata": {},
     "output_type": "execute_result"
    }
   ],
   "source": [
    "feature_names"
   ]
  },
  {
   "cell_type": "code",
   "execution_count": 29,
   "metadata": {
    "colab": {},
    "colab_type": "code",
    "id": "3ajTk3trs-l-"
   },
   "outputs": [],
   "source": [
    "X = X.to_numpy()"
   ]
  },
  {
   "cell_type": "code",
   "execution_count": 30,
   "metadata": {
    "colab": {},
    "colab_type": "code",
    "id": "vNn2LAJ6s-mF",
    "outputId": "2319e59a-ff1c-4fba-a16a-fae75da41539"
   },
   "outputs": [],
   "source": [
    "y = y.to_numpy()"
   ]
  },
  {
   "cell_type": "code",
   "execution_count": 31,
   "metadata": {
    "colab": {},
    "colab_type": "code",
    "id": "_s6wDKdNs-mH",
    "outputId": "610a5311-a77e-41b6-bc14-51712952f988"
   },
   "outputs": [
    {
     "name": "stdout",
     "output_type": "stream",
     "text": [
      "(887379, 35)\n",
      "(887379, 1)\n"
     ]
    }
   ],
   "source": [
    "print(X.shape)\n",
    "print(y.shape)\n",
    "N, d = X.shape"
   ]
  },
  {
   "cell_type": "code",
   "execution_count": 32,
   "metadata": {
    "colab": {},
    "colab_type": "code",
    "id": "HV9HmCjPs-mS",
    "outputId": "ee93ae84-bbec-4760-e891-e9428bd8f56c",
    "scrolled": true
   },
   "outputs": [
    {
     "name": "stdout",
     "output_type": "stream",
     "text": [
      "621165 266214\n"
     ]
    }
   ],
   "source": [
    "from sklearn.model_selection import train_test_split\n",
    "X_train, X_test, y_train, y_test = train_test_split(X, y, test_size = 0.3, random_state = 42)\n",
    "\n",
    "N_train, _ = X_train.shape \n",
    "N_test,  _ = X_test.shape \n",
    "\n",
    "print(N_train, N_test)"
   ]
  },
  {
   "cell_type": "code",
   "execution_count": 33,
   "metadata": {},
   "outputs": [
    {
     "data": {
      "text/plain": [
       "(266214, 35)"
      ]
     },
     "execution_count": 33,
     "metadata": {},
     "output_type": "execute_result"
    }
   ],
   "source": [
    "X_test.shape"
   ]
  },
  {
   "cell_type": "markdown",
   "metadata": {
    "colab_type": "text",
    "id": "ZnFkJrlms-mV"
   },
   "source": [
    "# $k$NN"
   ]
  },
  {
   "cell_type": "code",
   "execution_count": 34,
   "metadata": {
    "colab": {},
    "colab_type": "code",
    "id": "U1Wnk41ts-mW",
    "outputId": "fe336f48-463d-4b75-b417-8a9be366005f"
   },
   "outputs": [],
   "source": [
    "from sklearn.neighbors import KNeighborsClassifier"
   ]
  },
  {
   "cell_type": "code",
   "execution_count": 35,
   "metadata": {
    "colab": {},
    "colab_type": "code",
    "id": "U1Wnk41ts-mW",
    "outputId": "fe336f48-463d-4b75-b417-8a9be366005f"
   },
   "outputs": [
    {
     "name": "stderr",
     "output_type": "stream",
     "text": [
      "c:\\users\\andru\\appdata\\local\\programs\\python\\python37\\lib\\site-packages\\ipykernel_launcher.py:3: DataConversionWarning:\n",
      "\n",
      "A column-vector y was passed when a 1d array was expected. Please change the shape of y to (n_samples, ), for example using ravel().\n",
      "\n"
     ]
    },
    {
     "data": {
      "text/plain": [
       "KNeighborsClassifier(algorithm='auto', leaf_size=30, metric='minkowski',\n",
       "                     metric_params=None, n_jobs=None, n_neighbors=10, p=2,\n",
       "                     weights='uniform')"
      ]
     },
     "execution_count": 35,
     "metadata": {},
     "output_type": "execute_result"
    }
   ],
   "source": [
    "knn = KNeighborsClassifier(n_neighbors = 10)\n",
    "#knn.set_params(n_neighbors=10)\n",
    "knn.fit(X_train, y_train)"
   ]
  },
  {
   "cell_type": "code",
   "execution_count": 36,
   "metadata": {
    "colab": {},
    "colab_type": "code",
    "id": "iWcM7Ldws-mZ",
    "outputId": "12378abc-f10b-4d0a-9795-be6f4cda9165"
   },
   "outputs": [
    {
     "data": {
      "text/plain": [
       "KNeighborsClassifier(algorithm='auto', leaf_size=30, metric='minkowski',\n",
       "                     metric_params=None, n_jobs=None, n_neighbors=10, p=2,\n",
       "                     weights='uniform')"
      ]
     },
     "execution_count": 36,
     "metadata": {},
     "output_type": "execute_result"
    }
   ],
   "source": [
    "knn"
   ]
  },
  {
   "cell_type": "markdown",
   "metadata": {},
   "source": [
    "9:08"
   ]
  },
  {
   "cell_type": "code",
   "execution_count": 37,
   "metadata": {
    "colab": {},
    "colab_type": "code",
    "id": "9Pb_96LIs-md"
   },
   "outputs": [
    {
     "name": "stderr",
     "output_type": "stream",
     "text": [
      "c:\\users\\andru\\appdata\\local\\programs\\python\\python37\\lib\\site-packages\\ipykernel_launcher.py:2: DeprecationWarning:\n",
      "\n",
      "elementwise comparison failed; this will raise an error in the future.\n",
      "\n"
     ]
    }
   ],
   "source": [
    "y_test_predict = knn.predict(X_test)\n",
    "err_test  = np.mean(y_test  != y_test_predict)"
   ]
  },
  {
   "cell_type": "code",
   "execution_count": 38,
   "metadata": {},
   "outputs": [
    {
     "name": "stderr",
     "output_type": "stream",
     "text": [
      "c:\\users\\andru\\appdata\\local\\programs\\python\\python37\\lib\\site-packages\\ipykernel_launcher.py:2: DeprecationWarning:\n",
      "\n",
      "elementwise comparison failed; this will raise an error in the future.\n",
      "\n"
     ]
    }
   ],
   "source": [
    "y_train_predict = knn.predict(X_train)\n",
    "err_train  = np.mean(y_train  != y_train_predict)"
   ]
  },
  {
   "cell_type": "code",
   "execution_count": 53,
   "metadata": {},
   "outputs": [
    {
     "name": "stderr",
     "output_type": "stream",
     "text": [
      "c:\\users\\andru\\appdata\\local\\programs\\python\\python37\\lib\\site-packages\\ipykernel_launcher.py:1: DeprecationWarning:\n",
      "\n",
      "elementwise comparison failed; this will raise an error in the future.\n",
      "\n"
     ]
    }
   ],
   "source": [
    "err_train  = np.mean(y_train  != y_train_predict)"
   ]
  },
  {
   "cell_type": "code",
   "execution_count": 56,
   "metadata": {},
   "outputs": [
    {
     "ename": "KeyboardInterrupt",
     "evalue": "",
     "output_type": "error",
     "traceback": [
      "\u001b[1;31m---------------------------------------------------------------------------\u001b[0m",
      "\u001b[1;31mKeyboardInterrupt\u001b[0m                         Traceback (most recent call last)",
      "\u001b[1;32m<ipython-input-56-f931d72f2c27>\u001b[0m in \u001b[0;36m<module>\u001b[1;34m\u001b[0m\n\u001b[1;32m----> 1\u001b[1;33m \u001b[1;36m1\u001b[0m \u001b[1;33m-\u001b[0m \u001b[0mknn\u001b[0m\u001b[1;33m.\u001b[0m\u001b[0mscore\u001b[0m\u001b[1;33m(\u001b[0m\u001b[0mX_train\u001b[0m\u001b[1;33m,\u001b[0m \u001b[0my_train\u001b[0m\u001b[1;33m)\u001b[0m\u001b[1;33m\u001b[0m\u001b[1;33m\u001b[0m\u001b[0m\n\u001b[0m",
      "\u001b[1;32mc:\\users\\andru\\appdata\\local\\programs\\python\\python37\\lib\\site-packages\\sklearn\\base.py\u001b[0m in \u001b[0;36mscore\u001b[1;34m(self, X, y, sample_weight)\u001b[0m\n\u001b[0;32m    367\u001b[0m         \"\"\"\n\u001b[0;32m    368\u001b[0m         \u001b[1;32mfrom\u001b[0m \u001b[1;33m.\u001b[0m\u001b[0mmetrics\u001b[0m \u001b[1;32mimport\u001b[0m \u001b[0maccuracy_score\u001b[0m\u001b[1;33m\u001b[0m\u001b[1;33m\u001b[0m\u001b[0m\n\u001b[1;32m--> 369\u001b[1;33m         \u001b[1;32mreturn\u001b[0m \u001b[0maccuracy_score\u001b[0m\u001b[1;33m(\u001b[0m\u001b[0my\u001b[0m\u001b[1;33m,\u001b[0m \u001b[0mself\u001b[0m\u001b[1;33m.\u001b[0m\u001b[0mpredict\u001b[0m\u001b[1;33m(\u001b[0m\u001b[0mX\u001b[0m\u001b[1;33m)\u001b[0m\u001b[1;33m,\u001b[0m \u001b[0msample_weight\u001b[0m\u001b[1;33m=\u001b[0m\u001b[0msample_weight\u001b[0m\u001b[1;33m)\u001b[0m\u001b[1;33m\u001b[0m\u001b[1;33m\u001b[0m\u001b[0m\n\u001b[0m\u001b[0;32m    370\u001b[0m \u001b[1;33m\u001b[0m\u001b[0m\n\u001b[0;32m    371\u001b[0m \u001b[1;33m\u001b[0m\u001b[0m\n",
      "\u001b[1;32mc:\\users\\andru\\appdata\\local\\programs\\python\\python37\\lib\\site-packages\\sklearn\\neighbors\\_classification.py\u001b[0m in \u001b[0;36mpredict\u001b[1;34m(self, X)\u001b[0m\n\u001b[0;32m    171\u001b[0m         \u001b[0mX\u001b[0m \u001b[1;33m=\u001b[0m \u001b[0mcheck_array\u001b[0m\u001b[1;33m(\u001b[0m\u001b[0mX\u001b[0m\u001b[1;33m,\u001b[0m \u001b[0maccept_sparse\u001b[0m\u001b[1;33m=\u001b[0m\u001b[1;34m'csr'\u001b[0m\u001b[1;33m)\u001b[0m\u001b[1;33m\u001b[0m\u001b[1;33m\u001b[0m\u001b[0m\n\u001b[0;32m    172\u001b[0m \u001b[1;33m\u001b[0m\u001b[0m\n\u001b[1;32m--> 173\u001b[1;33m         \u001b[0mneigh_dist\u001b[0m\u001b[1;33m,\u001b[0m \u001b[0mneigh_ind\u001b[0m \u001b[1;33m=\u001b[0m \u001b[0mself\u001b[0m\u001b[1;33m.\u001b[0m\u001b[0mkneighbors\u001b[0m\u001b[1;33m(\u001b[0m\u001b[0mX\u001b[0m\u001b[1;33m)\u001b[0m\u001b[1;33m\u001b[0m\u001b[1;33m\u001b[0m\u001b[0m\n\u001b[0m\u001b[0;32m    174\u001b[0m         \u001b[0mclasses_\u001b[0m \u001b[1;33m=\u001b[0m \u001b[0mself\u001b[0m\u001b[1;33m.\u001b[0m\u001b[0mclasses_\u001b[0m\u001b[1;33m\u001b[0m\u001b[1;33m\u001b[0m\u001b[0m\n\u001b[0;32m    175\u001b[0m         \u001b[0m_y\u001b[0m \u001b[1;33m=\u001b[0m \u001b[0mself\u001b[0m\u001b[1;33m.\u001b[0m\u001b[0m_y\u001b[0m\u001b[1;33m\u001b[0m\u001b[1;33m\u001b[0m\u001b[0m\n",
      "\u001b[1;32mc:\\users\\andru\\appdata\\local\\programs\\python\\python37\\lib\\site-packages\\sklearn\\neighbors\\_base.py\u001b[0m in \u001b[0;36mkneighbors\u001b[1;34m(self, X, n_neighbors, return_distance)\u001b[0m\n\u001b[0;32m    661\u001b[0m                 delayed_query(\n\u001b[0;32m    662\u001b[0m                     self._tree, X[s], n_neighbors, return_distance)\n\u001b[1;32m--> 663\u001b[1;33m                 \u001b[1;32mfor\u001b[0m \u001b[0ms\u001b[0m \u001b[1;32min\u001b[0m \u001b[0mgen_even_slices\u001b[0m\u001b[1;33m(\u001b[0m\u001b[0mX\u001b[0m\u001b[1;33m.\u001b[0m\u001b[0mshape\u001b[0m\u001b[1;33m[\u001b[0m\u001b[1;36m0\u001b[0m\u001b[1;33m]\u001b[0m\u001b[1;33m,\u001b[0m \u001b[0mn_jobs\u001b[0m\u001b[1;33m)\u001b[0m\u001b[1;33m\u001b[0m\u001b[1;33m\u001b[0m\u001b[0m\n\u001b[0m\u001b[0;32m    664\u001b[0m             )\n\u001b[0;32m    665\u001b[0m         \u001b[1;32melse\u001b[0m\u001b[1;33m:\u001b[0m\u001b[1;33m\u001b[0m\u001b[1;33m\u001b[0m\u001b[0m\n",
      "\u001b[1;32mc:\\users\\andru\\appdata\\local\\programs\\python\\python37\\lib\\site-packages\\joblib\\parallel.py\u001b[0m in \u001b[0;36m__call__\u001b[1;34m(self, iterable)\u001b[0m\n\u001b[0;32m   1002\u001b[0m             \u001b[1;31m# remaining jobs.\u001b[0m\u001b[1;33m\u001b[0m\u001b[1;33m\u001b[0m\u001b[1;33m\u001b[0m\u001b[0m\n\u001b[0;32m   1003\u001b[0m             \u001b[0mself\u001b[0m\u001b[1;33m.\u001b[0m\u001b[0m_iterating\u001b[0m \u001b[1;33m=\u001b[0m \u001b[1;32mFalse\u001b[0m\u001b[1;33m\u001b[0m\u001b[1;33m\u001b[0m\u001b[0m\n\u001b[1;32m-> 1004\u001b[1;33m             \u001b[1;32mif\u001b[0m \u001b[0mself\u001b[0m\u001b[1;33m.\u001b[0m\u001b[0mdispatch_one_batch\u001b[0m\u001b[1;33m(\u001b[0m\u001b[0miterator\u001b[0m\u001b[1;33m)\u001b[0m\u001b[1;33m:\u001b[0m\u001b[1;33m\u001b[0m\u001b[1;33m\u001b[0m\u001b[0m\n\u001b[0m\u001b[0;32m   1005\u001b[0m                 \u001b[0mself\u001b[0m\u001b[1;33m.\u001b[0m\u001b[0m_iterating\u001b[0m \u001b[1;33m=\u001b[0m \u001b[0mself\u001b[0m\u001b[1;33m.\u001b[0m\u001b[0m_original_iterator\u001b[0m \u001b[1;32mis\u001b[0m \u001b[1;32mnot\u001b[0m \u001b[1;32mNone\u001b[0m\u001b[1;33m\u001b[0m\u001b[1;33m\u001b[0m\u001b[0m\n\u001b[0;32m   1006\u001b[0m \u001b[1;33m\u001b[0m\u001b[0m\n",
      "\u001b[1;32mc:\\users\\andru\\appdata\\local\\programs\\python\\python37\\lib\\site-packages\\joblib\\parallel.py\u001b[0m in \u001b[0;36mdispatch_one_batch\u001b[1;34m(self, iterator)\u001b[0m\n\u001b[0;32m    833\u001b[0m                 \u001b[1;32mreturn\u001b[0m \u001b[1;32mFalse\u001b[0m\u001b[1;33m\u001b[0m\u001b[1;33m\u001b[0m\u001b[0m\n\u001b[0;32m    834\u001b[0m             \u001b[1;32melse\u001b[0m\u001b[1;33m:\u001b[0m\u001b[1;33m\u001b[0m\u001b[1;33m\u001b[0m\u001b[0m\n\u001b[1;32m--> 835\u001b[1;33m                 \u001b[0mself\u001b[0m\u001b[1;33m.\u001b[0m\u001b[0m_dispatch\u001b[0m\u001b[1;33m(\u001b[0m\u001b[0mtasks\u001b[0m\u001b[1;33m)\u001b[0m\u001b[1;33m\u001b[0m\u001b[1;33m\u001b[0m\u001b[0m\n\u001b[0m\u001b[0;32m    836\u001b[0m                 \u001b[1;32mreturn\u001b[0m \u001b[1;32mTrue\u001b[0m\u001b[1;33m\u001b[0m\u001b[1;33m\u001b[0m\u001b[0m\n\u001b[0;32m    837\u001b[0m \u001b[1;33m\u001b[0m\u001b[0m\n",
      "\u001b[1;32mc:\\users\\andru\\appdata\\local\\programs\\python\\python37\\lib\\site-packages\\joblib\\parallel.py\u001b[0m in \u001b[0;36m_dispatch\u001b[1;34m(self, batch)\u001b[0m\n\u001b[0;32m    752\u001b[0m         \u001b[1;32mwith\u001b[0m \u001b[0mself\u001b[0m\u001b[1;33m.\u001b[0m\u001b[0m_lock\u001b[0m\u001b[1;33m:\u001b[0m\u001b[1;33m\u001b[0m\u001b[1;33m\u001b[0m\u001b[0m\n\u001b[0;32m    753\u001b[0m             \u001b[0mjob_idx\u001b[0m \u001b[1;33m=\u001b[0m \u001b[0mlen\u001b[0m\u001b[1;33m(\u001b[0m\u001b[0mself\u001b[0m\u001b[1;33m.\u001b[0m\u001b[0m_jobs\u001b[0m\u001b[1;33m)\u001b[0m\u001b[1;33m\u001b[0m\u001b[1;33m\u001b[0m\u001b[0m\n\u001b[1;32m--> 754\u001b[1;33m             \u001b[0mjob\u001b[0m \u001b[1;33m=\u001b[0m \u001b[0mself\u001b[0m\u001b[1;33m.\u001b[0m\u001b[0m_backend\u001b[0m\u001b[1;33m.\u001b[0m\u001b[0mapply_async\u001b[0m\u001b[1;33m(\u001b[0m\u001b[0mbatch\u001b[0m\u001b[1;33m,\u001b[0m \u001b[0mcallback\u001b[0m\u001b[1;33m=\u001b[0m\u001b[0mcb\u001b[0m\u001b[1;33m)\u001b[0m\u001b[1;33m\u001b[0m\u001b[1;33m\u001b[0m\u001b[0m\n\u001b[0m\u001b[0;32m    755\u001b[0m             \u001b[1;31m# A job can complete so quickly than its callback is\u001b[0m\u001b[1;33m\u001b[0m\u001b[1;33m\u001b[0m\u001b[1;33m\u001b[0m\u001b[0m\n\u001b[0;32m    756\u001b[0m             \u001b[1;31m# called before we get here, causing self._jobs to\u001b[0m\u001b[1;33m\u001b[0m\u001b[1;33m\u001b[0m\u001b[1;33m\u001b[0m\u001b[0m\n",
      "\u001b[1;32mc:\\users\\andru\\appdata\\local\\programs\\python\\python37\\lib\\site-packages\\joblib\\_parallel_backends.py\u001b[0m in \u001b[0;36mapply_async\u001b[1;34m(self, func, callback)\u001b[0m\n\u001b[0;32m    207\u001b[0m     \u001b[1;32mdef\u001b[0m \u001b[0mapply_async\u001b[0m\u001b[1;33m(\u001b[0m\u001b[0mself\u001b[0m\u001b[1;33m,\u001b[0m \u001b[0mfunc\u001b[0m\u001b[1;33m,\u001b[0m \u001b[0mcallback\u001b[0m\u001b[1;33m=\u001b[0m\u001b[1;32mNone\u001b[0m\u001b[1;33m)\u001b[0m\u001b[1;33m:\u001b[0m\u001b[1;33m\u001b[0m\u001b[1;33m\u001b[0m\u001b[0m\n\u001b[0;32m    208\u001b[0m         \u001b[1;34m\"\"\"Schedule a func to be run\"\"\"\u001b[0m\u001b[1;33m\u001b[0m\u001b[1;33m\u001b[0m\u001b[0m\n\u001b[1;32m--> 209\u001b[1;33m         \u001b[0mresult\u001b[0m \u001b[1;33m=\u001b[0m \u001b[0mImmediateResult\u001b[0m\u001b[1;33m(\u001b[0m\u001b[0mfunc\u001b[0m\u001b[1;33m)\u001b[0m\u001b[1;33m\u001b[0m\u001b[1;33m\u001b[0m\u001b[0m\n\u001b[0m\u001b[0;32m    210\u001b[0m         \u001b[1;32mif\u001b[0m \u001b[0mcallback\u001b[0m\u001b[1;33m:\u001b[0m\u001b[1;33m\u001b[0m\u001b[1;33m\u001b[0m\u001b[0m\n\u001b[0;32m    211\u001b[0m             \u001b[0mcallback\u001b[0m\u001b[1;33m(\u001b[0m\u001b[0mresult\u001b[0m\u001b[1;33m)\u001b[0m\u001b[1;33m\u001b[0m\u001b[1;33m\u001b[0m\u001b[0m\n",
      "\u001b[1;32mc:\\users\\andru\\appdata\\local\\programs\\python\\python37\\lib\\site-packages\\joblib\\_parallel_backends.py\u001b[0m in \u001b[0;36m__init__\u001b[1;34m(self, batch)\u001b[0m\n\u001b[0;32m    588\u001b[0m         \u001b[1;31m# Don't delay the application, to avoid keeping the input\u001b[0m\u001b[1;33m\u001b[0m\u001b[1;33m\u001b[0m\u001b[1;33m\u001b[0m\u001b[0m\n\u001b[0;32m    589\u001b[0m         \u001b[1;31m# arguments in memory\u001b[0m\u001b[1;33m\u001b[0m\u001b[1;33m\u001b[0m\u001b[1;33m\u001b[0m\u001b[0m\n\u001b[1;32m--> 590\u001b[1;33m         \u001b[0mself\u001b[0m\u001b[1;33m.\u001b[0m\u001b[0mresults\u001b[0m \u001b[1;33m=\u001b[0m \u001b[0mbatch\u001b[0m\u001b[1;33m(\u001b[0m\u001b[1;33m)\u001b[0m\u001b[1;33m\u001b[0m\u001b[1;33m\u001b[0m\u001b[0m\n\u001b[0m\u001b[0;32m    591\u001b[0m \u001b[1;33m\u001b[0m\u001b[0m\n\u001b[0;32m    592\u001b[0m     \u001b[1;32mdef\u001b[0m \u001b[0mget\u001b[0m\u001b[1;33m(\u001b[0m\u001b[0mself\u001b[0m\u001b[1;33m)\u001b[0m\u001b[1;33m:\u001b[0m\u001b[1;33m\u001b[0m\u001b[1;33m\u001b[0m\u001b[0m\n",
      "\u001b[1;32mc:\\users\\andru\\appdata\\local\\programs\\python\\python37\\lib\\site-packages\\joblib\\parallel.py\u001b[0m in \u001b[0;36m__call__\u001b[1;34m(self)\u001b[0m\n\u001b[0;32m    254\u001b[0m         \u001b[1;32mwith\u001b[0m \u001b[0mparallel_backend\u001b[0m\u001b[1;33m(\u001b[0m\u001b[0mself\u001b[0m\u001b[1;33m.\u001b[0m\u001b[0m_backend\u001b[0m\u001b[1;33m,\u001b[0m \u001b[0mn_jobs\u001b[0m\u001b[1;33m=\u001b[0m\u001b[0mself\u001b[0m\u001b[1;33m.\u001b[0m\u001b[0m_n_jobs\u001b[0m\u001b[1;33m)\u001b[0m\u001b[1;33m:\u001b[0m\u001b[1;33m\u001b[0m\u001b[1;33m\u001b[0m\u001b[0m\n\u001b[0;32m    255\u001b[0m             return [func(*args, **kwargs)\n\u001b[1;32m--> 256\u001b[1;33m                     for func, args, kwargs in self.items]\n\u001b[0m\u001b[0;32m    257\u001b[0m \u001b[1;33m\u001b[0m\u001b[0m\n\u001b[0;32m    258\u001b[0m     \u001b[1;32mdef\u001b[0m \u001b[0m__len__\u001b[0m\u001b[1;33m(\u001b[0m\u001b[0mself\u001b[0m\u001b[1;33m)\u001b[0m\u001b[1;33m:\u001b[0m\u001b[1;33m\u001b[0m\u001b[1;33m\u001b[0m\u001b[0m\n",
      "\u001b[1;32mc:\\users\\andru\\appdata\\local\\programs\\python\\python37\\lib\\site-packages\\joblib\\parallel.py\u001b[0m in \u001b[0;36m<listcomp>\u001b[1;34m(.0)\u001b[0m\n\u001b[0;32m    254\u001b[0m         \u001b[1;32mwith\u001b[0m \u001b[0mparallel_backend\u001b[0m\u001b[1;33m(\u001b[0m\u001b[0mself\u001b[0m\u001b[1;33m.\u001b[0m\u001b[0m_backend\u001b[0m\u001b[1;33m,\u001b[0m \u001b[0mn_jobs\u001b[0m\u001b[1;33m=\u001b[0m\u001b[0mself\u001b[0m\u001b[1;33m.\u001b[0m\u001b[0m_n_jobs\u001b[0m\u001b[1;33m)\u001b[0m\u001b[1;33m:\u001b[0m\u001b[1;33m\u001b[0m\u001b[1;33m\u001b[0m\u001b[0m\n\u001b[0;32m    255\u001b[0m             return [func(*args, **kwargs)\n\u001b[1;32m--> 256\u001b[1;33m                     for func, args, kwargs in self.items]\n\u001b[0m\u001b[0;32m    257\u001b[0m \u001b[1;33m\u001b[0m\u001b[0m\n\u001b[0;32m    258\u001b[0m     \u001b[1;32mdef\u001b[0m \u001b[0m__len__\u001b[0m\u001b[1;33m(\u001b[0m\u001b[0mself\u001b[0m\u001b[1;33m)\u001b[0m\u001b[1;33m:\u001b[0m\u001b[1;33m\u001b[0m\u001b[1;33m\u001b[0m\u001b[0m\n",
      "\u001b[1;32mc:\\users\\andru\\appdata\\local\\programs\\python\\python37\\lib\\site-packages\\sklearn\\neighbors\\_base.py\u001b[0m in \u001b[0;36m_tree_query_parallel_helper\u001b[1;34m(tree, *args, **kwargs)\u001b[0m\n\u001b[0;32m    488\u001b[0m     \u001b[0munder\u001b[0m \u001b[0mPyPy\u001b[0m\u001b[1;33m.\u001b[0m\u001b[1;33m\u001b[0m\u001b[1;33m\u001b[0m\u001b[0m\n\u001b[0;32m    489\u001b[0m     \"\"\"\n\u001b[1;32m--> 490\u001b[1;33m     \u001b[1;32mreturn\u001b[0m \u001b[0mtree\u001b[0m\u001b[1;33m.\u001b[0m\u001b[0mquery\u001b[0m\u001b[1;33m(\u001b[0m\u001b[1;33m*\u001b[0m\u001b[0margs\u001b[0m\u001b[1;33m,\u001b[0m \u001b[1;33m**\u001b[0m\u001b[0mkwargs\u001b[0m\u001b[1;33m)\u001b[0m\u001b[1;33m\u001b[0m\u001b[1;33m\u001b[0m\u001b[0m\n\u001b[0m\u001b[0;32m    491\u001b[0m \u001b[1;33m\u001b[0m\u001b[0m\n\u001b[0;32m    492\u001b[0m \u001b[1;33m\u001b[0m\u001b[0m\n",
      "\u001b[1;31mKeyboardInterrupt\u001b[0m: "
     ]
    }
   ],
   "source": [
    " 1 - knn.score(X_train, y_train)"
   ]
  },
  {
   "cell_type": "code",
   "execution_count": 39,
   "metadata": {
    "colab": {},
    "colab_type": "code",
    "id": "41Bmbd2Xs-mf"
   },
   "outputs": [],
   "source": [
    "err_test = 1 - knn.score(X_test, y_test) # Другой способ"
   ]
  },
  {
   "cell_type": "code",
   "execution_count": 40,
   "metadata": {
    "colab": {},
    "colab_type": "code",
    "id": "MS52qmcds-mh",
    "outputId": "c6bfc469-cd90-4ceb-fa34-86ad3c657eb6"
   },
   "outputs": [
    {
     "data": {
      "text/plain": [
       "0.0770545500987927"
      ]
     },
     "execution_count": 40,
     "metadata": {},
     "output_type": "execute_result"
    }
   ],
   "source": [
    "err_test"
   ]
  },
  {
   "cell_type": "code",
   "execution_count": 52,
   "metadata": {},
   "outputs": [
    {
     "data": {
      "text/plain": [
       "1.0"
      ]
     },
     "execution_count": 52,
     "metadata": {},
     "output_type": "execute_result"
    }
   ],
   "source": [
    "err_train"
   ]
  },
  {
   "cell_type": "code",
   "execution_count": 51,
   "metadata": {},
   "outputs": [
    {
     "name": "stdout",
     "output_type": "stream",
     "text": [
      "[[574032      0]\n",
      " [     0  47133]]\n"
     ]
    }
   ],
   "source": [
    "print(confusion_matrix(y_train, y_train))"
   ]
  },
  {
   "cell_type": "code",
   "execution_count": 43,
   "metadata": {
    "colab": {},
    "colab_type": "code",
    "id": "R152zEc8s-mj",
    "outputId": "9cd3d46f-fd9a-4c9a-a726-b03d05abead0"
   },
   "outputs": [
    {
     "name": "stdout",
     "output_type": "stream",
     "text": [
      "[[245552    366]\n",
      " [ 20147    149]]\n"
     ]
    }
   ],
   "source": [
    "from sklearn.metrics import confusion_matrix\n",
    "\n",
    "print(confusion_matrix(y_test, y_test_predict))"
   ]
  },
  {
   "cell_type": "code",
   "execution_count": 47,
   "metadata": {},
   "outputs": [],
   "source": [
    "from sklearn.metrics import f1_score, precision_score"
   ]
  },
  {
   "cell_type": "code",
   "execution_count": 49,
   "metadata": {},
   "outputs": [
    {
     "data": {
      "text/plain": [
       "(0.014319350343568306, 0.28932038834951457)"
      ]
     },
     "execution_count": 49,
     "metadata": {},
     "output_type": "execute_result"
    }
   ],
   "source": [
    "f1_score(y_test, y_test_predict), precision_score(y_test, y_test_predict)"
   ]
  },
  {
   "cell_type": "markdown",
   "metadata": {
    "colab_type": "text",
    "id": "ia1DXV_qs-ms"
   },
   "source": [
    "### Подбор параметров"
   ]
  },
  {
   "cell_type": "code",
   "execution_count": 131,
   "metadata": {
    "colab": {},
    "colab_type": "code",
    "id": "3u44yhHQs-ms",
    "outputId": "a4a8ac87-b711-47ec-9f56-e6f733f516d5"
   },
   "outputs": [
    {
     "ename": "KeyboardInterrupt",
     "evalue": "",
     "output_type": "error",
     "traceback": [
      "\u001b[1;31m---------------------------------------------------------------------------\u001b[0m",
      "\u001b[1;31mKeyboardInterrupt\u001b[0m                         Traceback (most recent call last)",
      "\u001b[1;32m<ipython-input-131-9bbd984765a2>\u001b[0m in \u001b[0;36m<module>\u001b[1;34m\u001b[0m\n\u001b[0;32m      4\u001b[0m \u001b[0mknn\u001b[0m \u001b[1;33m=\u001b[0m \u001b[0mKNeighborsClassifier\u001b[0m\u001b[1;33m(\u001b[0m\u001b[1;33m)\u001b[0m\u001b[1;33m\u001b[0m\u001b[1;33m\u001b[0m\u001b[0m\n\u001b[0;32m      5\u001b[0m \u001b[0mgrid\u001b[0m \u001b[1;33m=\u001b[0m \u001b[0mGridSearchCV\u001b[0m\u001b[1;33m(\u001b[0m\u001b[0mknn\u001b[0m\u001b[1;33m,\u001b[0m \u001b[0mparam_grid\u001b[0m \u001b[1;33m=\u001b[0m \u001b[1;33m{\u001b[0m\u001b[1;34m'n_neighbors'\u001b[0m\u001b[1;33m:\u001b[0m \u001b[0mnnb\u001b[0m\u001b[1;33m}\u001b[0m\u001b[1;33m,\u001b[0m \u001b[0mcv\u001b[0m\u001b[1;33m=\u001b[0m\u001b[1;36m10\u001b[0m\u001b[1;33m)\u001b[0m\u001b[1;33m\u001b[0m\u001b[1;33m\u001b[0m\u001b[0m\n\u001b[1;32m----> 6\u001b[1;33m \u001b[0mgrid\u001b[0m\u001b[1;33m.\u001b[0m\u001b[0mfit\u001b[0m\u001b[1;33m(\u001b[0m\u001b[0mX_train\u001b[0m\u001b[1;33m,\u001b[0m \u001b[0my_train\u001b[0m\u001b[1;33m)\u001b[0m\u001b[1;33m\u001b[0m\u001b[1;33m\u001b[0m\u001b[0m\n\u001b[0m\u001b[0;32m      7\u001b[0m \u001b[1;33m\u001b[0m\u001b[0m\n\u001b[0;32m      8\u001b[0m \u001b[0mbest_cv_err\u001b[0m \u001b[1;33m=\u001b[0m \u001b[1;36m1\u001b[0m \u001b[1;33m-\u001b[0m \u001b[0mgrid\u001b[0m\u001b[1;33m.\u001b[0m\u001b[0mbest_score_\u001b[0m\u001b[1;33m\u001b[0m\u001b[1;33m\u001b[0m\u001b[0m\n",
      "\u001b[1;32mC:\\Programs\\anaconda\\lib\\site-packages\\sklearn\\model_selection\\_search.py\u001b[0m in \u001b[0;36mfit\u001b[1;34m(self, X, y, groups, **fit_params)\u001b[0m\n\u001b[0;32m    685\u001b[0m                 \u001b[1;32mreturn\u001b[0m \u001b[0mresults\u001b[0m\u001b[1;33m\u001b[0m\u001b[1;33m\u001b[0m\u001b[0m\n\u001b[0;32m    686\u001b[0m \u001b[1;33m\u001b[0m\u001b[0m\n\u001b[1;32m--> 687\u001b[1;33m             \u001b[0mself\u001b[0m\u001b[1;33m.\u001b[0m\u001b[0m_run_search\u001b[0m\u001b[1;33m(\u001b[0m\u001b[0mevaluate_candidates\u001b[0m\u001b[1;33m)\u001b[0m\u001b[1;33m\u001b[0m\u001b[1;33m\u001b[0m\u001b[0m\n\u001b[0m\u001b[0;32m    688\u001b[0m \u001b[1;33m\u001b[0m\u001b[0m\n\u001b[0;32m    689\u001b[0m         \u001b[1;31m# For multi-metric evaluation, store the best_index_, best_params_ and\u001b[0m\u001b[1;33m\u001b[0m\u001b[1;33m\u001b[0m\u001b[1;33m\u001b[0m\u001b[0m\n",
      "\u001b[1;32mC:\\Programs\\anaconda\\lib\\site-packages\\sklearn\\model_selection\\_search.py\u001b[0m in \u001b[0;36m_run_search\u001b[1;34m(self, evaluate_candidates)\u001b[0m\n\u001b[0;32m   1146\u001b[0m     \u001b[1;32mdef\u001b[0m \u001b[0m_run_search\u001b[0m\u001b[1;33m(\u001b[0m\u001b[0mself\u001b[0m\u001b[1;33m,\u001b[0m \u001b[0mevaluate_candidates\u001b[0m\u001b[1;33m)\u001b[0m\u001b[1;33m:\u001b[0m\u001b[1;33m\u001b[0m\u001b[1;33m\u001b[0m\u001b[0m\n\u001b[0;32m   1147\u001b[0m         \u001b[1;34m\"\"\"Search all candidates in param_grid\"\"\"\u001b[0m\u001b[1;33m\u001b[0m\u001b[1;33m\u001b[0m\u001b[0m\n\u001b[1;32m-> 1148\u001b[1;33m         \u001b[0mevaluate_candidates\u001b[0m\u001b[1;33m(\u001b[0m\u001b[0mParameterGrid\u001b[0m\u001b[1;33m(\u001b[0m\u001b[0mself\u001b[0m\u001b[1;33m.\u001b[0m\u001b[0mparam_grid\u001b[0m\u001b[1;33m)\u001b[0m\u001b[1;33m)\u001b[0m\u001b[1;33m\u001b[0m\u001b[1;33m\u001b[0m\u001b[0m\n\u001b[0m\u001b[0;32m   1149\u001b[0m \u001b[1;33m\u001b[0m\u001b[0m\n\u001b[0;32m   1150\u001b[0m \u001b[1;33m\u001b[0m\u001b[0m\n",
      "\u001b[1;32mC:\\Programs\\anaconda\\lib\\site-packages\\sklearn\\model_selection\\_search.py\u001b[0m in \u001b[0;36mevaluate_candidates\u001b[1;34m(candidate_params)\u001b[0m\n\u001b[0;32m    664\u001b[0m                                \u001b[1;32mfor\u001b[0m \u001b[0mparameters\u001b[0m\u001b[1;33m,\u001b[0m \u001b[1;33m(\u001b[0m\u001b[0mtrain\u001b[0m\u001b[1;33m,\u001b[0m \u001b[0mtest\u001b[0m\u001b[1;33m)\u001b[0m\u001b[1;33m\u001b[0m\u001b[1;33m\u001b[0m\u001b[0m\n\u001b[0;32m    665\u001b[0m                                in product(candidate_params,\n\u001b[1;32m--> 666\u001b[1;33m                                           cv.split(X, y, groups)))\n\u001b[0m\u001b[0;32m    667\u001b[0m \u001b[1;33m\u001b[0m\u001b[0m\n\u001b[0;32m    668\u001b[0m                 \u001b[1;32mif\u001b[0m \u001b[0mlen\u001b[0m\u001b[1;33m(\u001b[0m\u001b[0mout\u001b[0m\u001b[1;33m)\u001b[0m \u001b[1;33m<\u001b[0m \u001b[1;36m1\u001b[0m\u001b[1;33m:\u001b[0m\u001b[1;33m\u001b[0m\u001b[1;33m\u001b[0m\u001b[0m\n",
      "\u001b[1;32mC:\\Programs\\anaconda\\lib\\site-packages\\joblib\\parallel.py\u001b[0m in \u001b[0;36m__call__\u001b[1;34m(self, iterable)\u001b[0m\n\u001b[0;32m    922\u001b[0m                 \u001b[0mself\u001b[0m\u001b[1;33m.\u001b[0m\u001b[0m_iterating\u001b[0m \u001b[1;33m=\u001b[0m \u001b[0mself\u001b[0m\u001b[1;33m.\u001b[0m\u001b[0m_original_iterator\u001b[0m \u001b[1;32mis\u001b[0m \u001b[1;32mnot\u001b[0m \u001b[1;32mNone\u001b[0m\u001b[1;33m\u001b[0m\u001b[1;33m\u001b[0m\u001b[0m\n\u001b[0;32m    923\u001b[0m \u001b[1;33m\u001b[0m\u001b[0m\n\u001b[1;32m--> 924\u001b[1;33m             \u001b[1;32mwhile\u001b[0m \u001b[0mself\u001b[0m\u001b[1;33m.\u001b[0m\u001b[0mdispatch_one_batch\u001b[0m\u001b[1;33m(\u001b[0m\u001b[0miterator\u001b[0m\u001b[1;33m)\u001b[0m\u001b[1;33m:\u001b[0m\u001b[1;33m\u001b[0m\u001b[1;33m\u001b[0m\u001b[0m\n\u001b[0m\u001b[0;32m    925\u001b[0m                 \u001b[1;32mpass\u001b[0m\u001b[1;33m\u001b[0m\u001b[1;33m\u001b[0m\u001b[0m\n\u001b[0;32m    926\u001b[0m \u001b[1;33m\u001b[0m\u001b[0m\n",
      "\u001b[1;32mC:\\Programs\\anaconda\\lib\\site-packages\\joblib\\parallel.py\u001b[0m in \u001b[0;36mdispatch_one_batch\u001b[1;34m(self, iterator)\u001b[0m\n\u001b[0;32m    757\u001b[0m                 \u001b[1;32mreturn\u001b[0m \u001b[1;32mFalse\u001b[0m\u001b[1;33m\u001b[0m\u001b[1;33m\u001b[0m\u001b[0m\n\u001b[0;32m    758\u001b[0m             \u001b[1;32melse\u001b[0m\u001b[1;33m:\u001b[0m\u001b[1;33m\u001b[0m\u001b[1;33m\u001b[0m\u001b[0m\n\u001b[1;32m--> 759\u001b[1;33m                 \u001b[0mself\u001b[0m\u001b[1;33m.\u001b[0m\u001b[0m_dispatch\u001b[0m\u001b[1;33m(\u001b[0m\u001b[0mtasks\u001b[0m\u001b[1;33m)\u001b[0m\u001b[1;33m\u001b[0m\u001b[1;33m\u001b[0m\u001b[0m\n\u001b[0m\u001b[0;32m    760\u001b[0m                 \u001b[1;32mreturn\u001b[0m \u001b[1;32mTrue\u001b[0m\u001b[1;33m\u001b[0m\u001b[1;33m\u001b[0m\u001b[0m\n\u001b[0;32m    761\u001b[0m \u001b[1;33m\u001b[0m\u001b[0m\n",
      "\u001b[1;32mC:\\Programs\\anaconda\\lib\\site-packages\\joblib\\parallel.py\u001b[0m in \u001b[0;36m_dispatch\u001b[1;34m(self, batch)\u001b[0m\n\u001b[0;32m    714\u001b[0m         \u001b[1;32mwith\u001b[0m \u001b[0mself\u001b[0m\u001b[1;33m.\u001b[0m\u001b[0m_lock\u001b[0m\u001b[1;33m:\u001b[0m\u001b[1;33m\u001b[0m\u001b[1;33m\u001b[0m\u001b[0m\n\u001b[0;32m    715\u001b[0m             \u001b[0mjob_idx\u001b[0m \u001b[1;33m=\u001b[0m \u001b[0mlen\u001b[0m\u001b[1;33m(\u001b[0m\u001b[0mself\u001b[0m\u001b[1;33m.\u001b[0m\u001b[0m_jobs\u001b[0m\u001b[1;33m)\u001b[0m\u001b[1;33m\u001b[0m\u001b[1;33m\u001b[0m\u001b[0m\n\u001b[1;32m--> 716\u001b[1;33m             \u001b[0mjob\u001b[0m \u001b[1;33m=\u001b[0m \u001b[0mself\u001b[0m\u001b[1;33m.\u001b[0m\u001b[0m_backend\u001b[0m\u001b[1;33m.\u001b[0m\u001b[0mapply_async\u001b[0m\u001b[1;33m(\u001b[0m\u001b[0mbatch\u001b[0m\u001b[1;33m,\u001b[0m \u001b[0mcallback\u001b[0m\u001b[1;33m=\u001b[0m\u001b[0mcb\u001b[0m\u001b[1;33m)\u001b[0m\u001b[1;33m\u001b[0m\u001b[1;33m\u001b[0m\u001b[0m\n\u001b[0m\u001b[0;32m    717\u001b[0m             \u001b[1;31m# A job can complete so quickly than its callback is\u001b[0m\u001b[1;33m\u001b[0m\u001b[1;33m\u001b[0m\u001b[1;33m\u001b[0m\u001b[0m\n\u001b[0;32m    718\u001b[0m             \u001b[1;31m# called before we get here, causing self._jobs to\u001b[0m\u001b[1;33m\u001b[0m\u001b[1;33m\u001b[0m\u001b[1;33m\u001b[0m\u001b[0m\n",
      "\u001b[1;32mC:\\Programs\\anaconda\\lib\\site-packages\\joblib\\_parallel_backends.py\u001b[0m in \u001b[0;36mapply_async\u001b[1;34m(self, func, callback)\u001b[0m\n\u001b[0;32m    180\u001b[0m     \u001b[1;32mdef\u001b[0m \u001b[0mapply_async\u001b[0m\u001b[1;33m(\u001b[0m\u001b[0mself\u001b[0m\u001b[1;33m,\u001b[0m \u001b[0mfunc\u001b[0m\u001b[1;33m,\u001b[0m \u001b[0mcallback\u001b[0m\u001b[1;33m=\u001b[0m\u001b[1;32mNone\u001b[0m\u001b[1;33m)\u001b[0m\u001b[1;33m:\u001b[0m\u001b[1;33m\u001b[0m\u001b[1;33m\u001b[0m\u001b[0m\n\u001b[0;32m    181\u001b[0m         \u001b[1;34m\"\"\"Schedule a func to be run\"\"\"\u001b[0m\u001b[1;33m\u001b[0m\u001b[1;33m\u001b[0m\u001b[0m\n\u001b[1;32m--> 182\u001b[1;33m         \u001b[0mresult\u001b[0m \u001b[1;33m=\u001b[0m \u001b[0mImmediateResult\u001b[0m\u001b[1;33m(\u001b[0m\u001b[0mfunc\u001b[0m\u001b[1;33m)\u001b[0m\u001b[1;33m\u001b[0m\u001b[1;33m\u001b[0m\u001b[0m\n\u001b[0m\u001b[0;32m    183\u001b[0m         \u001b[1;32mif\u001b[0m \u001b[0mcallback\u001b[0m\u001b[1;33m:\u001b[0m\u001b[1;33m\u001b[0m\u001b[1;33m\u001b[0m\u001b[0m\n\u001b[0;32m    184\u001b[0m             \u001b[0mcallback\u001b[0m\u001b[1;33m(\u001b[0m\u001b[0mresult\u001b[0m\u001b[1;33m)\u001b[0m\u001b[1;33m\u001b[0m\u001b[1;33m\u001b[0m\u001b[0m\n",
      "\u001b[1;32mC:\\Programs\\anaconda\\lib\\site-packages\\joblib\\_parallel_backends.py\u001b[0m in \u001b[0;36m__init__\u001b[1;34m(self, batch)\u001b[0m\n\u001b[0;32m    547\u001b[0m         \u001b[1;31m# Don't delay the application, to avoid keeping the input\u001b[0m\u001b[1;33m\u001b[0m\u001b[1;33m\u001b[0m\u001b[1;33m\u001b[0m\u001b[0m\n\u001b[0;32m    548\u001b[0m         \u001b[1;31m# arguments in memory\u001b[0m\u001b[1;33m\u001b[0m\u001b[1;33m\u001b[0m\u001b[1;33m\u001b[0m\u001b[0m\n\u001b[1;32m--> 549\u001b[1;33m         \u001b[0mself\u001b[0m\u001b[1;33m.\u001b[0m\u001b[0mresults\u001b[0m \u001b[1;33m=\u001b[0m \u001b[0mbatch\u001b[0m\u001b[1;33m(\u001b[0m\u001b[1;33m)\u001b[0m\u001b[1;33m\u001b[0m\u001b[1;33m\u001b[0m\u001b[0m\n\u001b[0m\u001b[0;32m    550\u001b[0m \u001b[1;33m\u001b[0m\u001b[0m\n\u001b[0;32m    551\u001b[0m     \u001b[1;32mdef\u001b[0m \u001b[0mget\u001b[0m\u001b[1;33m(\u001b[0m\u001b[0mself\u001b[0m\u001b[1;33m)\u001b[0m\u001b[1;33m:\u001b[0m\u001b[1;33m\u001b[0m\u001b[1;33m\u001b[0m\u001b[0m\n",
      "\u001b[1;32mC:\\Programs\\anaconda\\lib\\site-packages\\joblib\\parallel.py\u001b[0m in \u001b[0;36m__call__\u001b[1;34m(self)\u001b[0m\n\u001b[0;32m    223\u001b[0m         \u001b[1;32mwith\u001b[0m \u001b[0mparallel_backend\u001b[0m\u001b[1;33m(\u001b[0m\u001b[0mself\u001b[0m\u001b[1;33m.\u001b[0m\u001b[0m_backend\u001b[0m\u001b[1;33m,\u001b[0m \u001b[0mn_jobs\u001b[0m\u001b[1;33m=\u001b[0m\u001b[0mself\u001b[0m\u001b[1;33m.\u001b[0m\u001b[0m_n_jobs\u001b[0m\u001b[1;33m)\u001b[0m\u001b[1;33m:\u001b[0m\u001b[1;33m\u001b[0m\u001b[1;33m\u001b[0m\u001b[0m\n\u001b[0;32m    224\u001b[0m             return [func(*args, **kwargs)\n\u001b[1;32m--> 225\u001b[1;33m                     for func, args, kwargs in self.items]\n\u001b[0m\u001b[0;32m    226\u001b[0m \u001b[1;33m\u001b[0m\u001b[0m\n\u001b[0;32m    227\u001b[0m     \u001b[1;32mdef\u001b[0m \u001b[0m__len__\u001b[0m\u001b[1;33m(\u001b[0m\u001b[0mself\u001b[0m\u001b[1;33m)\u001b[0m\u001b[1;33m:\u001b[0m\u001b[1;33m\u001b[0m\u001b[1;33m\u001b[0m\u001b[0m\n",
      "\u001b[1;32mC:\\Programs\\anaconda\\lib\\site-packages\\joblib\\parallel.py\u001b[0m in \u001b[0;36m<listcomp>\u001b[1;34m(.0)\u001b[0m\n\u001b[0;32m    223\u001b[0m         \u001b[1;32mwith\u001b[0m \u001b[0mparallel_backend\u001b[0m\u001b[1;33m(\u001b[0m\u001b[0mself\u001b[0m\u001b[1;33m.\u001b[0m\u001b[0m_backend\u001b[0m\u001b[1;33m,\u001b[0m \u001b[0mn_jobs\u001b[0m\u001b[1;33m=\u001b[0m\u001b[0mself\u001b[0m\u001b[1;33m.\u001b[0m\u001b[0m_n_jobs\u001b[0m\u001b[1;33m)\u001b[0m\u001b[1;33m:\u001b[0m\u001b[1;33m\u001b[0m\u001b[1;33m\u001b[0m\u001b[0m\n\u001b[0;32m    224\u001b[0m             return [func(*args, **kwargs)\n\u001b[1;32m--> 225\u001b[1;33m                     for func, args, kwargs in self.items]\n\u001b[0m\u001b[0;32m    226\u001b[0m \u001b[1;33m\u001b[0m\u001b[0m\n\u001b[0;32m    227\u001b[0m     \u001b[1;32mdef\u001b[0m \u001b[0m__len__\u001b[0m\u001b[1;33m(\u001b[0m\u001b[0mself\u001b[0m\u001b[1;33m)\u001b[0m\u001b[1;33m:\u001b[0m\u001b[1;33m\u001b[0m\u001b[1;33m\u001b[0m\u001b[0m\n",
      "\u001b[1;32mC:\\Programs\\anaconda\\lib\\site-packages\\sklearn\\model_selection\\_validation.py\u001b[0m in \u001b[0;36m_fit_and_score\u001b[1;34m(estimator, X, y, scorer, train, test, verbose, parameters, fit_params, return_train_score, return_parameters, return_n_test_samples, return_times, return_estimator, error_score)\u001b[0m\n\u001b[0;32m    552\u001b[0m         \u001b[0mfit_time\u001b[0m \u001b[1;33m=\u001b[0m \u001b[0mtime\u001b[0m\u001b[1;33m.\u001b[0m\u001b[0mtime\u001b[0m\u001b[1;33m(\u001b[0m\u001b[1;33m)\u001b[0m \u001b[1;33m-\u001b[0m \u001b[0mstart_time\u001b[0m\u001b[1;33m\u001b[0m\u001b[1;33m\u001b[0m\u001b[0m\n\u001b[0;32m    553\u001b[0m         \u001b[1;31m# _score will return dict if is_multimetric is True\u001b[0m\u001b[1;33m\u001b[0m\u001b[1;33m\u001b[0m\u001b[1;33m\u001b[0m\u001b[0m\n\u001b[1;32m--> 554\u001b[1;33m         \u001b[0mtest_scores\u001b[0m \u001b[1;33m=\u001b[0m \u001b[0m_score\u001b[0m\u001b[1;33m(\u001b[0m\u001b[0mestimator\u001b[0m\u001b[1;33m,\u001b[0m \u001b[0mX_test\u001b[0m\u001b[1;33m,\u001b[0m \u001b[0my_test\u001b[0m\u001b[1;33m,\u001b[0m \u001b[0mscorer\u001b[0m\u001b[1;33m,\u001b[0m \u001b[0mis_multimetric\u001b[0m\u001b[1;33m)\u001b[0m\u001b[1;33m\u001b[0m\u001b[1;33m\u001b[0m\u001b[0m\n\u001b[0m\u001b[0;32m    555\u001b[0m         \u001b[0mscore_time\u001b[0m \u001b[1;33m=\u001b[0m \u001b[0mtime\u001b[0m\u001b[1;33m.\u001b[0m\u001b[0mtime\u001b[0m\u001b[1;33m(\u001b[0m\u001b[1;33m)\u001b[0m \u001b[1;33m-\u001b[0m \u001b[0mstart_time\u001b[0m \u001b[1;33m-\u001b[0m \u001b[0mfit_time\u001b[0m\u001b[1;33m\u001b[0m\u001b[1;33m\u001b[0m\u001b[0m\n\u001b[0;32m    556\u001b[0m         \u001b[1;32mif\u001b[0m \u001b[0mreturn_train_score\u001b[0m\u001b[1;33m:\u001b[0m\u001b[1;33m\u001b[0m\u001b[1;33m\u001b[0m\u001b[0m\n",
      "\u001b[1;32mC:\\Programs\\anaconda\\lib\\site-packages\\sklearn\\model_selection\\_validation.py\u001b[0m in \u001b[0;36m_score\u001b[1;34m(estimator, X_test, y_test, scorer, is_multimetric)\u001b[0m\n\u001b[0;32m    595\u001b[0m     \"\"\"\n\u001b[0;32m    596\u001b[0m     \u001b[1;32mif\u001b[0m \u001b[0mis_multimetric\u001b[0m\u001b[1;33m:\u001b[0m\u001b[1;33m\u001b[0m\u001b[1;33m\u001b[0m\u001b[0m\n\u001b[1;32m--> 597\u001b[1;33m         \u001b[1;32mreturn\u001b[0m \u001b[0m_multimetric_score\u001b[0m\u001b[1;33m(\u001b[0m\u001b[0mestimator\u001b[0m\u001b[1;33m,\u001b[0m \u001b[0mX_test\u001b[0m\u001b[1;33m,\u001b[0m \u001b[0my_test\u001b[0m\u001b[1;33m,\u001b[0m \u001b[0mscorer\u001b[0m\u001b[1;33m)\u001b[0m\u001b[1;33m\u001b[0m\u001b[1;33m\u001b[0m\u001b[0m\n\u001b[0m\u001b[0;32m    598\u001b[0m     \u001b[1;32melse\u001b[0m\u001b[1;33m:\u001b[0m\u001b[1;33m\u001b[0m\u001b[1;33m\u001b[0m\u001b[0m\n\u001b[0;32m    599\u001b[0m         \u001b[1;32mif\u001b[0m \u001b[0my_test\u001b[0m \u001b[1;32mis\u001b[0m \u001b[1;32mNone\u001b[0m\u001b[1;33m:\u001b[0m\u001b[1;33m\u001b[0m\u001b[1;33m\u001b[0m\u001b[0m\n",
      "\u001b[1;32mC:\\Programs\\anaconda\\lib\\site-packages\\sklearn\\model_selection\\_validation.py\u001b[0m in \u001b[0;36m_multimetric_score\u001b[1;34m(estimator, X_test, y_test, scorers)\u001b[0m\n\u001b[0;32m    625\u001b[0m             \u001b[0mscore\u001b[0m \u001b[1;33m=\u001b[0m \u001b[0mscorer\u001b[0m\u001b[1;33m(\u001b[0m\u001b[0mestimator\u001b[0m\u001b[1;33m,\u001b[0m \u001b[0mX_test\u001b[0m\u001b[1;33m)\u001b[0m\u001b[1;33m\u001b[0m\u001b[1;33m\u001b[0m\u001b[0m\n\u001b[0;32m    626\u001b[0m         \u001b[1;32melse\u001b[0m\u001b[1;33m:\u001b[0m\u001b[1;33m\u001b[0m\u001b[1;33m\u001b[0m\u001b[0m\n\u001b[1;32m--> 627\u001b[1;33m             \u001b[0mscore\u001b[0m \u001b[1;33m=\u001b[0m \u001b[0mscorer\u001b[0m\u001b[1;33m(\u001b[0m\u001b[0mestimator\u001b[0m\u001b[1;33m,\u001b[0m \u001b[0mX_test\u001b[0m\u001b[1;33m,\u001b[0m \u001b[0my_test\u001b[0m\u001b[1;33m)\u001b[0m\u001b[1;33m\u001b[0m\u001b[1;33m\u001b[0m\u001b[0m\n\u001b[0m\u001b[0;32m    628\u001b[0m \u001b[1;33m\u001b[0m\u001b[0m\n\u001b[0;32m    629\u001b[0m         \u001b[1;32mif\u001b[0m \u001b[0mhasattr\u001b[0m\u001b[1;33m(\u001b[0m\u001b[0mscore\u001b[0m\u001b[1;33m,\u001b[0m \u001b[1;34m'item'\u001b[0m\u001b[1;33m)\u001b[0m\u001b[1;33m:\u001b[0m\u001b[1;33m\u001b[0m\u001b[1;33m\u001b[0m\u001b[0m\n",
      "\u001b[1;32mC:\\Programs\\anaconda\\lib\\site-packages\\sklearn\\metrics\\scorer.py\u001b[0m in \u001b[0;36m_passthrough_scorer\u001b[1;34m(estimator, *args, **kwargs)\u001b[0m\n\u001b[0;32m    238\u001b[0m \u001b[1;32mdef\u001b[0m \u001b[0m_passthrough_scorer\u001b[0m\u001b[1;33m(\u001b[0m\u001b[0mestimator\u001b[0m\u001b[1;33m,\u001b[0m \u001b[1;33m*\u001b[0m\u001b[0margs\u001b[0m\u001b[1;33m,\u001b[0m \u001b[1;33m**\u001b[0m\u001b[0mkwargs\u001b[0m\u001b[1;33m)\u001b[0m\u001b[1;33m:\u001b[0m\u001b[1;33m\u001b[0m\u001b[1;33m\u001b[0m\u001b[0m\n\u001b[0;32m    239\u001b[0m     \u001b[1;34m\"\"\"Function that wraps estimator.score\"\"\"\u001b[0m\u001b[1;33m\u001b[0m\u001b[1;33m\u001b[0m\u001b[0m\n\u001b[1;32m--> 240\u001b[1;33m     \u001b[1;32mreturn\u001b[0m \u001b[0mestimator\u001b[0m\u001b[1;33m.\u001b[0m\u001b[0mscore\u001b[0m\u001b[1;33m(\u001b[0m\u001b[1;33m*\u001b[0m\u001b[0margs\u001b[0m\u001b[1;33m,\u001b[0m \u001b[1;33m**\u001b[0m\u001b[0mkwargs\u001b[0m\u001b[1;33m)\u001b[0m\u001b[1;33m\u001b[0m\u001b[1;33m\u001b[0m\u001b[0m\n\u001b[0m\u001b[0;32m    241\u001b[0m \u001b[1;33m\u001b[0m\u001b[0m\n\u001b[0;32m    242\u001b[0m \u001b[1;33m\u001b[0m\u001b[0m\n",
      "\u001b[1;32mC:\\Programs\\anaconda\\lib\\site-packages\\sklearn\\base.py\u001b[0m in \u001b[0;36mscore\u001b[1;34m(self, X, y, sample_weight)\u001b[0m\n\u001b[0;32m    355\u001b[0m         \"\"\"\n\u001b[0;32m    356\u001b[0m         \u001b[1;32mfrom\u001b[0m \u001b[1;33m.\u001b[0m\u001b[0mmetrics\u001b[0m \u001b[1;32mimport\u001b[0m \u001b[0maccuracy_score\u001b[0m\u001b[1;33m\u001b[0m\u001b[1;33m\u001b[0m\u001b[0m\n\u001b[1;32m--> 357\u001b[1;33m         \u001b[1;32mreturn\u001b[0m \u001b[0maccuracy_score\u001b[0m\u001b[1;33m(\u001b[0m\u001b[0my\u001b[0m\u001b[1;33m,\u001b[0m \u001b[0mself\u001b[0m\u001b[1;33m.\u001b[0m\u001b[0mpredict\u001b[0m\u001b[1;33m(\u001b[0m\u001b[0mX\u001b[0m\u001b[1;33m)\u001b[0m\u001b[1;33m,\u001b[0m \u001b[0msample_weight\u001b[0m\u001b[1;33m=\u001b[0m\u001b[0msample_weight\u001b[0m\u001b[1;33m)\u001b[0m\u001b[1;33m\u001b[0m\u001b[1;33m\u001b[0m\u001b[0m\n\u001b[0m\u001b[0;32m    358\u001b[0m \u001b[1;33m\u001b[0m\u001b[0m\n\u001b[0;32m    359\u001b[0m \u001b[1;33m\u001b[0m\u001b[0m\n",
      "\u001b[1;32mC:\\Programs\\anaconda\\lib\\site-packages\\sklearn\\neighbors\\classification.py\u001b[0m in \u001b[0;36mpredict\u001b[1;34m(self, X)\u001b[0m\n\u001b[0;32m    147\u001b[0m         \u001b[0mX\u001b[0m \u001b[1;33m=\u001b[0m \u001b[0mcheck_array\u001b[0m\u001b[1;33m(\u001b[0m\u001b[0mX\u001b[0m\u001b[1;33m,\u001b[0m \u001b[0maccept_sparse\u001b[0m\u001b[1;33m=\u001b[0m\u001b[1;34m'csr'\u001b[0m\u001b[1;33m)\u001b[0m\u001b[1;33m\u001b[0m\u001b[1;33m\u001b[0m\u001b[0m\n\u001b[0;32m    148\u001b[0m \u001b[1;33m\u001b[0m\u001b[0m\n\u001b[1;32m--> 149\u001b[1;33m         \u001b[0mneigh_dist\u001b[0m\u001b[1;33m,\u001b[0m \u001b[0mneigh_ind\u001b[0m \u001b[1;33m=\u001b[0m \u001b[0mself\u001b[0m\u001b[1;33m.\u001b[0m\u001b[0mkneighbors\u001b[0m\u001b[1;33m(\u001b[0m\u001b[0mX\u001b[0m\u001b[1;33m)\u001b[0m\u001b[1;33m\u001b[0m\u001b[1;33m\u001b[0m\u001b[0m\n\u001b[0m\u001b[0;32m    150\u001b[0m         \u001b[0mclasses_\u001b[0m \u001b[1;33m=\u001b[0m \u001b[0mself\u001b[0m\u001b[1;33m.\u001b[0m\u001b[0mclasses_\u001b[0m\u001b[1;33m\u001b[0m\u001b[1;33m\u001b[0m\u001b[0m\n\u001b[0;32m    151\u001b[0m         \u001b[0m_y\u001b[0m \u001b[1;33m=\u001b[0m \u001b[0mself\u001b[0m\u001b[1;33m.\u001b[0m\u001b[0m_y\u001b[0m\u001b[1;33m\u001b[0m\u001b[1;33m\u001b[0m\u001b[0m\n",
      "\u001b[1;32mC:\\Programs\\anaconda\\lib\\site-packages\\sklearn\\neighbors\\base.py\u001b[0m in \u001b[0;36mkneighbors\u001b[1;34m(self, X, n_neighbors, return_distance)\u001b[0m\n\u001b[0;32m    452\u001b[0m                 delayed_query(\n\u001b[0;32m    453\u001b[0m                     self._tree, X[s], n_neighbors, return_distance)\n\u001b[1;32m--> 454\u001b[1;33m                 \u001b[1;32mfor\u001b[0m \u001b[0ms\u001b[0m \u001b[1;32min\u001b[0m \u001b[0mgen_even_slices\u001b[0m\u001b[1;33m(\u001b[0m\u001b[0mX\u001b[0m\u001b[1;33m.\u001b[0m\u001b[0mshape\u001b[0m\u001b[1;33m[\u001b[0m\u001b[1;36m0\u001b[0m\u001b[1;33m]\u001b[0m\u001b[1;33m,\u001b[0m \u001b[0mn_jobs\u001b[0m\u001b[1;33m)\u001b[0m\u001b[1;33m\u001b[0m\u001b[1;33m\u001b[0m\u001b[0m\n\u001b[0m\u001b[0;32m    455\u001b[0m             )\n\u001b[0;32m    456\u001b[0m         \u001b[1;32melse\u001b[0m\u001b[1;33m:\u001b[0m\u001b[1;33m\u001b[0m\u001b[1;33m\u001b[0m\u001b[0m\n",
      "\u001b[1;32mC:\\Programs\\anaconda\\lib\\site-packages\\joblib\\parallel.py\u001b[0m in \u001b[0;36m__call__\u001b[1;34m(self, iterable)\u001b[0m\n\u001b[0;32m    919\u001b[0m             \u001b[1;31m# remaining jobs.\u001b[0m\u001b[1;33m\u001b[0m\u001b[1;33m\u001b[0m\u001b[1;33m\u001b[0m\u001b[0m\n\u001b[0;32m    920\u001b[0m             \u001b[0mself\u001b[0m\u001b[1;33m.\u001b[0m\u001b[0m_iterating\u001b[0m \u001b[1;33m=\u001b[0m \u001b[1;32mFalse\u001b[0m\u001b[1;33m\u001b[0m\u001b[1;33m\u001b[0m\u001b[0m\n\u001b[1;32m--> 921\u001b[1;33m             \u001b[1;32mif\u001b[0m \u001b[0mself\u001b[0m\u001b[1;33m.\u001b[0m\u001b[0mdispatch_one_batch\u001b[0m\u001b[1;33m(\u001b[0m\u001b[0miterator\u001b[0m\u001b[1;33m)\u001b[0m\u001b[1;33m:\u001b[0m\u001b[1;33m\u001b[0m\u001b[1;33m\u001b[0m\u001b[0m\n\u001b[0m\u001b[0;32m    922\u001b[0m                 \u001b[0mself\u001b[0m\u001b[1;33m.\u001b[0m\u001b[0m_iterating\u001b[0m \u001b[1;33m=\u001b[0m \u001b[0mself\u001b[0m\u001b[1;33m.\u001b[0m\u001b[0m_original_iterator\u001b[0m \u001b[1;32mis\u001b[0m \u001b[1;32mnot\u001b[0m \u001b[1;32mNone\u001b[0m\u001b[1;33m\u001b[0m\u001b[1;33m\u001b[0m\u001b[0m\n\u001b[0;32m    923\u001b[0m \u001b[1;33m\u001b[0m\u001b[0m\n",
      "\u001b[1;32mC:\\Programs\\anaconda\\lib\\site-packages\\joblib\\parallel.py\u001b[0m in \u001b[0;36mdispatch_one_batch\u001b[1;34m(self, iterator)\u001b[0m\n\u001b[0;32m    757\u001b[0m                 \u001b[1;32mreturn\u001b[0m \u001b[1;32mFalse\u001b[0m\u001b[1;33m\u001b[0m\u001b[1;33m\u001b[0m\u001b[0m\n\u001b[0;32m    758\u001b[0m             \u001b[1;32melse\u001b[0m\u001b[1;33m:\u001b[0m\u001b[1;33m\u001b[0m\u001b[1;33m\u001b[0m\u001b[0m\n\u001b[1;32m--> 759\u001b[1;33m                 \u001b[0mself\u001b[0m\u001b[1;33m.\u001b[0m\u001b[0m_dispatch\u001b[0m\u001b[1;33m(\u001b[0m\u001b[0mtasks\u001b[0m\u001b[1;33m)\u001b[0m\u001b[1;33m\u001b[0m\u001b[1;33m\u001b[0m\u001b[0m\n\u001b[0m\u001b[0;32m    760\u001b[0m                 \u001b[1;32mreturn\u001b[0m \u001b[1;32mTrue\u001b[0m\u001b[1;33m\u001b[0m\u001b[1;33m\u001b[0m\u001b[0m\n\u001b[0;32m    761\u001b[0m \u001b[1;33m\u001b[0m\u001b[0m\n",
      "\u001b[1;32mC:\\Programs\\anaconda\\lib\\site-packages\\joblib\\parallel.py\u001b[0m in \u001b[0;36m_dispatch\u001b[1;34m(self, batch)\u001b[0m\n\u001b[0;32m    714\u001b[0m         \u001b[1;32mwith\u001b[0m \u001b[0mself\u001b[0m\u001b[1;33m.\u001b[0m\u001b[0m_lock\u001b[0m\u001b[1;33m:\u001b[0m\u001b[1;33m\u001b[0m\u001b[1;33m\u001b[0m\u001b[0m\n\u001b[0;32m    715\u001b[0m             \u001b[0mjob_idx\u001b[0m \u001b[1;33m=\u001b[0m \u001b[0mlen\u001b[0m\u001b[1;33m(\u001b[0m\u001b[0mself\u001b[0m\u001b[1;33m.\u001b[0m\u001b[0m_jobs\u001b[0m\u001b[1;33m)\u001b[0m\u001b[1;33m\u001b[0m\u001b[1;33m\u001b[0m\u001b[0m\n\u001b[1;32m--> 716\u001b[1;33m             \u001b[0mjob\u001b[0m \u001b[1;33m=\u001b[0m \u001b[0mself\u001b[0m\u001b[1;33m.\u001b[0m\u001b[0m_backend\u001b[0m\u001b[1;33m.\u001b[0m\u001b[0mapply_async\u001b[0m\u001b[1;33m(\u001b[0m\u001b[0mbatch\u001b[0m\u001b[1;33m,\u001b[0m \u001b[0mcallback\u001b[0m\u001b[1;33m=\u001b[0m\u001b[0mcb\u001b[0m\u001b[1;33m)\u001b[0m\u001b[1;33m\u001b[0m\u001b[1;33m\u001b[0m\u001b[0m\n\u001b[0m\u001b[0;32m    717\u001b[0m             \u001b[1;31m# A job can complete so quickly than its callback is\u001b[0m\u001b[1;33m\u001b[0m\u001b[1;33m\u001b[0m\u001b[1;33m\u001b[0m\u001b[0m\n\u001b[0;32m    718\u001b[0m             \u001b[1;31m# called before we get here, causing self._jobs to\u001b[0m\u001b[1;33m\u001b[0m\u001b[1;33m\u001b[0m\u001b[1;33m\u001b[0m\u001b[0m\n",
      "\u001b[1;32mC:\\Programs\\anaconda\\lib\\site-packages\\joblib\\_parallel_backends.py\u001b[0m in \u001b[0;36mapply_async\u001b[1;34m(self, func, callback)\u001b[0m\n\u001b[0;32m    180\u001b[0m     \u001b[1;32mdef\u001b[0m \u001b[0mapply_async\u001b[0m\u001b[1;33m(\u001b[0m\u001b[0mself\u001b[0m\u001b[1;33m,\u001b[0m \u001b[0mfunc\u001b[0m\u001b[1;33m,\u001b[0m \u001b[0mcallback\u001b[0m\u001b[1;33m=\u001b[0m\u001b[1;32mNone\u001b[0m\u001b[1;33m)\u001b[0m\u001b[1;33m:\u001b[0m\u001b[1;33m\u001b[0m\u001b[1;33m\u001b[0m\u001b[0m\n\u001b[0;32m    181\u001b[0m         \u001b[1;34m\"\"\"Schedule a func to be run\"\"\"\u001b[0m\u001b[1;33m\u001b[0m\u001b[1;33m\u001b[0m\u001b[0m\n\u001b[1;32m--> 182\u001b[1;33m         \u001b[0mresult\u001b[0m \u001b[1;33m=\u001b[0m \u001b[0mImmediateResult\u001b[0m\u001b[1;33m(\u001b[0m\u001b[0mfunc\u001b[0m\u001b[1;33m)\u001b[0m\u001b[1;33m\u001b[0m\u001b[1;33m\u001b[0m\u001b[0m\n\u001b[0m\u001b[0;32m    183\u001b[0m         \u001b[1;32mif\u001b[0m \u001b[0mcallback\u001b[0m\u001b[1;33m:\u001b[0m\u001b[1;33m\u001b[0m\u001b[1;33m\u001b[0m\u001b[0m\n\u001b[0;32m    184\u001b[0m             \u001b[0mcallback\u001b[0m\u001b[1;33m(\u001b[0m\u001b[0mresult\u001b[0m\u001b[1;33m)\u001b[0m\u001b[1;33m\u001b[0m\u001b[1;33m\u001b[0m\u001b[0m\n",
      "\u001b[1;32mC:\\Programs\\anaconda\\lib\\site-packages\\joblib\\_parallel_backends.py\u001b[0m in \u001b[0;36m__init__\u001b[1;34m(self, batch)\u001b[0m\n\u001b[0;32m    547\u001b[0m         \u001b[1;31m# Don't delay the application, to avoid keeping the input\u001b[0m\u001b[1;33m\u001b[0m\u001b[1;33m\u001b[0m\u001b[1;33m\u001b[0m\u001b[0m\n\u001b[0;32m    548\u001b[0m         \u001b[1;31m# arguments in memory\u001b[0m\u001b[1;33m\u001b[0m\u001b[1;33m\u001b[0m\u001b[1;33m\u001b[0m\u001b[0m\n\u001b[1;32m--> 549\u001b[1;33m         \u001b[0mself\u001b[0m\u001b[1;33m.\u001b[0m\u001b[0mresults\u001b[0m \u001b[1;33m=\u001b[0m \u001b[0mbatch\u001b[0m\u001b[1;33m(\u001b[0m\u001b[1;33m)\u001b[0m\u001b[1;33m\u001b[0m\u001b[1;33m\u001b[0m\u001b[0m\n\u001b[0m\u001b[0;32m    550\u001b[0m \u001b[1;33m\u001b[0m\u001b[0m\n\u001b[0;32m    551\u001b[0m     \u001b[1;32mdef\u001b[0m \u001b[0mget\u001b[0m\u001b[1;33m(\u001b[0m\u001b[0mself\u001b[0m\u001b[1;33m)\u001b[0m\u001b[1;33m:\u001b[0m\u001b[1;33m\u001b[0m\u001b[1;33m\u001b[0m\u001b[0m\n",
      "\u001b[1;32mC:\\Programs\\anaconda\\lib\\site-packages\\joblib\\parallel.py\u001b[0m in \u001b[0;36m__call__\u001b[1;34m(self)\u001b[0m\n\u001b[0;32m    223\u001b[0m         \u001b[1;32mwith\u001b[0m \u001b[0mparallel_backend\u001b[0m\u001b[1;33m(\u001b[0m\u001b[0mself\u001b[0m\u001b[1;33m.\u001b[0m\u001b[0m_backend\u001b[0m\u001b[1;33m,\u001b[0m \u001b[0mn_jobs\u001b[0m\u001b[1;33m=\u001b[0m\u001b[0mself\u001b[0m\u001b[1;33m.\u001b[0m\u001b[0m_n_jobs\u001b[0m\u001b[1;33m)\u001b[0m\u001b[1;33m:\u001b[0m\u001b[1;33m\u001b[0m\u001b[1;33m\u001b[0m\u001b[0m\n\u001b[0;32m    224\u001b[0m             return [func(*args, **kwargs)\n\u001b[1;32m--> 225\u001b[1;33m                     for func, args, kwargs in self.items]\n\u001b[0m\u001b[0;32m    226\u001b[0m \u001b[1;33m\u001b[0m\u001b[0m\n\u001b[0;32m    227\u001b[0m     \u001b[1;32mdef\u001b[0m \u001b[0m__len__\u001b[0m\u001b[1;33m(\u001b[0m\u001b[0mself\u001b[0m\u001b[1;33m)\u001b[0m\u001b[1;33m:\u001b[0m\u001b[1;33m\u001b[0m\u001b[1;33m\u001b[0m\u001b[0m\n",
      "\u001b[1;32mC:\\Programs\\anaconda\\lib\\site-packages\\joblib\\parallel.py\u001b[0m in \u001b[0;36m<listcomp>\u001b[1;34m(.0)\u001b[0m\n\u001b[0;32m    223\u001b[0m         \u001b[1;32mwith\u001b[0m \u001b[0mparallel_backend\u001b[0m\u001b[1;33m(\u001b[0m\u001b[0mself\u001b[0m\u001b[1;33m.\u001b[0m\u001b[0m_backend\u001b[0m\u001b[1;33m,\u001b[0m \u001b[0mn_jobs\u001b[0m\u001b[1;33m=\u001b[0m\u001b[0mself\u001b[0m\u001b[1;33m.\u001b[0m\u001b[0m_n_jobs\u001b[0m\u001b[1;33m)\u001b[0m\u001b[1;33m:\u001b[0m\u001b[1;33m\u001b[0m\u001b[1;33m\u001b[0m\u001b[0m\n\u001b[0;32m    224\u001b[0m             return [func(*args, **kwargs)\n\u001b[1;32m--> 225\u001b[1;33m                     for func, args, kwargs in self.items]\n\u001b[0m\u001b[0;32m    226\u001b[0m \u001b[1;33m\u001b[0m\u001b[0m\n\u001b[0;32m    227\u001b[0m     \u001b[1;32mdef\u001b[0m \u001b[0m__len__\u001b[0m\u001b[1;33m(\u001b[0m\u001b[0mself\u001b[0m\u001b[1;33m)\u001b[0m\u001b[1;33m:\u001b[0m\u001b[1;33m\u001b[0m\u001b[1;33m\u001b[0m\u001b[0m\n",
      "\u001b[1;32mC:\\Programs\\anaconda\\lib\\site-packages\\sklearn\\neighbors\\base.py\u001b[0m in \u001b[0;36m_tree_query_parallel_helper\u001b[1;34m(tree, data, n_neighbors, return_distance)\u001b[0m\n\u001b[0;32m    289\u001b[0m     \u001b[0munder\u001b[0m \u001b[0mPyPy\u001b[0m\u001b[1;33m.\u001b[0m\u001b[1;33m\u001b[0m\u001b[1;33m\u001b[0m\u001b[0m\n\u001b[0;32m    290\u001b[0m     \"\"\"\n\u001b[1;32m--> 291\u001b[1;33m     \u001b[1;32mreturn\u001b[0m \u001b[0mtree\u001b[0m\u001b[1;33m.\u001b[0m\u001b[0mquery\u001b[0m\u001b[1;33m(\u001b[0m\u001b[0mdata\u001b[0m\u001b[1;33m,\u001b[0m \u001b[0mn_neighbors\u001b[0m\u001b[1;33m,\u001b[0m \u001b[0mreturn_distance\u001b[0m\u001b[1;33m)\u001b[0m\u001b[1;33m\u001b[0m\u001b[1;33m\u001b[0m\u001b[0m\n\u001b[0m\u001b[0;32m    292\u001b[0m \u001b[1;33m\u001b[0m\u001b[0m\n\u001b[0;32m    293\u001b[0m \u001b[1;33m\u001b[0m\u001b[0m\n",
      "\u001b[1;31mKeyboardInterrupt\u001b[0m: "
     ]
    }
   ],
   "source": [
    "# Долго!\n",
    "from sklearn.model_selection import GridSearchCV\n",
    "nnb = [1, 3, 5, 10, 15, 20, 25, 35, 45, 55]\n",
    "knn = KNeighborsClassifier()\n",
    "grid = GridSearchCV(knn, param_grid = {'n_neighbors': nnb}, cv=10)\n",
    "grid.fit(X_train, y_train)\n",
    "\n",
    "best_cv_err = 1 - grid.best_score_\n",
    "best_n_neighbors = grid.best_estimator_.n_neighbors\n",
    "print(best_cv_err, best_n_neighbors)"
   ]
  },
  {
   "cell_type": "markdown",
   "metadata": {},
   "source": [
    "наилучший результат достигается при количестве соседей 55 "
   ]
  },
  {
   "cell_type": "code",
   "execution_count": 43,
   "metadata": {},
   "outputs": [],
   "source": [
    "best_n_neighbors = 55"
   ]
  },
  {
   "cell_type": "code",
   "execution_count": null,
   "metadata": {
    "colab": {},
    "colab_type": "code",
    "id": "FtrL0U4ms-mu",
    "outputId": "abba7510-7477-430b-99a9-f2f8dc27cd1b"
   },
   "outputs": [
    {
     "name": "stderr",
     "output_type": "stream",
     "text": [
      "c:\\users\\andru\\appdata\\local\\programs\\python\\python37\\lib\\site-packages\\ipykernel_launcher.py:1: DataConversionWarning:\n",
      "\n",
      "A column-vector y was passed when a 1d array was expected. Please change the shape of y to (n_samples, ), for example using ravel().\n",
      "\n"
     ]
    }
   ],
   "source": [
    "knn = KNeighborsClassifier(n_neighbors = best_n_neighbors).fit(X_train, y_train)\n",
    "\n",
    "err_train = np.mean(y_train != knn.predict(X_train))\n",
    "err_test  = np.mean(y_test  != knn.predict(X_test))\n",
    "\n",
    "print(err_train, err_test)"
   ]
  },
  {
   "cell_type": "markdown",
   "metadata": {},
   "source": [
    "Видно, что подбором параметров алгоритма близжайших соседей (самое оптимально из рассмотреных значений - 50) была улучшена точность работы алгоритма. \n",
    "С 12,6% до 11.9%.\n",
    "В целом получены удовлетворительные результаты. \n",
    "Однако заметно, что алгоритм совершнает в несколько раз большую ошибку с отнесением к классу Bad loan. Что можно объяснить несбалансированностью классов. \n",
    "Так же в этой работе была отброшена графа `issue_d`. Возможно наличие этой информации так же увеличит точноить алгоритма.\n"
   ]
  },
  {
   "cell_type": "code",
   "execution_count": null,
   "metadata": {},
   "outputs": [],
   "source": []
  },
  {
   "cell_type": "markdown",
   "metadata": {},
   "source": [
    "<h1 align=\"center\"> Метод главных компонент (PCA) </h1>"
   ]
  },
  {
   "cell_type": "code",
   "execution_count": 48,
   "metadata": {},
   "outputs": [],
   "source": [
    "import pandas as pd \n",
    "import numpy as np\n",
    "import matplotlib.pyplot as plt\n",
    "from sklearn.decomposition import PCA\n",
    "from sklearn.preprocessing import StandardScaler\n",
    "%matplotlib inline"
   ]
  },
  {
   "cell_type": "code",
   "execution_count": 193,
   "metadata": {},
   "outputs": [
    {
     "data": {
      "text/plain": [
       "numpy.ndarray"
      ]
     },
     "execution_count": 193,
     "metadata": {},
     "output_type": "execute_result"
    }
   ],
   "source": [
    "type(X)"
   ]
  },
  {
   "cell_type": "markdown",
   "metadata": {},
   "source": [
    "## PCA с двумя главными компонентами"
   ]
  },
  {
   "cell_type": "code",
   "execution_count": 156,
   "metadata": {
    "scrolled": true
   },
   "outputs": [
    {
     "data": {
      "text/plain": [
       "(887379, 15)"
      ]
     },
     "execution_count": 156,
     "metadata": {},
     "output_type": "execute_result"
    }
   ],
   "source": [
    "X.shape"
   ]
  },
  {
   "cell_type": "markdown",
   "metadata": {},
   "source": [
    "Изначально имеем набор данных с 15 признаками.\n",
    "Большое количество признаков негативно вляет работу некоторых алгоритов(например метода близжайших соседей), а так же на скорость работы алгоритмов машинного обучения. \n",
    "Так же, такой набор данных непросто визуализировать. \n",
    "Выполним уменьшение размерности с помощью метода главных компонент.\n",
    "Начнем с приведению к двум главным компонентам для наглядной визуализации данных."
   ]
  },
  {
   "cell_type": "code",
   "execution_count": 157,
   "metadata": {},
   "outputs": [],
   "source": [
    "pca = PCA(n_components=2)"
   ]
  },
  {
   "cell_type": "code",
   "execution_count": 158,
   "metadata": {},
   "outputs": [],
   "source": [
    "principalComponents = pca.fit_transform(X)"
   ]
  },
  {
   "cell_type": "code",
   "execution_count": 159,
   "metadata": {},
   "outputs": [
    {
     "data": {
      "text/plain": [
       "(887379, 2)"
      ]
     },
     "execution_count": 159,
     "metadata": {},
     "output_type": "execute_result"
    }
   ],
   "source": [
    "principalComponents.shape"
   ]
  },
  {
   "cell_type": "code",
   "execution_count": 160,
   "metadata": {},
   "outputs": [],
   "source": [
    "principalDf = pd.DataFrame(data = principalComponents\n",
    "             , columns = ['principal component 1', 'principal component 2'])"
   ]
  },
  {
   "cell_type": "code",
   "execution_count": 161,
   "metadata": {},
   "outputs": [
    {
     "data": {
      "text/html": [
       "<div>\n",
       "<style scoped>\n",
       "    .dataframe tbody tr th:only-of-type {\n",
       "        vertical-align: middle;\n",
       "    }\n",
       "\n",
       "    .dataframe tbody tr th {\n",
       "        vertical-align: top;\n",
       "    }\n",
       "\n",
       "    .dataframe thead th {\n",
       "        text-align: right;\n",
       "    }\n",
       "</style>\n",
       "<table border=\"1\" class=\"dataframe\">\n",
       "  <thead>\n",
       "    <tr style=\"text-align: right;\">\n",
       "      <th></th>\n",
       "      <th>principal component 1</th>\n",
       "      <th>principal component 2</th>\n",
       "    </tr>\n",
       "  </thead>\n",
       "  <tbody>\n",
       "    <tr>\n",
       "      <th>0</th>\n",
       "      <td>-2.007836</td>\n",
       "      <td>-0.024640</td>\n",
       "    </tr>\n",
       "    <tr>\n",
       "      <th>1</th>\n",
       "      <td>-1.322394</td>\n",
       "      <td>1.513214</td>\n",
       "    </tr>\n",
       "    <tr>\n",
       "      <th>2</th>\n",
       "      <td>-1.975349</td>\n",
       "      <td>0.474371</td>\n",
       "    </tr>\n",
       "    <tr>\n",
       "      <th>3</th>\n",
       "      <td>-1.255242</td>\n",
       "      <td>0.336194</td>\n",
       "    </tr>\n",
       "    <tr>\n",
       "      <th>4</th>\n",
       "      <td>-1.210059</td>\n",
       "      <td>1.112082</td>\n",
       "    </tr>\n",
       "  </tbody>\n",
       "</table>\n",
       "</div>"
      ],
      "text/plain": [
       "   principal component 1  principal component 2\n",
       "0              -2.007836              -0.024640\n",
       "1              -1.322394               1.513214\n",
       "2              -1.975349               0.474371\n",
       "3              -1.255242               0.336194\n",
       "4              -1.210059               1.112082"
      ]
     },
     "execution_count": 161,
     "metadata": {},
     "output_type": "execute_result"
    }
   ],
   "source": [
    "principalDf.head()"
   ]
  },
  {
   "cell_type": "code",
   "execution_count": 162,
   "metadata": {},
   "outputs": [
    {
     "data": {
      "text/plain": [
       "0    Good Loan\n",
       "1     Bad Loan\n",
       "2    Good Loan\n",
       "3    Good Loan\n",
       "4    Good Loan\n",
       "Name: loan_condition, dtype: object"
      ]
     },
     "execution_count": 162,
     "metadata": {},
     "output_type": "execute_result"
    }
   ],
   "source": [
    "data['loan_condition'].head()"
   ]
  },
  {
   "cell_type": "code",
   "execution_count": 163,
   "metadata": {
    "scrolled": true
   },
   "outputs": [
    {
     "data": {
      "text/html": [
       "<div>\n",
       "<style scoped>\n",
       "    .dataframe tbody tr th:only-of-type {\n",
       "        vertical-align: middle;\n",
       "    }\n",
       "\n",
       "    .dataframe tbody tr th {\n",
       "        vertical-align: top;\n",
       "    }\n",
       "\n",
       "    .dataframe thead th {\n",
       "        text-align: right;\n",
       "    }\n",
       "</style>\n",
       "<table border=\"1\" class=\"dataframe\">\n",
       "  <thead>\n",
       "    <tr style=\"text-align: right;\">\n",
       "      <th></th>\n",
       "      <th>principal component 1</th>\n",
       "      <th>principal component 2</th>\n",
       "      <th>loan_condition</th>\n",
       "    </tr>\n",
       "  </thead>\n",
       "  <tbody>\n",
       "    <tr>\n",
       "      <th>0</th>\n",
       "      <td>-2.007836</td>\n",
       "      <td>-0.024640</td>\n",
       "      <td>Good Loan</td>\n",
       "    </tr>\n",
       "    <tr>\n",
       "      <th>1</th>\n",
       "      <td>-1.322394</td>\n",
       "      <td>1.513214</td>\n",
       "      <td>Bad Loan</td>\n",
       "    </tr>\n",
       "    <tr>\n",
       "      <th>2</th>\n",
       "      <td>-1.975349</td>\n",
       "      <td>0.474371</td>\n",
       "      <td>Good Loan</td>\n",
       "    </tr>\n",
       "    <tr>\n",
       "      <th>3</th>\n",
       "      <td>-1.255242</td>\n",
       "      <td>0.336194</td>\n",
       "      <td>Good Loan</td>\n",
       "    </tr>\n",
       "    <tr>\n",
       "      <th>4</th>\n",
       "      <td>-1.210059</td>\n",
       "      <td>1.112082</td>\n",
       "      <td>Good Loan</td>\n",
       "    </tr>\n",
       "  </tbody>\n",
       "</table>\n",
       "</div>"
      ],
      "text/plain": [
       "   principal component 1  principal component 2 loan_condition\n",
       "0              -2.007836              -0.024640      Good Loan\n",
       "1              -1.322394               1.513214       Bad Loan\n",
       "2              -1.975349               0.474371      Good Loan\n",
       "3              -1.255242               0.336194      Good Loan\n",
       "4              -1.210059               1.112082      Good Loan"
      ]
     },
     "execution_count": 163,
     "metadata": {},
     "output_type": "execute_result"
    }
   ],
   "source": [
    "finalDf = pd.concat([principalDf, data[['loan_condition']]], axis = 1)\n",
    "finalDf.head(5)"
   ]
  },
  {
   "cell_type": "markdown",
   "metadata": {},
   "source": [
    "## Визуализация проекции на две главные компоненты"
   ]
  },
  {
   "cell_type": "markdown",
   "metadata": {},
   "source": []
  },
  {
   "cell_type": "code",
   "execution_count": 220,
   "metadata": {
    "scrolled": false
   },
   "outputs": [
    {
     "data": {
      "image/png": "[encoded data removed]",
      "text/plain": [
       "<Figure size 576x576 with 1 Axes>"
      ]
     },
     "metadata": {
      "needs_background": "light"
     },
     "output_type": "display_data"
    }
   ],
   "source": [
    "fig = plt.figure(figsize = (8,8))\n",
    "ax = fig.add_subplot(1,1,1) \n",
    "ax.set_xlabel('Principal Component 1', fontsize = 25)\n",
    "ax.set_ylabel('Principal Component 2', fontsize = 25)\n",
    "ax.set_title('2 Component PCA', fontsize = 20)\n",
    "\n",
    "\n",
    "targets = ['Good Loan', 'Bad Loan']\n",
    "colors = ['b', 'r']\n",
    "for target, color in zip(targets,colors):\n",
    "    indicesToKeep = finalDf['loan_condition'] == target\n",
    "    ax.scatter(finalDf.loc[indicesToKeep, 'principal component 1']\n",
    "               , finalDf.loc[indicesToKeep, 'principal component 2']\n",
    "               , c = color\n",
    "               , s = 50)\n",
    "ax.legend(targets)\n",
    "ax.grid()"
   ]
  },
  {
   "cell_type": "markdown",
   "metadata": {},
   "source": [
    "Видно, что на представленном графике данные хорошо разделимы. Отчетливо видна граница двух классов. "
   ]
  },
  {
   "cell_type": "code",
   "execution_count": 207,
   "metadata": {
    "scrolled": true
   },
   "outputs": [
    {
     "data": {
      "text/plain": [
       "array([0.17190659, 0.12776961])"
      ]
     },
     "execution_count": 207,
     "metadata": {},
     "output_type": "execute_result"
    }
   ],
   "source": [
    "pca.explained_variance_ratio_.s"
   ]
  },
  {
   "cell_type": "markdown",
   "metadata": {},
   "source": [
    "Однако доля объясненой дисперии составляет всего 29,9%. "
   ]
  },
  {
   "cell_type": "code",
   "execution_count": 208,
   "metadata": {
    "scrolled": true
   },
   "outputs": [
    {
     "name": "stdout",
     "output_type": "stream",
     "text": [
      "principal_component_1: 17.190658921570815%\n",
      "principal_component_2: 12.776961154480752%\n",
      "Суммарная доля информации: 29.967620076051567%\n"
     ]
    }
   ],
   "source": [
    "explained_variance_ratio = pca.explained_variance_ratio_ \n",
    "names = ['principal_component_1', 'principal_component_2']\n",
    "for name, var_ratio in zip(names, explained_variance_ratio):\n",
    "    print('{}: {}%'.format(name, var_ratio * 100))\n",
    "print('Суммарная доля информации: {}%'.format(sum(explained_variance_ratio) * 100))"
   ]
  },
  {
   "cell_type": "markdown",
   "metadata": {},
   "source": [
    "## KNN on Visualized 2D Projection"
   ]
  },
  {
   "cell_type": "markdown",
   "metadata": {},
   "source": [
    "Выполним предсказание модели с помощью алгоритма KNN на данных,приведенных к 2м признакам методом главных компонент"
   ]
  },
  {
   "cell_type": "code",
   "execution_count": 225,
   "metadata": {
    "colab": {},
    "colab_type": "code",
    "id": "h3F0nik3s-l1"
   },
   "outputs": [],
   "source": [
    "X_2d = finalDf.drop('loan_condition', axis = 1) # выбрасываем столбец 'loan_condition'\n",
    "y_2d = finalDf['loan_condition']\n",
    "feature_names_2d = X_2d.columns"
   ]
  },
  {
   "cell_type": "code",
   "execution_count": 229,
   "metadata": {
    "colab": {},
    "colab_type": "code",
    "id": "3ajTk3trs-l-"
   },
   "outputs": [],
   "source": [
    "X_2d = X_2d.to_numpy()"
   ]
  },
  {
   "cell_type": "code",
   "execution_count": 230,
   "metadata": {
    "colab": {},
    "colab_type": "code",
    "id": "l1aUFT0gs-mA"
   },
   "outputs": [],
   "source": [
    "y_2d = np.array(y_2d != 'Bad Loan', dtype='int')"
   ]
  },
  {
   "cell_type": "code",
   "execution_count": 231,
   "metadata": {
    "colab": {},
    "colab_type": "code",
    "id": "vNn2LAJ6s-mF",
    "outputId": "2319e59a-ff1c-4fba-a16a-fae75da41539"
   },
   "outputs": [
    {
     "data": {
      "text/plain": [
       "array([1, 0, 1, ..., 1, 1, 1])"
      ]
     },
     "execution_count": 231,
     "metadata": {},
     "output_type": "execute_result"
    }
   ],
   "source": [
    "y_2d"
   ]
  },
  {
   "cell_type": "code",
   "execution_count": 233,
   "metadata": {
    "colab": {},
    "colab_type": "code",
    "id": "_s6wDKdNs-mH",
    "outputId": "610a5311-a77e-41b6-bc14-51712952f988"
   },
   "outputs": [
    {
     "name": "stdout",
     "output_type": "stream",
     "text": [
      "(887379, 2)\n",
      "(887379,)\n"
     ]
    }
   ],
   "source": [
    "print(X_2d.shape)\n",
    "print(y_2d.shape)\n",
    "N, d = X_2d.shape"
   ]
  },
  {
   "cell_type": "code",
   "execution_count": 234,
   "metadata": {
    "colab": {},
    "colab_type": "code",
    "id": "3PMXsvw6s-mJ",
    "outputId": "5cb367ab-4f54-424d-dccc-dc6e87444224"
   },
   "outputs": [
    {
     "data": {
      "text/plain": [
       "numpy.ndarray"
      ]
     },
     "execution_count": 234,
     "metadata": {},
     "output_type": "execute_result"
    }
   ],
   "source": [
    "type(X)"
   ]
  },
  {
   "cell_type": "code",
   "execution_count": 235,
   "metadata": {
    "colab": {},
    "colab_type": "code",
    "id": "3JNGGG23s-mP",
    "outputId": "85eafdd8-48be-48de-8f23-23b65a0030cb"
   },
   "outputs": [
    {
     "data": {
      "text/plain": [
       "numpy.ndarray"
      ]
     },
     "execution_count": 235,
     "metadata": {},
     "output_type": "execute_result"
    }
   ],
   "source": [
    "type(y)"
   ]
  },
  {
   "cell_type": "code",
   "execution_count": 236,
   "metadata": {
    "colab": {},
    "colab_type": "code",
    "id": "HV9HmCjPs-mS",
    "outputId": "ee93ae84-bbec-4760-e891-e9428bd8f56c"
   },
   "outputs": [
    {
     "name": "stdout",
     "output_type": "stream",
     "text": [
      "621165 266214\n"
     ]
    }
   ],
   "source": [
    "from sklearn.model_selection import train_test_split\n",
    "X_train_2d, X_test_2d, y_train_2d, y_test_2d = train_test_split(X_2d, y_2d, test_size = 0.3, random_state = 42)\n",
    "\n",
    "N_train_2d, _ = X_train_2d.shape \n",
    "N_test_2d,  _ = X_test_2d.shape \n",
    "\n",
    "print(N_train_2d, N_test_2d)"
   ]
  },
  {
   "cell_type": "code",
   "execution_count": null,
   "metadata": {},
   "outputs": [],
   "source": []
  },
  {
   "cell_type": "code",
   "execution_count": 238,
   "metadata": {
    "colab": {},
    "colab_type": "code",
    "id": "U1Wnk41ts-mW",
    "outputId": "fe336f48-463d-4b75-b417-8a9be366005f"
   },
   "outputs": [
    {
     "data": {
      "text/plain": [
       "KNeighborsClassifier(algorithm='auto', leaf_size=30, metric='minkowski',\n",
       "                     metric_params=None, n_jobs=None, n_neighbors=10, p=2,\n",
       "                     weights='uniform')"
      ]
     },
     "execution_count": 238,
     "metadata": {},
     "output_type": "execute_result"
    }
   ],
   "source": [
    "from sklearn.neighbors import KNeighborsClassifier\n",
    "\n",
    "knn = KNeighborsClassifier(n_neighbors = 10)\n",
    "#knn.set_params(n_neighbors=10)\n",
    "knn.fit(X_train_2d, y_train_2d)"
   ]
  },
  {
   "cell_type": "code",
   "execution_count": 242,
   "metadata": {
    "colab": {},
    "colab_type": "code",
    "id": "iWcM7Ldws-mZ",
    "outputId": "12378abc-f10b-4d0a-9795-be6f4cda9165"
   },
   "outputs": [
    {
     "data": {
      "text/plain": [
       "KNeighborsClassifier(algorithm='auto', leaf_size=30, metric='minkowski',\n",
       "                     metric_params=None, n_jobs=None, n_neighbors=10, p=2,\n",
       "                     weights='uniform')"
      ]
     },
     "execution_count": 242,
     "metadata": {},
     "output_type": "execute_result"
    }
   ],
   "source": [
    "knn"
   ]
  },
  {
   "cell_type": "code",
   "execution_count": 244,
   "metadata": {
    "colab": {},
    "colab_type": "code",
    "id": "9Pb_96LIs-md"
   },
   "outputs": [],
   "source": [
    "y_test_2d_predict = knn.predict(X_test_2d)\n",
    "err_test  = np.mean(y_test_2d  != y_test_2d_predict)"
   ]
  },
  {
   "cell_type": "code",
   "execution_count": 247,
   "metadata": {
    "colab": {},
    "colab_type": "code",
    "id": "MS52qmcds-mh",
    "outputId": "c6bfc469-cd90-4ceb-fa34-86ad3c657eb6"
   },
   "outputs": [
    {
     "data": {
      "text/plain": [
       "0.07736632934406154"
      ]
     },
     "execution_count": 247,
     "metadata": {},
     "output_type": "execute_result"
    }
   ],
   "source": [
    "err_test"
   ]
  },
  {
   "cell_type": "code",
   "execution_count": 249,
   "metadata": {
    "colab": {},
    "colab_type": "code",
    "id": "R152zEc8s-mj",
    "outputId": "9cd3d46f-fd9a-4c9a-a726-b03d05abead0"
   },
   "outputs": [
    {
     "name": "stdout",
     "output_type": "stream",
     "text": [
      "[[    85  20211]\n",
      " [   385 245533]]\n"
     ]
    }
   ],
   "source": [
    "from sklearn.metrics import confusion_matrix\n",
    "\n",
    "print(confusion_matrix(y_test_2d, y_test_2d_predict))"
   ]
  },
  {
   "cell_type": "code",
   "execution_count": 250,
   "metadata": {
    "colab": {},
    "colab_type": "code",
    "id": "67A_s1rMs-mo",
    "outputId": "d8e4b4a3-344f-4990-f32c-078d166efd3d"
   },
   "outputs": [
    {
     "data": {
      "text/plain": [
       "array([[3, 0],\n",
       "       [1, 1]], dtype=int64)"
      ]
     },
     "execution_count": 250,
     "metadata": {},
     "output_type": "execute_result"
    }
   ],
   "source": [
    "confusion_matrix([0,1,0,1,0], [0,1,0,0,0])"
   ]
  },
  {
   "cell_type": "markdown",
   "metadata": {},
   "source": [
    "При запуске алгоритма KNN (10 соседей) на данных с начальными необработанными признаками была получена ошибка 0.07974411563629258 на тестовой выборке <br /> \n",
    "При запуске этого же алгоритма на данных, приведенных к двум признакам получена ошибка 0.07736632934406154 на тестовой выборке .  <br /> \n",
    "Таким образом, приведение к двум главным компонентам не только ускорила работу алгоритма, но и улучшило скорость его работы, даже несмотря на то, что величина объясненой дисперсии на двух компонентах составляет всего 29,9%. <br /> \n",
    "Это явление можно объяснить тем, что в данных присутствуют признаки, оказывающие малое влияние на искомый ответ."
   ]
  },
  {
   "cell_type": "markdown",
   "metadata": {
    "colab_type": "text",
    "id": "ia1DXV_qs-ms"
   },
   "source": [
    "### Изменение количества главных компонент"
   ]
  },
  {
   "cell_type": "markdown",
   "metadata": {},
   "source": [
    "Наилучшие результаты предсказания были получены с помощью алгоритма KNN для 55 близжайших соседей. \n",
    "Сравним качество работы алгоритма при изменении числа главных компонент. "
   ]
  },
  {
   "cell_type": "code",
   "execution_count": 59,
   "metadata": {},
   "outputs": [],
   "source": [
    "from sklearn.model_selection import train_test_split"
   ]
  },
  {
   "cell_type": "code",
   "execution_count": 60,
   "metadata": {},
   "outputs": [],
   "source": [
    "from sklearn.neighbors import KNeighborsClassifier"
   ]
  },
  {
   "cell_type": "code",
   "execution_count": 193,
   "metadata": {
    "scrolled": true
   },
   "outputs": [
    {
     "name": "stdout",
     "output_type": "stream",
     "text": [
      "(887379, 1)\n",
      "(887379,)\n",
      "621165 266214\n",
      "number of components: 1 , error_test 0.07623941640935487 error_train 0.07587838979981164\n",
      "explained_variance_ratio_: 0.17190658922835325\n",
      "(887379, 2)\n",
      "(887379,)\n",
      "621165 266214\n",
      "number of components: 2 , error_test 0.07623941640935487 error_train 0.07587838979981164\n",
      "explained_variance_ratio_: 0.29967620129282124\n",
      "(887379, 3)\n",
      "(887379,)\n",
      "621165 266214\n",
      "number of components: 3 , error_test 0.0762431727858039 error_train 0.07587677992159893\n",
      "explained_variance_ratio_: 0.40174097424849453\n",
      "(887379, 4)\n",
      "(887379,)\n",
      "621165 266214\n",
      "number of components: 4 , error_test 0.0762431727858039 error_train 0.0758735601651735\n",
      "explained_variance_ratio_: 0.5006356490893975\n",
      "(887379, 5)\n",
      "(887379,)\n",
      "621165 266214\n",
      "number of components: 5 , error_test 0.07623941640935487 error_train 0.07587999967802436\n",
      "explained_variance_ratio_: 0.5945938386294944\n",
      "(887379, 6)\n",
      "(887379,)\n",
      "621165 266214\n",
      "number of components: 6 , error_test 0.07625444191515098 error_train 0.07587677992159893\n",
      "explained_variance_ratio_: 0.6798131111646618\n",
      "(887379, 7)\n",
      "(887379,)\n",
      "621165 266214\n",
      "number of components: 7 , error_test 0.07625068553870194 error_train 0.07587999967802436\n",
      "explained_variance_ratio_: 0.7610611074968551\n",
      "(887379, 8)\n",
      "(887379,)\n",
      "621165 266214\n",
      "number of components: 8 , error_test 0.07625444191515098 error_train 0.07587034040874807\n",
      "explained_variance_ratio_: 0.8331936346418917\n",
      "(887379, 9)\n",
      "(887379,)\n",
      "621165 266214\n",
      "number of components: 9 , error_test 0.0762769801738451 error_train 0.07588804906908793\n",
      "explained_variance_ratio_: 0.8868312352488018\n",
      "(887379, 10)\n",
      "(887379,)\n",
      "621165 266214\n",
      "number of components: 10 , error_test 0.07626571104449803 error_train 0.0758719502869608\n",
      "explained_variance_ratio_: 0.9281423624607503\n",
      "(887379, 11)\n",
      "(887379,)\n",
      "621165 266214\n"
     ]
    },
    {
     "ename": "KeyboardInterrupt",
     "evalue": "",
     "output_type": "error",
     "traceback": [
      "\u001b[1;31m---------------------------------------------------------------------------\u001b[0m",
      "\u001b[1;31mKeyboardInterrupt\u001b[0m                         Traceback (most recent call last)",
      "\u001b[1;32m<ipython-input-193-241edcf4760b>\u001b[0m in \u001b[0;36m<module>\u001b[1;34m\u001b[0m\n\u001b[0;32m     30\u001b[0m \u001b[1;33m\u001b[0m\u001b[0m\n\u001b[0;32m     31\u001b[0m \u001b[1;33m\u001b[0m\u001b[0m\n\u001b[1;32m---> 32\u001b[1;33m     \u001b[0my_pca_test_predict\u001b[0m \u001b[1;33m=\u001b[0m \u001b[0mknn\u001b[0m\u001b[1;33m.\u001b[0m\u001b[0mpredict\u001b[0m\u001b[1;33m(\u001b[0m\u001b[0mX_pca_test\u001b[0m\u001b[1;33m)\u001b[0m\u001b[1;33m\u001b[0m\u001b[1;33m\u001b[0m\u001b[0m\n\u001b[0m\u001b[0;32m     33\u001b[0m     \u001b[0merr_test\u001b[0m  \u001b[1;33m=\u001b[0m \u001b[0mnp\u001b[0m\u001b[1;33m.\u001b[0m\u001b[0mmean\u001b[0m\u001b[1;33m(\u001b[0m\u001b[0my_pca_test\u001b[0m  \u001b[1;33m!=\u001b[0m \u001b[0my_pca_test_predict\u001b[0m\u001b[1;33m)\u001b[0m\u001b[1;33m\u001b[0m\u001b[1;33m\u001b[0m\u001b[0m\n\u001b[0;32m     34\u001b[0m     \u001b[0merr_train\u001b[0m \u001b[1;33m=\u001b[0m \u001b[0mnp\u001b[0m\u001b[1;33m.\u001b[0m\u001b[0mmean\u001b[0m\u001b[1;33m(\u001b[0m\u001b[0my_pca_train\u001b[0m \u001b[1;33m!=\u001b[0m \u001b[0mknn\u001b[0m\u001b[1;33m.\u001b[0m\u001b[0mpredict\u001b[0m\u001b[1;33m(\u001b[0m\u001b[0mX_pca_train\u001b[0m\u001b[1;33m)\u001b[0m\u001b[1;33m)\u001b[0m\u001b[1;33m\u001b[0m\u001b[1;33m\u001b[0m\u001b[0m\n",
      "\u001b[1;32mC:\\Programs\\anaconda\\lib\\site-packages\\sklearn\\neighbors\\classification.py\u001b[0m in \u001b[0;36mpredict\u001b[1;34m(self, X)\u001b[0m\n\u001b[0;32m    147\u001b[0m         \u001b[0mX\u001b[0m \u001b[1;33m=\u001b[0m \u001b[0mcheck_array\u001b[0m\u001b[1;33m(\u001b[0m\u001b[0mX\u001b[0m\u001b[1;33m,\u001b[0m \u001b[0maccept_sparse\u001b[0m\u001b[1;33m=\u001b[0m\u001b[1;34m'csr'\u001b[0m\u001b[1;33m)\u001b[0m\u001b[1;33m\u001b[0m\u001b[1;33m\u001b[0m\u001b[0m\n\u001b[0;32m    148\u001b[0m \u001b[1;33m\u001b[0m\u001b[0m\n\u001b[1;32m--> 149\u001b[1;33m         \u001b[0mneigh_dist\u001b[0m\u001b[1;33m,\u001b[0m \u001b[0mneigh_ind\u001b[0m \u001b[1;33m=\u001b[0m \u001b[0mself\u001b[0m\u001b[1;33m.\u001b[0m\u001b[0mkneighbors\u001b[0m\u001b[1;33m(\u001b[0m\u001b[0mX\u001b[0m\u001b[1;33m)\u001b[0m\u001b[1;33m\u001b[0m\u001b[1;33m\u001b[0m\u001b[0m\n\u001b[0m\u001b[0;32m    150\u001b[0m         \u001b[0mclasses_\u001b[0m \u001b[1;33m=\u001b[0m \u001b[0mself\u001b[0m\u001b[1;33m.\u001b[0m\u001b[0mclasses_\u001b[0m\u001b[1;33m\u001b[0m\u001b[1;33m\u001b[0m\u001b[0m\n\u001b[0;32m    151\u001b[0m         \u001b[0m_y\u001b[0m \u001b[1;33m=\u001b[0m \u001b[0mself\u001b[0m\u001b[1;33m.\u001b[0m\u001b[0m_y\u001b[0m\u001b[1;33m\u001b[0m\u001b[1;33m\u001b[0m\u001b[0m\n",
      "\u001b[1;32mC:\\Programs\\anaconda\\lib\\site-packages\\sklearn\\neighbors\\base.py\u001b[0m in \u001b[0;36mkneighbors\u001b[1;34m(self, X, n_neighbors, return_distance)\u001b[0m\n\u001b[0;32m    452\u001b[0m                 delayed_query(\n\u001b[0;32m    453\u001b[0m                     self._tree, X[s], n_neighbors, return_distance)\n\u001b[1;32m--> 454\u001b[1;33m                 \u001b[1;32mfor\u001b[0m \u001b[0ms\u001b[0m \u001b[1;32min\u001b[0m \u001b[0mgen_even_slices\u001b[0m\u001b[1;33m(\u001b[0m\u001b[0mX\u001b[0m\u001b[1;33m.\u001b[0m\u001b[0mshape\u001b[0m\u001b[1;33m[\u001b[0m\u001b[1;36m0\u001b[0m\u001b[1;33m]\u001b[0m\u001b[1;33m,\u001b[0m \u001b[0mn_jobs\u001b[0m\u001b[1;33m)\u001b[0m\u001b[1;33m\u001b[0m\u001b[1;33m\u001b[0m\u001b[0m\n\u001b[0m\u001b[0;32m    455\u001b[0m             )\n\u001b[0;32m    456\u001b[0m         \u001b[1;32melse\u001b[0m\u001b[1;33m:\u001b[0m\u001b[1;33m\u001b[0m\u001b[1;33m\u001b[0m\u001b[0m\n",
      "\u001b[1;32mC:\\Programs\\anaconda\\lib\\site-packages\\joblib\\parallel.py\u001b[0m in \u001b[0;36m__call__\u001b[1;34m(self, iterable)\u001b[0m\n\u001b[0;32m    919\u001b[0m             \u001b[1;31m# remaining jobs.\u001b[0m\u001b[1;33m\u001b[0m\u001b[1;33m\u001b[0m\u001b[1;33m\u001b[0m\u001b[0m\n\u001b[0;32m    920\u001b[0m             \u001b[0mself\u001b[0m\u001b[1;33m.\u001b[0m\u001b[0m_iterating\u001b[0m \u001b[1;33m=\u001b[0m \u001b[1;32mFalse\u001b[0m\u001b[1;33m\u001b[0m\u001b[1;33m\u001b[0m\u001b[0m\n\u001b[1;32m--> 921\u001b[1;33m             \u001b[1;32mif\u001b[0m \u001b[0mself\u001b[0m\u001b[1;33m.\u001b[0m\u001b[0mdispatch_one_batch\u001b[0m\u001b[1;33m(\u001b[0m\u001b[0miterator\u001b[0m\u001b[1;33m)\u001b[0m\u001b[1;33m:\u001b[0m\u001b[1;33m\u001b[0m\u001b[1;33m\u001b[0m\u001b[0m\n\u001b[0m\u001b[0;32m    922\u001b[0m                 \u001b[0mself\u001b[0m\u001b[1;33m.\u001b[0m\u001b[0m_iterating\u001b[0m \u001b[1;33m=\u001b[0m \u001b[0mself\u001b[0m\u001b[1;33m.\u001b[0m\u001b[0m_original_iterator\u001b[0m \u001b[1;32mis\u001b[0m \u001b[1;32mnot\u001b[0m \u001b[1;32mNone\u001b[0m\u001b[1;33m\u001b[0m\u001b[1;33m\u001b[0m\u001b[0m\n\u001b[0;32m    923\u001b[0m \u001b[1;33m\u001b[0m\u001b[0m\n",
      "\u001b[1;32mC:\\Programs\\anaconda\\lib\\site-packages\\joblib\\parallel.py\u001b[0m in \u001b[0;36mdispatch_one_batch\u001b[1;34m(self, iterator)\u001b[0m\n\u001b[0;32m    757\u001b[0m                 \u001b[1;32mreturn\u001b[0m \u001b[1;32mFalse\u001b[0m\u001b[1;33m\u001b[0m\u001b[1;33m\u001b[0m\u001b[0m\n\u001b[0;32m    758\u001b[0m             \u001b[1;32melse\u001b[0m\u001b[1;33m:\u001b[0m\u001b[1;33m\u001b[0m\u001b[1;33m\u001b[0m\u001b[0m\n\u001b[1;32m--> 759\u001b[1;33m                 \u001b[0mself\u001b[0m\u001b[1;33m.\u001b[0m\u001b[0m_dispatch\u001b[0m\u001b[1;33m(\u001b[0m\u001b[0mtasks\u001b[0m\u001b[1;33m)\u001b[0m\u001b[1;33m\u001b[0m\u001b[1;33m\u001b[0m\u001b[0m\n\u001b[0m\u001b[0;32m    760\u001b[0m                 \u001b[1;32mreturn\u001b[0m \u001b[1;32mTrue\u001b[0m\u001b[1;33m\u001b[0m\u001b[1;33m\u001b[0m\u001b[0m\n\u001b[0;32m    761\u001b[0m \u001b[1;33m\u001b[0m\u001b[0m\n",
      "\u001b[1;32mC:\\Programs\\anaconda\\lib\\site-packages\\joblib\\parallel.py\u001b[0m in \u001b[0;36m_dispatch\u001b[1;34m(self, batch)\u001b[0m\n\u001b[0;32m    714\u001b[0m         \u001b[1;32mwith\u001b[0m \u001b[0mself\u001b[0m\u001b[1;33m.\u001b[0m\u001b[0m_lock\u001b[0m\u001b[1;33m:\u001b[0m\u001b[1;33m\u001b[0m\u001b[1;33m\u001b[0m\u001b[0m\n\u001b[0;32m    715\u001b[0m             \u001b[0mjob_idx\u001b[0m \u001b[1;33m=\u001b[0m \u001b[0mlen\u001b[0m\u001b[1;33m(\u001b[0m\u001b[0mself\u001b[0m\u001b[1;33m.\u001b[0m\u001b[0m_jobs\u001b[0m\u001b[1;33m)\u001b[0m\u001b[1;33m\u001b[0m\u001b[1;33m\u001b[0m\u001b[0m\n\u001b[1;32m--> 716\u001b[1;33m             \u001b[0mjob\u001b[0m \u001b[1;33m=\u001b[0m \u001b[0mself\u001b[0m\u001b[1;33m.\u001b[0m\u001b[0m_backend\u001b[0m\u001b[1;33m.\u001b[0m\u001b[0mapply_async\u001b[0m\u001b[1;33m(\u001b[0m\u001b[0mbatch\u001b[0m\u001b[1;33m,\u001b[0m \u001b[0mcallback\u001b[0m\u001b[1;33m=\u001b[0m\u001b[0mcb\u001b[0m\u001b[1;33m)\u001b[0m\u001b[1;33m\u001b[0m\u001b[1;33m\u001b[0m\u001b[0m\n\u001b[0m\u001b[0;32m    717\u001b[0m             \u001b[1;31m# A job can complete so quickly than its callback is\u001b[0m\u001b[1;33m\u001b[0m\u001b[1;33m\u001b[0m\u001b[1;33m\u001b[0m\u001b[0m\n\u001b[0;32m    718\u001b[0m             \u001b[1;31m# called before we get here, causing self._jobs to\u001b[0m\u001b[1;33m\u001b[0m\u001b[1;33m\u001b[0m\u001b[1;33m\u001b[0m\u001b[0m\n",
      "\u001b[1;32mC:\\Programs\\anaconda\\lib\\site-packages\\joblib\\_parallel_backends.py\u001b[0m in \u001b[0;36mapply_async\u001b[1;34m(self, func, callback)\u001b[0m\n\u001b[0;32m    180\u001b[0m     \u001b[1;32mdef\u001b[0m \u001b[0mapply_async\u001b[0m\u001b[1;33m(\u001b[0m\u001b[0mself\u001b[0m\u001b[1;33m,\u001b[0m \u001b[0mfunc\u001b[0m\u001b[1;33m,\u001b[0m \u001b[0mcallback\u001b[0m\u001b[1;33m=\u001b[0m\u001b[1;32mNone\u001b[0m\u001b[1;33m)\u001b[0m\u001b[1;33m:\u001b[0m\u001b[1;33m\u001b[0m\u001b[1;33m\u001b[0m\u001b[0m\n\u001b[0;32m    181\u001b[0m         \u001b[1;34m\"\"\"Schedule a func to be run\"\"\"\u001b[0m\u001b[1;33m\u001b[0m\u001b[1;33m\u001b[0m\u001b[0m\n\u001b[1;32m--> 182\u001b[1;33m         \u001b[0mresult\u001b[0m \u001b[1;33m=\u001b[0m \u001b[0mImmediateResult\u001b[0m\u001b[1;33m(\u001b[0m\u001b[0mfunc\u001b[0m\u001b[1;33m)\u001b[0m\u001b[1;33m\u001b[0m\u001b[1;33m\u001b[0m\u001b[0m\n\u001b[0m\u001b[0;32m    183\u001b[0m         \u001b[1;32mif\u001b[0m \u001b[0mcallback\u001b[0m\u001b[1;33m:\u001b[0m\u001b[1;33m\u001b[0m\u001b[1;33m\u001b[0m\u001b[0m\n\u001b[0;32m    184\u001b[0m             \u001b[0mcallback\u001b[0m\u001b[1;33m(\u001b[0m\u001b[0mresult\u001b[0m\u001b[1;33m)\u001b[0m\u001b[1;33m\u001b[0m\u001b[1;33m\u001b[0m\u001b[0m\n",
      "\u001b[1;32mC:\\Programs\\anaconda\\lib\\site-packages\\joblib\\_parallel_backends.py\u001b[0m in \u001b[0;36m__init__\u001b[1;34m(self, batch)\u001b[0m\n\u001b[0;32m    547\u001b[0m         \u001b[1;31m# Don't delay the application, to avoid keeping the input\u001b[0m\u001b[1;33m\u001b[0m\u001b[1;33m\u001b[0m\u001b[1;33m\u001b[0m\u001b[0m\n\u001b[0;32m    548\u001b[0m         \u001b[1;31m# arguments in memory\u001b[0m\u001b[1;33m\u001b[0m\u001b[1;33m\u001b[0m\u001b[1;33m\u001b[0m\u001b[0m\n\u001b[1;32m--> 549\u001b[1;33m         \u001b[0mself\u001b[0m\u001b[1;33m.\u001b[0m\u001b[0mresults\u001b[0m \u001b[1;33m=\u001b[0m \u001b[0mbatch\u001b[0m\u001b[1;33m(\u001b[0m\u001b[1;33m)\u001b[0m\u001b[1;33m\u001b[0m\u001b[1;33m\u001b[0m\u001b[0m\n\u001b[0m\u001b[0;32m    550\u001b[0m \u001b[1;33m\u001b[0m\u001b[0m\n\u001b[0;32m    551\u001b[0m     \u001b[1;32mdef\u001b[0m \u001b[0mget\u001b[0m\u001b[1;33m(\u001b[0m\u001b[0mself\u001b[0m\u001b[1;33m)\u001b[0m\u001b[1;33m:\u001b[0m\u001b[1;33m\u001b[0m\u001b[1;33m\u001b[0m\u001b[0m\n",
      "\u001b[1;32mC:\\Programs\\anaconda\\lib\\site-packages\\joblib\\parallel.py\u001b[0m in \u001b[0;36m__call__\u001b[1;34m(self)\u001b[0m\n\u001b[0;32m    223\u001b[0m         \u001b[1;32mwith\u001b[0m \u001b[0mparallel_backend\u001b[0m\u001b[1;33m(\u001b[0m\u001b[0mself\u001b[0m\u001b[1;33m.\u001b[0m\u001b[0m_backend\u001b[0m\u001b[1;33m,\u001b[0m \u001b[0mn_jobs\u001b[0m\u001b[1;33m=\u001b[0m\u001b[0mself\u001b[0m\u001b[1;33m.\u001b[0m\u001b[0m_n_jobs\u001b[0m\u001b[1;33m)\u001b[0m\u001b[1;33m:\u001b[0m\u001b[1;33m\u001b[0m\u001b[1;33m\u001b[0m\u001b[0m\n\u001b[0;32m    224\u001b[0m             return [func(*args, **kwargs)\n\u001b[1;32m--> 225\u001b[1;33m                     for func, args, kwargs in self.items]\n\u001b[0m\u001b[0;32m    226\u001b[0m \u001b[1;33m\u001b[0m\u001b[0m\n\u001b[0;32m    227\u001b[0m     \u001b[1;32mdef\u001b[0m \u001b[0m__len__\u001b[0m\u001b[1;33m(\u001b[0m\u001b[0mself\u001b[0m\u001b[1;33m)\u001b[0m\u001b[1;33m:\u001b[0m\u001b[1;33m\u001b[0m\u001b[1;33m\u001b[0m\u001b[0m\n",
      "\u001b[1;32mC:\\Programs\\anaconda\\lib\\site-packages\\joblib\\parallel.py\u001b[0m in \u001b[0;36m<listcomp>\u001b[1;34m(.0)\u001b[0m\n\u001b[0;32m    223\u001b[0m         \u001b[1;32mwith\u001b[0m \u001b[0mparallel_backend\u001b[0m\u001b[1;33m(\u001b[0m\u001b[0mself\u001b[0m\u001b[1;33m.\u001b[0m\u001b[0m_backend\u001b[0m\u001b[1;33m,\u001b[0m \u001b[0mn_jobs\u001b[0m\u001b[1;33m=\u001b[0m\u001b[0mself\u001b[0m\u001b[1;33m.\u001b[0m\u001b[0m_n_jobs\u001b[0m\u001b[1;33m)\u001b[0m\u001b[1;33m:\u001b[0m\u001b[1;33m\u001b[0m\u001b[1;33m\u001b[0m\u001b[0m\n\u001b[0;32m    224\u001b[0m             return [func(*args, **kwargs)\n\u001b[1;32m--> 225\u001b[1;33m                     for func, args, kwargs in self.items]\n\u001b[0m\u001b[0;32m    226\u001b[0m \u001b[1;33m\u001b[0m\u001b[0m\n\u001b[0;32m    227\u001b[0m     \u001b[1;32mdef\u001b[0m \u001b[0m__len__\u001b[0m\u001b[1;33m(\u001b[0m\u001b[0mself\u001b[0m\u001b[1;33m)\u001b[0m\u001b[1;33m:\u001b[0m\u001b[1;33m\u001b[0m\u001b[1;33m\u001b[0m\u001b[0m\n",
      "\u001b[1;32mC:\\Programs\\anaconda\\lib\\site-packages\\sklearn\\neighbors\\base.py\u001b[0m in \u001b[0;36m_tree_query_parallel_helper\u001b[1;34m(tree, data, n_neighbors, return_distance)\u001b[0m\n\u001b[0;32m    289\u001b[0m     \u001b[0munder\u001b[0m \u001b[0mPyPy\u001b[0m\u001b[1;33m.\u001b[0m\u001b[1;33m\u001b[0m\u001b[1;33m\u001b[0m\u001b[0m\n\u001b[0;32m    290\u001b[0m     \"\"\"\n\u001b[1;32m--> 291\u001b[1;33m     \u001b[1;32mreturn\u001b[0m \u001b[0mtree\u001b[0m\u001b[1;33m.\u001b[0m\u001b[0mquery\u001b[0m\u001b[1;33m(\u001b[0m\u001b[0mdata\u001b[0m\u001b[1;33m,\u001b[0m \u001b[0mn_neighbors\u001b[0m\u001b[1;33m,\u001b[0m \u001b[0mreturn_distance\u001b[0m\u001b[1;33m)\u001b[0m\u001b[1;33m\u001b[0m\u001b[1;33m\u001b[0m\u001b[0m\n\u001b[0m\u001b[0;32m    292\u001b[0m \u001b[1;33m\u001b[0m\u001b[0m\n\u001b[0;32m    293\u001b[0m \u001b[1;33m\u001b[0m\u001b[0m\n",
      "\u001b[1;31mKeyboardInterrupt\u001b[0m: "
     ]
    }
   ],
   "source": [
    "accuracy_test = []\n",
    "accuracy_train = []\n",
    "num_comp = []\n",
    "explained_variance = []\n",
    "for num_components in [1,2,3,4,5,6,7,8,9,10,11,12,13,14]:\n",
    "    pca = PCA(n_components=num_components)\n",
    "    principalComponents = pca.fit_transform(X)\n",
    "    columns_n = []\n",
    "    for number in range(1,num_components + 1):\n",
    "        columns_n.append('principal component ' + str(number))\n",
    "    principalDf = pd.DataFrame(data = principalComponents\n",
    "            , columns = columns_n)\n",
    "    finalDf = pd.concat([principalDf, data[['loan_condition']]], axis = 1)\n",
    "#     print(finalDf.head(5))\n",
    "    X_pca = finalDf.drop('loan_condition', axis = 1) # выбрасываем столбец 'loan_condition'\n",
    "    y_pca = finalDf['loan_condition']\n",
    "    feature_names = X_pca.columns\n",
    "    X_pca = X_pca.to_numpy()\n",
    "    y_pca = np.array(y_pca != 'Bad Loan', dtype='int')\n",
    "    print(X_pca.shape)\n",
    "    print(y_pca.shape)\n",
    "    N, d = X_pca.shape\n",
    "    X_pca_train, X_pca_test, y_pca_train, y_pca_test = train_test_split(X_pca, y_pca, test_size = 0.3, random_state = 42)\n",
    "\n",
    "    N_pca_train, _ = X_pca_train.shape \n",
    "    N_pca_test,  _ = X_pca_test.shape \n",
    "    print(N_pca_train, N_pca_test)\n",
    "    knn = KNeighborsClassifier(n_neighbors = 55)\n",
    "    knn.fit(X_pca_train, y_pca_train)\n",
    "    \n",
    "    \n",
    "    y_pca_test_predict = knn.predict(X_pca_test)\n",
    "    err_test  = np.mean(y_pca_test  != y_pca_test_predict)\n",
    "    err_train = np.mean(y_pca_train != knn.predict(X_pca_train))\n",
    "    \n",
    "    \n",
    "    \n",
    "    \n",
    "#     y_pca_test_predict = knn.predict(X_pca_test)\n",
    "#     y_pca_train_predict = knn.predict(X_pca_train)\n",
    "#     err_test  = np.mean(y_pca_test  != y_pca_test_predict)\n",
    "#     err_train  = np.mean(err_train  != y_pca_train_predict)\n",
    "    \n",
    "    print('number of components:',num_components, ',','error_test',err_test,'error_train',err_train)\n",
    "    print('explained_variance_ratio_:',pca.explained_variance_ratio_.sum())\n",
    "    accuracy_test.append(err_test)\n",
    "    accuracy_train.append(err_train)\n",
    "    num_comp.append(num_components)\n",
    "    explained_variance.append(pca.explained_variance_ratio_.sum())"
   ]
  },
  {
   "cell_type": "code",
   "execution_count": 244,
   "metadata": {},
   "outputs": [],
   "source": [
    "error_test = list(np.ones(10)*0.07586873053053536)"
   ]
  },
  {
   "cell_type": "code",
   "execution_count": 245,
   "metadata": {},
   "outputs": [],
   "source": [
    "error_train = list(np.ones(10)*0.07622814728000782)"
   ]
  },
  {
   "cell_type": "code",
   "execution_count": 290,
   "metadata": {
    "scrolled": true
   },
   "outputs": [
    {
     "data": {
      "text/plain": [
       "<matplotlib.legend.Legend at 0x1a1a33efeb8>"
      ]
     },
     "execution_count": 290,
     "metadata": {},
     "output_type": "execute_result"
    },
    {
     "data": {
      "image/png": "[encoded data removed]",
      "text/plain": [
       "<Figure size 432x288 with 1 Axes>"
      ]
     },
     "metadata": {
      "needs_background": "light"
     },
     "output_type": "display_data"
    }
   ],
   "source": [
    "plt.xlabel(\"Количество главных компонент\")\n",
    "plt.ylabel(\"Ошибка (%)\")\n",
    "plt.ylim()\n",
    "plt.title(\"Best method\")\n",
    "plt.plot(num_comp, accuracy_train, 'b', label = 'error_train')\n",
    "plt.plot(num_comp, accuracy_test,'r', label = 'error_test')\n",
    "plt.plot(num_comp, error_train, 'g', label = 'original_train')\n",
    "plt.plot(num_comp, error_test, 'y', label = 'original_test')\n",
    "plt.grid(True)\n",
    "plt.legend(loc = 'best', framealpha = 2)\n"
   ]
  },
  {
   "cell_type": "markdown",
   "metadata": {},
   "source": [
    "При запуске алгоритма KNN (55 соседей) на данных с начальными необработанными признаками была получена ошибка 0.07586873053053536  на обучающей выборке и на тестовой 0.07622814728000782. <br />\n",
    "Изменение ошибки при изменении количества главных компонент крайне несущественно. Важно отметить момент, что при практически одинаковых результатах предсказания скорость вычисления при маленьких количествах главных компонент намного превосходит скорость вычисления при их большом количестве. <br />\n",
    "Так как KNN на 55 вершинах не сильно восприимчив к небоьлшим изменениям соседей, и так как на прошлом тесте для 10 соседей была заметная разница в работе алгоритма при запуске его на 2х шлавных копмонетнах, протестирую KNN на 10 вершинах"
   ]
  },
  {
   "cell_type": "code",
   "execution_count": null,
   "metadata": {},
   "outputs": [],
   "source": [
    "knn = KNeighborsClassifier(n_neighbors = best_n_neighbors).fit(X_train, y_train)\n",
    "\n",
    "err_train = np.mean(y_train != knn.predict(X_train))\n",
    "err_test  = np.mean(y_test  != knn.predict(X_test))"
   ]
  },
  {
   "cell_type": "code",
   "execution_count": 186,
   "metadata": {
    "scrolled": true
   },
   "outputs": [
    {
     "name": "stdout",
     "output_type": "stream",
     "text": [
      "number of components: 1 , error_test 0.07662256680715515 error_train 0.07587838979981164\n",
      "explained_variance_ratio_: 0.17190658922835203\n",
      "number of components: 2 , error_test 0.07735130383826545 error_train 0.07584136260091924\n",
      "explained_variance_ratio_: 0.2996762011293993\n",
      "number of components: 3 , error_test 0.07862471545448399 error_train 0.07570774270926404\n",
      "explained_variance_ratio_: 0.4017409738672773\n",
      "number of components: 4 , error_test 0.07919568467473537 error_train 0.07575442917743273\n",
      "explained_variance_ratio_: 0.500635649089397\n",
      "number of components: 5 , error_test 0.07910553163995883 error_train 0.07559183147794869\n",
      "explained_variance_ratio_: 0.5945938386294931\n",
      "number of components: 6 , error_test 0.07995447271743784 error_train 0.07520868046332295\n",
      "explained_variance_ratio_: 0.6798131111646609\n",
      "number of components: 7 , error_test 0.08034137949168714 error_train 0.07508310996273132\n",
      "explained_variance_ratio_: 0.7610611074968563\n",
      "number of components: 8 , error_test 0.08036016137393225 error_train 0.07498973702639396\n",
      "explained_variance_ratio_: 0.8331936346418908\n",
      "number of components: 9 , error_test 0.08028127746850279 error_train 0.07510564825770931\n",
      "explained_variance_ratio_: 0.8868312352488025\n",
      "number of components: 10 , error_test 0.0802512264569106 error_train 0.07520063107225938\n",
      "explained_variance_ratio_: 0.9281423624607515\n",
      "number of components: 11 , error_test 0.0800483821286634 error_train 0.07506540130239148\n",
      "explained_variance_ratio_: 0.949662162479326\n",
      "number of components: 12 , error_test 0.07991690895294763 error_train 0.0750315938599245\n",
      "explained_variance_ratio_: 0.9711281575737908\n",
      "number of components: 13 , error_test 0.0798605633062123 error_train 0.0749961765392448\n",
      "explained_variance_ratio_: 0.9880953564872822\n",
      "number of components: 14 , error_test 0.0797441156362926 error_train 0.0749832975135431\n",
      "explained_variance_ratio_: 0.9999999999999998\n"
     ]
    }
   ],
   "source": [
    "accuracy_2_test = []\n",
    "accuracy_2_train = []\n",
    "num_comp_2 = []\n",
    "explained_variance_2 = []\n",
    "for num_components in [1,2,3,4,5,6,7,8,9,10,11,12,13,14]:\n",
    "    pca = PCA(n_components=num_components)\n",
    "    principalComponents = pca.fit_transform(X)\n",
    "    columns_n = []\n",
    "    for number in range(1,num_components + 1):\n",
    "        columns_n.append('principal component ' + str(number))\n",
    "    principalDf = pd.DataFrame(data = principalComponents\n",
    "            , columns = columns_n)\n",
    "    finalDf = pd.concat([principalDf, data[['loan_condition']]], axis = 1)\n",
    "#     print(finalDf.head(5))\n",
    "    X_pca = finalDf.drop('loan_condition', axis = 1) # выбрасываем столбец 'loan_condition'\n",
    "    y_pca = finalDf['loan_condition']\n",
    "    feature_names = X_pca.columns\n",
    "    X_pca = X_pca.to_numpy()\n",
    "    y_pca = np.array(y_pca != 'Bad Loan', dtype='int')\n",
    "#     print(X_pca.shape)\n",
    "#     print(y_pca.shape)\n",
    "    N, d = X_pca.shape\n",
    "    X_pca_train, X_pca_test, y_pca_train, y_pca_test = train_test_split(X_pca, y_pca, test_size = 0.3, random_state = 42)\n",
    "\n",
    "    N_pca_train, _ = X_pca_train.shape \n",
    "    N_pca_test,  _ = X_pca_test.shape \n",
    "#     print(N_pca_train, N_pca_test)\n",
    "    knn = KNeighborsClassifier(n_neighbors = 10)\n",
    "    knn.fit(X_pca_train, y_pca_train)\n",
    "    y_pca_test_predict = knn.predict(X_pca_test)\n",
    "\n",
    "    err_test  = np.mean(y_pca_test  != y_pca_test_predict)\n",
    "    err_train = np.mean(y_pca_train != knn.predict(X_pca_train))\n",
    "\n",
    "    print('number of components:',num_components, ',','error_test',err_test,'error_train',err_train)\n",
    "    print('explained_variance_ratio_:',pca.explained_variance_ratio_.sum())\n",
    "    accuracy_2_test.append(err_test)\n",
    "    accuracy_2_train.append(err_train)\n",
    "    num_comp_2.append(num_components)\n",
    "    explained_variance_2.append(pca.explained_variance_ratio_.sum())"
   ]
  },
  {
   "cell_type": "code",
   "execution_count": 292,
   "metadata": {},
   "outputs": [],
   "source": [
    "error_test_2 = list(np.ones(14)*0.07974411563629258)"
   ]
  },
  {
   "cell_type": "code",
   "execution_count": 293,
   "metadata": {},
   "outputs": [],
   "source": [
    "error_train_2 = list(np.ones(14)*0.0749832975135431)"
   ]
  },
  {
   "cell_type": "code",
   "execution_count": 295,
   "metadata": {
    "scrolled": true
   },
   "outputs": [
    {
     "data": {
      "text/plain": [
       "<matplotlib.legend.Legend at 0x1a1a3641208>"
      ]
     },
     "execution_count": 295,
     "metadata": {},
     "output_type": "execute_result"
    },
    {
     "data": {
      "image/png": "[encoded data removed]",
      "text/plain": [
       "<Figure size 432x288 with 1 Axes>"
      ]
     },
     "metadata": {
      "needs_background": "light"
     },
     "output_type": "display_data"
    }
   ],
   "source": [
    "plt.xlabel(\"Количество главных компонент\")\n",
    "plt.ylabel(\"Ошибка (%)\")\n",
    "plt.ylim()\n",
    "plt.title(\"Best method\")\n",
    "plt.plot(num_comp_2, accuracy_2_train, 'b', label = 'error_train')\n",
    "plt.plot(num_comp_2, accuracy_2_test,'r', label = 'error_test')\n",
    "plt.plot(num_comp_2, error_train_2, 'g', label = 'original_train')\n",
    "plt.plot(num_comp_2, error_test_2, 'y', label = 'original_test')\n",
    "plt.grid(True)\n",
    "\n",
    "\n",
    "plt.legend(loc = 'best', framealpha = 2)\n"
   ]
  },
  {
   "cell_type": "markdown",
   "metadata": {},
   "source": [
    "При изменении числа главных компонент для работы алгоритма KNN (10 соседей) возникают более заметные изменения, чем для KNN (55 соседей).<br />\n",
    "Наблюдается интересная закономерность: при увеличении числа главных компонент ошибка возрастает (при увеличении до 8 компонент). Затем незначительно снижается. <br />\n",
    "Я предполагаю, что KNN (10 соседей) работает лучше на меньшем количетсве компонент, потому что он более восприимчив к изменениям состояний соседей. А метод главных компонент позволяет избавиться от признаков, имеющих малое значение, что позволяет алгоритму лучше ориентироваться по соседям.  "
   ]
  },
  {
   "cell_type": "code",
   "execution_count": null,
   "metadata": {},
   "outputs": [],
   "source": [
    "При запуске алгоритма KNN (10 соседей) на данных с начальными необработанными признаками была получена ошибка 0.07974411563629258 на тестовой выборке\n",
    "При запуске этого же алгоритма на данных, приведенных к двум признакам получена ошибка 0.07736632934406154 на тестовой выборке .\n",
    "Таким образом, приведение к двум главным компонентам не только ускорила работу алгоритма, но и улучшило скорость его работы, даже несмотря на то, что величина объясненой дисперсии на двух компонентах составляет всего 29,9%.\n",
    "Это явление можно объяснить тем, что в данных присутствуют признаки, оказывающие малое влияние на искомый ответ."
   ]
  },
  {
   "cell_type": "code",
   "execution_count": null,
   "metadata": {},
   "outputs": [],
   "source": []
  },
  {
   "cell_type": "markdown",
   "metadata": {},
   "source": [
    "### Вывод"
   ]
  },
  {
   "cell_type": "markdown",
   "metadata": {},
   "source": [
    "Метод главных компонент в рассматриваемой задаче позволяет:<br />\n",
    "1. визуализировать информацию, при приведении исходных 15-ти признаков к двум главным компонентам. По этой визуализации видна граница между двумя классами<br />\n",
    "2. Метод главных копонент в текущем примере работает даже с величиной взвешенной дисперсии около 29 %. Что может говорить о том, что в выборке присутствует много признаков, не оказывающих сильное влияние на ответ классификатора.<br />\n",
    "3. Позволяет существенно ускорить вычисления с комощью алгоритма KNN при очень небольом возрастании ошибки на тестовой выборке.<br />\n",
    "4. Величина ошибки при работе алгоритма KNN на изначальных признаках и на признаках приведенных к главным компонентам зависит от выбранного числа соседей для работы алгоритма KNN. При большом количестве соседей (55) величина ошибки на приведенных к главным компонентам признаках всегда немного выше ошибки на изначальных признаках. Однако При 10 соседях величина ошибки на главных компонентах получается даже меньше ошибки на изначальных признаках. "
   ]
  },
  {
   "cell_type": "code",
   "execution_count": null,
   "metadata": {},
   "outputs": [],
   "source": []
  },
  {
   "cell_type": "markdown",
   "metadata": {},
   "source": [
    "# Обучение нейронной сети"
   ]
  },
  {
   "cell_type": "code",
   "execution_count": 31,
   "metadata": {},
   "outputs": [],
   "source": [
    "from sklearn.neural_network import MLPClassifier"
   ]
  },
  {
   "cell_type": "code",
   "execution_count": 24,
   "metadata": {},
   "outputs": [
    {
     "data": {
      "text/plain": [
       "MLPClassifier(activation='logistic', alpha=0.0001, batch_size='auto',\n",
       "              beta_1=0.9, beta_2=0.999, early_stopping=False, epsilon=1e-08,\n",
       "              hidden_layer_sizes=(100,), learning_rate='constant',\n",
       "              learning_rate_init=0.001, max_fun=15000, max_iter=200,\n",
       "              momentum=0.9, n_iter_no_change=10, nesterovs_momentum=True,\n",
       "              power_t=0.5, random_state=42, shuffle=True, solver='lbfgs',\n",
       "              tol=0.0001, validation_fraction=0.1, verbose=False,\n",
       "              warm_start=False)"
      ]
     },
     "execution_count": 24,
     "metadata": {},
     "output_type": "execute_result"
    }
   ],
   "source": [
    "mlp_model = MLPClassifier(hidden_layer_sizes = (100,), solver = 'lbfgs', \n",
    "                          activation = 'logistic', random_state = 42)\n",
    "mlp_model.fit(X_train, y_train.ravel())"
   ]
  },
  {
   "cell_type": "code",
   "execution_count": 25,
   "metadata": {},
   "outputs": [],
   "source": [
    "y_train_pred = mlp_model.predict(X_train)\n",
    "y_test_pred = mlp_model.predict(X_test)"
   ]
  },
  {
   "cell_type": "code",
   "execution_count": 27,
   "metadata": {},
   "outputs": [
    {
     "name": "stdout",
     "output_type": "stream",
     "text": [
      "0.07587677992159893 0.07623941640935487\n"
     ]
    }
   ],
   "source": [
    "print(np.mean(y_train.ravel() != y_train_pred), np.mean(y_test.ravel() != y_test_pred))"
   ]
  },
  {
   "cell_type": "code",
   "execution_count": 29,
   "metadata": {},
   "outputs": [],
   "source": [
    "alpha_arr = np.logspace(-3, 2, 21)\n",
    "test_err = []\n",
    "train_err = []\n",
    "for alpha in alpha_arr:\n",
    "    mlp_model = MLPClassifier(alpha = alpha, hidden_layer_sizes = (100,), \n",
    "                              solver = 'lbfgs', activation = 'logistic', random_state = 42)\n",
    "    mlp_model.fit(X_train, y_train.ravel())\n",
    "\n",
    "    y_train_pred = mlp_model.predict(X_train)\n",
    "    y_test_pred = mlp_model.predict(X_test)\n",
    "    train_err.append(np.mean(y_train.ravel() != y_train_pred))\n",
    "    test_err.append(np.mean(y_test.ravel() != y_test_pred))"
   ]
  },
  {
   "cell_type": "code",
   "execution_count": 30,
   "metadata": {},
   "outputs": [
    {
     "data": {
      "image/png": "[encoded data removed]",
      "text/plain": [
       "<Figure size 432x288 with 1 Axes>"
      ]
     },
     "metadata": {
      "needs_background": "light"
     },
     "output_type": "display_data"
    }
   ],
   "source": [
    "plt.semilogx(alpha_arr, train_err, 'b-o', label = 'test')\n",
    "plt.semilogx(alpha_arr, test_err, 'r-o', label = 'train')\n",
    "plt.xlim([np.max(alpha_arr), np.min(alpha_arr)])\n",
    "plt.title('Error vs. alpha')\n",
    "plt.xlabel('alpha')\n",
    "plt.ylabel('error')\n",
    "plt.legend()\n",
    "pass"
   ]
  },
  {
   "cell_type": "code",
   "execution_count": 59,
   "metadata": {},
   "outputs": [
    {
     "data": {
      "text/plain": [
       "0"
      ]
     },
     "execution_count": 59,
     "metadata": {},
     "output_type": "execute_result"
    }
   ],
   "source": [
    "y_train_pred[y_train_pred > 0].size"
   ]
  },
  {
   "cell_type": "code",
   "execution_count": 34,
   "metadata": {},
   "outputs": [
    {
     "name": "stdout",
     "output_type": "stream",
     "text": [
      "[[245918  20296]\n",
      " [     0      0]]\n"
     ]
    }
   ],
   "source": [
    "\n",
    "from sklearn.metrics import confusion_matrix\n",
    "print(confusion_matrix(y_test_pred, y_test.ravel()))"
   ]
  },
  {
   "cell_type": "markdown",
   "metadata": {},
   "source": [
    "### Резултаты  плохие.\n",
    "Видно, что из за несбалансированности классов наименьшей ошибке на выборке соответствует выбор всех в качестве ответа только представителей самого распространенного класса.\n",
    "Рассмотрим два метода работы с несбалансированными классами: \n",
    "- random oversampling\n",
    "- SMOTE"
   ]
  },
  {
   "cell_type": "markdown",
   "metadata": {},
   "source": [
    "# Анализ сбалансированности классов"
   ]
  },
  {
   "cell_type": "code",
   "execution_count": 150,
   "metadata": {},
   "outputs": [],
   "source": [
    "import seaborn as sns\n",
    "import numpy as np\n",
    "import matplotlib.pyplot as plt\n",
    "%matplotlib inline\n",
    "%config InlineBackend.figure_format = 'svg'"
   ]
  },
  {
   "cell_type": "code",
   "execution_count": 19,
   "metadata": {
    "scrolled": true
   },
   "outputs": [
    {
     "name": "stdout",
     "output_type": "stream",
     "text": [
      " Class Good_Loan: 819950\n",
      " Class Bad_Loan: 67429\n"
     ]
    },
    {
     "data": {
      "image/png": "[encoded data removed]",
      "text/plain": [
       "<Figure size 432x288 with 1 Axes>"
      ]
     },
     "metadata": {
      "needs_background": "light"
     },
     "output_type": "display_data"
    }
   ],
   "source": [
    "count_class_0 = data['loan_condition_cat'][data['loan_condition_cat'] == 0].count()\n",
    "count_class_1 = data['loan_condition_cat'][data['loan_condition_cat'] == 1].count()\n",
    "print(f' Class Good_Loan:', count_class_0)\n",
    "print(f' Class Bad_Loan:', count_class_1)\n",
    "plt.hist(data.loan_condition_cat);"
   ]
  },
  {
   "cell_type": "markdown",
   "metadata": {},
   "source": [
    "## Random over-sampling"
   ]
  },
  {
   "cell_type": "markdown",
   "metadata": {},
   "source": [
    "Для представителей наименьшего класса произведем дублирование строк для выравнивания количетва представителей обоих классов"
   ]
  },
  {
   "cell_type": "code",
   "execution_count": 75,
   "metadata": {},
   "outputs": [],
   "source": [
    "data_class_0 = data[data['loan_condition_cat'] == 0]\n",
    "data_class_1 = data[data['loan_condition_cat'] == 1]"
   ]
  },
  {
   "cell_type": "code",
   "execution_count": 76,
   "metadata": {},
   "outputs": [],
   "source": [
    "data_class_1_over = data_class_1.sample(count_class_0, replace=True)\n",
    "data_over = pd.concat([data_class_0, data_class_1_over], axis=0)"
   ]
  },
  {
   "cell_type": "code",
   "execution_count": 77,
   "metadata": {},
   "outputs": [
    {
     "name": "stdout",
     "output_type": "stream",
     "text": [
      " Class Good_Loan: 819950\n",
      " Class Bad_Loan: 819950\n"
     ]
    },
    {
     "data": {
      "image/png": "[encoded data removed]",
      "text/plain": [
       "<Figure size 432x288 with 1 Axes>"
      ]
     },
     "metadata": {
      "needs_background": "light"
     },
     "output_type": "display_data"
    }
   ],
   "source": [
    "print(f' Class Good_Loan:', data_over['loan_condition_cat'][data_over['loan_condition_cat'] == 0].count())\n",
    "print(f' Class Bad_Loan:', data_over['loan_condition_cat'][data_over['loan_condition_cat'] == 1].count())\n",
    "plt.hist(data_over.loan_condition_cat);"
   ]
  },
  {
   "cell_type": "markdown",
   "metadata": {},
   "source": [
    "### Обучим нейронную сеть на данных с Random over-sampling"
   ]
  },
  {
   "cell_type": "code",
   "execution_count": 78,
   "metadata": {
    "colab": {},
    "colab_type": "code",
    "id": "h3F0nik3s-l1"
   },
   "outputs": [],
   "source": [
    "X_ros = data_over.drop(target_column, axis = 1) # выбрасываем столбец 'loan_condition'\n",
    "y_ros = data_over[target_column]\n",
    "feature_names = X_ros.columns"
   ]
  },
  {
   "cell_type": "code",
   "execution_count": 81,
   "metadata": {
    "colab": {},
    "colab_type": "code",
    "id": "3ajTk3trs-l-"
   },
   "outputs": [
    {
     "name": "stdout",
     "output_type": "stream",
     "text": [
      "(1639900, 35)\n",
      "(1639900, 1)\n"
     ]
    }
   ],
   "source": [
    "X_ros = X_ros.to_numpy()\n",
    "y_ros = y_ros.to_numpy()\n",
    "print(X_ros.shape)\n",
    "print(y_ros.shape)\n",
    "N, d = X.shape"
   ]
  },
  {
   "cell_type": "code",
   "execution_count": 296,
   "metadata": {
    "colab": {},
    "colab_type": "code",
    "id": "HV9HmCjPs-mS",
    "outputId": "ee93ae84-bbec-4760-e891-e9428bd8f56c",
    "scrolled": false
   },
   "outputs": [
    {
     "name": "stdout",
     "output_type": "stream",
     "text": [
      "1147930 491970\n"
     ]
    }
   ],
   "source": [
    "from sklearn.model_selection import train_test_split\n",
    "X_train, X_test, y_train, y_test = train_test_split(X, y, test_size = 0.3, random_state = 42)\n",
    "\n",
    "N_train, _ = X_train.shape \n",
    "N_test,  _ = X_test.shape \n",
    "\n",
    "print(N_train, N_test)"
   ]
  },
  {
   "cell_type": "markdown",
   "metadata": {},
   "source": [
    "\n",
    "\n"
   ]
  },
  {
   "cell_type": "code",
   "execution_count": 297,
   "metadata": {
    "scrolled": true
   },
   "outputs": [
    {
     "name": "stderr",
     "output_type": "stream",
     "text": [
      "c:\\users\\andru\\appdata\\local\\programs\\python\\python37\\lib\\site-packages\\sklearn\\neural_network\\_multilayer_perceptron.py:470: ConvergenceWarning:\n",
      "\n",
      "lbfgs failed to converge (status=1):\n",
      "STOP: TOTAL NO. of ITERATIONS REACHED LIMIT.\n",
      "\n",
      "Increase the number of iterations (max_iter) or scale the data as shown in:\n",
      "    https://scikit-learn.org/stable/modules/preprocessing.html.\n",
      "\n"
     ]
    },
    {
     "data": {
      "text/plain": [
       "MLPClassifier(activation='logistic', alpha=0.0001, batch_size='auto',\n",
       "              beta_1=0.9, beta_2=0.999, early_stopping=False, epsilon=1e-08,\n",
       "              hidden_layer_sizes=(100,), learning_rate='constant',\n",
       "              learning_rate_init=0.001, max_fun=15000, max_iter=500,\n",
       "              momentum=0.9, n_iter_no_change=10, nesterovs_momentum=True,\n",
       "              power_t=0.5, random_state=42, shuffle=True, solver='lbfgs',\n",
       "              tol=0.0001, validation_fraction=0.1, verbose=False,\n",
       "              warm_start=False)"
      ]
     },
     "execution_count": 297,
     "metadata": {},
     "output_type": "execute_result"
    }
   ],
   "source": [
    "mlp_model = MLPClassifier(hidden_layer_sizes = (100,), solver = 'lbfgs', \n",
    "                          activation = 'logistic', random_state = 42, max_iter= 500)\n",
    "mlp_model.fit(X_train, y_train.ravel())"
   ]
  },
  {
   "cell_type": "code",
   "execution_count": 298,
   "metadata": {},
   "outputs": [],
   "source": [
    "y_train_pred = mlp_model.predict(X_train)\n",
    "y_test_pred = mlp_model.predict(X_test)"
   ]
  },
  {
   "cell_type": "code",
   "execution_count": 299,
   "metadata": {},
   "outputs": [
    {
     "name": "stdout",
     "output_type": "stream",
     "text": [
      "0.29823159948777367 0.29878854401691163\n"
     ]
    }
   ],
   "source": [
    "print(np.mean(y_train.ravel() != y_train_pred), np.mean(y_test.ravel() != y_test_pred))"
   ]
  },
  {
   "cell_type": "code",
   "execution_count": 300,
   "metadata": {},
   "outputs": [
    {
     "name": "stdout",
     "output_type": "stream",
     "text": [
      "[[162188  63540]\n",
      " [ 83455 182787]]\n"
     ]
    }
   ],
   "source": [
    "\n",
    "from sklearn.metrics import confusion_matrix\n",
    "print(confusion_matrix(y_test_pred, y_test.ravel()))"
   ]
  },
  {
   "cell_type": "markdown",
   "metadata": {},
   "source": [
    "С помощью такого простого способа избавились от проблемы с игнорированием представителей мало распространенного класса"
   ]
  },
  {
   "cell_type": "markdown",
   "metadata": {},
   "source": [
    "Подготовим данные для последующего применения с помощью OVER SAMPLING"
   ]
  },
  {
   "cell_type": "code",
   "execution_count": 84,
   "metadata": {
    "colab": {},
    "colab_type": "code",
    "id": "h3F0nik3s-l1"
   },
   "outputs": [],
   "source": [
    "X_ros = data.drop(target_column, axis = 1) # выбрасываем столбец 'loan_condition'\n",
    "y_ros = data[target_column]\n",
    "feature_names = X_ros.columns"
   ]
  },
  {
   "cell_type": "code",
   "execution_count": 85,
   "metadata": {
    "colab": {},
    "colab_type": "code",
    "id": "HV9HmCjPs-mS",
    "outputId": "ee93ae84-bbec-4760-e891-e9428bd8f56c",
    "scrolled": false
   },
   "outputs": [
    {
     "name": "stdout",
     "output_type": "stream",
     "text": [
      "621165 266214\n"
     ]
    }
   ],
   "source": [
    "from sklearn.model_selection import train_test_split\n",
    "X_ros, X_test_ros, y_ros, y_test_ros = train_test_split(X_ros, y_ros, test_size = 0.3, random_state = 42)\n",
    "\n",
    "N_train, _ = X_train.shape \n",
    "N_test,  _ = X_test.shape \n",
    "\n",
    "print(N_train, N_test)"
   ]
  },
  {
   "cell_type": "code",
   "execution_count": 146,
   "metadata": {},
   "outputs": [],
   "source": [
    "X_train_ros = X_ros\n",
    "y_train_ros = y_ros"
   ]
  },
  {
   "cell_type": "code",
   "execution_count": 81,
   "metadata": {
    "colab": {},
    "colab_type": "code",
    "id": "3ajTk3trs-l-"
   },
   "outputs": [
    {
     "name": "stdout",
     "output_type": "stream",
     "text": [
      "(1639900, 35)\n",
      "(1639900, 1)\n"
     ]
    }
   ],
   "source": [
    "X_ros = X_ros.to_numpy()\n",
    "y_ros = y_ros.to_numpy()\n",
    "print(X_ros.shape)\n",
    "print(y_ros.shape)\n",
    "N, d = X.shape"
   ]
  },
  {
   "cell_type": "code",
   "execution_count": 128,
   "metadata": {},
   "outputs": [],
   "source": [
    "data_ros = pd.concat([X_ros,y_ros], axis = 1)"
   ]
  },
  {
   "cell_type": "code",
   "execution_count": 136,
   "metadata": {},
   "outputs": [],
   "source": [
    "data_class_0 = data_ros[data_ros['loan_condition_cat'] == 0]\n",
    "data_class_1 = data_ros[data_ros['loan_condition_cat'] == 1]\n",
    "count_class_0 = data_ros['loan_condition_cat'][data_ros['loan_condition_cat'] == 0].count()\n",
    "count_class_1 = data_ros['loan_condition_cat'][data_ros['loan_condition_cat'] == 1].count()"
   ]
  },
  {
   "cell_type": "code",
   "execution_count": 137,
   "metadata": {},
   "outputs": [],
   "source": [
    "data_class_1_over = data_class_1.sample(count_class_0, replace=True)\n",
    "data_ros = pd.concat([data_class_0, data_class_1_over], axis=0)"
   ]
  },
  {
   "cell_type": "code",
   "execution_count": 138,
   "metadata": {},
   "outputs": [],
   "source": [
    "data_over = data_ros"
   ]
  },
  {
   "cell_type": "code",
   "execution_count": 139,
   "metadata": {},
   "outputs": [
    {
     "name": "stdout",
     "output_type": "stream",
     "text": [
      " Class Good_Loan: 574032\n",
      " Class Bad_Loan: 574032\n"
     ]
    },
    {
     "data": {
      "image/png": "[encoded data removed]",
      "text/plain": [
       "<Figure size 432x288 with 1 Axes>"
      ]
     },
     "metadata": {
      "needs_background": "light"
     },
     "output_type": "display_data"
    }
   ],
   "source": [
    "print(f' Class Good_Loan:', data_over['loan_condition_cat'][data_over['loan_condition_cat'] == 0].count())\n",
    "print(f' Class Bad_Loan:', data_over['loan_condition_cat'][data_over['loan_condition_cat'] == 1].count())\n",
    "plt.hist(data_over.loan_condition_cat);"
   ]
  },
  {
   "cell_type": "markdown",
   "metadata": {},
   "source": [
    "## Over-sampling: SMOTE"
   ]
  },
  {
   "cell_type": "code",
   "execution_count": null,
   "metadata": {},
   "outputs": [],
   "source": [
    "from imblearn.over_sampling import SMOTE"
   ]
  },
  {
   "cell_type": "code",
   "execution_count": 25,
   "metadata": {},
   "outputs": [],
   "source": [
    "smote = SMOTE()"
   ]
  },
  {
   "cell_type": "code",
   "execution_count": 26,
   "metadata": {
    "colab": {},
    "colab_type": "code",
    "id": "h3F0nik3s-l1"
   },
   "outputs": [],
   "source": [
    "X = data.drop(target_column, axis = 1) # выбрасываем столбец 'loan_condition'\n",
    "y = data[target_column]\n",
    "feature_names = X.columns"
   ]
  },
  {
   "cell_type": "code",
   "execution_count": 27,
   "metadata": {
    "colab": {},
    "colab_type": "code",
    "id": "3ajTk3trs-l-"
   },
   "outputs": [
    {
     "name": "stdout",
     "output_type": "stream",
     "text": [
      "(887379, 35)\n",
      "(887379,)\n"
     ]
    }
   ],
   "source": [
    "X = X.to_numpy()\n",
    "y = y.to_numpy()\n",
    "y = y.ravel()\n",
    "print(X.shape)\n",
    "print(y.shape)\n",
    "N, d = X.shape"
   ]
  },
  {
   "cell_type": "code",
   "execution_count": 28,
   "metadata": {
    "colab": {},
    "colab_type": "code",
    "id": "HV9HmCjPs-mS",
    "outputId": "ee93ae84-bbec-4760-e891-e9428bd8f56c",
    "scrolled": false
   },
   "outputs": [
    {
     "name": "stdout",
     "output_type": "stream",
     "text": [
      "621165 266214\n"
     ]
    }
   ],
   "source": [
    "from sklearn.model_selection import train_test_split\n",
    "X_train, X_test, y_train, y_test = train_test_split(X, y, test_size = 0.3, random_state = 42)\n",
    "\n",
    "N_train, _ = X_train.shape \n",
    "N_test,  _ = X_test.shape \n",
    "\n",
    "print(N_train, N_test)"
   ]
  },
  {
   "cell_type": "code",
   "execution_count": 29,
   "metadata": {},
   "outputs": [],
   "source": [
    "X_sm, y_sm = smote.fit_sample(X_train, y_train)"
   ]
  },
  {
   "cell_type": "code",
   "execution_count": 30,
   "metadata": {
    "scrolled": true
   },
   "outputs": [
    {
     "name": "stdout",
     "output_type": "stream",
     "text": [
      " Class Good_Loan: 574032\n",
      " Class Bad_Loan: 574032\n"
     ]
    },
    {
     "data": {
      "image/png": "[encoded data removed]",
      "text/plain": [
       "<Figure size 432x288 with 1 Axes>"
      ]
     },
     "metadata": {
      "needs_background": "light"
     },
     "output_type": "display_data"
    }
   ],
   "source": [
    "print(f' Class Good_Loan:', y_sm[y_sm == 0].size)\n",
    "print(f' Class Bad_Loan:', y_sm[y_sm == 1].size)\n",
    "plt.hist(y_sm);"
   ]
  },
  {
   "cell_type": "code",
   "execution_count": 307,
   "metadata": {},
   "outputs": [
    {
     "data": {
      "text/plain": [
       "MLPClassifier(activation='logistic', alpha=0.0001, batch_size='auto',\n",
       "              beta_1=0.9, beta_2=0.999, early_stopping=False, epsilon=1e-08,\n",
       "              hidden_layer_sizes=(100,), learning_rate='constant',\n",
       "              learning_rate_init=0.001, max_fun=15000, max_iter=600,\n",
       "              momentum=0.9, n_iter_no_change=10, nesterovs_momentum=True,\n",
       "              power_t=0.5, random_state=42, shuffle=True, solver='adam',\n",
       "              tol=0.0001, validation_fraction=0.1, verbose=False,\n",
       "              warm_start=False)"
      ]
     },
     "execution_count": 307,
     "metadata": {},
     "output_type": "execute_result"
    }
   ],
   "source": [
    "mlp1_model = MLPClassifier(hidden_layer_sizes = (100,), solver = 'adam', \n",
    "                          activation = 'logistic', random_state = 42, max_iter= 600)\n",
    "mlp1_model.fit(X_sm, y_sm)"
   ]
  },
  {
   "cell_type": "code",
   "execution_count": 308,
   "metadata": {},
   "outputs": [],
   "source": [
    "y_train_pred = mlp1_model.predict(X_train)\n",
    "y_test_pred = mlp1_model.predict(X_test)"
   ]
  },
  {
   "cell_type": "code",
   "execution_count": 309,
   "metadata": {},
   "outputs": [
    {
     "name": "stdout",
     "output_type": "stream",
     "text": [
      "0.3309635604958491 0.3308331808850133\n"
     ]
    }
   ],
   "source": [
    "print(np.mean(y_train.ravel() != y_train_pred), np.mean(y_test.ravel() != y_test_pred))"
   ]
  },
  {
   "cell_type": "code",
   "execution_count": 311,
   "metadata": {
    "scrolled": true
   },
   "outputs": [
    {
     "name": "stdout",
     "output_type": "stream",
     "text": [
      "[[184697 101814]\n",
      " [ 60946 144513]]\n"
     ]
    }
   ],
   "source": [
    "from sklearn.metrics import confusion_matrix\n",
    "print(confusion_matrix(y_test_pred, y_test.ravel()))"
   ]
  },
  {
   "cell_type": "raw",
   "metadata": {},
   "source": [
    "ROS:\n",
    "[[162188  63540]\n",
    " [ 83455 182787]]"
   ]
  },
  {
   "cell_type": "markdown",
   "metadata": {},
   "source": [
    "С помошью алгоритма SMOTE были немного другие результаты."
   ]
  },
  {
   "cell_type": "markdown",
   "metadata": {},
   "source": [
    "## Построим еще график Precision и F1"
   ]
  },
  {
   "cell_type": "code",
   "execution_count": 46,
   "metadata": {},
   "outputs": [
    {
     "name": "stderr",
     "output_type": "stream",
     "text": [
      "c:\\users\\andru\\appdata\\local\\programs\\python\\python37\\lib\\site-packages\\sklearn\\metrics\\_classification.py:1268: UndefinedMetricWarning:\n",
      "\n",
      "Precision is ill-defined and being set to 0.0 due to no predicted samples. Use `zero_division` parameter to control this behavior.\n",
      "\n"
     ]
    }
   ],
   "source": [
    "alpha_arr = np.logspace(-4, 2, 6)\n",
    "test_err = []\n",
    "train_err = []\n",
    "presision = []\n",
    "f1 = []\n",
    "for alpha in alpha_arr:\n",
    "    \n",
    "    mlp_model = MLPClassifier(alpha = alpha, hidden_layer_sizes = (100,), solver = 'adam', \n",
    "                          activation = 'logistic', random_state = 42, max_iter= 600)\n",
    "    mlp_model.fit(X_sm, y_sm)\n",
    "\n",
    "    y_train_pred = mlp_model.predict(X_train)\n",
    "    y_test_pred = mlp_model.predict(X_test)\n",
    "    train_err.append(np.mean(y_train.ravel() != y_train_pred))\n",
    "    test_err.append(np.mean(y_test.ravel() != y_test_pred))\n",
    "    presision.append(precision_score(y_test.ravel(), y_test_pred))\n",
    "    f1.append(f1_score(y_test.ravel(), y_test_pred))"
   ]
  },
  {
   "cell_type": "code",
   "execution_count": 150,
   "metadata": {},
   "outputs": [
    {
     "data": {
      "text/plain": [
       "(1148064,)"
      ]
     },
     "execution_count": 150,
     "metadata": {},
     "output_type": "execute_result"
    }
   ],
   "source": [
    "y_sm.shape"
   ]
  },
  {
   "cell_type": "code",
   "execution_count": 63,
   "metadata": {},
   "outputs": [
    {
     "data": {
      "image/png": "[encoded data removed]",
      "text/plain": [
       "<Figure size 432x288 with 1 Axes>"
      ]
     },
     "metadata": {
      "needs_background": "light"
     },
     "output_type": "display_data"
    }
   ],
   "source": [
    "plt.semilogx(alpha_arr, train_err, 'b-o', label = 'test')\n",
    "plt.semilogx(alpha_arr, test_err, 'r-o', label = 'train')\n",
    "plt.semilogx(alpha_arr, presision, 'g-o', label = 'presision')\n",
    "plt.semilogx(alpha_arr, f1, 'y-o', label = 'f1')\n",
    "plt.xlim([np.max(alpha_arr), np.min(alpha_arr)])\n",
    "plt.title('Error/presision vs. alpha')\n",
    "plt.xlabel('alpha')\n",
    "plt.ylabel('error/presision')\n",
    "plt.legend()\n",
    "pass"
   ]
  },
  {
   "cell_type": "code",
   "execution_count": 71,
   "metadata": {
    "scrolled": true
   },
   "outputs": [
    {
     "name": "stdout",
     "output_type": "stream",
     "text": [
      "Количество нейронов в слое, на которых получен наилучший результат: 0.3981071705534969\n",
      "test_error = 0.32148196563666825,train_error = 0.32202232901081035 \n",
      "presision = 0.15409394835277787\n",
      "f1_score = 0.253638797561635\n"
     ]
    }
   ],
   "source": [
    "print(f'Величина  alpha, на которой получен наилучший результат: {alpha_arr[3]}')\n",
    "print(f'test_error = {test_err[3]},train_error = {train_err[3]} ')\n",
    "print(f'presision = {presision[3]}')\n",
    "print(f'f1_score = {f1[3]}')\n"
   ]
  },
  {
   "cell_type": "markdown",
   "metadata": {},
   "source": [
    "### Результаты\n",
    "alpha - величина , отвечающая за регуляризацию функции. \n",
    "Увеличивая alpha увеличивается регуляризация, и тем самым уменьшается восприимчивость модели.\n",
    "Что мы и наблюдаем при большом значении aplpa - 10^2: модель начинает игнорировать один из классов"
   ]
  },
  {
   "cell_type": "markdown",
   "metadata": {},
   "source": [
    "## Исследуем влияние количества нейронов на качество модели нейронной сети"
   ]
  },
  {
   "cell_type": "code",
   "execution_count": 34,
   "metadata": {},
   "outputs": [],
   "source": [
    "alpha = 1.e-04\n",
    "layer_size_arr = [20,40,80,160, 320, 640]\n",
    "test_err = []\n",
    "train_err = []\n",
    "presision = []\n",
    "conf_matrix = []\n",
    "\n",
    "for layer_size in layer_size_arr:\n",
    "    \n",
    "    mlp_model = MLPClassifier(alpha = alpha, hidden_layer_sizes = (layer_size,), solver = 'adam', \n",
    "                          activation = 'logistic', random_state = 42, max_iter= 600)\n",
    "    mlp_model.fit(X_sm, y_sm)\n",
    "\n",
    "    y_train_pred = mlp_model.predict(X_train)\n",
    "    y_test_pred = mlp_model.predict(X_test)\n",
    "    train_err.append(np.mean(y_train.ravel() != y_train_pred))\n",
    "    test_err.append(np.mean(y_test.ravel() != y_test_pred))\n",
    "    presision.append(precision_score(y_test.ravel(), y_test_pred))\n",
    "    conf_matrix.append(confusion_matrix(y_test_pred, y_test.ravel()))"
   ]
  },
  {
   "cell_type": "code",
   "execution_count": 35,
   "metadata": {
    "scrolled": false
   },
   "outputs": [
    {
     "data": {
      "image/png": "[encoded data removed]",
      "text/plain": [
       "<Figure size 432x288 with 1 Axes>"
      ]
     },
     "metadata": {
      "needs_background": "light"
     },
     "output_type": "display_data"
    }
   ],
   "source": [
    "plt.semilogx(layer_size_arr, train_err, 'b-o', label = 'test')\n",
    "plt.semilogx(layer_size_arr, test_err, 'r-o', label = 'train')\n",
    "plt.semilogx(layer_size_arr, presision, 'g-o', label = 'presision')\n",
    "plt.title('Error/presision vs. layer_size')\n",
    "plt.xlabel('layer_size')\n",
    "plt.ylabel('error/presision')\n",
    "plt.xscale(\"linear\")\n",
    "plt.legend()\n",
    "pass"
   ]
  },
  {
   "cell_type": "code",
   "execution_count": 36,
   "metadata": {},
   "outputs": [
    {
     "name": "stdout",
     "output_type": "stream",
     "text": [
      "Количество нейронов в слое, на которых получен наилучший результат: 80\n",
      "test_error = 0.2541864815524353,train_error = 0.24983056031811193 \n",
      "presision = 0.16134797403562953\n",
      "conf_matrix:\n",
      "[[187261   9011]\n",
      " [ 58657  11285]]\n"
     ]
    }
   ],
   "source": [
    "print(f'Количество нейронов в слое, на которых получен наилучший результат: {layer_size_arr[2]}')\n",
    "print(f'test_error = {test_err[2]},train_error = {train_err[2]} ')\n",
    "print(f'presision = {presision[2]}')\n",
    "print(f'conf_matrix:')\n",
    "print(conf_matrix[2])"
   ]
  },
  {
   "cell_type": "markdown",
   "metadata": {},
   "source": [
    "### Увеличим количество слоев нейронной сети до 2х"
   ]
  },
  {
   "cell_type": "code",
   "execution_count": 43,
   "metadata": {},
   "outputs": [],
   "source": [
    "alpha = 1.e-04\n",
    "layer_size = 160\n",
    "\n",
    "\n",
    "mlp_model = MLPClassifier(alpha = alpha, hidden_layer_sizes = (layer_size,layer_size), solver = 'adam', \n",
    "                      activation = 'logistic', random_state = 42, max_iter= 600)\n",
    "mlp_model.fit(X_sm, y_sm)\n",
    "\n",
    "y_train_pred = mlp_model.predict(X_train)\n",
    "y_test_pred = mlp_model.predict(X_test)"
   ]
  },
  {
   "cell_type": "code",
   "execution_count": 44,
   "metadata": {},
   "outputs": [
    {
     "name": "stdout",
     "output_type": "stream",
     "text": [
      "0.20624632746532726 0.22613386223113735\n"
     ]
    }
   ],
   "source": [
    "print(np.mean(y_train.ravel() != y_train_pred), np.mean(y_test.ravel() != y_test_pred))"
   ]
  },
  {
   "cell_type": "code",
   "execution_count": 45,
   "metadata": {},
   "outputs": [
    {
     "name": "stdout",
     "output_type": "stream",
     "text": [
      "[[196765  11047]\n",
      " [ 49153   9249]]\n"
     ]
    }
   ],
   "source": [
    "from sklearn.metrics import confusion_matrix\n",
    "print(confusion_matrix(y_test_pred, y_test.ravel()))"
   ]
  },
  {
   "cell_type": "markdown",
   "metadata": {},
   "source": [
    "## сравним с другой функцией активации - relu"
   ]
  },
  {
   "cell_type": "code",
   "execution_count": 133,
   "metadata": {},
   "outputs": [],
   "source": [
    "alpha = 1.e-04\n",
    "layer_size_arr = [20,40,80,160, 320, 640]\n",
    "test_err = []\n",
    "train_err = []\n",
    "presision = []\n",
    "conf_matrix = []\n",
    "\n",
    "for layer_size in layer_size_arr:\n",
    "    \n",
    "    mlp_model = MLPClassifier(alpha = alpha, hidden_layer_sizes = (layer_size,), solver = 'adam', \n",
    "                          activation = 'relu', random_state = 42, max_iter= 600)\n",
    "    mlp_model.fit(X_sm, y_sm)\n",
    "\n",
    "    y_train_pred = mlp_model.predict(X_train)\n",
    "    y_test_pred = mlp_model.predict(X_test)\n",
    "    train_err.append(np.mean(y_train.ravel() != y_train_pred))\n",
    "    test_err.append(np.mean(y_test.ravel() != y_test_pred))\n",
    "    presision.append(precision_score(y_test.ravel(), y_test_pred))\n",
    "    conf_matrix.append(confusion_matrix(y_test_pred, y_test.ravel()))"
   ]
  },
  {
   "cell_type": "code",
   "execution_count": 134,
   "metadata": {},
   "outputs": [
    {
     "data": {
      "text/plain": [
       "[20, 40, 80, 160, 320, 640]"
      ]
     },
     "execution_count": 134,
     "metadata": {},
     "output_type": "execute_result"
    }
   ],
   "source": [
    "layer_size_arr"
   ]
  },
  {
   "cell_type": "code",
   "execution_count": 136,
   "metadata": {},
   "outputs": [
    {
     "data": {
      "image/png": "[encoded data removed]",
      "text/plain": [
       "<Figure size 432x288 with 1 Axes>"
      ]
     },
     "metadata": {
      "needs_background": "light"
     },
     "output_type": "display_data"
    }
   ],
   "source": [
    "plt.semilogx(layer_size_arr, train_err, 'b-o', label = 'test')\n",
    "plt.semilogx(layer_size_arr, test_err, 'r-o', label = 'train')\n",
    "plt.semilogx(layer_size_arr, presision, 'g-o', label = 'presision')\n",
    "plt.title('Error/presision vs. layer_size')\n",
    "plt.xlabel('layer_size')\n",
    "plt.ylabel('error/presision')\n",
    "plt.xscale(\"linear\")\n",
    "plt.legend()\n",
    "pass"
   ]
  },
  {
   "cell_type": "code",
   "execution_count": 138,
   "metadata": {},
   "outputs": [
    {
     "name": "stdout",
     "output_type": "stream",
     "text": [
      "Количество главных компонент, на которых получен наилучший результат: 80\n",
      "test_error = 0.28445536297865626,train_error = 0.2808738418938607 \n",
      "presision = 0.15542321464093892\n",
      "conf_matrix:\n",
      "[[177987   7795]\n",
      " [ 67931  12501]]\n"
     ]
    }
   ],
   "source": [
    "print(f'Количество нейронов в слое, на которых получен наилучший результат: {layer_size_arr[2]}')\n",
    "print(f'test_error = {test_err[2]},train_error = {train_err[2]} ')\n",
    "print(f'presision = {presision[2]}')\n",
    "print(f'conf_matrix:')\n",
    "print(conf_matrix[2])"
   ]
  },
  {
   "cell_type": "raw",
   "metadata": {},
   "source": [
    "С logistic:\n",
    "[[187261   9011]\n",
    " [ 58657  11285]]"
   ]
  },
  {
   "cell_type": "markdown",
   "metadata": {},
   "source": [
    "### Результаты"
   ]
  },
  {
   "cell_type": "markdown",
   "metadata": {},
   "source": [
    "Обе функции активации ведут себя похожим образом при изменении количества нейронов на скрытом слое.\n",
    "Однако функции зависимтости ошибок и precision имеют несколько экстремумов и имеют сложную форму.\n",
    "Наилучший результат для двух функций активации был получен при использовании скрытого слоя с 80 нейронами, что примерно в 2.3 раза больше количества признаков. "
   ]
  },
  {
   "cell_type": "markdown",
   "metadata": {},
   "source": [
    "# Исследуем влияние PCA преобразования на качество нейронной сети"
   ]
  },
  {
   "cell_type": "markdown",
   "metadata": {},
   "source": [
    "В ранее полученных исследованиях нейронной сети получили наилучшие результаты на сети с alpha = 1.e-04, hidden_layer_sizes = 160.\n",
    "В ходе этого блока будет исследовано влияние снижения размерности на качество предсказания модели."
   ]
  },
  {
   "cell_type": "code",
   "execution_count": 139,
   "metadata": {},
   "outputs": [],
   "source": [
    "alpha = 1.e-04\n",
    "layer_size = 80\n",
    "pca_size_arr = [1,2,4,8,16,22,28,32,35]\n",
    "test_err = []\n",
    "train_err = []\n",
    "presision = []\n",
    "conf_matrix = []\n",
    "\n",
    "for pca_size in pca_size_arr:\n",
    "    \n",
    "    pca = PCA(n_components=pca_size)\n",
    "\n",
    "    X_sm_pca = pca.fit_transform(X_sm)\n",
    "\n",
    "    X_train_pca = pca.transform(X_train)\n",
    "    X_test_pca = pca.transform(X_test)\n",
    "    \n",
    "    \n",
    "    \n",
    "    \n",
    "    mlp_model = MLPClassifier(alpha = alpha, hidden_layer_sizes = (layer_size,), solver = 'adam', \n",
    "                          activation = 'relu', random_state = 42, max_iter= 600)\n",
    "    mlp_model.fit(X_sm_pca, y_sm)\n",
    "\n",
    "    y_train_pred = mlp_model.predict(X_train_pca)\n",
    "    y_test_pred = mlp_model.predict(X_test_pca)\n",
    "    train_err.append(np.mean(y_train.ravel() != y_train_pred))\n",
    "    test_err.append(np.mean(y_test.ravel() != y_test_pred))\n",
    "    presision.append(precision_score(y_test.ravel(), y_test_pred))\n",
    "    conf_matrix.append(confusion_matrix(y_test_pred, y_test.ravel()))\n"
   ]
  },
  {
   "cell_type": "code",
   "execution_count": 131,
   "metadata": {},
   "outputs": [
    {
     "data": {
      "image/png": "[encoded data removed]",
      "text/plain": [
       "<Figure size 432x288 with 1 Axes>"
      ]
     },
     "metadata": {
      "needs_background": "light"
     },
     "output_type": "display_data"
    }
   ],
   "source": [
    "plt.semilogx(pca_size_arr, train_err, 'b-o', label = 'test')\n",
    "plt.semilogx(pca_size_arr, test_err, 'r-o', label = 'train')\n",
    "plt.semilogx(pca_size_arr, presision, 'g-o', label = 'presision')\n",
    "plt.title('Error/presision vs. ')\n",
    "plt.xlabel('pca_n_components')\n",
    "plt.ylabel('error/presision')\n",
    "plt.xscale(\"linear\")\n",
    "plt.legend()\n",
    "pass"
   ]
  },
  {
   "cell_type": "markdown",
   "metadata": {},
   "source": [
    "Наилучший результат был получен при обучении однослойной нейронной сети на данных, приведенных к 22 главным компонентам"
   ]
  },
  {
   "cell_type": "code",
   "execution_count": 129,
   "metadata": {},
   "outputs": [
    {
     "name": "stdout",
     "output_type": "stream",
     "text": [
      "Количество главных компонент, на которых получен наилучший результат: 22\n",
      "test_error = 0.258881952113713,train_error = 0.25246915070874887 \n",
      "presision = 0.15990990990990991\n",
      "conf_matrix:\n",
      "[[178727   8339]\n",
      " [ 67191  11957]]\n"
     ]
    }
   ],
   "source": [
    "print(f'Количество главных компонент, на которых получен наилучший результат: {pca_size_arr[5]}')\n",
    "print(f'test_error = {test_err[5]},train_error = {train_err[5]} ')\n",
    "print(f'presision = {presision[5]}')\n",
    "print(f'conf_matrix:')\n",
    "print(conf_matrix[5])\n"
   ]
  },
  {
   "cell_type": "code",
   "execution_count": 132,
   "metadata": {},
   "outputs": [],
   "source": [
    "var_exp = [(i/tot)*100 for i in sorted(pca.explained_variance_, reverse=True)] "
   ]
  },
  {
   "cell_type": "code",
   "execution_count": 79,
   "metadata": {},
   "outputs": [],
   "source": [
    "# Cumulative explained variance\n",
    "cum_var_exp = np.cumsum(var_exp) "
   ]
  },
  {
   "cell_type": "code",
   "execution_count": 83,
   "metadata": {},
   "outputs": [
    {
     "data": {
      "image/png": "[encoded data removed]",
      "text/plain": [
       "<Figure size 720x360 with 1 Axes>"
      ]
     },
     "metadata": {
      "needs_background": "light"
     },
     "output_type": "display_data"
    }
   ],
   "source": [
    "# PLOT OUT THE EXPLAINED VARIANCES SUPERIMPOSED \n",
    "plt.figure(figsize=(10, 5))\n",
    "plt.step(range(1, 36), cum_var_exp, where='mid',label='cumulative explained variance')\n",
    "plt.title('Cumulative Explained Variance as a Function of the Number of Components')\n",
    "plt.ylabel('Cumulative Explained variance')\n",
    "plt.xlabel('Principal components')\n",
    "plt.axhline(y = 95, color='k', linestyle='--', label = '95% Explained Variance')\n",
    "plt.axhline(y = 90, color='c', linestyle='--', label = '90% Explained Variance')\n",
    "plt.axhline(y = 85, color='r', linestyle='--', label = '85% Explained Variance')\n",
    "plt.legend(loc='best')\n",
    "plt.show()"
   ]
  },
  {
   "cell_type": "markdown",
   "metadata": {},
   "source": [
    "## Выводы:\n",
    "Качество классификации зависит от количетва главных компонент, причем наблюдается следующая тенденция:\n",
    "при увеличении количества компонент точность классификатора увеличивается до тех пор, пока суммарная объясненная дисперсия главных компонент далека от 100 %. При достижении суммарной объясненной дисперсии практически 100 % дальнейшее увеличение главных компонент ведет к увеличению ошибки."
   ]
  },
  {
   "cell_type": "code",
   "execution_count": null,
   "metadata": {},
   "outputs": [],
   "source": []
  },
  {
   "cell_type": "markdown",
   "metadata": {},
   "source": [
    "## Random Forest"
   ]
  },
  {
   "cell_type": "code",
   "execution_count": 34,
   "metadata": {},
   "outputs": [],
   "source": [
    "from sklearn.ensemble import RandomForestClassifier\n",
    "rf_model = RandomForestClassifier()"
   ]
  },
  {
   "cell_type": "code",
   "execution_count": 106,
   "metadata": {
    "scrolled": true
   },
   "outputs": [
    {
     "data": {
      "text/plain": [
       "RandomForestClassifier(bootstrap=True, ccp_alpha=0.0, class_weight=None,\n",
       "                       criterion='gini', max_depth=None, max_features='auto',\n",
       "                       max_leaf_nodes=None, max_samples=None,\n",
       "                       min_impurity_decrease=0.0, min_impurity_split=None,\n",
       "                       min_samples_leaf=1, min_samples_split=2,\n",
       "                       min_weight_fraction_leaf=0.0, n_estimators=100,\n",
       "                       n_jobs=None, oob_score=False, random_state=None,\n",
       "                       verbose=0, warm_start=False)"
      ]
     },
     "execution_count": 106,
     "metadata": {},
     "output_type": "execute_result"
    }
   ],
   "source": [
    "rf_model"
   ]
  },
  {
   "cell_type": "code",
   "execution_count": 25,
   "metadata": {},
   "outputs": [],
   "source": [
    "from sklearn.metrics import confusion_matrix\n",
    "from sklearn.metrics import precision_score"
   ]
  },
  {
   "cell_type": "code",
   "execution_count": null,
   "metadata": {},
   "outputs": [
    {
     "name": "stderr",
     "output_type": "stream",
     "text": [
      "/opt/conda/lib/python3.7/site-packages/sklearn/ensemble/_forest.py:523: UserWarning: Some inputs do not have OOB scores. This probably means too few trees were used to compute any reliable oob estimates.\n",
      "  warn(\"Some inputs do not have OOB scores. \"\n",
      "/opt/conda/lib/python3.7/site-packages/sklearn/ensemble/_forest.py:528: RuntimeWarning: invalid value encountered in true_divide\n",
      "  predictions[k].sum(axis=1)[:, np.newaxis])\n"
     ]
    }
   ],
   "source": [
    "n_estimators_arr = [10,30,80,160,320,650,800,1000,2000]\n",
    "\n",
    "test_err = []\n",
    "train_err = []\n",
    "oob_score_arr = []\n",
    "conf_matr_arr = []\n",
    "precision = []\n",
    "for n_estimators in n_estimators_arr:\n",
    "    rf_model = RandomForestClassifier(n_estimators=n_estimators,oob_score=True)\n",
    "    \n",
    "    rf_model.fit(X_train, y_train.ravel())\n",
    "\n",
    "    y_train_pred = rf_model.predict(X_train)\n",
    "    y_test_pred = rf_model.predict(X_test)\n",
    "    train_err.append(np.mean(y_train.ravel() != y_train_pred))\n",
    "    test_err.append(np.mean(y_test.ravel() != y_test_pred))\n",
    "    oob_score_arr.append(rf_model.oob_score_)\n",
    "    conf_matr_arr.append(confusion_matrix(y_test_pred, y_test.ravel()))\n",
    "    precision.append(precision_score(y_test_pred, y_test.ravel()))"
   ]
  },
  {
   "cell_type": "code",
   "execution_count": 138,
   "metadata": {},
   "outputs": [],
   "source": [
    "import time"
   ]
  },
  {
   "cell_type": "code",
   "execution_count": 187,
   "metadata": {},
   "outputs": [
    {
     "data": {
      "text/plain": [
       "'Wed Feb 19 21:56:08 2020'"
      ]
     },
     "execution_count": 187,
     "metadata": {},
     "output_type": "execute_result"
    }
   ],
   "source": [
    "time.ctime()"
   ]
  },
  {
   "cell_type": "code",
   "execution_count": null,
   "metadata": {},
   "outputs": [],
   "source": [
    "time.ctime()"
   ]
  },
  {
   "cell_type": "code",
   "execution_count": 191,
   "metadata": {},
   "outputs": [
    {
     "data": {
      "image/png": "[encoded data removed]",
      "text/plain": [
       "<Figure size 432x288 with 1 Axes>"
      ]
     },
     "metadata": {
      "needs_background": "light"
     },
     "output_type": "display_data"
    }
   ],
   "source": [
    "plt.semilogx(n_estimators_arr, train_err, 'b-o', label = 'test')\n",
    "plt.semilogx(n_estimators_arr, test_err, 'r-o', label = 'train')\n",
    "plt.semilogx(n_estimators_arr, precision, 'g-o', label = 'presision')\n",
    "plt.title('Error/n_estimators vs. ')\n",
    "plt.xlabel('n_estimators')\n",
    "plt.ylabel('error/presision')\n",
    "plt.xscale(\"linear\")\n",
    "plt.legend()\n",
    "pass"
   ]
  },
  {
   "cell_type": "code",
   "execution_count": 195,
   "metadata": {},
   "outputs": [
    {
     "data": {
      "text/plain": [
       "array([[244866,  19962],\n",
       "       [  1052,    334]])"
      ]
     },
     "execution_count": 195,
     "metadata": {},
     "output_type": "execute_result"
    }
   ],
   "source": [
    "conf_matr_arr[0]"
   ]
  },
  {
   "cell_type": "code",
   "execution_count": 196,
   "metadata": {},
   "outputs": [
    {
     "data": {
      "text/plain": [
       "array([[245701,  20218],\n",
       "       [   217,     78]])"
      ]
     },
     "execution_count": 196,
     "metadata": {},
     "output_type": "execute_result"
    }
   ],
   "source": [
    "conf_matr_arr[6]"
   ]
  },
  {
   "cell_type": "code",
   "execution_count": null,
   "metadata": {},
   "outputs": [],
   "source": []
  },
  {
   "cell_type": "markdown",
   "metadata": {},
   "source": [
    "###  Random over-sampling"
   ]
  },
  {
   "cell_type": "code",
   "execution_count": 77,
   "metadata": {},
   "outputs": [],
   "source": [
    "data_train, data_test = train_test_split(data, test_size = 0.3, random_state = 42)"
   ]
  },
  {
   "cell_type": "code",
   "execution_count": 84,
   "metadata": {},
   "outputs": [
    {
     "data": {
      "text/plain": [
       "((621165, 36), (266214, 36))"
      ]
     },
     "execution_count": 84,
     "metadata": {},
     "output_type": "execute_result"
    }
   ],
   "source": [
    "data_train.shape, data_test.shape"
   ]
  },
  {
   "cell_type": "code",
   "execution_count": 85,
   "metadata": {},
   "outputs": [],
   "source": [
    "data_class_0 = data_train[data_train['loan_condition_cat'] == 0]\n",
    "data_class_1 = data_train[data_train['loan_condition_cat'] == 1]"
   ]
  },
  {
   "cell_type": "code",
   "execution_count": 86,
   "metadata": {},
   "outputs": [],
   "source": [
    "count_class_0 = data_class_0.shape[0]"
   ]
  },
  {
   "cell_type": "code",
   "execution_count": 87,
   "metadata": {},
   "outputs": [],
   "source": [
    "data_class_1_over = data_class_1.sample(count_class_0, replace=True)\n",
    "data_over = pd.concat([data_class_0, data_class_1_over], axis=0)"
   ]
  },
  {
   "cell_type": "code",
   "execution_count": 88,
   "metadata": {},
   "outputs": [
    {
     "name": "stdout",
     "output_type": "stream",
     "text": [
      " Class Good_Loan: 574032\n",
      " Class Bad_Loan: 574032\n"
     ]
    },
    {
     "data": {
      "image/png": "[encoded data removed]",
      "text/plain": [
       "<Figure size 432x288 with 1 Axes>"
      ]
     },
     "metadata": {
      "needs_background": "light"
     },
     "output_type": "display_data"
    }
   ],
   "source": [
    "print(f' Class Good_Loan:', data_over['loan_condition_cat'][data_over['loan_condition_cat'] == 0].count())\n",
    "print(f' Class Bad_Loan:', data_over['loan_condition_cat'][data_over['loan_condition_cat'] == 1].count())\n",
    "plt.hist(data_over.loan_condition_cat);"
   ]
  },
  {
   "cell_type": "code",
   "execution_count": 94,
   "metadata": {},
   "outputs": [
    {
     "data": {
      "text/plain": [
       "(1148064, 36)"
      ]
     },
     "execution_count": 94,
     "metadata": {},
     "output_type": "execute_result"
    }
   ],
   "source": [
    "data_over.shape"
   ]
  },
  {
   "cell_type": "code",
   "execution_count": 95,
   "metadata": {
    "colab": {},
    "colab_type": "code",
    "id": "h3F0nik3s-l1"
   },
   "outputs": [],
   "source": [
    "X_train = data_over.drop(target_column, axis = 1) # выбрасываем столбец 'loan_condition'\n",
    "y_train = data_over[target_column]"
   ]
  },
  {
   "cell_type": "code",
   "execution_count": 96,
   "metadata": {
    "colab": {},
    "colab_type": "code",
    "id": "3ajTk3trs-l-"
   },
   "outputs": [
    {
     "name": "stdout",
     "output_type": "stream",
     "text": [
      "(1148064, 35)\n",
      "(1148064, 1)\n"
     ]
    }
   ],
   "source": [
    "X_train = X_train.to_numpy()\n",
    "y_train = y_train.to_numpy()\n",
    "print(X_train.shape)\n",
    "print(y_train.shape)"
   ]
  },
  {
   "cell_type": "code",
   "execution_count": 100,
   "metadata": {},
   "outputs": [
    {
     "name": "stdout",
     "output_type": "stream",
     "text": [
      "(266214, 35)\n",
      "(266214, 1)\n"
     ]
    }
   ],
   "source": [
    "X_test = data_test.drop(target_column, axis = 1) # выбрасываем столбец 'loan_condition'\n",
    "y_test = data_test[target_column]\n",
    "X_test = X_test.to_numpy()\n",
    "y_test = y_test.to_numpy()\n",
    "print(X_test.shape)\n",
    "print(y_test.shape)"
   ]
  },
  {
   "cell_type": "code",
   "execution_count": null,
   "metadata": {},
   "outputs": [],
   "source": []
  },
  {
   "cell_type": "code",
   "execution_count": null,
   "metadata": {},
   "outputs": [],
   "source": [
    "n_estimators_arr = [4,8,20,40,80,120]\n",
    "\n",
    "test_err = []\n",
    "train_err = []\n",
    "oob_score_arr = []\n",
    "conf_matr_arr = []\n",
    "precision = []\n",
    "for n_estimators in n_estimators_arr:\n",
    "    rf_model = RandomForestClassifier(n_estimators=n_estimators,oob_score=True)\n",
    "    \n",
    "    rf_model.fit(X_train, y_train.ravel())\n",
    "\n",
    "    y_train_pred = rf_model.predict(X_train)\n",
    "    y_test_pred = rf_model.predict(X_test)\n",
    "    train_err.append(np.mean(y_train.ravel() != y_train_pred))\n",
    "    test_err.append(np.mean(y_test.ravel() != y_test_pred))\n",
    "    oob_score_arr.append(rf_model.oob_score_)\n",
    "    conf_matr_arr.append(confusion_matrix(y_test_pred, y_test.ravel()))\n",
    "    precision.append(precision_score(y_test_pred, y_test.ravel()));"
   ]
  },
  {
   "cell_type": "code",
   "execution_count": null,
   "metadata": {
    "scrolled": true
   },
   "outputs": [],
   "source": [
    "plt.semilogx(n_estimators_arr, train_err, 'b-o', label = 'test')\n",
    "plt.semilogx(n_estimators_arr, test_err, 'r-o', label = 'train')\n",
    "plt.semilogx(n_estimators_arr, precision, 'g-o', label = 'presision')\n",
    "plt.title('Error/n_estimators vs. ')\n",
    "plt.xlabel('n_estimators')\n",
    "plt.ylabel('error/presision')\n",
    "plt.xscale(\"linear\")\n",
    "plt.legend()\n",
    "pass"
   ]
  },
  {
   "cell_type": "code",
   "execution_count": 70,
   "metadata": {},
   "outputs": [
    {
     "data": {
      "image/png": "[encoded data removed]",
      "text/plain": [
       "<Figure size 432x288 with 1 Axes>"
      ]
     },
     "metadata": {
      "needs_background": "light"
     },
     "output_type": "display_data"
    }
   ],
   "source": [
    "plt.semilogx(n_estimators_arr, oob_score_arr, 'b-o', label = 'oob_score_arr')\n",
    "plt.title('oob_score_arr/n_estimators vs. ')\n",
    "plt.xlabel('n_estimators')\n",
    "plt.ylabel('oob_score_arr')\n",
    "plt.xscale(\"linear\")\n",
    "plt.legend()\n",
    "pass"
   ]
  },
  {
   "cell_type": "code",
   "execution_count": 71,
   "metadata": {},
   "outputs": [
    {
     "data": {
      "text/plain": [
       "array([[240855,     41],\n",
       "       [  4788, 246286]])"
      ]
     },
     "execution_count": 71,
     "metadata": {},
     "output_type": "execute_result"
    }
   ],
   "source": [
    "conf_matr_arr[-1]"
   ]
  },
  {
   "cell_type": "code",
   "execution_count": null,
   "metadata": {},
   "outputs": [],
   "source": []
  },
  {
   "cell_type": "code",
   "execution_count": null,
   "metadata": {},
   "outputs": [],
   "source": []
  },
  {
   "cell_type": "code",
   "execution_count": null,
   "metadata": {},
   "outputs": [],
   "source": []
  },
  {
   "cell_type": "markdown",
   "metadata": {},
   "source": [
    "## Over-sampling: SMOTE"
   ]
  },
  {
   "cell_type": "code",
   "execution_count": 18,
   "metadata": {},
   "outputs": [],
   "source": [
    "from imblearn.over_sampling import SMOTE"
   ]
  },
  {
   "cell_type": "code",
   "execution_count": 19,
   "metadata": {},
   "outputs": [],
   "source": [
    "smote = SMOTE()"
   ]
  },
  {
   "cell_type": "code",
   "execution_count": 20,
   "metadata": {
    "colab": {},
    "colab_type": "code",
    "id": "h3F0nik3s-l1"
   },
   "outputs": [],
   "source": [
    "X = data.drop(target_column, axis = 1) # выбрасываем столбец 'loan_condition'\n",
    "y = data[target_column]\n",
    "feature_names = X.columns"
   ]
  },
  {
   "cell_type": "code",
   "execution_count": 21,
   "metadata": {
    "colab": {},
    "colab_type": "code",
    "id": "3ajTk3trs-l-"
   },
   "outputs": [
    {
     "name": "stdout",
     "output_type": "stream",
     "text": [
      "(887379, 35)\n",
      "(887379,)\n"
     ]
    }
   ],
   "source": [
    "X = X.to_numpy()\n",
    "y = y.to_numpy()\n",
    "y = y.ravel()\n",
    "print(X.shape)\n",
    "print(y.shape)\n",
    "N, d = X.shape"
   ]
  },
  {
   "cell_type": "code",
   "execution_count": 22,
   "metadata": {
    "colab": {},
    "colab_type": "code",
    "id": "HV9HmCjPs-mS",
    "outputId": "ee93ae84-bbec-4760-e891-e9428bd8f56c",
    "scrolled": false
   },
   "outputs": [
    {
     "name": "stdout",
     "output_type": "stream",
     "text": [
      "621165 266214\n"
     ]
    }
   ],
   "source": [
    "from sklearn.model_selection import train_test_split\n",
    "X_train, X_test, y_train, y_test = train_test_split(X, y, test_size = 0.3, random_state = 42)\n",
    "\n",
    "N_train, _ = X_train.shape \n",
    "N_test,  _ = X_test.shape \n",
    "\n",
    "print(N_train, N_test)"
   ]
  },
  {
   "cell_type": "code",
   "execution_count": null,
   "metadata": {},
   "outputs": [],
   "source": [
    "smote."
   ]
  },
  {
   "cell_type": "code",
   "execution_count": 23,
   "metadata": {},
   "outputs": [],
   "source": [
    "X_train, y_train = smote.fit_sample(X_train, y_train)"
   ]
  },
  {
   "cell_type": "code",
   "execution_count": 24,
   "metadata": {
    "scrolled": true
   },
   "outputs": [
    {
     "name": "stdout",
     "output_type": "stream",
     "text": [
      " Class Good_Loan: 574032\n",
      " Class Bad_Loan: 574032\n"
     ]
    },
    {
     "data": {
      "image/png": "[encoded data removed]",
      "text/plain": [
       "<Figure size 432x288 with 1 Axes>"
      ]
     },
     "metadata": {
      "needs_background": "light"
     },
     "output_type": "display_data"
    }
   ],
   "source": [
    "print(f' Class Good_Loan:', y_train[y_train == 0].size)\n",
    "print(f' Class Bad_Loan:', y_train[y_train == 1].size)\n",
    "plt.hist(y_train);"
   ]
  },
  {
   "cell_type": "code",
   "execution_count": 30,
   "metadata": {},
   "outputs": [],
   "source": [
    "X_train, y_train = X_sm, y_sm"
   ]
  },
  {
   "cell_type": "code",
   "execution_count": 37,
   "metadata": {},
   "outputs": [
    {
     "name": "stderr",
     "output_type": "stream",
     "text": [
      "c:\\users\\andru\\appdata\\local\\programs\\python\\python37\\lib\\site-packages\\sklearn\\ensemble\\_forest.py:523: UserWarning: Some inputs do not have OOB scores. This probably means too few trees were used to compute any reliable oob estimates.\n",
      "  warn(\"Some inputs do not have OOB scores. \"\n",
      "c:\\users\\andru\\appdata\\local\\programs\\python\\python37\\lib\\site-packages\\sklearn\\ensemble\\_forest.py:528: RuntimeWarning: invalid value encountered in true_divide\n",
      "  predictions[k].sum(axis=1)[:, np.newaxis])\n"
     ]
    },
    {
     "name": "stdout",
     "output_type": "stream",
     "text": [
      "4\n",
      "n_estimators = 4, 0.11480237703501694, \n",
      " [[232933  17577]\n",
      " [ 12985   2719]]\n"
     ]
    },
    {
     "name": "stderr",
     "output_type": "stream",
     "text": [
      "c:\\users\\andru\\appdata\\local\\programs\\python\\python37\\lib\\site-packages\\sklearn\\ensemble\\_forest.py:523: UserWarning: Some inputs do not have OOB scores. This probably means too few trees were used to compute any reliable oob estimates.\n",
      "  warn(\"Some inputs do not have OOB scores. \"\n",
      "c:\\users\\andru\\appdata\\local\\programs\\python\\python37\\lib\\site-packages\\sklearn\\ensemble\\_forest.py:528: RuntimeWarning: invalid value encountered in true_divide\n",
      "  predictions[k].sum(axis=1)[:, np.newaxis])\n"
     ]
    },
    {
     "name": "stdout",
     "output_type": "stream",
     "text": [
      "8\n",
      "n_estimators = 8, 0.1128528176579744, \n",
      " [[233411  17536]\n",
      " [ 12507   2760]]\n"
     ]
    },
    {
     "name": "stderr",
     "output_type": "stream",
     "text": [
      "c:\\users\\andru\\appdata\\local\\programs\\python\\python37\\lib\\site-packages\\sklearn\\ensemble\\_forest.py:523: UserWarning: Some inputs do not have OOB scores. This probably means too few trees were used to compute any reliable oob estimates.\n",
      "  warn(\"Some inputs do not have OOB scores. \"\n",
      "c:\\users\\andru\\appdata\\local\\programs\\python\\python37\\lib\\site-packages\\sklearn\\ensemble\\_forest.py:528: RuntimeWarning: invalid value encountered in true_divide\n",
      "  predictions[k].sum(axis=1)[:, np.newaxis])\n"
     ]
    },
    {
     "name": "stdout",
     "output_type": "stream",
     "text": [
      "20\n",
      "n_estimators = 20, 0.10917156873793264, \n",
      " [[234259  17404]\n",
      " [ 11659   2892]]\n",
      "40\n",
      "n_estimators = 40, 0.10731591877211567, \n",
      " [[234892  17543]\n",
      " [ 11026   2753]]\n",
      "80\n",
      "n_estimators = 80, 0.1064744904475347, \n",
      " [[235083  17510]\n",
      " [ 10835   2786]]\n",
      "120\n",
      "n_estimators = 120, 0.10588849572148723, \n",
      " [[235306  17577]\n",
      " [ 10612   2719]]\n"
     ]
    }
   ],
   "source": [
    "n_estimators_arr = [4,8,20,40,80,120]\n",
    "\n",
    "test_err = []\n",
    "train_err = []\n",
    "oob_score_arr = []\n",
    "conf_matr_arr = []\n",
    "precision = []\n",
    "for n_estimators in n_estimators_arr:\n",
    "    rf_model = RandomForestClassifier(n_estimators=n_estimators,oob_score=True)\n",
    "    \n",
    "    rf_model.fit(X_train, y_train.ravel())\n",
    "\n",
    "    y_train_pred = rf_model.predict(X_train)\n",
    "    y_test_pred = rf_model.predict(X_test)\n",
    "    train_err.append(np.mean(y_train.ravel() != y_train_pred))\n",
    "    test_err.append(np.mean(y_test.ravel() != y_test_pred))\n",
    "    oob_score_arr.append(rf_model.oob_score_)\n",
    "    conf_matr_arr.append(confusion_matrix(y_test_pred, y_test.ravel()))\n",
    "    precision.append(precision_score(y_test_pred, y_test.ravel()))\n",
    "    print(n_estimators)\n",
    "    print(f'n_estimators = {n_estimators}, {test_err[-1]}, \\n {conf_matr_arr[-1]}')"
   ]
  },
  {
   "cell_type": "code",
   "execution_count": 40,
   "metadata": {
    "scrolled": false
   },
   "outputs": [
    {
     "data": {
      "image/png": "[encoded data removed]",
      "text/plain": [
       "<Figure size 432x288 with 1 Axes>"
      ]
     },
     "metadata": {
      "needs_background": "light"
     },
     "output_type": "display_data"
    }
   ],
   "source": [
    "plt.semilogx(n_estimators_arr, train_err, 'b-o', label = 'test')\n",
    "plt.semilogx(n_estimators_arr, test_err, 'r-o', label = 'train')\n",
    "plt.semilogx(n_estimators_arr, precision, 'g-o', label = 'presision')\n",
    "plt.title('Error/n_estimators vs. ')\n",
    "plt.xlabel('n_estimators')\n",
    "plt.ylabel('error/presision')\n",
    "plt.xscale(\"linear\")\n",
    "plt.legend()\n",
    "pass"
   ]
  },
  {
   "cell_type": "code",
   "execution_count": 41,
   "metadata": {
    "scrolled": false
   },
   "outputs": [
    {
     "data": {
      "image/png": "[encoded data removed]",
      "text/plain": [
       "<Figure size 432x288 with 1 Axes>"
      ]
     },
     "metadata": {
      "needs_background": "light"
     },
     "output_type": "display_data"
    }
   ],
   "source": [
    "plt.semilogx(n_estimators_arr, oob_score_arr, 'b-o', label = 'oob_score_arr')\n",
    "plt.title('oob_score_arr/n_estimators vs. ')\n",
    "plt.xlabel('n_estimators')\n",
    "plt.ylabel('oob_score_arr')\n",
    "plt.xscale(\"linear\")\n",
    "plt.legend()\n",
    "pass"
   ]
  },
  {
   "cell_type": "code",
   "execution_count": 38,
   "metadata": {},
   "outputs": [
    {
     "data": {
      "text/plain": [
       "array([[235083,  17510],\n",
       "       [ 10835,   2786]], dtype=int64)"
      ]
     },
     "execution_count": 38,
     "metadata": {},
     "output_type": "execute_result"
    }
   ],
   "source": [
    "conf_matr_arr[-2]"
   ]
  },
  {
   "cell_type": "code",
   "execution_count": null,
   "metadata": {},
   "outputs": [],
   "source": []
  },
  {
   "cell_type": "markdown",
   "metadata": {},
   "source": [
    "## GBT"
   ]
  },
  {
   "cell_type": "code",
   "execution_count": 26,
   "metadata": {},
   "outputs": [],
   "source": [
    "from sklearn.ensemble import GradientBoostingClassifier"
   ]
  },
  {
   "cell_type": "code",
   "execution_count": 27,
   "metadata": {},
   "outputs": [],
   "source": [
    "gbt_model = GradientBoostingClassifier(n_estimators = 1000)"
   ]
  },
  {
   "cell_type": "code",
   "execution_count": 28,
   "metadata": {},
   "outputs": [
    {
     "data": {
      "text/plain": [
       "((1148064, 35), (266214, 35))"
      ]
     },
     "execution_count": 28,
     "metadata": {},
     "output_type": "execute_result"
    }
   ],
   "source": [
    "X_train.shape, X_test.shape"
   ]
  },
  {
   "cell_type": "raw",
   "metadata": {},
   "source": [
    "n_estimators_arr = [4,8,20,40,80,120]\n",
    "test__gbt_err = []\n",
    "train__gbt_err = []\n",
    "oob_score_gbt_arr = []\n",
    "conf_matr_gbt_arr = []\n",
    "precision_gbt = []\n",
    "for n_estimators in n_estimators_arr:\n",
    "    gbt_model = GradientBoostingClassifier(n_estimators=n_estimators)\n",
    "    \n",
    "    gbt_model.fit(X_train, y_train.ravel())\n",
    "\n",
    "    y_train_pred = gbt_model.predict(X_train)\n",
    "    y_test_pred = gbt_model.predict(X_test)\n",
    "    train__gbt_err.append(np.mean(y_train.ravel() != y_train_pred))\n",
    "    test__gbt_err.append(np.mean(y_test.ravel() != y_test_pred))\n",
    "    conf_matr_gbt_arr.append(confusion_matrix(y_test_pred, y_test.ravel()))\n",
    "    precision_gbt.append(precision_score(y_test_pred, y_test.ravel()))\n",
    "    print(n_estimators)"
   ]
  },
  {
   "cell_type": "code",
   "execution_count": 31,
   "metadata": {},
   "outputs": [
    {
     "name": "stdout",
     "output_type": "stream",
     "text": [
      "n_estimators = 4, 0.3392759208756865, \n",
      " [[161497   5899]\n",
      " [ 84421  14397]]\n",
      "n_estimators = 8, 0.35735911710127943, \n",
      " [[156161   5377]\n",
      " [ 89757  14919]]\n",
      "n_estimators = 20, 0.3318570773888676, \n",
      " [[163387   5814]\n",
      " [ 82531  14482]]\n",
      "n_estimators = 40, 0.2968438925075315, \n",
      " [[173659   6765]\n",
      " [ 72259  13531]]\n",
      "n_estimators = 80, 0.25208666711743183, \n",
      " [[187255   8446]\n",
      " [ 58663  11850]]\n",
      "n_estimators = 120, 0.2158413907608165, \n",
      " [[198526  10068]\n",
      " [ 47392  10228]]\n",
      "n_estimators = 240, 0.157764054482484, \n",
      " [[217248  13329]\n",
      " [ 28670   6967]]\n",
      "n_estimators = 500, 0.12258558903739097, \n",
      " [[229430  16146]\n",
      " [ 16488   4150]]\n",
      "n_estimators = 1000, 0.10066713245734635, \n",
      " [[237038  17919]\n",
      " [  8880   2377]]\n"
     ]
    }
   ],
   "source": [
    "n_estimators_arr = [4,8,20,40,80,120,240,500,1000]\n",
    "test__gbt_err = []\n",
    "train__gbt_err = []\n",
    "oob_score_gbt_arr = []\n",
    "conf_matr_gbt_arr = []\n",
    "precision_gbt = []\n",
    "for n_estimators in n_estimators_arr:\n",
    "    gbt_model = GradientBoostingClassifier(n_estimators=n_estimators)\n",
    "    \n",
    "    gbt_model.fit(X_train, y_train.ravel())\n",
    "\n",
    "    y_train_pred = gbt_model.predict(X_train)\n",
    "    y_test_pred = gbt_model.predict(X_test)\n",
    "    train__gbt_err.append(np.mean(y_train.ravel() != y_train_pred))\n",
    "    test__gbt_err.append(np.mean(y_test.ravel() != y_test_pred))\n",
    "    conf_matr_gbt_arr.append(confusion_matrix(y_test_pred, y_test.ravel()))\n",
    "    precision_gbt.append(precision_score(y_test_pred, y_test.ravel()))\n",
    "    print(f'n_estimators = {n_estimators}, {test__gbt_err[-1]}, \\n {conf_matr_gbt_arr[-1]}')"
   ]
  },
  {
   "cell_type": "code",
   "execution_count": 32,
   "metadata": {
    "scrolled": true
   },
   "outputs": [
    {
     "data": {
      "image/png": "[encoded data removed]",
      "text/plain": [
       "<Figure size 432x288 with 1 Axes>"
      ]
     },
     "metadata": {
      "needs_background": "light"
     },
     "output_type": "display_data"
    }
   ],
   "source": [
    "plt.semilogx(n_estimators_arr, train__gbt_err, 'b-o', label = 'test')\n",
    "plt.semilogx(n_estimators_arr, test__gbt_err, 'r-o', label = 'train')\n",
    "plt.semilogx(n_estimators_arr, precision_gbt, 'g-o', label = 'presision')\n",
    "plt.title('Error/n_estimators vs. ')\n",
    "plt.xlabel('n_estimators')\n",
    "plt.ylabel('error/presision')\n",
    "plt.xscale(\"linear\")\n",
    "plt.legend()\n",
    "pass"
   ]
  },
  {
   "cell_type": "code",
   "execution_count": 53,
   "metadata": {},
   "outputs": [
    {
     "data": {
      "text/plain": [
       "array([[156057,   5314],\n",
       "       [ 89861,  14982]], dtype=int64)"
      ]
     },
     "execution_count": 53,
     "metadata": {},
     "output_type": "execute_result"
    }
   ],
   "source": [
    "conf_matr_gbt_arr[1]"
   ]
  },
  {
   "cell_type": "code",
   "execution_count": 54,
   "metadata": {},
   "outputs": [
    {
     "data": {
      "text/plain": [
       "array([[198430,  10044],\n",
       "       [ 47488,  10252]], dtype=int64)"
      ]
     },
     "execution_count": 54,
     "metadata": {},
     "output_type": "execute_result"
    }
   ],
   "source": [
    "conf_matr_gbt_arr[-1]"
   ]
  }
 ],
 "metadata": {
  "colab": {
   "name": "19-02. Adult.ipynb",
   "provenance": []
  },
  "kernelspec": {
   "display_name": "Python 3",
   "language": "python",
   "name": "python3"
  },
  "language_info": {
   "codemirror_mode": {
    "name": "ipython",
    "version": 3
   },
   "file_extension": ".py",
   "mimetype": "text/x-python",
   "name": "python",
   "nbconvert_exporter": "python",
   "pygments_lexer": "ipython3",
   "version": "3.7.3"
  }
 },
 "nbformat": 4,
 "nbformat_minor": 1
}
